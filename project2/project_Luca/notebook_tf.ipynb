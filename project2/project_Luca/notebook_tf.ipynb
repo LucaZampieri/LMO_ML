{
 "cells": [
  {
   "cell_type": "code",
   "execution_count": 39,
   "metadata": {
    "collapsed": true
   },
   "outputs": [],
   "source": [
    "\"\"\"\n",
    "Baseline for machine learning project on road segmentation.\n",
    "This simple baseline consits of a CNN with two convolutional+pooling layers with a soft-max loss\n",
    "\n",
    "Credits: Aurelien Lucchi, ETH Zürich\n",
    "\"\"\"\n",
    "\n",
    "\n",
    "# import libraries\n",
    "import gzip\n",
    "import os\n",
    "import sys\n",
    "import urllib\n",
    "import matplotlib.image as mpimg\n",
    "from PIL import Image\n",
    "\n",
    "# to plot images in the notebook\n",
    "from matplotlib import pyplot as plt\n",
    "\n",
    "import code\n",
    "\n",
    "import tensorflow.python.platform\n",
    "\n",
    "import numpy\n",
    "import tensorflow as tf\n",
    "\n",
    "import time\n",
    "from datetime import timedelta\n",
    "import math\n",
    "\n",
    "from helper_functions import *"
   ]
  },
  {
   "cell_type": "markdown",
   "metadata": {},
   "source": [
    "Parameters"
   ]
  },
  {
   "cell_type": "code",
   "execution_count": 2,
   "metadata": {},
   "outputs": [
    {
     "name": "stdout",
     "output_type": "stream",
     "text": [
      "NUM_CHANNELS:  3\n",
      "PIXEL_DEPTH:  255\n",
      "NUM_LABELS:  2\n",
      "IMG_PATCH_SIZE:  16\n"
     ]
    }
   ],
   "source": [
    "TRAINING_SIZE = 20\n",
    "VALIDATION_SIZE = 5  # Size of the validation set.\n",
    "SEED = 50  # Set to None for random seed.\n",
    "BATCH_SIZE = 16 # 64\n",
    "NUM_EPOCHS = 8 # how many as you like\n",
    "RESTORE_MODEL = False # If True, restore existing model instead of training a new one\n",
    "RECORDING_STEP = 50\n",
    "TEST = False  # if we want to predict test image as well\n",
    "TESTING_SIZE = 50 # number of test images i.e. 50\n",
    "print('NUM_CHANNELS: ',NUM_CHANNELS )\n",
    "print('PIXEL_DEPTH: ',PIXEL_DEPTH)\n",
    "print ('NUM_LABELS: ',NUM_LABELS)\n",
    "print ('IMG_PATCH_SIZE: ',IMG_PATCH_SIZE)\n"
   ]
  },
  {
   "cell_type": "markdown",
   "metadata": {},
   "source": [
    "Where to save stuff"
   ]
  },
  {
   "cell_type": "code",
   "execution_count": 3,
   "metadata": {
    "collapsed": true
   },
   "outputs": [],
   "source": [
    "tf.app.flags.DEFINE_string('train_dir', '/tmp/mnist/test1',\n",
    "                           \"\"\"Directory where to write event logs \"\"\"\n",
    "                           \"\"\"and checkpoint.\"\"\")\n",
    "FLAGS = tf.app.flags.FLAGS"
   ]
  },
  {
   "cell_type": "markdown",
   "metadata": {},
   "source": [
    "Directories:"
   ]
  },
  {
   "cell_type": "code",
   "execution_count": 4,
   "metadata": {
    "collapsed": true
   },
   "outputs": [],
   "source": [
    "data_dir = 'training/'\n",
    "train_data_filename = data_dir + 'images/'\n",
    "train_labels_filename = data_dir + 'groundtruth/'"
   ]
  },
  {
   "cell_type": "markdown",
   "metadata": {},
   "source": [
    "Additional parameters:"
   ]
  },
  {
   "cell_type": "code",
   "execution_count": 5,
   "metadata": {
    "collapsed": true
   },
   "outputs": [],
   "source": [
    "# Convolutional Layer 1.\n",
    "filter_size1 = 5          # Convolution filters are 5 x 5 pixels.\n",
    "num_filters1 = 16         # There are 16 of these filters.\n",
    "\n",
    "# Convolutional Layer 2.\n",
    "filter_size2 = 5          # Convolution filters are 5 x 5 pixels.\n",
    "num_filters2 = 36         # There are 36 of these filters.\n",
    "\n",
    "# Fully-connected layer.\n",
    "fc_size = 128             # Number of neurons in fully-connected layer."
   ]
  },
  {
   "cell_type": "markdown",
   "metadata": {
    "collapsed": true
   },
   "source": [
    "some additional functions:"
   ]
  },
  {
   "cell_type": "code",
   "execution_count": 6,
   "metadata": {
    "collapsed": true
   },
   "outputs": [],
   "source": [
    "# Make an image summary for 4d tensor image with index idx\n",
    "def get_image_summary(img, idx = 0):\n",
    "    V = tf.slice(img, (0, 0, 0, idx), (1, -1, -1, 1))\n",
    "    img_w = img.get_shape().as_list()[1]\n",
    "    img_h = img.get_shape().as_list()[2]\n",
    "    min_value = tf.reduce_min(V)\n",
    "    V = V - min_value\n",
    "    max_value = tf.reduce_max(V)\n",
    "    V = V / (max_value*PIXEL_DEPTH)\n",
    "    V = tf.reshape(V, (img_w, img_h, 1))\n",
    "    V = tf.transpose(V, (2, 0, 1))\n",
    "    V = tf.reshape(V, (-1, img_w, img_h, 1))\n",
    "    return V\n",
    "\n",
    "# Make an image summary for 3d tensor image with index idx\n",
    "def get_image_summary_3d(img):\n",
    "    V = tf.slice(img, (0, 0, 0), (1, -1, -1))\n",
    "    img_w = img.get_shape().as_list()[1]\n",
    "    img_h = img.get_shape().as_list()[2]\n",
    "    V = tf.reshape(V, (img_w, img_h, 1))\n",
    "    V = tf.transpose(V, (2, 0, 1))\n",
    "    V = tf.reshape(V, (-1, img_w, img_h, 1))\n",
    "    return V\n",
    "\n",
    "# Get a concatenation of the prediction and groundtruth for given input file\n",
    "def get_prediction_with_groundtruth(filename, image_idx):\n",
    "    imageid = \"satImage_%.3d\" % image_idx\n",
    "    image_filename = filename + imageid + \".png\"\n",
    "    img = mpimg.imread(image_filename)\n",
    "\n",
    "    img_prediction = get_prediction(img)\n",
    "    cimg = concatenate_images(img, img_prediction)\n",
    "\n",
    "    return cimg"
   ]
  },
  {
   "cell_type": "markdown",
   "metadata": {},
   "source": [
    "Extract the data into numpy arrays:"
   ]
  },
  {
   "cell_type": "code",
   "execution_count": 7,
   "metadata": {
    "scrolled": true
   },
   "outputs": [
    {
     "name": "stdout",
     "output_type": "stream",
     "text": [
      "Loading training/images/satImage_001.png\n",
      "Loading training/images/satImage_002.png\n",
      "Loading training/images/satImage_003.png\n",
      "Loading training/images/satImage_004.png\n",
      "Loading training/images/satImage_005.png\n",
      "Loading training/images/satImage_006.png\n",
      "Loading training/images/satImage_007.png\n",
      "Loading training/images/satImage_008.png\n",
      "Loading training/images/satImage_009.png\n",
      "Loading training/images/satImage_010.png\n",
      "Loading training/images/satImage_011.png\n",
      "Loading training/images/satImage_012.png\n",
      "Loading training/images/satImage_013.png\n",
      "Loading training/images/satImage_014.png\n",
      "Loading training/images/satImage_015.png\n",
      "Loading training/images/satImage_016.png\n",
      "Loading training/images/satImage_017.png\n",
      "Loading training/images/satImage_018.png\n",
      "Loading training/images/satImage_019.png\n",
      "Loading training/images/satImage_020.png\n",
      "Loading training/groundtruth/satImage_001.png\n",
      "Loading training/groundtruth/satImage_002.png\n",
      "Loading training/groundtruth/satImage_003.png\n",
      "Loading training/groundtruth/satImage_004.png\n",
      "Loading training/groundtruth/satImage_005.png\n",
      "Loading training/groundtruth/satImage_006.png\n",
      "Loading training/groundtruth/satImage_007.png\n",
      "Loading training/groundtruth/satImage_008.png\n",
      "Loading training/groundtruth/satImage_009.png\n",
      "Loading training/groundtruth/satImage_010.png\n",
      "Loading training/groundtruth/satImage_011.png\n",
      "Loading training/groundtruth/satImage_012.png\n",
      "Loading training/groundtruth/satImage_013.png\n",
      "Loading training/groundtruth/satImage_014.png\n",
      "Loading training/groundtruth/satImage_015.png\n",
      "Loading training/groundtruth/satImage_016.png\n",
      "Loading training/groundtruth/satImage_017.png\n",
      "Loading training/groundtruth/satImage_018.png\n",
      "Loading training/groundtruth/satImage_019.png\n",
      "Loading training/groundtruth/satImage_020.png\n"
     ]
    }
   ],
   "source": [
    "# Extract it into numpy arrays.\n",
    "train_data = extract_data(train_data_filename, TRAINING_SIZE)\n",
    "train_labels = extract_labels(train_labels_filename, TRAINING_SIZE)"
   ]
  },
  {
   "cell_type": "markdown",
   "metadata": {},
   "source": [
    "Balance the data:"
   ]
  },
  {
   "cell_type": "code",
   "execution_count": 8,
   "metadata": {},
   "outputs": [
    {
     "name": "stdout",
     "output_type": "stream",
     "text": [
      "Number of data points per class: c0 = 9450 c1 = 3050\n",
      "Balancing training data...\n",
      "len(new_indices):  6100\n",
      "train_data.shape:  (12500, 16, 16, 3)\n",
      "new train_data.shape:  (6100, 16, 16, 3)\n",
      "Number of data points per class: c0 = 3050 c1 = 3050\n"
     ]
    }
   ],
   "source": [
    "num_epochs = NUM_EPOCHS\n",
    "# Now check the size of both classes and balance ###############################\n",
    "c0 = 0\n",
    "c1 = 0\n",
    "for i in range(len(train_labels)):\n",
    "    if train_labels[i][0] == 1:\n",
    "        c0 = c0 + 1\n",
    "    else:\n",
    "        c1 = c1 + 1\n",
    "print ('Number of data points per class: c0 = ' + str(c0) + ' c1 = ' + str(c1))\n",
    "# balance to take the same number of patches with c0 and c1 classes\n",
    "print ('Balancing training data...')\n",
    "min_c = min(c0, c1)\n",
    "idx0 = [i for i, j in enumerate(train_labels) if j[0] == 1]\n",
    "idx1 = [i for i, j in enumerate(train_labels) if j[1] == 1]\n",
    "new_indices = idx0[0:min_c] + idx1[0:min_c]\n",
    "print ('len(new_indices): ',len(new_indices))\n",
    "print ('train_data.shape: ',train_data.shape)\n",
    "train_data = train_data[new_indices,:,:,:]\n",
    "train_labels = train_labels[new_indices]\n",
    "print ('new train_data.shape: ',train_data.shape)\n",
    "train_size = train_labels.shape[0]\n",
    "\n",
    "c0 = 0\n",
    "c1 = 0\n",
    "for i in range(len(train_labels)):\n",
    "    if train_labels[i][0] == 1:\n",
    "        c0 = c0 + 1\n",
    "    else:\n",
    "        c1 = c1 + 1\n",
    "print ('Number of data points per class: c0 = ' + str(c0) + ' c1 = ' + str(c1))\n",
    "# END of balancing #############################################################"
   ]
  },
  {
   "cell_type": "code",
   "execution_count": 9,
   "metadata": {
    "collapsed": true
   },
   "outputs": [],
   "source": [
    "def plot_patch(array):\n",
    "    plt.imshow(array, interpolation='nearest')\n",
    "    plt.show()\n",
    "    \n",
    "def plot_4_patch(images):\n",
    "    if len(images) != 4:\n",
    "        print (\"Error, not 4 images\")\n",
    "    fig, axes = plt.subplots(2, 2)\n",
    "    for i, ax in enumerate(axes.flat):\n",
    "        ax.imshow(images[i], cmap='binary')\n",
    "        xlabel = \"image {0}\".format(i)\n",
    "        ax.set_xlabel(xlabel)\n",
    "        ax.set_xticks([])\n",
    "        ax.set_yticks([])\n",
    "    plt.show()"
   ]
  },
  {
   "cell_type": "code",
   "execution_count": 10,
   "metadata": {
    "scrolled": true
   },
   "outputs": [
    {
     "data": {
      "image/png": "[encoded data removed]",
      "text/plain": [
       "<matplotlib.figure.Figure at 0x7f04bef9dba8>"
      ]
     },
     "metadata": {},
     "output_type": "display_data"
    },
    {
     "data": {
      "text/plain": [
       "(16, 16, 3)"
      ]
     },
     "execution_count": 10,
     "metadata": {},
     "output_type": "execute_result"
    }
   ],
   "source": [
    "data = train_data[0,:,:,:] # a lot of these\n",
    "\n",
    "#plot_patch(array=data)\n",
    "data = train_data[0:4,:,:,:]\n",
    "plot_4_patch(data)\n",
    "train_data[0,:,:,:].shape"
   ]
  },
  {
   "cell_type": "code",
   "execution_count": null,
   "metadata": {
    "collapsed": true
   },
   "outputs": [],
   "source": []
  },
  {
   "cell_type": "markdown",
   "metadata": {},
   "source": [
    "## Variables"
   ]
  },
  {
   "cell_type": "code",
   "execution_count": 11,
   "metadata": {
    "collapsed": true
   },
   "outputs": [],
   "source": [
    "# This is where training samples and labels are fed to the graph.\n",
    "# These placeholder nodes will be fed a batch of training data at each\n",
    "# training step using the {feed_dict} argument to the Run() call below.\n",
    "with tf.name_scope('input'):\n",
    "    train_data_node = tf.placeholder(\n",
    "        tf.float32,\n",
    "        shape=(BATCH_SIZE, IMG_PATCH_SIZE, IMG_PATCH_SIZE, NUM_CHANNELS))\n",
    "    train_labels_node = tf.placeholder(tf.float32,\n",
    "                                       shape=(BATCH_SIZE, NUM_LABELS))\n",
    "    \n",
    "    train_all_data_node = tf.constant(train_data)"
   ]
  },
  {
   "cell_type": "markdown",
   "metadata": {},
   "source": [
    "# Weights and biases"
   ]
  },
  {
   "cell_type": "code",
   "execution_count": 12,
   "metadata": {
    "collapsed": true
   },
   "outputs": [],
   "source": [
    "# The variables below hold all the trainable weights. They are passed an\n",
    "# initial value which will be assigned when when we call:\n",
    "# {tf.initialize_all_variables().run()}\n",
    "def new_weights(shape,stddev_ = 0.05):\n",
    "    return tf.Variable(tf.truncated_normal(shape, stddev=stddev_,seed=SEED),name=\"W\")\n",
    "\n",
    "def new_biases(length):\n",
    "    return tf.Variable(tf.constant(0.1, shape=[length]),name=\"B\")\n",
    "\n",
    "with tf.name_scope(\"conv1\"):\n",
    "    conv1_weights = new_weights([5, 5, NUM_CHANNELS, 32]) # 5x5 filter, depth 32.\n",
    "    conv1_biases = tf.Variable(tf.zeros([32]), name = \"B\")\n",
    "\n",
    "with tf.name_scope(\"conv2\"):\n",
    "    conv2_weights = new_weights([5, 5, 32, 64])\n",
    "    conv2_biases = new_biases(length=64)\n",
    "\n",
    "with tf.name_scope(\"fc1\"):\n",
    "    fc1_weights = new_weights(shape= [int(IMG_PATCH_SIZE / 4 * IMG_PATCH_SIZE / 4 * 64), 512],\n",
    "                                stddev_ = 0.1) # fully connected, depth 512.\n",
    "    fc1_biases = new_biases(length=512)\n",
    "\n",
    "with tf.name_scope(\"fc2\"):\n",
    "    fc2_weights = new_weights(shape= [512, NUM_LABELS],stddev_ = 0.1)\n",
    "    fc2_biases = new_biases(length=NUM_LABELS)"
   ]
  },
  {
   "cell_type": "code",
   "execution_count": 13,
   "metadata": {
    "collapsed": true
   },
   "outputs": [],
   "source": [
    "def new_conv_layer(input,              # The previous layer.\n",
    "                   num_input_channels, # Num. channels in prev. layer.\n",
    "                   filter_size,        # Width and height of each filter.\n",
    "                   num_filters,        # Number of filters.\n",
    "                   use_pooling=True,name=\"conv\"):  # Use 2x2 max-pooling.\n",
    "    with tf.name_scope(name):\n",
    "        # Shape of the filter-weights for the convolution.\n",
    "        # This format is determined by the TensorFlow API.\n",
    "        shape = [filter_size, filter_size, num_input_channels, num_filters]\n",
    "\n",
    "        # Create new weights aka. filters with the given shape.\n",
    "        weights = new_weights(shape=shape)\n",
    "\n",
    "        # Create new biases, one for each filter.\n",
    "        biases = new_biases(length=num_filters)\n",
    "\n",
    "        # Create the TensorFlow operation for convolution.\n",
    "        # Note the strides are set to 1 in all dimensions.\n",
    "        # The first and last stride must always be 1,\n",
    "        # because the first is for the image-number and\n",
    "        # the last is for the input-channel.\n",
    "        # But e.g. strides=[1, 2, 2, 1] would mean that the filter\n",
    "        # is moved 2 pixels across the x- and y-axis of the image.\n",
    "        # The padding is set to 'SAME' which means the input image\n",
    "        # is padded with zeroes so the size of the output is the same.\n",
    "        layer = tf.nn.conv2d(input=input,\n",
    "                             filter=weights,\n",
    "                             strides=[1, 1, 1, 1],\n",
    "                             padding='SAME')\n",
    "\n",
    "        # Add the biases to the results of the convolution.\n",
    "        # A bias-value is added to each filter-channel.\n",
    "        layer += biases\n",
    "\n",
    "        # Use pooling to down-sample the image resolution?\n",
    "        if use_pooling:\n",
    "            # This is 2x2 max-pooling, which means that we\n",
    "            # consider 2x2 windows and select the largest value\n",
    "            # in each window. Then we move 2 pixels to the next window.\n",
    "            layer = tf.nn.max_pool(value=layer,\n",
    "                                   ksize=[1, 2, 2, 1],\n",
    "                                   strides=[1, 2, 2, 1],\n",
    "                                   padding='SAME')\n",
    "\n",
    "        # Rectified Linear Unit (ReLU).\n",
    "        # It calculates max(x, 0) for each input pixel x.\n",
    "        # This adds some non-linearity to the formula and allows us\n",
    "        # to learn more complicated functions.\n",
    "        layer = tf.nn.relu(layer)\n",
    "\n",
    "        # Note that ReLU is normally executed before the pooling,\n",
    "        # but since relu(max_pool(x)) == max_pool(relu(x)) we can\n",
    "        # save 75% of the relu-operations by max-pooling first.\n",
    "\n",
    "        # We return both the resulting layer and the filter-weights\n",
    "        # because we will plot the weights later.\n",
    "    return layer, weights"
   ]
  },
  {
   "cell_type": "code",
   "execution_count": 14,
   "metadata": {
    "collapsed": true
   },
   "outputs": [],
   "source": [
    "def flatten_layer(layer):\n",
    "    # Get the shape of the input layer.\n",
    "    layer_shape = layer.get_shape()\n",
    "\n",
    "    # The shape of the input layer is assumed to be:\n",
    "    # layer_shape == [num_images, img_height, img_width, num_channels]\n",
    "\n",
    "    # The number of features is: img_height * img_width * num_channels\n",
    "    # We can use a function from TensorFlow to calculate this.\n",
    "    num_features = layer_shape[1:4].num_elements()\n",
    "    \n",
    "    # Reshape the layer to [num_images, num_features].\n",
    "    # Note that we just set the size of the second dimension\n",
    "    # to num_features and the size of the first dimension to -1\n",
    "    # which means the size in that dimension is calculated\n",
    "    # so the total size of the tensor is unchanged from the reshaping.\n",
    "    layer_flat = tf.reshape(layer, [-1, num_features])\n",
    "\n",
    "    # The shape of the flattened layer is now:\n",
    "    # [num_images, img_height * img_width * num_channels]\n",
    "\n",
    "    # Return both the flattened layer and the number of features.\n",
    "    return layer_flat, num_features"
   ]
  },
  {
   "cell_type": "code",
   "execution_count": 15,
   "metadata": {
    "collapsed": true
   },
   "outputs": [],
   "source": [
    "def new_fc_layer(input,          # The previous layer.\n",
    "                 num_inputs,     # Num. inputs from prev. layer.\n",
    "                 num_outputs,    # Num. outputs.\n",
    "                 use_relu=True,name=\"fc\"): # Use Rectified Linear Unit (ReLU)?\n",
    "    with tf.name_scope(name):\n",
    "        # Create new weights and biases.\n",
    "        weights = new_weights(shape=[num_inputs, num_outputs])\n",
    "        biases = new_biases(length=num_outputs)\n",
    "\n",
    "        # Calculate the layer as the matrix multiplication of\n",
    "        # the input and weights, and then add the bias-values.\n",
    "        layer = tf.matmul(input, weights) + biases\n",
    "        \n",
    "        # Use ReLU?\n",
    "        if use_relu:\n",
    "            layer = tf.nn.relu(layer)\n",
    "\n",
    "    return layer"
   ]
  },
  {
   "cell_type": "markdown",
   "metadata": {},
   "source": [
    "# LAYER CREATION"
   ]
  },
  {
   "cell_type": "markdown",
   "metadata": {},
   "source": [
    "#### We create convolutional layers:"
   ]
  },
  {
   "cell_type": "code",
   "execution_count": 16,
   "metadata": {},
   "outputs": [
    {
     "data": {
      "text/plain": [
       "<tf.Tensor 'conv/Relu:0' shape=(16, 8, 8, 16) dtype=float32>"
      ]
     },
     "execution_count": 16,
     "metadata": {},
     "output_type": "execute_result"
    }
   ],
   "source": [
    "layer_conv1, weights_conv1 = \\\n",
    "    new_conv_layer(input=train_data_node,\n",
    "                   num_input_channels=NUM_CHANNELS,\n",
    "                   filter_size=filter_size1,\n",
    "                   num_filters=num_filters1,\n",
    "                   use_pooling=True)\n",
    "layer_conv1"
   ]
  },
  {
   "cell_type": "code",
   "execution_count": 17,
   "metadata": {},
   "outputs": [
    {
     "data": {
      "text/plain": [
       "<tf.Tensor 'conv_1/Relu:0' shape=(16, 4, 4, 36) dtype=float32>"
      ]
     },
     "execution_count": 17,
     "metadata": {},
     "output_type": "execute_result"
    }
   ],
   "source": [
    "layer_conv2, weights_conv2 = \\\n",
    "    new_conv_layer(input=layer_conv1,\n",
    "                   num_input_channels=num_filters1,\n",
    "                   filter_size=filter_size2,\n",
    "                   num_filters=num_filters2,\n",
    "                   use_pooling=True)\n",
    "layer_conv2"
   ]
  },
  {
   "cell_type": "markdown",
   "metadata": {},
   "source": [
    "#### Flatten:"
   ]
  },
  {
   "cell_type": "code",
   "execution_count": 18,
   "metadata": {},
   "outputs": [
    {
     "data": {
      "text/plain": [
       "<tf.Tensor 'Reshape:0' shape=(16, 576) dtype=float32>"
      ]
     },
     "execution_count": 18,
     "metadata": {},
     "output_type": "execute_result"
    }
   ],
   "source": [
    "layer_flat, num_features = flatten_layer(layer_conv2)\n",
    "layer_flat"
   ]
  },
  {
   "cell_type": "code",
   "execution_count": 19,
   "metadata": {},
   "outputs": [
    {
     "data": {
      "text/plain": [
       "576"
      ]
     },
     "execution_count": 19,
     "metadata": {},
     "output_type": "execute_result"
    }
   ],
   "source": [
    "num_features"
   ]
  },
  {
   "cell_type": "markdown",
   "metadata": {},
   "source": [
    "#### fully connected layers:"
   ]
  },
  {
   "cell_type": "code",
   "execution_count": 20,
   "metadata": {},
   "outputs": [
    {
     "data": {
      "text/plain": [
       "<tf.Tensor 'fc/Relu:0' shape=(16, 128) dtype=float32>"
      ]
     },
     "execution_count": 20,
     "metadata": {},
     "output_type": "execute_result"
    }
   ],
   "source": [
    "layer_fc1 = new_fc_layer(input=layer_flat,\n",
    "                         num_inputs=num_features,\n",
    "                         num_outputs=fc_size,\n",
    "                         use_relu=True)\n",
    "layer_fc1"
   ]
  },
  {
   "cell_type": "code",
   "execution_count": 21,
   "metadata": {},
   "outputs": [
    {
     "data": {
      "text/plain": [
       "<tf.Tensor 'fc_1/add:0' shape=(16, 2) dtype=float32>"
      ]
     },
     "execution_count": 21,
     "metadata": {},
     "output_type": "execute_result"
    }
   ],
   "source": [
    "layer_fc2 = new_fc_layer(input=layer_fc1,\n",
    "                         num_inputs=fc_size,\n",
    "                         num_outputs=NUM_LABELS,\n",
    "                         use_relu=False)\n",
    "layer_fc2"
   ]
  },
  {
   "cell_type": "markdown",
   "metadata": {},
   "source": [
    "# rewrite layer creation in a model:"
   ]
  },
  {
   "cell_type": "code",
   "execution_count": 22,
   "metadata": {
    "collapsed": true
   },
   "outputs": [],
   "source": [
    "def model (data = train_data_node,train=False):\n",
    "    # conv 1\n",
    "    layer_conv1, weights_conv1 = \\\n",
    "    new_conv_layer(input=data,\n",
    "                   num_input_channels=NUM_CHANNELS,\n",
    "                   filter_size=filter_size1,\n",
    "                   num_filters=num_filters1,\n",
    "                   use_pooling=True)\n",
    "    # conv 2\n",
    "    layer_conv2, weights_conv2 = \\\n",
    "    new_conv_layer(input=layer_conv1,\n",
    "                   num_input_channels=num_filters1,\n",
    "                   filter_size=filter_size2,\n",
    "                   num_filters=num_filters2,\n",
    "                   use_pooling=True)\n",
    "    # flatten\n",
    "    layer_flat, num_features = flatten_layer(layer_conv2)\n",
    "    \n",
    "    # fully connected 1\n",
    "    layer_fc1 = new_fc_layer(input=layer_flat,\n",
    "                         num_inputs=num_features,\n",
    "                         num_outputs=fc_size,\n",
    "                         use_relu=True)\n",
    "    # dropout?\n",
    "    if train:\n",
    "        layer_fc1 = tf.nn.dropout(layer_fc1, 0.5, seed=SEED)\n",
    "    \n",
    "    # fully connected 2\n",
    "    layer_fc2 = new_fc_layer(input=layer_fc1,\n",
    "                         num_inputs=fc_size,\n",
    "                         num_outputs=NUM_LABELS,\n",
    "                         use_relu=False)\n",
    "    \n",
    "    \n",
    "    out = layer_fc2\n",
    "    return out\n",
    "    "
   ]
  },
  {
   "cell_type": "markdown",
   "metadata": {},
   "source": [
    "#### cost function to be optimized:"
   ]
  },
  {
   "cell_type": "code",
   "execution_count": 23,
   "metadata": {
    "collapsed": true
   },
   "outputs": [],
   "source": [
    "# logits = layer_fc2 \n",
    "logits = model(data = train_data_node, train=True)\n",
    "cross_entropy = tf.nn.softmax_cross_entropy_with_logits(logits=logits,\n",
    "                                                        labels=train_labels_node)\n",
    "\n",
    "with tf.name_scope(\"xent\"): \n",
    "    loss = tf.reduce_mean(cross_entropy)\n",
    "    tf.summary.scalar('loss', loss)\n",
    "    \n",
    "    # to use the rest, the weights should be defined outside the model\n",
    "    \n",
    "    #regularizers = (tf.nn.l2_loss(fc1_weights) + tf.nn.l2_loss(fc1_biases) +\n",
    "    #                tf.nn.l2_loss(fc2_weights) + tf.nn.l2_loss(fc2_biases))\n",
    "    # Add the regularization term to the loss.\n",
    "    #loss += 5e-4 * regularizers"
   ]
  },
  {
   "cell_type": "markdown",
   "metadata": {},
   "source": [
    "### optimizer:"
   ]
  },
  {
   "cell_type": "code",
   "execution_count": 24,
   "metadata": {
    "collapsed": true
   },
   "outputs": [],
   "source": [
    "adam = False\n",
    "batch = tf.Variable(0)\n",
    "learning_rate = tf.train.exponential_decay(\n",
    "        0.01,                # Base learning rate.\n",
    "        batch * BATCH_SIZE,  # Current index into the dataset.\n",
    "        train_size,          # Decay step.\n",
    "        0.95,                # Decay rate.\n",
    "        staircase=True,name=\"learning_rate\")\n",
    "# write it down to tensorboard\n",
    "tf.summary.scalar('learning_rate', learning_rate)\n",
    "\n",
    "if adam:\n",
    "    optimizer = tf.train.AdamOptimizer(learning_rate).minimize(loss,global_step=batch)\n",
    "else:\n",
    "    optimizer = tf.train.MomentumOptimizer(learning_rate,\n",
    "                                           0.0).minimize(loss,\n",
    "                                                         global_step=batch)"
   ]
  },
  {
   "cell_type": "markdown",
   "metadata": {},
   "source": [
    "#### Predicted Class:"
   ]
  },
  {
   "cell_type": "code",
   "execution_count": 25,
   "metadata": {
    "collapsed": true
   },
   "outputs": [],
   "source": [
    "y_pred = tf.nn.softmax(logits)\n",
    "\n",
    "y_pred_class = tf.argmax(y_pred, axis=1) # not usefull I think"
   ]
  },
  {
   "cell_type": "code",
   "execution_count": 26,
   "metadata": {
    "collapsed": true
   },
   "outputs": [],
   "source": [
    "# We'll compute them only once in a while by calling their {eval()} method.\n",
    "train_all_prediction = tf.nn.softmax(model(train_all_data_node))"
   ]
  },
  {
   "cell_type": "markdown",
   "metadata": {},
   "source": [
    "#### save "
   ]
  },
  {
   "cell_type": "code",
   "execution_count": 27,
   "metadata": {
    "collapsed": true
   },
   "outputs": [],
   "source": [
    "# Add ops to save and restore all the variables.\n",
    "saver = tf.train.Saver()"
   ]
  },
  {
   "cell_type": "markdown",
   "metadata": {},
   "source": [
    "#### measure of performances:"
   ]
  },
  {
   "cell_type": "code",
   "execution_count": 28,
   "metadata": {
    "collapsed": true
   },
   "outputs": [],
   "source": [
    "correct_prediction = tf.equal(y_pred, train_labels_node)\n",
    "# or arg max of each??"
   ]
  },
  {
   "cell_type": "code",
   "execution_count": 29,
   "metadata": {
    "collapsed": true
   },
   "outputs": [],
   "source": [
    "accuracy = tf.reduce_mean(tf.cast(correct_prediction, tf.float32))"
   ]
  },
  {
   "cell_type": "markdown",
   "metadata": {},
   "source": [
    "### helpers for the optimisation:\n",
    "\n",
    "We do it on a small batch so that it is faster"
   ]
  },
  {
   "cell_type": "code",
   "execution_count": 30,
   "metadata": {},
   "outputs": [
    {
     "data": {
      "text/plain": [
       "16"
      ]
     },
     "execution_count": 30,
     "metadata": {},
     "output_type": "execute_result"
    }
   ],
   "source": [
    "train_batch_size = BATCH_SIZE\n",
    "BATCH_SIZE"
   ]
  },
  {
   "cell_type": "code",
   "execution_count": 36,
   "metadata": {
    "collapsed": true
   },
   "outputs": [],
   "source": [
    "# Counter for total number of iterations performed so far.\n",
    "total_iterations = 0\n",
    "\n",
    "def optimize(num_iterations = 0):\n",
    "    # Ensure we update the global variable rather than a local copy.\n",
    "    global total_iterations\n",
    "    # Build the summary operation based on the TF collection of Summaries.\n",
    "    \n",
    "\n",
    "    print ('Initialized!')\n",
    "    # Loop through training steps.\n",
    "    print ('Total number of iterations = ' + str(int(num_epochs * train_size / BATCH_SIZE)))\n",
    "\n",
    "    training_indices = range(train_size)\n",
    "    \n",
    "    # Start-time used for printing time-usage below.\n",
    "    start_time = time.time()\n",
    "    \n",
    "    \n",
    "    for iepoch in range(num_epochs):\n",
    "\n",
    "        # Permute training indices\n",
    "        perm_indices = numpy.random.permutation(training_indices)\n",
    "\n",
    "        for step in range (int(train_size / BATCH_SIZE)):\n",
    "\n",
    "            offset = (step * BATCH_SIZE) % (train_size - BATCH_SIZE)\n",
    "            batch_indices = perm_indices[offset:(offset + BATCH_SIZE)]\n",
    "\n",
    "            # Compute the offset of the current minibatch in the data.\n",
    "            # Note that we could use better randomization across epochs.\n",
    "            batch_data = train_data[batch_indices, :, :, :]\n",
    "            batch_labels = train_labels[batch_indices]\n",
    "            # This dictionary maps the batch data (as a numpy array) to the\n",
    "            # node in the graph is should be fed to.\n",
    "            feed_dict = {train_data_node: batch_data,\n",
    "                         train_labels_node: batch_labels}\n",
    "\n",
    "            if step % RECORDING_STEP == 0:\n",
    "\n",
    "                summary_str, _, l, lr, predictions = s.run(\n",
    "                    [summary_op, optimizer, loss, learning_rate, y_pred],\n",
    "                    feed_dict=feed_dict)\n",
    "\n",
    "                summary_str = s.run(summary_op, feed_dict=feed_dict)\n",
    "                summary_writer.add_summary(summary_str, step)\n",
    "                summary_writer.flush()\n",
    "\n",
    "                print ('global step:', iepoch*int(train_size / BATCH_SIZE)+step,\\\n",
    "                        ' over ',num_epochs*int(train_size / BATCH_SIZE))\n",
    "                print ('Epoch: ', iepoch, '   || Step',float(step))\n",
    "                print ('Minibatch loss: %.3f, learning rate: %.6f' % (l, lr))\n",
    "                print ('Minibatch error: %.1f%%' % error_rate(predictions,\n",
    "                                                             batch_labels))\n",
    "\n",
    "                sys.stdout.flush()\n",
    "            else:\n",
    "                # Run the graph and fetch some of the nodes.\n",
    "                _, l, lr, predictions = s.run(\n",
    "                    [optimizer, loss, learning_rate, y_pred],\n",
    "                    feed_dict=feed_dict)\n",
    "\n",
    "    # Ending time.\n",
    "    end_time = time.time()\n",
    "\n",
    "    # Difference between start and end-times.\n",
    "    time_dif = end_time - start_time\n",
    "\n",
    "    # Print the time-usage.\n",
    "    print(\"Time usage: \" + str(timedelta(seconds=int(round(time_dif)))))"
   ]
  },
  {
   "cell_type": "markdown",
   "metadata": {},
   "source": [
    "# Tensorflow RUN"
   ]
  },
  {
   "cell_type": "code",
   "execution_count": 32,
   "metadata": {
    "collapsed": true
   },
   "outputs": [],
   "source": [
    "s = tf.Session()"
   ]
  },
  {
   "cell_type": "markdown",
   "metadata": {},
   "source": [
    "## initialise variables and optimise"
   ]
  },
  {
   "cell_type": "code",
   "execution_count": 38,
   "metadata": {},
   "outputs": [
    {
     "ename": "NameError",
     "evalue": "name 'tf' is not defined",
     "output_type": "error",
     "traceback": [
      "\u001b[0;31m---------------------------------------------------------------------------\u001b[0m",
      "\u001b[0;31mNameError\u001b[0m                                 Traceback (most recent call last)",
      "\u001b[0;32m<ipython-input-38-9fa7338baf30>\u001b[0m in \u001b[0;36m<module>\u001b[0;34m()\u001b[0m\n\u001b[0;32m----> 1\u001b[0;31m \u001b[0mtf\u001b[0m\u001b[0;34m.\u001b[0m\u001b[0mtrain\u001b[0m\u001b[0;34m.\u001b[0m\u001b[0mexponential_decay\u001b[0m\u001b[0;34m\u001b[0m\u001b[0m\n\u001b[0m",
      "\u001b[0;31mNameError\u001b[0m: name 'tf' is not defined"
     ]
    }
   ],
   "source": [
    "tf.train.exponential_decay"
   ]
  },
  {
   "cell_type": "code",
   "execution_count": 37,
   "metadata": {
    "scrolled": true
   },
   "outputs": [
    {
     "name": "stdout",
     "output_type": "stream",
     "text": [
      "Initialized!\n",
      "Total number of iterations = 3050\n",
      "global step: 0  over  3048\n",
      "Epoch:  0    || Step 0.0\n",
      "Minibatch loss: 0.764, learning rate: 0.010000\n",
      "Minibatch error: 68.8%\n",
      "global step: 50  over  3048\n",
      "Epoch:  0    || Step 50.0\n",
      "Minibatch loss: 0.708, learning rate: 0.010000\n",
      "Minibatch error: 50.0%\n",
      "global step: 100  over  3048\n",
      "Epoch:  0    || Step 100.0\n",
      "Minibatch loss: 0.733, learning rate: 0.010000\n",
      "Minibatch error: 56.2%\n",
      "global step: 150  over  3048\n",
      "Epoch:  0    || Step 150.0\n",
      "Minibatch loss: 0.684, learning rate: 0.010000\n",
      "Minibatch error: 56.2%\n",
      "global step: 200  over  3048\n",
      "Epoch:  0    || Step 200.0\n",
      "Minibatch loss: 0.665, learning rate: 0.010000\n",
      "Minibatch error: 31.2%\n",
      "global step: 250  over  3048\n",
      "Epoch:  0    || Step 250.0\n",
      "Minibatch loss: 0.700, learning rate: 0.010000\n",
      "Minibatch error: 56.2%\n",
      "global step: 300  over  3048\n",
      "Epoch:  0    || Step 300.0\n",
      "Minibatch loss: 0.684, learning rate: 0.010000\n",
      "Minibatch error: 43.8%\n",
      "global step: 350  over  3048\n",
      "Epoch:  0    || Step 350.0\n",
      "Minibatch loss: 0.710, learning rate: 0.010000\n",
      "Minibatch error: 62.5%\n",
      "global step: 381  over  3048\n",
      "Epoch:  1    || Step 0.0\n",
      "Minibatch loss: 0.731, learning rate: 0.010000\n",
      "Minibatch error: 62.5%\n",
      "global step: 431  over  3048\n",
      "Epoch:  1    || Step 50.0\n",
      "Minibatch loss: 0.698, learning rate: 0.009500\n",
      "Minibatch error: 62.5%\n",
      "global step: 481  over  3048\n",
      "Epoch:  1    || Step 100.0\n",
      "Minibatch loss: 0.701, learning rate: 0.009500\n",
      "Minibatch error: 37.5%\n",
      "global step: 531  over  3048\n",
      "Epoch:  1    || Step 150.0\n",
      "Minibatch loss: 0.725, learning rate: 0.009500\n",
      "Minibatch error: 50.0%\n",
      "global step: 581  over  3048\n",
      "Epoch:  1    || Step 200.0\n",
      "Minibatch loss: 0.692, learning rate: 0.009500\n",
      "Minibatch error: 56.2%\n",
      "global step: 631  over  3048\n",
      "Epoch:  1    || Step 250.0\n",
      "Minibatch loss: 0.706, learning rate: 0.009500\n",
      "Minibatch error: 56.2%\n",
      "global step: 681  over  3048\n",
      "Epoch:  1    || Step 300.0\n",
      "Minibatch loss: 0.665, learning rate: 0.009500\n",
      "Minibatch error: 25.0%\n",
      "global step: 731  over  3048\n",
      "Epoch:  1    || Step 350.0\n",
      "Minibatch loss: 0.664, learning rate: 0.009500\n",
      "Minibatch error: 50.0%\n",
      "global step: 762  over  3048\n",
      "Epoch:  2    || Step 0.0\n",
      "Minibatch loss: 0.693, learning rate: 0.009500\n",
      "Minibatch error: 56.2%\n",
      "global step: 812  over  3048\n",
      "Epoch:  2    || Step 50.0\n",
      "Minibatch loss: 0.720, learning rate: 0.009025\n",
      "Minibatch error: 68.8%\n",
      "global step: 862  over  3048\n",
      "Epoch:  2    || Step 100.0\n",
      "Minibatch loss: 0.692, learning rate: 0.009025\n",
      "Minibatch error: 43.8%\n",
      "global step: 912  over  3048\n",
      "Epoch:  2    || Step 150.0\n",
      "Minibatch loss: 0.648, learning rate: 0.009025\n",
      "Minibatch error: 37.5%\n",
      "global step: 962  over  3048\n",
      "Epoch:  2    || Step 200.0\n",
      "Minibatch loss: 0.721, learning rate: 0.009025\n",
      "Minibatch error: 62.5%\n",
      "global step: 1012  over  3048\n",
      "Epoch:  2    || Step 250.0\n",
      "Minibatch loss: 0.645, learning rate: 0.009025\n",
      "Minibatch error: 25.0%\n",
      "global step: 1062  over  3048\n",
      "Epoch:  2    || Step 300.0\n",
      "Minibatch loss: 0.742, learning rate: 0.009025\n",
      "Minibatch error: 50.0%\n",
      "global step: 1112  over  3048\n",
      "Epoch:  2    || Step 350.0\n",
      "Minibatch loss: 0.662, learning rate: 0.009025\n",
      "Minibatch error: 43.8%\n",
      "global step: 1143  over  3048\n",
      "Epoch:  3    || Step 0.0\n",
      "Minibatch loss: 0.603, learning rate: 0.009025\n",
      "Minibatch error: 31.2%\n",
      "global step: 1193  over  3048\n",
      "Epoch:  3    || Step 50.0\n",
      "Minibatch loss: 0.667, learning rate: 0.008574\n",
      "Minibatch error: 50.0%\n",
      "global step: 1243  over  3048\n",
      "Epoch:  3    || Step 100.0\n",
      "Minibatch loss: 0.663, learning rate: 0.008574\n",
      "Minibatch error: 25.0%\n",
      "global step: 1293  over  3048\n",
      "Epoch:  3    || Step 150.0\n",
      "Minibatch loss: 0.531, learning rate: 0.008574\n",
      "Minibatch error: 6.2%\n",
      "global step: 1343  over  3048\n",
      "Epoch:  3    || Step 200.0\n",
      "Minibatch loss: 0.726, learning rate: 0.008574\n",
      "Minibatch error: 56.2%\n",
      "global step: 1393  over  3048\n",
      "Epoch:  3    || Step 250.0\n",
      "Minibatch loss: 0.670, learning rate: 0.008574\n",
      "Minibatch error: 31.2%\n",
      "global step: 1443  over  3048\n",
      "Epoch:  3    || Step 300.0\n",
      "Minibatch loss: 0.612, learning rate: 0.008574\n",
      "Minibatch error: 37.5%\n",
      "global step: 1493  over  3048\n",
      "Epoch:  3    || Step 350.0\n",
      "Minibatch loss: 0.620, learning rate: 0.008574\n",
      "Minibatch error: 18.8%\n",
      "global step: 1524  over  3048\n",
      "Epoch:  4    || Step 0.0\n",
      "Minibatch loss: 0.656, learning rate: 0.008574\n",
      "Minibatch error: 43.8%\n",
      "global step: 1574  over  3048\n",
      "Epoch:  4    || Step 50.0\n",
      "Minibatch loss: 0.598, learning rate: 0.008145\n",
      "Minibatch error: 18.8%\n",
      "global step: 1624  over  3048\n",
      "Epoch:  4    || Step 100.0\n",
      "Minibatch loss: 0.636, learning rate: 0.008145\n",
      "Minibatch error: 31.2%\n",
      "global step: 1674  over  3048\n",
      "Epoch:  4    || Step 150.0\n",
      "Minibatch loss: 0.571, learning rate: 0.008145\n",
      "Minibatch error: 37.5%\n",
      "global step: 1724  over  3048\n",
      "Epoch:  4    || Step 200.0\n",
      "Minibatch loss: 0.451, learning rate: 0.008145\n",
      "Minibatch error: 0.0%\n",
      "global step: 1774  over  3048\n",
      "Epoch:  4    || Step 250.0\n",
      "Minibatch loss: 0.691, learning rate: 0.008145\n",
      "Minibatch error: 43.8%\n",
      "global step: 1824  over  3048\n",
      "Epoch:  4    || Step 300.0\n",
      "Minibatch loss: 0.758, learning rate: 0.008145\n",
      "Minibatch error: 50.0%\n",
      "global step: 1874  over  3048\n",
      "Epoch:  4    || Step 350.0\n",
      "Minibatch loss: 0.778, learning rate: 0.008145\n",
      "Minibatch error: 43.8%\n",
      "global step: 1905  over  3048\n",
      "Epoch:  5    || Step 0.0\n",
      "Minibatch loss: 0.595, learning rate: 0.008145\n",
      "Minibatch error: 25.0%\n",
      "global step: 1955  over  3048\n",
      "Epoch:  5    || Step 50.0\n",
      "Minibatch loss: 0.622, learning rate: 0.007738\n",
      "Minibatch error: 31.2%\n",
      "global step: 2005  over  3048\n",
      "Epoch:  5    || Step 100.0\n",
      "Minibatch loss: 0.600, learning rate: 0.007738\n",
      "Minibatch error: 31.2%\n",
      "global step: 2055  over  3048\n",
      "Epoch:  5    || Step 150.0\n",
      "Minibatch loss: 0.633, learning rate: 0.007738\n",
      "Minibatch error: 31.2%\n",
      "global step: 2105  over  3048\n",
      "Epoch:  5    || Step 200.0\n",
      "Minibatch loss: 0.572, learning rate: 0.007738\n",
      "Minibatch error: 25.0%\n",
      "global step: 2155  over  3048\n",
      "Epoch:  5    || Step 250.0\n",
      "Minibatch loss: 0.631, learning rate: 0.007738\n",
      "Minibatch error: 37.5%\n",
      "global step: 2205  over  3048\n",
      "Epoch:  5    || Step 300.0\n",
      "Minibatch loss: 0.559, learning rate: 0.007738\n",
      "Minibatch error: 31.2%\n",
      "global step: 2255  over  3048\n",
      "Epoch:  5    || Step 350.0\n",
      "Minibatch loss: 0.657, learning rate: 0.007738\n",
      "Minibatch error: 43.8%\n",
      "global step: 2286  over  3048\n",
      "Epoch:  6    || Step 0.0\n",
      "Minibatch loss: 0.531, learning rate: 0.007738\n",
      "Minibatch error: 31.2%\n",
      "global step: 2336  over  3048\n",
      "Epoch:  6    || Step 50.0\n",
      "Minibatch loss: 0.622, learning rate: 0.007351\n",
      "Minibatch error: 37.5%\n",
      "global step: 2386  over  3048\n",
      "Epoch:  6    || Step 100.0\n",
      "Minibatch loss: 0.615, learning rate: 0.007351\n",
      "Minibatch error: 43.8%\n",
      "global step: 2436  over  3048\n",
      "Epoch:  6    || Step 150.0\n",
      "Minibatch loss: 0.531, learning rate: 0.007351\n",
      "Minibatch error: 12.5%\n",
      "global step: 2486  over  3048\n",
      "Epoch:  6    || Step 200.0\n",
      "Minibatch loss: 0.642, learning rate: 0.007351\n",
      "Minibatch error: 31.2%\n",
      "global step: 2536  over  3048\n",
      "Epoch:  6    || Step 250.0\n",
      "Minibatch loss: 0.572, learning rate: 0.007351\n",
      "Minibatch error: 18.8%\n",
      "global step: 2586  over  3048\n",
      "Epoch:  6    || Step 300.0\n",
      "Minibatch loss: 0.552, learning rate: 0.007351\n",
      "Minibatch error: 25.0%\n",
      "global step: 2636  over  3048\n",
      "Epoch:  6    || Step 350.0\n",
      "Minibatch loss: 0.606, learning rate: 0.007351\n",
      "Minibatch error: 31.2%\n",
      "global step: 2667  over  3048\n",
      "Epoch:  7    || Step 0.0\n",
      "Minibatch loss: 0.538, learning rate: 0.007351\n",
      "Minibatch error: 18.8%\n",
      "global step: 2717  over  3048\n",
      "Epoch:  7    || Step 50.0\n",
      "Minibatch loss: 0.682, learning rate: 0.006983\n",
      "Minibatch error: 50.0%\n",
      "global step: 2767  over  3048\n",
      "Epoch:  7    || Step 100.0\n",
      "Minibatch loss: 0.746, learning rate: 0.006983\n",
      "Minibatch error: 50.0%\n",
      "global step: 2817  over  3048\n",
      "Epoch:  7    || Step 150.0\n",
      "Minibatch loss: 0.560, learning rate: 0.006983\n",
      "Minibatch error: 37.5%\n",
      "global step: 2867  over  3048\n",
      "Epoch:  7    || Step 200.0\n",
      "Minibatch loss: 0.557, learning rate: 0.006983\n",
      "Minibatch error: 25.0%\n",
      "global step: 2917  over  3048\n",
      "Epoch:  7    || Step 250.0\n",
      "Minibatch loss: 0.655, learning rate: 0.006983\n",
      "Minibatch error: 37.5%\n",
      "global step: 2967  over  3048\n",
      "Epoch:  7    || Step 300.0\n",
      "Minibatch loss: 0.620, learning rate: 0.006983\n",
      "Minibatch error: 43.8%\n",
      "global step: 3017  over  3048\n",
      "Epoch:  7    || Step 350.0\n",
      "Minibatch loss: 0.601, learning rate: 0.006983\n",
      "Minibatch error: 25.0%\n",
      "Time usage: 0:00:34\n",
      "Model saved in file: /tmp/mnist/test1/model.ckpt\n",
      "Running prediction on training set\n"
     ]
    },
    {
     "ename": "FailedPreconditionError",
     "evalue": "Attempting to use uninitialized value conv_8/B\n\t [[Node: conv_8/B/read = Identity[T=DT_FLOAT, _class=[\"loc:@conv_8/B\"], _device=\"/job:localhost/replica:0/task:0/cpu:0\"](conv_8/B)]]\n\nCaused by op 'conv_8/B/read', defined at:\n  File \"/home/zampieri/anaconda3/lib/python3.6/runpy.py\", line 193, in _run_module_as_main\n    \"__main__\", mod_spec)\n  File \"/home/zampieri/anaconda3/lib/python3.6/runpy.py\", line 85, in _run_code\n    exec(code, run_globals)\n  File \"/home/zampieri/anaconda3/lib/python3.6/site-packages/ipykernel_launcher.py\", line 16, in <module>\n    app.launch_new_instance()\n  File \"/home/zampieri/anaconda3/lib/python3.6/site-packages/traitlets/config/application.py\", line 658, in launch_instance\n    app.start()\n  File \"/home/zampieri/anaconda3/lib/python3.6/site-packages/ipykernel/kernelapp.py\", line 477, in start\n    ioloop.IOLoop.instance().start()\n  File \"/home/zampieri/anaconda3/lib/python3.6/site-packages/zmq/eventloop/ioloop.py\", line 177, in start\n    super(ZMQIOLoop, self).start()\n  File \"/home/zampieri/anaconda3/lib/python3.6/site-packages/tornado/ioloop.py\", line 888, in start\n    handler_func(fd_obj, events)\n  File \"/home/zampieri/anaconda3/lib/python3.6/site-packages/tornado/stack_context.py\", line 277, in null_wrapper\n    return fn(*args, **kwargs)\n  File \"/home/zampieri/anaconda3/lib/python3.6/site-packages/zmq/eventloop/zmqstream.py\", line 440, in _handle_events\n    self._handle_recv()\n  File \"/home/zampieri/anaconda3/lib/python3.6/site-packages/zmq/eventloop/zmqstream.py\", line 472, in _handle_recv\n    self._run_callback(callback, msg)\n  File \"/home/zampieri/anaconda3/lib/python3.6/site-packages/zmq/eventloop/zmqstream.py\", line 414, in _run_callback\n    callback(*args, **kwargs)\n  File \"/home/zampieri/anaconda3/lib/python3.6/site-packages/tornado/stack_context.py\", line 277, in null_wrapper\n    return fn(*args, **kwargs)\n  File \"/home/zampieri/anaconda3/lib/python3.6/site-packages/ipykernel/kernelbase.py\", line 283, in dispatcher\n    return self.dispatch_shell(stream, msg)\n  File \"/home/zampieri/anaconda3/lib/python3.6/site-packages/ipykernel/kernelbase.py\", line 235, in dispatch_shell\n    handler(stream, idents, msg)\n  File \"/home/zampieri/anaconda3/lib/python3.6/site-packages/ipykernel/kernelbase.py\", line 399, in execute_request\n    user_expressions, allow_stdin)\n  File \"/home/zampieri/anaconda3/lib/python3.6/site-packages/ipykernel/ipkernel.py\", line 196, in do_execute\n    res = shell.run_cell(code, store_history=store_history, silent=silent)\n  File \"/home/zampieri/anaconda3/lib/python3.6/site-packages/ipykernel/zmqshell.py\", line 533, in run_cell\n    return super(ZMQInteractiveShell, self).run_cell(*args, **kwargs)\n  File \"/home/zampieri/anaconda3/lib/python3.6/site-packages/IPython/core/interactiveshell.py\", line 2698, in run_cell\n    interactivity=interactivity, compiler=compiler, result=result)\n  File \"/home/zampieri/anaconda3/lib/python3.6/site-packages/IPython/core/interactiveshell.py\", line 2802, in run_ast_nodes\n    if self.run_code(code, result):\n  File \"/home/zampieri/anaconda3/lib/python3.6/site-packages/IPython/core/interactiveshell.py\", line 2862, in run_code\n    exec(code_obj, self.user_global_ns, self.user_ns)\n  File \"<ipython-input-37-85ebdea4f000>\", line 27, in <module>\n    pred_img = get_predicted_groundtruth(train_data_filename, i)\n  File \"<ipython-input-34-e1cf54b9b668>\", line 20, in get_predicted_groundtruth\n    img_prediction = get_prediction(img)\n  File \"<ipython-input-34-e1cf54b9b668>\", line 5, in get_prediction\n    output = tf.nn.softmax(model(data_node))\n  File \"<ipython-input-22-f613f61b57a3>\", line 7, in model\n    use_pooling=True)\n  File \"<ipython-input-13-4dadb01ee686>\", line 15, in new_conv_layer\n    biases = new_biases(length=num_filters)\n  File \"<ipython-input-12-8184e60c0861>\", line 8, in new_biases\n    return tf.Variable(tf.constant(0.1, shape=[length]),name=\"B\")\n  File \"/home/zampieri/anaconda3/lib/python3.6/site-packages/tensorflow/python/ops/variables.py\", line 199, in __init__\n    expected_shape=expected_shape)\n  File \"/home/zampieri/anaconda3/lib/python3.6/site-packages/tensorflow/python/ops/variables.py\", line 330, in _init_from_args\n    self._snapshot = array_ops.identity(self._variable, name=\"read\")\n  File \"/home/zampieri/anaconda3/lib/python3.6/site-packages/tensorflow/python/ops/gen_array_ops.py\", line 1400, in identity\n    result = _op_def_lib.apply_op(\"Identity\", input=input, name=name)\n  File \"/home/zampieri/anaconda3/lib/python3.6/site-packages/tensorflow/python/framework/op_def_library.py\", line 767, in apply_op\n    op_def=op_def)\n  File \"/home/zampieri/anaconda3/lib/python3.6/site-packages/tensorflow/python/framework/ops.py\", line 2630, in create_op\n    original_op=self._default_original_op, op_def=op_def)\n  File \"/home/zampieri/anaconda3/lib/python3.6/site-packages/tensorflow/python/framework/ops.py\", line 1204, in __init__\n    self._traceback = self._graph._extract_stack()  # pylint: disable=protected-access\n\nFailedPreconditionError (see above for traceback): Attempting to use uninitialized value conv_8/B\n\t [[Node: conv_8/B/read = Identity[T=DT_FLOAT, _class=[\"loc:@conv_8/B\"], _device=\"/job:localhost/replica:0/task:0/cpu:0\"](conv_8/B)]]\n",
     "output_type": "error",
     "traceback": [
      "\u001b[0;31m---------------------------------------------------------------------------\u001b[0m",
      "\u001b[0;31mFailedPreconditionError\u001b[0m                   Traceback (most recent call last)",
      "\u001b[0;32m~/anaconda3/lib/python3.6/site-packages/tensorflow/python/client/session.py\u001b[0m in \u001b[0;36m_do_call\u001b[0;34m(self, fn, *args)\u001b[0m\n\u001b[1;32m   1326\u001b[0m     \u001b[0;32mtry\u001b[0m\u001b[0;34m:\u001b[0m\u001b[0;34m\u001b[0m\u001b[0m\n\u001b[0;32m-> 1327\u001b[0;31m       \u001b[0;32mreturn\u001b[0m \u001b[0mfn\u001b[0m\u001b[0;34m(\u001b[0m\u001b[0;34m*\u001b[0m\u001b[0margs\u001b[0m\u001b[0;34m)\u001b[0m\u001b[0;34m\u001b[0m\u001b[0m\n\u001b[0m\u001b[1;32m   1328\u001b[0m     \u001b[0;32mexcept\u001b[0m \u001b[0merrors\u001b[0m\u001b[0;34m.\u001b[0m\u001b[0mOpError\u001b[0m \u001b[0;32mas\u001b[0m \u001b[0me\u001b[0m\u001b[0;34m:\u001b[0m\u001b[0;34m\u001b[0m\u001b[0m\n",
      "\u001b[0;32m~/anaconda3/lib/python3.6/site-packages/tensorflow/python/client/session.py\u001b[0m in \u001b[0;36m_run_fn\u001b[0;34m(session, feed_dict, fetch_list, target_list, options, run_metadata)\u001b[0m\n\u001b[1;32m   1305\u001b[0m                                    \u001b[0mfeed_dict\u001b[0m\u001b[0;34m,\u001b[0m \u001b[0mfetch_list\u001b[0m\u001b[0;34m,\u001b[0m \u001b[0mtarget_list\u001b[0m\u001b[0;34m,\u001b[0m\u001b[0;34m\u001b[0m\u001b[0m\n\u001b[0;32m-> 1306\u001b[0;31m                                    status, run_metadata)\n\u001b[0m\u001b[1;32m   1307\u001b[0m \u001b[0;34m\u001b[0m\u001b[0m\n",
      "\u001b[0;32m~/anaconda3/lib/python3.6/contextlib.py\u001b[0m in \u001b[0;36m__exit__\u001b[0;34m(self, type, value, traceback)\u001b[0m\n\u001b[1;32m     87\u001b[0m             \u001b[0;32mtry\u001b[0m\u001b[0;34m:\u001b[0m\u001b[0;34m\u001b[0m\u001b[0m\n\u001b[0;32m---> 88\u001b[0;31m                 \u001b[0mnext\u001b[0m\u001b[0;34m(\u001b[0m\u001b[0mself\u001b[0m\u001b[0;34m.\u001b[0m\u001b[0mgen\u001b[0m\u001b[0;34m)\u001b[0m\u001b[0;34m\u001b[0m\u001b[0m\n\u001b[0m\u001b[1;32m     89\u001b[0m             \u001b[0;32mexcept\u001b[0m \u001b[0mStopIteration\u001b[0m\u001b[0;34m:\u001b[0m\u001b[0;34m\u001b[0m\u001b[0m\n",
      "\u001b[0;32m~/anaconda3/lib/python3.6/site-packages/tensorflow/python/framework/errors_impl.py\u001b[0m in \u001b[0;36mraise_exception_on_not_ok_status\u001b[0;34m()\u001b[0m\n\u001b[1;32m    465\u001b[0m           \u001b[0mcompat\u001b[0m\u001b[0;34m.\u001b[0m\u001b[0mas_text\u001b[0m\u001b[0;34m(\u001b[0m\u001b[0mpywrap_tensorflow\u001b[0m\u001b[0;34m.\u001b[0m\u001b[0mTF_Message\u001b[0m\u001b[0;34m(\u001b[0m\u001b[0mstatus\u001b[0m\u001b[0;34m)\u001b[0m\u001b[0;34m)\u001b[0m\u001b[0;34m,\u001b[0m\u001b[0;34m\u001b[0m\u001b[0m\n\u001b[0;32m--> 466\u001b[0;31m           pywrap_tensorflow.TF_GetCode(status))\n\u001b[0m\u001b[1;32m    467\u001b[0m   \u001b[0;32mfinally\u001b[0m\u001b[0;34m:\u001b[0m\u001b[0;34m\u001b[0m\u001b[0m\n",
      "\u001b[0;31mFailedPreconditionError\u001b[0m: Attempting to use uninitialized value conv_8/B\n\t [[Node: conv_8/B/read = Identity[T=DT_FLOAT, _class=[\"loc:@conv_8/B\"], _device=\"/job:localhost/replica:0/task:0/cpu:0\"](conv_8/B)]]",
      "\nDuring handling of the above exception, another exception occurred:\n",
      "\u001b[0;31mFailedPreconditionError\u001b[0m                   Traceback (most recent call last)",
      "\u001b[0;32m<ipython-input-37-85ebdea4f000>\u001b[0m in \u001b[0;36m<module>\u001b[0;34m()\u001b[0m\n\u001b[1;32m     25\u001b[0m         \u001b[0mos\u001b[0m\u001b[0;34m.\u001b[0m\u001b[0mmkdir\u001b[0m\u001b[0;34m(\u001b[0m\u001b[0mprediction_training_dir\u001b[0m\u001b[0;34m)\u001b[0m\u001b[0;34m\u001b[0m\u001b[0m\n\u001b[1;32m     26\u001b[0m     \u001b[0;32mfor\u001b[0m \u001b[0mi\u001b[0m \u001b[0;32min\u001b[0m \u001b[0mrange\u001b[0m\u001b[0;34m(\u001b[0m\u001b[0;36m1\u001b[0m\u001b[0;34m,\u001b[0m \u001b[0mTRAINING_SIZE\u001b[0m\u001b[0;34m+\u001b[0m\u001b[0;36m1\u001b[0m\u001b[0;34m)\u001b[0m\u001b[0;34m:\u001b[0m\u001b[0;34m\u001b[0m\u001b[0m\n\u001b[0;32m---> 27\u001b[0;31m         \u001b[0mpred_img\u001b[0m \u001b[0;34m=\u001b[0m \u001b[0mget_predicted_groundtruth\u001b[0m\u001b[0;34m(\u001b[0m\u001b[0mtrain_data_filename\u001b[0m\u001b[0;34m,\u001b[0m \u001b[0mi\u001b[0m\u001b[0;34m)\u001b[0m\u001b[0;34m\u001b[0m\u001b[0m\n\u001b[0m\u001b[1;32m     28\u001b[0m         \u001b[0mImage\u001b[0m\u001b[0;34m.\u001b[0m\u001b[0mfromarray\u001b[0m\u001b[0;34m(\u001b[0m\u001b[0mpred_img\u001b[0m\u001b[0;34m)\u001b[0m\u001b[0;34m.\u001b[0m\u001b[0msave\u001b[0m\u001b[0;34m(\u001b[0m\u001b[0mprediction_training_dir\u001b[0m \u001b[0;34m+\u001b[0m \u001b[0;34m\"predicted_groundtruth_\"\u001b[0m \u001b[0;34m+\u001b[0m \u001b[0mstr\u001b[0m\u001b[0;34m(\u001b[0m\u001b[0mi\u001b[0m\u001b[0;34m)\u001b[0m \u001b[0;34m+\u001b[0m \u001b[0;34m\".png\"\u001b[0m\u001b[0;34m)\u001b[0m\u001b[0;34m\u001b[0m\u001b[0m\n\u001b[1;32m     29\u001b[0m \u001b[0;34m\u001b[0m\u001b[0m\n",
      "\u001b[0;32m<ipython-input-34-e1cf54b9b668>\u001b[0m in \u001b[0;36mget_predicted_groundtruth\u001b[0;34m(filename, image_idx)\u001b[0m\n\u001b[1;32m     18\u001b[0m     \u001b[0mimg\u001b[0m \u001b[0;34m=\u001b[0m \u001b[0mmpimg\u001b[0m\u001b[0;34m.\u001b[0m\u001b[0mimread\u001b[0m\u001b[0;34m(\u001b[0m\u001b[0mimage_filename\u001b[0m\u001b[0;34m)\u001b[0m\u001b[0;34m\u001b[0m\u001b[0m\n\u001b[1;32m     19\u001b[0m \u001b[0;34m\u001b[0m\u001b[0m\n\u001b[0;32m---> 20\u001b[0;31m     \u001b[0mimg_prediction\u001b[0m \u001b[0;34m=\u001b[0m \u001b[0mget_prediction\u001b[0m\u001b[0;34m(\u001b[0m\u001b[0mimg\u001b[0m\u001b[0;34m)\u001b[0m\u001b[0;34m\u001b[0m\u001b[0m\n\u001b[0m\u001b[1;32m     21\u001b[0m     \u001b[0mcimg\u001b[0m \u001b[0;34m=\u001b[0m \u001b[0mFalse_concatenate_images\u001b[0m\u001b[0;34m(\u001b[0m\u001b[0mimg_prediction\u001b[0m\u001b[0;34m)\u001b[0m\u001b[0;34m\u001b[0m\u001b[0m\n\u001b[1;32m     22\u001b[0m     \u001b[0;32mreturn\u001b[0m \u001b[0mcimg\u001b[0m\u001b[0;34m\u001b[0m\u001b[0m\n",
      "\u001b[0;32m<ipython-input-34-e1cf54b9b668>\u001b[0m in \u001b[0;36mget_prediction\u001b[0;34m(img)\u001b[0m\n\u001b[1;32m      5\u001b[0m     \u001b[0moutput\u001b[0m \u001b[0;34m=\u001b[0m \u001b[0mtf\u001b[0m\u001b[0;34m.\u001b[0m\u001b[0mnn\u001b[0m\u001b[0;34m.\u001b[0m\u001b[0msoftmax\u001b[0m\u001b[0;34m(\u001b[0m\u001b[0mmodel\u001b[0m\u001b[0;34m(\u001b[0m\u001b[0mdata_node\u001b[0m\u001b[0;34m)\u001b[0m\u001b[0;34m)\u001b[0m\u001b[0;34m\u001b[0m\u001b[0m\n\u001b[1;32m      6\u001b[0m     \u001b[0;31m#s.run(tf.global_variables_initializer()) # to remoove??\u001b[0m\u001b[0;34m\u001b[0m\u001b[0;34m\u001b[0m\u001b[0m\n\u001b[0;32m----> 7\u001b[0;31m     \u001b[0moutput_prediction\u001b[0m \u001b[0;34m=\u001b[0m \u001b[0ms\u001b[0m\u001b[0;34m.\u001b[0m\u001b[0mrun\u001b[0m\u001b[0;34m(\u001b[0m\u001b[0moutput\u001b[0m\u001b[0;34m)\u001b[0m\u001b[0;34m\u001b[0m\u001b[0m\n\u001b[0m\u001b[1;32m      8\u001b[0m     \u001b[0mimg_prediction\u001b[0m \u001b[0;34m=\u001b[0m \u001b[0mlabel_to_img\u001b[0m\u001b[0;34m(\u001b[0m\u001b[0mimg\u001b[0m\u001b[0;34m.\u001b[0m\u001b[0mshape\u001b[0m\u001b[0;34m[\u001b[0m\u001b[0;36m0\u001b[0m\u001b[0;34m]\u001b[0m\u001b[0;34m,\u001b[0m \u001b[0mimg\u001b[0m\u001b[0;34m.\u001b[0m\u001b[0mshape\u001b[0m\u001b[0;34m[\u001b[0m\u001b[0;36m1\u001b[0m\u001b[0;34m]\u001b[0m\u001b[0;34m,\u001b[0m \u001b[0mIMG_PATCH_SIZE\u001b[0m\u001b[0;34m,\u001b[0m \u001b[0mIMG_PATCH_SIZE\u001b[0m\u001b[0;34m,\u001b[0m \u001b[0moutput_prediction\u001b[0m\u001b[0;34m)\u001b[0m\u001b[0;34m\u001b[0m\u001b[0m\n\u001b[1;32m      9\u001b[0m \u001b[0;34m\u001b[0m\u001b[0m\n",
      "\u001b[0;32m~/anaconda3/lib/python3.6/site-packages/tensorflow/python/client/session.py\u001b[0m in \u001b[0;36mrun\u001b[0;34m(self, fetches, feed_dict, options, run_metadata)\u001b[0m\n\u001b[1;32m    893\u001b[0m     \u001b[0;32mtry\u001b[0m\u001b[0;34m:\u001b[0m\u001b[0;34m\u001b[0m\u001b[0m\n\u001b[1;32m    894\u001b[0m       result = self._run(None, fetches, feed_dict, options_ptr,\n\u001b[0;32m--> 895\u001b[0;31m                          run_metadata_ptr)\n\u001b[0m\u001b[1;32m    896\u001b[0m       \u001b[0;32mif\u001b[0m \u001b[0mrun_metadata\u001b[0m\u001b[0;34m:\u001b[0m\u001b[0;34m\u001b[0m\u001b[0m\n\u001b[1;32m    897\u001b[0m         \u001b[0mproto_data\u001b[0m \u001b[0;34m=\u001b[0m \u001b[0mtf_session\u001b[0m\u001b[0;34m.\u001b[0m\u001b[0mTF_GetBuffer\u001b[0m\u001b[0;34m(\u001b[0m\u001b[0mrun_metadata_ptr\u001b[0m\u001b[0;34m)\u001b[0m\u001b[0;34m\u001b[0m\u001b[0m\n",
      "\u001b[0;32m~/anaconda3/lib/python3.6/site-packages/tensorflow/python/client/session.py\u001b[0m in \u001b[0;36m_run\u001b[0;34m(self, handle, fetches, feed_dict, options, run_metadata)\u001b[0m\n\u001b[1;32m   1122\u001b[0m     \u001b[0;32mif\u001b[0m \u001b[0mfinal_fetches\u001b[0m \u001b[0;32mor\u001b[0m \u001b[0mfinal_targets\u001b[0m \u001b[0;32mor\u001b[0m \u001b[0;34m(\u001b[0m\u001b[0mhandle\u001b[0m \u001b[0;32mand\u001b[0m \u001b[0mfeed_dict_tensor\u001b[0m\u001b[0;34m)\u001b[0m\u001b[0;34m:\u001b[0m\u001b[0;34m\u001b[0m\u001b[0m\n\u001b[1;32m   1123\u001b[0m       results = self._do_run(handle, final_targets, final_fetches,\n\u001b[0;32m-> 1124\u001b[0;31m                              feed_dict_tensor, options, run_metadata)\n\u001b[0m\u001b[1;32m   1125\u001b[0m     \u001b[0;32melse\u001b[0m\u001b[0;34m:\u001b[0m\u001b[0;34m\u001b[0m\u001b[0m\n\u001b[1;32m   1126\u001b[0m       \u001b[0mresults\u001b[0m \u001b[0;34m=\u001b[0m \u001b[0;34m[\u001b[0m\u001b[0;34m]\u001b[0m\u001b[0;34m\u001b[0m\u001b[0m\n",
      "\u001b[0;32m~/anaconda3/lib/python3.6/site-packages/tensorflow/python/client/session.py\u001b[0m in \u001b[0;36m_do_run\u001b[0;34m(self, handle, target_list, fetch_list, feed_dict, options, run_metadata)\u001b[0m\n\u001b[1;32m   1319\u001b[0m     \u001b[0;32mif\u001b[0m \u001b[0mhandle\u001b[0m \u001b[0;32mis\u001b[0m \u001b[0;32mNone\u001b[0m\u001b[0;34m:\u001b[0m\u001b[0;34m\u001b[0m\u001b[0m\n\u001b[1;32m   1320\u001b[0m       return self._do_call(_run_fn, self._session, feeds, fetches, targets,\n\u001b[0;32m-> 1321\u001b[0;31m                            options, run_metadata)\n\u001b[0m\u001b[1;32m   1322\u001b[0m     \u001b[0;32melse\u001b[0m\u001b[0;34m:\u001b[0m\u001b[0;34m\u001b[0m\u001b[0m\n\u001b[1;32m   1323\u001b[0m       \u001b[0;32mreturn\u001b[0m \u001b[0mself\u001b[0m\u001b[0;34m.\u001b[0m\u001b[0m_do_call\u001b[0m\u001b[0;34m(\u001b[0m\u001b[0m_prun_fn\u001b[0m\u001b[0;34m,\u001b[0m \u001b[0mself\u001b[0m\u001b[0;34m.\u001b[0m\u001b[0m_session\u001b[0m\u001b[0;34m,\u001b[0m \u001b[0mhandle\u001b[0m\u001b[0;34m,\u001b[0m \u001b[0mfeeds\u001b[0m\u001b[0;34m,\u001b[0m \u001b[0mfetches\u001b[0m\u001b[0;34m)\u001b[0m\u001b[0;34m\u001b[0m\u001b[0m\n",
      "\u001b[0;32m~/anaconda3/lib/python3.6/site-packages/tensorflow/python/client/session.py\u001b[0m in \u001b[0;36m_do_call\u001b[0;34m(self, fn, *args)\u001b[0m\n\u001b[1;32m   1338\u001b[0m         \u001b[0;32mexcept\u001b[0m \u001b[0mKeyError\u001b[0m\u001b[0;34m:\u001b[0m\u001b[0;34m\u001b[0m\u001b[0m\n\u001b[1;32m   1339\u001b[0m           \u001b[0;32mpass\u001b[0m\u001b[0;34m\u001b[0m\u001b[0m\n\u001b[0;32m-> 1340\u001b[0;31m       \u001b[0;32mraise\u001b[0m \u001b[0mtype\u001b[0m\u001b[0;34m(\u001b[0m\u001b[0me\u001b[0m\u001b[0;34m)\u001b[0m\u001b[0;34m(\u001b[0m\u001b[0mnode_def\u001b[0m\u001b[0;34m,\u001b[0m \u001b[0mop\u001b[0m\u001b[0;34m,\u001b[0m \u001b[0mmessage\u001b[0m\u001b[0;34m)\u001b[0m\u001b[0;34m\u001b[0m\u001b[0m\n\u001b[0m\u001b[1;32m   1341\u001b[0m \u001b[0;34m\u001b[0m\u001b[0m\n\u001b[1;32m   1342\u001b[0m   \u001b[0;32mdef\u001b[0m \u001b[0m_extend_graph\u001b[0m\u001b[0;34m(\u001b[0m\u001b[0mself\u001b[0m\u001b[0;34m)\u001b[0m\u001b[0;34m:\u001b[0m\u001b[0;34m\u001b[0m\u001b[0m\n",
      "\u001b[0;31mFailedPreconditionError\u001b[0m: Attempting to use uninitialized value conv_8/B\n\t [[Node: conv_8/B/read = Identity[T=DT_FLOAT, _class=[\"loc:@conv_8/B\"], _device=\"/job:localhost/replica:0/task:0/cpu:0\"](conv_8/B)]]\n\nCaused by op 'conv_8/B/read', defined at:\n  File \"/home/zampieri/anaconda3/lib/python3.6/runpy.py\", line 193, in _run_module_as_main\n    \"__main__\", mod_spec)\n  File \"/home/zampieri/anaconda3/lib/python3.6/runpy.py\", line 85, in _run_code\n    exec(code, run_globals)\n  File \"/home/zampieri/anaconda3/lib/python3.6/site-packages/ipykernel_launcher.py\", line 16, in <module>\n    app.launch_new_instance()\n  File \"/home/zampieri/anaconda3/lib/python3.6/site-packages/traitlets/config/application.py\", line 658, in launch_instance\n    app.start()\n  File \"/home/zampieri/anaconda3/lib/python3.6/site-packages/ipykernel/kernelapp.py\", line 477, in start\n    ioloop.IOLoop.instance().start()\n  File \"/home/zampieri/anaconda3/lib/python3.6/site-packages/zmq/eventloop/ioloop.py\", line 177, in start\n    super(ZMQIOLoop, self).start()\n  File \"/home/zampieri/anaconda3/lib/python3.6/site-packages/tornado/ioloop.py\", line 888, in start\n    handler_func(fd_obj, events)\n  File \"/home/zampieri/anaconda3/lib/python3.6/site-packages/tornado/stack_context.py\", line 277, in null_wrapper\n    return fn(*args, **kwargs)\n  File \"/home/zampieri/anaconda3/lib/python3.6/site-packages/zmq/eventloop/zmqstream.py\", line 440, in _handle_events\n    self._handle_recv()\n  File \"/home/zampieri/anaconda3/lib/python3.6/site-packages/zmq/eventloop/zmqstream.py\", line 472, in _handle_recv\n    self._run_callback(callback, msg)\n  File \"/home/zampieri/anaconda3/lib/python3.6/site-packages/zmq/eventloop/zmqstream.py\", line 414, in _run_callback\n    callback(*args, **kwargs)\n  File \"/home/zampieri/anaconda3/lib/python3.6/site-packages/tornado/stack_context.py\", line 277, in null_wrapper\n    return fn(*args, **kwargs)\n  File \"/home/zampieri/anaconda3/lib/python3.6/site-packages/ipykernel/kernelbase.py\", line 283, in dispatcher\n    return self.dispatch_shell(stream, msg)\n  File \"/home/zampieri/anaconda3/lib/python3.6/site-packages/ipykernel/kernelbase.py\", line 235, in dispatch_shell\n    handler(stream, idents, msg)\n  File \"/home/zampieri/anaconda3/lib/python3.6/site-packages/ipykernel/kernelbase.py\", line 399, in execute_request\n    user_expressions, allow_stdin)\n  File \"/home/zampieri/anaconda3/lib/python3.6/site-packages/ipykernel/ipkernel.py\", line 196, in do_execute\n    res = shell.run_cell(code, store_history=store_history, silent=silent)\n  File \"/home/zampieri/anaconda3/lib/python3.6/site-packages/ipykernel/zmqshell.py\", line 533, in run_cell\n    return super(ZMQInteractiveShell, self).run_cell(*args, **kwargs)\n  File \"/home/zampieri/anaconda3/lib/python3.6/site-packages/IPython/core/interactiveshell.py\", line 2698, in run_cell\n    interactivity=interactivity, compiler=compiler, result=result)\n  File \"/home/zampieri/anaconda3/lib/python3.6/site-packages/IPython/core/interactiveshell.py\", line 2802, in run_ast_nodes\n    if self.run_code(code, result):\n  File \"/home/zampieri/anaconda3/lib/python3.6/site-packages/IPython/core/interactiveshell.py\", line 2862, in run_code\n    exec(code_obj, self.user_global_ns, self.user_ns)\n  File \"<ipython-input-37-85ebdea4f000>\", line 27, in <module>\n    pred_img = get_predicted_groundtruth(train_data_filename, i)\n  File \"<ipython-input-34-e1cf54b9b668>\", line 20, in get_predicted_groundtruth\n    img_prediction = get_prediction(img)\n  File \"<ipython-input-34-e1cf54b9b668>\", line 5, in get_prediction\n    output = tf.nn.softmax(model(data_node))\n  File \"<ipython-input-22-f613f61b57a3>\", line 7, in model\n    use_pooling=True)\n  File \"<ipython-input-13-4dadb01ee686>\", line 15, in new_conv_layer\n    biases = new_biases(length=num_filters)\n  File \"<ipython-input-12-8184e60c0861>\", line 8, in new_biases\n    return tf.Variable(tf.constant(0.1, shape=[length]),name=\"B\")\n  File \"/home/zampieri/anaconda3/lib/python3.6/site-packages/tensorflow/python/ops/variables.py\", line 199, in __init__\n    expected_shape=expected_shape)\n  File \"/home/zampieri/anaconda3/lib/python3.6/site-packages/tensorflow/python/ops/variables.py\", line 330, in _init_from_args\n    self._snapshot = array_ops.identity(self._variable, name=\"read\")\n  File \"/home/zampieri/anaconda3/lib/python3.6/site-packages/tensorflow/python/ops/gen_array_ops.py\", line 1400, in identity\n    result = _op_def_lib.apply_op(\"Identity\", input=input, name=name)\n  File \"/home/zampieri/anaconda3/lib/python3.6/site-packages/tensorflow/python/framework/op_def_library.py\", line 767, in apply_op\n    op_def=op_def)\n  File \"/home/zampieri/anaconda3/lib/python3.6/site-packages/tensorflow/python/framework/ops.py\", line 2630, in create_op\n    original_op=self._default_original_op, op_def=op_def)\n  File \"/home/zampieri/anaconda3/lib/python3.6/site-packages/tensorflow/python/framework/ops.py\", line 1204, in __init__\n    self._traceback = self._graph._extract_stack()  # pylint: disable=protected-access\n\nFailedPreconditionError (see above for traceback): Attempting to use uninitialized value conv_8/B\n\t [[Node: conv_8/B/read = Identity[T=DT_FLOAT, _class=[\"loc:@conv_8/B\"], _device=\"/job:localhost/replica:0/task:0/cpu:0\"](conv_8/B)]]\n"
     ]
    }
   ],
   "source": [
    "with tf.Session() as s:\n",
    "    \n",
    "    if RESTORE_MODEL:\n",
    "        # Restore variables from disk.\n",
    "        saver.restore(s, FLAGS.train_dir + \"/model.ckpt\")\n",
    "        print(\"Model restored.\")\n",
    "\n",
    "    else:\n",
    "        s.run(tf.global_variables_initializer())\n",
    "\n",
    "        summary_op = tf.summary.merge_all()\n",
    "        summary_writer = tf.summary.FileWriter(FLAGS.train_dir)\n",
    "        summary_writer.add_graph(s.graph)\n",
    "\n",
    "        # optimize\n",
    "        optimize(num_iterations=1)\n",
    "\n",
    "        # Save the variables to disk.\n",
    "        save_path = saver.save(s, FLAGS.train_dir + \"/model.ckpt\")\n",
    "        print(\"Model saved in file: %s\" % save_path)\n",
    "\n",
    "    print (\"Running prediction on training set\")\n",
    "    prediction_training_dir = \"predictions_training/\"\n",
    "    if not os.path.isdir(prediction_training_dir):\n",
    "        os.mkdir(prediction_training_dir)\n",
    "    for i in range(1, TRAINING_SIZE+1):\n",
    "        pred_img = get_predicted_groundtruth(train_data_filename, i)\n",
    "        Image.fromarray(pred_img).save(prediction_training_dir + \"predicted_groundtruth_\" + str(i) + \".png\")\n",
    "\n",
    "        #pimg = get_prediction_with_groundtruth(train_data_filename, i)\n",
    "        #Image.fromarray(pimg).save(prediction_training_dir + \"prediction_\" + str(i) + \".png\")\n",
    "        oimg = get_prediction_with_overlay(train_data_filename, i)\n",
    "        oimg.save(prediction_training_dir + \"overlay_\" + str(i) + \".png\")"
   ]
  },
  {
   "cell_type": "markdown",
   "metadata": {},
   "source": [
    "# Run on training images:"
   ]
  },
  {
   "cell_type": "code",
   "execution_count": null,
   "metadata": {
    "collapsed": true
   },
   "outputs": [],
   "source": [
    "image_idx = 3\n",
    "filename =train_data_filename\n",
    "imageid = \"satImage_%.3d\" % image_idx\n",
    "image_filename = filename + imageid + \".png\"\n",
    "img = mpimg.imread(image_filename)\n",
    "data = numpy.asarray(img_crop(img, IMG_PATCH_SIZE, IMG_PATCH_SIZE))"
   ]
  },
  {
   "cell_type": "code",
   "execution_count": null,
   "metadata": {
    "collapsed": true
   },
   "outputs": [],
   "source": [
    "data_node = tf.constant(data)\n",
    "output = tf.nn.softmax(model(data_node))"
   ]
  },
  {
   "cell_type": "code",
   "execution_count": null,
   "metadata": {
    "collapsed": true
   },
   "outputs": [],
   "source": [
    "s.run(tf.global_variables_initializer())\n",
    "output_prediction = s.run(output)\n"
   ]
  },
  {
   "cell_type": "code",
   "execution_count": null,
   "metadata": {
    "collapsed": true
   },
   "outputs": [],
   "source": [
    "img_prediction = label_to_img(img.shape[0], img.shape[1], IMG_PATCH_SIZE, IMG_PATCH_SIZE, output_prediction)\n",
    "max_ = img_prediction.max()\n",
    "min_ = img_prediction.min()\n",
    "print (min_,max_)"
   ]
  },
  {
   "cell_type": "code",
   "execution_count": null,
   "metadata": {
    "collapsed": true
   },
   "outputs": [],
   "source": [
    "def img_float_to_uint8(img):\n",
    "    rimg = img - numpy.min(img)\n",
    "    rimg = (rimg / numpy.max(rimg) * PIXEL_DEPTH).round().astype(numpy.uint8)\n",
    "    return rimg"
   ]
  },
  {
   "cell_type": "code",
   "execution_count": null,
   "metadata": {
    "collapsed": true,
    "scrolled": true
   },
   "outputs": [],
   "source": [
    "gt_img8 = img_float_to_uint8(output_prediction)\n",
    "gt_img8"
   ]
  },
  {
   "cell_type": "code",
   "execution_count": null,
   "metadata": {
    "collapsed": true
   },
   "outputs": [],
   "source": [
    "def plot_pred(array):\n",
    "    N = array.shape[0]\n",
    "    G = np.zeros((N,N,1))\n",
    "    G[Z>0.5] = [1]\n",
    "    G[Z<0.5] = [0]\n",
    "    plt.imshow(G, 'gray')\n",
    "    plt.show()\n"
   ]
  },
  {
   "cell_type": "code",
   "execution_count": null,
   "metadata": {
    "collapsed": true
   },
   "outputs": [],
   "source": [
    "output_prediction.shape\n",
    "print(output_prediction[0:5])"
   ]
  },
  {
   "cell_type": "code",
   "execution_count": null,
   "metadata": {
    "collapsed": true,
    "scrolled": true
   },
   "outputs": [],
   "source": [
    "#plot_pred(tmp)"
   ]
  },
  {
   "cell_type": "code",
   "execution_count": null,
   "metadata": {
    "collapsed": true
   },
   "outputs": [],
   "source": []
  },
  {
   "cell_type": "code",
   "execution_count": 34,
   "metadata": {
    "collapsed": true
   },
   "outputs": [],
   "source": [
    "# Get prediction for given input image\n",
    "def get_prediction(img):\n",
    "    data = numpy.asarray(img_crop(img, IMG_PATCH_SIZE, IMG_PATCH_SIZE))\n",
    "    data_node = tf.constant(data)\n",
    "    output = tf.nn.softmax(model(data_node))\n",
    "    #s.run(tf.global_variables_initializer()) # to remoove??\n",
    "    output_prediction = s.run(output)\n",
    "    img_prediction = label_to_img(img.shape[0], img.shape[1], IMG_PATCH_SIZE, IMG_PATCH_SIZE, output_prediction)\n",
    "\n",
    "    return img_prediction\n",
    "\n",
    "\n",
    "# Get a concatenation of the prediction and groundtruth for given input file\n",
    "def get_predicted_groundtruth(filename, image_idx):\n",
    "\n",
    "    imageid = \"satImage_%.3d\" % image_idx\n",
    "    image_filename = filename + imageid + \".png\"\n",
    "    img = mpimg.imread(image_filename)\n",
    "\n",
    "    img_prediction = get_prediction(img)\n",
    "    cimg = False_concatenate_images(img_prediction)\n",
    "    return cimg\n",
    "\n",
    "# Get prediction overlaid on the original image for given input file\n",
    "def get_prediction_with_overlay(filename, image_idx):\n",
    "\n",
    "    imageid = \"satImage_%.3d\" % image_idx\n",
    "    image_filename = filename + imageid + \".png\"\n",
    "    img = mpimg.imread(image_filename)\n",
    "\n",
    "    img_prediction = get_prediction(img)\n",
    "    oimg = make_img_overlay(img, img_prediction)\n",
    "\n",
    "    return oimg\n",
    "################### end other functions ####################################"
   ]
  },
  {
   "cell_type": "code",
   "execution_count": null,
   "metadata": {
    "collapsed": true
   },
   "outputs": [],
   "source": []
  },
  {
   "cell_type": "code",
   "execution_count": null,
   "metadata": {
    "collapsed": true
   },
   "outputs": [],
   "source": []
  },
  {
   "cell_type": "code",
   "execution_count": null,
   "metadata": {
    "collapsed": true
   },
   "outputs": [],
   "source": [
    "print (\"Running prediction on training set\")\n",
    "prediction_training_dir = \"predictions_training/\"\n",
    "if not os.path.isdir(prediction_training_dir):\n",
    "    os.mkdir(prediction_training_dir)\n",
    "for i in range(1, TRAINING_SIZE+1):\n",
    "    pred_img = get_predicted_groundtruth(train_data_filename, i)\n",
    "    Image.fromarray(pred_img).save(prediction_training_dir + \"predicted_groundtruth_\" + str(i) + \".png\")\n",
    "\n",
    "    #pimg = get_prediction_with_groundtruth(train_data_filename, i)\n",
    "    #Image.fromarray(pimg).save(prediction_training_dir + \"prediction_\" + str(i) + \".png\")\n",
    "    oimg = get_prediction_with_overlay(train_data_filename, i)\n",
    "    oimg.save(prediction_training_dir + \"overlay_\" + str(i) + \".png\")"
   ]
  },
  {
   "cell_type": "code",
   "execution_count": null,
   "metadata": {
    "collapsed": true
   },
   "outputs": [],
   "source": []
  },
  {
   "cell_type": "markdown",
   "metadata": {},
   "source": [
    "# END SESSION:"
   ]
  },
  {
   "cell_type": "code",
   "execution_count": 38,
   "metadata": {
    "collapsed": true
   },
   "outputs": [],
   "source": [
    "# comment the next line if you don't wanna restart he whole notebook\n",
    "s.close()"
   ]
  },
  {
   "cell_type": "code",
   "execution_count": null,
   "metadata": {
    "collapsed": true
   },
   "outputs": [],
   "source": []
  },
  {
   "cell_type": "code",
   "execution_count": null,
   "metadata": {
    "collapsed": true
   },
   "outputs": [],
   "source": []
  },
  {
   "cell_type": "code",
   "execution_count": null,
   "metadata": {
    "collapsed": true
   },
   "outputs": [],
   "source": []
  },
  {
   "cell_type": "code",
   "execution_count": null,
   "metadata": {
    "collapsed": true
   },
   "outputs": [],
   "source": []
  }
 ],
 "metadata": {
  "kernelspec": {
   "display_name": "Python 3",
   "language": "python",
   "name": "python3"
  },
  "language_info": {
   "codemirror_mode": {
    "name": "ipython",
    "version": 3
   },
   "file_extension": ".py",
   "mimetype": "text/x-python",
   "name": "python",
   "nbconvert_exporter": "python",
   "pygments_lexer": "ipython3",
   "version": "3.6.2"
  }
 },
 "nbformat": 4,
 "nbformat_minor": 2
}
