{
 "cells": [
  {
   "cell_type": "markdown",
   "metadata": {},
   "source": [
    "# Implementation and run with U-Net architecture"
   ]
  },
  {
   "cell_type": "code",
   "execution_count": 1,
   "metadata": {
    "collapsed": true
   },
   "outputs": [],
   "source": [
    "from __future__ import division, print_function\n",
    "%matplotlib inline\n",
    "import matplotlib.pyplot as plt\n",
    "import matplotlib\n",
    "import numpy as np"
   ]
  },
  {
   "cell_type": "code",
   "execution_count": 2,
   "metadata": {
    "collapsed": true
   },
   "outputs": [],
   "source": [
    "import os\n",
    "import matplotlib.image as mpimg\n",
    "import cv2"
   ]
  },
  {
   "cell_type": "code",
   "execution_count": 3,
   "metadata": {
    "collapsed": true
   },
   "outputs": [],
   "source": [
    "import unet"
   ]
  },
  {
   "cell_type": "code",
   "execution_count": 4,
   "metadata": {},
   "outputs": [],
   "source": [
    "%load_ext autoreload\n",
    "%autoreload 2"
   ]
  },
  {
   "cell_type": "code",
   "execution_count": 5,
   "metadata": {
    "collapsed": true
   },
   "outputs": [],
   "source": [
    "def rotate_img(img, angle, rgb):\n",
    "    rows, cols = img.shape[0:2]\n",
    "    if rgb:\n",
    "        id = 1\n",
    "    else:\n",
    "        id = 0\n",
    "    rot_M = cv2.getRotationMatrix2D((cols/2, rows/2), angle, id)\n",
    "    return cv2.warpAffine(img, rot_M, (cols, rows))"
   ]
  },
  {
   "cell_type": "code",
   "execution_count": 6,
   "metadata": {
    "collapsed": true
   },
   "outputs": [],
   "source": [
    "def flip_img(img, border_id):\n",
    "    return cv2.flip(img, border_id)"
   ]
  },
  {
   "cell_type": "code",
   "execution_count": 18,
   "metadata": {
    "collapsed": true
   },
   "outputs": [],
   "source": [
    "def extract_data(filename, num_images, mytype='train'):\n",
    "    \"\"\"Extract the images into a 4D tensor [image index, y, x, channels].\n",
    "    Values are rescaled from [0, 255] down to [-0.5, 0.5].\n",
    "    \"\"\"\n",
    "    print('Extracting data...')\n",
    "    imgs = []\n",
    "    for i in range(1, num_images+1):\n",
    "        if i%10==0:\n",
    "            print('Extract original images... i=',i)\n",
    "        if mytype == 'train':\n",
    "            imageid = \"satImage_%.3d\" % i\n",
    "        else:\n",
    "            imageid = \"test_%.1d\" % i\n",
    "        image_filename = filename + imageid + \".png\"\n",
    "        print ('Loading ' + image_filename) # TOREMOOOOOOOOOOOOOOOOOOOOOOVE\n",
    "        img = mpimg.imread(image_filename) # to remove\n",
    "        img = cv2.resize(img, (256,256), interpolation = cv2.INTER_AREA) # to remove\n",
    "        imgs.append(img) # to remove\n",
    "        \"\"\"if os.path.isfile(image_filename):\n",
    "            #print ('Loading ' + image_filename)\n",
    "            img = mpimg.imread(image_filename)\n",
    "            imgs.append(img)\n",
    "            \n",
    "            img_cv2 = cv2.imread(image_filename)\n",
    "            img_flip = np.flip(flip_img(img_cv2, 1),2)/255\n",
    "            imgs.append(img_flip)\n",
    "            \n",
    "            imgs.append(np.flip(rotate_img(img_cv2, 90, True),2)/255)\n",
    "            imgs.append(np.flip(rotate_img(img_cv2, 180, True),2)/255)\n",
    "            imgs.append(np.flip(rotate_img(img_cv2, 270, True),2)/255)\n",
    "            \n",
    "            if i==2:\n",
    "                plt.subplot(151),plt.imshow(img),plt.title('Input')\n",
    "                plt.subplot(152),plt.imshow(np.flip(rotate_img(img_cv2, 90, True),2)/255),plt.title('Output')\n",
    "                plt.subplot(153),plt.imshow(np.flip(rotate_img(img_cv2, 180, True),2)/255),plt.title('Output')\n",
    "                plt.subplot(154),plt.imshow(np.flip(rotate_img(img_cv2, 270, True),2)/255),plt.title('Output')\n",
    "                plt.subplot(155),plt.imshow(img_flip),plt.title('Output')\n",
    "                plt.show()\n",
    "        \n",
    "            \n",
    "        else:\n",
    "            print ('File ' + image_filename + ' does not exist')\"\"\"\n",
    "        \n",
    "    img_size = imgs[0].shape[0]\n",
    "    img_height = imgs[0].shape[1]\n",
    "    if img_size != img_height:\n",
    "        print('Error!! The images should have their height equal to their width.')\n",
    "\n",
    "    return np.asarray(imgs).astype(np.float32)"
   ]
  },
  {
   "cell_type": "code",
   "execution_count": 19,
   "metadata": {
    "collapsed": true
   },
   "outputs": [],
   "source": [
    "# Assign a label to a patch v\n",
    "def value_to_class(v):\n",
    "    # you can remark the hot encoding\n",
    "    foreground_threshold = 0.25 # percentage of pixels > 1 required to assign a foreground label to a patch TODOOOOOOOOOOOOOOOOOOOOOOOOOOOOOOOOOOOOOOOOOOOOOOOOOO\n",
    "    df = np.sum(v)\n",
    "    if df > foreground_threshold:\n",
    "        return [0, 1]\n",
    "    else:\n",
    "        return [1, 0]"
   ]
  },
  {
   "cell_type": "code",
   "execution_count": 20,
   "metadata": {
    "collapsed": true
   },
   "outputs": [],
   "source": [
    "# Extract label images\n",
    "def extract_labels(filename, num_images):\n",
    "    \"\"\"Extract the labels into a 1-hot matrix [image index, label index].\"\"\"\n",
    "    print('Extracting labels...')\n",
    "    gt_imgs = []\n",
    "    for i in range(1, num_images+1):\n",
    "        if i%10==0:\n",
    "            print('Extract groundtruth images... i=',i)\n",
    "        imageid = \"satImage_%.3d\" % i\n",
    "        image_filename = filename + imageid + \".png\"\n",
    "        print ('Loading ' + image_filename) # remooooooooooove\n",
    "        img = mpimg.imread(image_filename) #remoooooooooooooooove\n",
    "        gt_imgs.append(img) # remoooooooove\n",
    "        \"\"\"if os.path.isfile(image_filename):\n",
    "            #print ('Loading ' + image_filename)\n",
    "            img = mpimg.imread(image_filename)\n",
    "            gt_imgs.append(img)\n",
    "            \n",
    "            img_cv2 = cv2.imread(image_filename,0)\n",
    "            gt_img_flip = flip_img(img_cv2, 1)/255\n",
    "            gt_imgs.append(gt_img_flip)\n",
    "            \n",
    "            gt_imgs.append(rotate_img(img_cv2, 90, True)/255)\n",
    "            gt_imgs.append(rotate_img(img_cv2, 180, True)/255)\n",
    "            gt_imgs.append(rotate_img(img_cv2, 270, True)/255)\n",
    "            \n",
    "            if i==2:\n",
    "                plt.subplot(151),plt.imshow(img),plt.title('Input')\n",
    "                plt.subplot(152),plt.imshow(rotate_img(img_cv2, 90, True)/255),plt.title('Output')\n",
    "                plt.subplot(153),plt.imshow(rotate_img(img_cv2, 180, True)/255),plt.title('Output')\n",
    "                plt.subplot(154),plt.imshow(rotate_img(img_cv2, 270, True)/255),plt.title('Output')\n",
    "                plt.subplot(155),plt.imshow(gt_img_flip),plt.title('Output')\n",
    "                plt.show()\n",
    "            \n",
    "        else:\n",
    "            print ('File ' + image_filename + ' does not exist')\"\"\"\n",
    "\n",
    "    data = np.asarray(gt_imgs)\n",
    "    out_lab = [[[value_to_class(data[i][j][k]) \\\n",
    "                 for k in range(data.shape[2])] \\\n",
    "                for j in range(data.shape[1])] \\\n",
    "               for i in range(data.shape[0])]\n",
    "\n",
    "    # Convert to dense 1-hot representation.\n",
    "    return np.asarray(out_lab).astype(np.float32)"
   ]
  },
  {
   "cell_type": "code",
   "execution_count": 21,
   "metadata": {},
   "outputs": [
    {
     "name": "stdout",
     "output_type": "stream",
     "text": [
      "Extracting data...\n",
      "Loading ../training/images/satImage_001.png\n",
      "Loading ../training/images/satImage_002.png\n",
      "Loading ../training/images/satImage_003.png\n",
      "Loading ../training/images/satImage_004.png\n",
      "Loading ../training/images/satImage_005.png\n",
      "Loading ../training/images/satImage_006.png\n",
      "Loading ../training/images/satImage_007.png\n",
      "Loading ../training/images/satImage_008.png\n",
      "Loading ../training/images/satImage_009.png\n",
      "Extract original images... i= 10\n",
      "Loading ../training/images/satImage_010.png\n",
      "Extracting labels...\n",
      "Extract groundtruth images... i= 10\n"
     ]
    }
   ],
   "source": [
    "########### define directory of the training images ############################\n",
    "data_dir = '../training/'\n",
    "train_data_filename = data_dir + 'images/'\n",
    "train_labels_filename = data_dir + 'groundtruth/'\n",
    "TRAINING_SIZE = 10\n",
    "\n",
    "data = extract_data(train_data_filename, TRAINING_SIZE)\n",
    "labels = extract_labels(train_labels_filename, TRAINING_SIZE)"
   ]
  },
  {
   "cell_type": "code",
   "execution_count": 16,
   "metadata": {},
   "outputs": [
    {
     "ename": "NameError",
     "evalue": "name 'labels' is not defined",
     "output_type": "error",
     "traceback": [
      "\u001b[0;31m---------------------------------------------------------------------------\u001b[0m",
      "\u001b[0;31mNameError\u001b[0m                                 Traceback (most recent call last)",
      "\u001b[0;32m<ipython-input-16-8bcb12deeb82>\u001b[0m in \u001b[0;36m<module>\u001b[0;34m()\u001b[0m\n\u001b[1;32m      1\u001b[0m \u001b[0minitial_data\u001b[0m \u001b[0;34m=\u001b[0m \u001b[0mdata\u001b[0m\u001b[0;34m[\u001b[0m\u001b[0mrange\u001b[0m\u001b[0;34m(\u001b[0m\u001b[0;36m0\u001b[0m\u001b[0;34m,\u001b[0m\u001b[0mdata\u001b[0m\u001b[0;34m.\u001b[0m\u001b[0mshape\u001b[0m\u001b[0;34m[\u001b[0m\u001b[0;36m0\u001b[0m\u001b[0;34m]\u001b[0m\u001b[0;34m,\u001b[0m\u001b[0;36m5\u001b[0m\u001b[0;34m)\u001b[0m\u001b[0;34m]\u001b[0m\u001b[0;34m\u001b[0m\u001b[0m\n\u001b[0;32m----> 2\u001b[0;31m \u001b[0minitial_labels\u001b[0m \u001b[0;34m=\u001b[0m \u001b[0mlabels\u001b[0m\u001b[0;34m[\u001b[0m\u001b[0mrange\u001b[0m\u001b[0;34m(\u001b[0m\u001b[0;36m0\u001b[0m\u001b[0;34m,\u001b[0m\u001b[0mdata\u001b[0m\u001b[0;34m.\u001b[0m\u001b[0mshape\u001b[0m\u001b[0;34m[\u001b[0m\u001b[0;36m0\u001b[0m\u001b[0;34m]\u001b[0m\u001b[0;34m,\u001b[0m\u001b[0;36m5\u001b[0m\u001b[0;34m)\u001b[0m\u001b[0;34m]\u001b[0m\u001b[0;34m\u001b[0m\u001b[0m\n\u001b[0m",
      "\u001b[0;31mNameError\u001b[0m: name 'labels' is not defined"
     ]
    }
   ],
   "source": [
    "initial_data = data[range(0,data.shape[0],5)]\n",
    "initial_labels = labels[range(0,data.shape[0],5)]"
   ]
  },
  {
   "cell_type": "code",
   "execution_count": null,
   "metadata": {
    "scrolled": true
   },
   "outputs": [],
   "source": [
    "print(data.shape)\n",
    "print(labels.shape)"
   ]
  },
  {
   "cell_type": "raw",
   "metadata": {
    "scrolled": true
   },
   "source": [
    "index = 30\n",
    "plt.subplot(151),plt.imshow(data[5*index]),plt.title('Input')\n",
    "plt.subplot(152),plt.imshow(data[5*index+1]),plt.title('90°')\n",
    "plt.subplot(153),plt.imshow(data[5*index+1]),plt.title('180°')\n",
    "plt.subplot(154),plt.imshow(data[5*index+1]),plt.title('270°')\n",
    "plt.subplot(155),plt.imshow(data[5*index+1]),plt.title('Flipped')\n",
    "plt.show()\n",
    "\n",
    "plt.subplot(151),plt.imshow(labels[5*index,:,:,1]),plt.title('Labels')\n",
    "plt.subplot(152),plt.imshow(labels[5*index+1,:,:,1]),plt.title('90°')\n",
    "plt.subplot(153),plt.imshow(labels[5*index+1,:,:,1]),plt.title('180°')\n",
    "plt.subplot(154),plt.imshow(labels[5*index+1,:,:,1]),plt.title('270°')\n",
    "plt.subplot(155),plt.imshow(labels[5*index+1,:,:,1]),plt.title('Flipped')\n",
    "plt.show()"
   ]
  },
  {
   "cell_type": "code",
   "execution_count": null,
   "metadata": {
    "scrolled": true
   },
   "outputs": [],
   "source": [
    "net = unet.Unet(channels=3, n_class=2, layers=5, features_root=4) \n",
    "    #, cost_kwargs={'regularizer':1e-4}) # class_weights"
   ]
  },
  {
   "cell_type": "code",
   "execution_count": null,
   "metadata": {
    "collapsed": true
   },
   "outputs": [],
   "source": [
    "# Optimizer = \"momentum\" or \"adam\"\n",
    "trainer = unet.Trainer(net, batch_size=3, optimizer=\"adam\") \n",
    "    #, opt_kwargs=dict(momentum=0.2)), learning_rate, decay_rate"
   ]
  },
  {
   "cell_type": "code",
   "execution_count": null,
   "metadata": {
    "scrolled": true
   },
   "outputs": [],
   "source": [
    "path = trainer.train(data=data, labels=labels, output_path=\"./unet_trained\", training_iters=5, \\\n",
    "                     epochs=3, dropout=1.0, display_step=5, prediction_path='prediction')"
   ]
  },
  {
   "cell_type": "code",
   "execution_count": null,
   "metadata": {
    "scrolled": true
   },
   "outputs": [],
   "source": [
    "prediction = net.predict(path, data)"
   ]
  },
  {
   "cell_type": "code",
   "execution_count": null,
   "metadata": {},
   "outputs": [],
   "source": [
    "id_end = 5\n",
    "for num in range(0,id_end):\n",
    "    fig, ax = plt.subplots(1, 3, sharex=True, sharey=True, figsize=(12,5))\n",
    "    ax[0].imshow(initial_data[num], aspect=\"auto\")\n",
    "    ax[1].imshow(initial_labels[num,:,:,1], aspect=\"auto\")\n",
    "    #mask = prediction[num,:,:,1] > 0.5\n",
    "    \n",
    "    #ax[2].imshow(mask, aspect=\"auto\")\n",
    "    ax[2].imshow(prediction[num,:,:,1], aspect=\"auto\")\n",
    "    ax[0].set_title(\"Input\")\n",
    "    ax[1].set_title(\"Ground truth\")\n",
    "    ax[2].set_title(\"Prediction\")\n",
    "    fig.tight_layout()\n",
    "    fig.savefig(\"output/roadSegmentation.png\")"
   ]
  },
  {
   "cell_type": "code",
   "execution_count": null,
   "metadata": {
    "scrolled": false
   },
   "outputs": [],
   "source": [
    "id_end = 10\n",
    "for num in range(0,id_end):\n",
    "    fig, ax = plt.subplots(1, 1, sharex=True, sharey=True, figsize=(5,5))\n",
    "    #mask = prediction[num,:,:,1] > 0.5\n",
    "    \n",
    "    #ax[2].imshow(mask, aspect=\"auto\")\n",
    "    ax.imshow(prediction[num,:,:,1], aspect=\"auto\")\n",
    "    ax.set_title(\"Prediction\")\n",
    "    #fig.tight_layout()\n",
    "    fig.savefig(\"output/roadSegmentation\"+str(num)+\".png\")\n"
   ]
  },
  {
   "cell_type": "code",
   "execution_count": null,
   "metadata": {
    "collapsed": true
   },
   "outputs": [],
   "source": []
  }
 ],
 "metadata": {
  "kernelspec": {
   "display_name": "Python 3",
   "language": "python",
   "name": "python3"
  },
  "language_info": {
   "codemirror_mode": {
    "name": "ipython",
    "version": 3
   },
   "file_extension": ".py",
   "mimetype": "text/x-python",
   "name": "python",
   "nbconvert_exporter": "python",
   "pygments_lexer": "ipython3",
   "version": "3.6.2"
  }
 },
 "nbformat": 4,
 "nbformat_minor": 2
}
