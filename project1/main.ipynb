{
 "cells": [
  {
   "cell_type": "markdown",
   "metadata": {
    "collapsed": true
   },
   "source": [
    "# Project 1\n",
    "\n",
    "    We begin by loading the data"
   ]
  },
  {
   "cell_type": "code",
   "execution_count": 71,
   "metadata": {},
   "outputs": [
    {
     "name": "stdout",
     "output_type": "stream",
     "text": [
      "The autoreload extension is already loaded. To reload it, use:\n",
      "  %reload_ext autoreload\n"
     ]
    }
   ],
   "source": [
    "%matplotlib inline \n",
    "import numpy as np   # generic stuff\n",
    "import matplotlib.pyplot as plt\n",
    "\n",
    "#### REMOVE THIS LINE BEFORE SUBMISSION\n",
    "import pandas as pd\n",
    "#######################################################################\n",
    "\n",
    "from lib.proj1_helpers import * #the helper provided for the project\n",
    "from lib.costs import *\n",
    "\n",
    "# choose which implementations you would like\n",
    "from lib.implementations import *\n",
    "#from implementations import * #our implementations of the functions done by us\n",
    "\n",
    "\n",
    "import datetime\n",
    "from helpers import * #helpers of exo 2\n",
    "# Useful starting lines\n",
    "\n",
    "%load_ext autoreload\n",
    "%autoreload 2\n",
    "%reload_ext autoreload"
   ]
  },
  {
   "cell_type": "code",
   "execution_count": 72,
   "metadata": {
    "collapsed": true
   },
   "outputs": [],
   "source": [
    "DATA_FOLDER = 'data/'\n",
    "\n",
    "y_train, tx_train, ids_train = load_csv_data(DATA_FOLDER+'train.csv',sub_sample=False)\n",
    "\n",
    "y_test, tx_test, ids_test = load_csv_data(DATA_FOLDER+'test.csv',sub_sample=False)"
   ]
  },
  {
   "cell_type": "markdown",
   "metadata": {},
   "source": [
    "note that here we are only considering a sub_sample as the \"True\" value indicates"
   ]
  },
  {
   "cell_type": "code",
   "execution_count": 73,
   "metadata": {
    "collapsed": true
   },
   "outputs": [],
   "source": [
    "y_train_ori = y_train.copy()\n",
    "tx_train_ori = tx_train.copy()\n",
    "y_test_ori = y_test.copy()\n",
    "tx_test_ori = y_test.copy()"
   ]
  },
  {
   "cell_type": "code",
   "execution_count": 74,
   "metadata": {},
   "outputs": [
    {
     "data": {
      "text/html": [
       "<div>\n",
       "<style>\n",
       "    .dataframe thead tr:only-child th {\n",
       "        text-align: right;\n",
       "    }\n",
       "\n",
       "    .dataframe thead th {\n",
       "        text-align: left;\n",
       "    }\n",
       "\n",
       "    .dataframe tbody tr th {\n",
       "        vertical-align: top;\n",
       "    }\n",
       "</style>\n",
       "<table border=\"1\" class=\"dataframe\">\n",
       "  <thead>\n",
       "    <tr style=\"text-align: right;\">\n",
       "      <th></th>\n",
       "      <th>0</th>\n",
       "      <th>1</th>\n",
       "      <th>2</th>\n",
       "      <th>3</th>\n",
       "      <th>4</th>\n",
       "      <th>5</th>\n",
       "      <th>6</th>\n",
       "      <th>7</th>\n",
       "      <th>8</th>\n",
       "      <th>9</th>\n",
       "      <th>...</th>\n",
       "      <th>20</th>\n",
       "      <th>21</th>\n",
       "      <th>22</th>\n",
       "      <th>23</th>\n",
       "      <th>24</th>\n",
       "      <th>25</th>\n",
       "      <th>26</th>\n",
       "      <th>27</th>\n",
       "      <th>28</th>\n",
       "      <th>29</th>\n",
       "    </tr>\n",
       "  </thead>\n",
       "  <tbody>\n",
       "    <tr>\n",
       "      <th>0</th>\n",
       "      <td>138.470</td>\n",
       "      <td>51.655</td>\n",
       "      <td>97.827</td>\n",
       "      <td>27.980</td>\n",
       "      <td>0.91</td>\n",
       "      <td>124.711</td>\n",
       "      <td>2.666</td>\n",
       "      <td>3.064</td>\n",
       "      <td>41.928</td>\n",
       "      <td>197.760</td>\n",
       "      <td>...</td>\n",
       "      <td>-0.277</td>\n",
       "      <td>258.733</td>\n",
       "      <td>2.0</td>\n",
       "      <td>67.435</td>\n",
       "      <td>2.150</td>\n",
       "      <td>0.444</td>\n",
       "      <td>46.062</td>\n",
       "      <td>1.24</td>\n",
       "      <td>-2.475</td>\n",
       "      <td>113.497</td>\n",
       "    </tr>\n",
       "    <tr>\n",
       "      <th>1</th>\n",
       "      <td>160.937</td>\n",
       "      <td>68.768</td>\n",
       "      <td>103.235</td>\n",
       "      <td>48.146</td>\n",
       "      <td>-999.00</td>\n",
       "      <td>-999.000</td>\n",
       "      <td>-999.000</td>\n",
       "      <td>3.473</td>\n",
       "      <td>2.078</td>\n",
       "      <td>125.157</td>\n",
       "      <td>...</td>\n",
       "      <td>-1.916</td>\n",
       "      <td>164.546</td>\n",
       "      <td>1.0</td>\n",
       "      <td>46.226</td>\n",
       "      <td>0.725</td>\n",
       "      <td>1.158</td>\n",
       "      <td>-999.000</td>\n",
       "      <td>-999.00</td>\n",
       "      <td>-999.000</td>\n",
       "      <td>46.226</td>\n",
       "    </tr>\n",
       "    <tr>\n",
       "      <th>2</th>\n",
       "      <td>-999.000</td>\n",
       "      <td>162.172</td>\n",
       "      <td>125.953</td>\n",
       "      <td>35.635</td>\n",
       "      <td>-999.00</td>\n",
       "      <td>-999.000</td>\n",
       "      <td>-999.000</td>\n",
       "      <td>3.148</td>\n",
       "      <td>9.336</td>\n",
       "      <td>197.814</td>\n",
       "      <td>...</td>\n",
       "      <td>-2.186</td>\n",
       "      <td>260.414</td>\n",
       "      <td>1.0</td>\n",
       "      <td>44.251</td>\n",
       "      <td>2.053</td>\n",
       "      <td>-2.028</td>\n",
       "      <td>-999.000</td>\n",
       "      <td>-999.00</td>\n",
       "      <td>-999.000</td>\n",
       "      <td>44.251</td>\n",
       "    </tr>\n",
       "    <tr>\n",
       "      <th>3</th>\n",
       "      <td>143.905</td>\n",
       "      <td>81.417</td>\n",
       "      <td>80.943</td>\n",
       "      <td>0.414</td>\n",
       "      <td>-999.00</td>\n",
       "      <td>-999.000</td>\n",
       "      <td>-999.000</td>\n",
       "      <td>3.310</td>\n",
       "      <td>0.414</td>\n",
       "      <td>75.968</td>\n",
       "      <td>...</td>\n",
       "      <td>0.060</td>\n",
       "      <td>86.062</td>\n",
       "      <td>0.0</td>\n",
       "      <td>-999.000</td>\n",
       "      <td>-999.000</td>\n",
       "      <td>-999.000</td>\n",
       "      <td>-999.000</td>\n",
       "      <td>-999.00</td>\n",
       "      <td>-999.000</td>\n",
       "      <td>0.000</td>\n",
       "    </tr>\n",
       "    <tr>\n",
       "      <th>4</th>\n",
       "      <td>175.864</td>\n",
       "      <td>16.915</td>\n",
       "      <td>134.805</td>\n",
       "      <td>16.405</td>\n",
       "      <td>-999.00</td>\n",
       "      <td>-999.000</td>\n",
       "      <td>-999.000</td>\n",
       "      <td>3.891</td>\n",
       "      <td>16.405</td>\n",
       "      <td>57.983</td>\n",
       "      <td>...</td>\n",
       "      <td>-0.871</td>\n",
       "      <td>53.131</td>\n",
       "      <td>0.0</td>\n",
       "      <td>-999.000</td>\n",
       "      <td>-999.000</td>\n",
       "      <td>-999.000</td>\n",
       "      <td>-999.000</td>\n",
       "      <td>-999.00</td>\n",
       "      <td>-999.000</td>\n",
       "      <td>0.000</td>\n",
       "    </tr>\n",
       "  </tbody>\n",
       "</table>\n",
       "<p>5 rows × 30 columns</p>\n",
       "</div>"
      ],
      "text/plain": [
       "        0        1        2       3       4        5        6      7       8   \\\n",
       "0  138.470   51.655   97.827  27.980    0.91  124.711    2.666  3.064  41.928   \n",
       "1  160.937   68.768  103.235  48.146 -999.00 -999.000 -999.000  3.473   2.078   \n",
       "2 -999.000  162.172  125.953  35.635 -999.00 -999.000 -999.000  3.148   9.336   \n",
       "3  143.905   81.417   80.943   0.414 -999.00 -999.000 -999.000  3.310   0.414   \n",
       "4  175.864   16.915  134.805  16.405 -999.00 -999.000 -999.000  3.891  16.405   \n",
       "\n",
       "        9    ...        20       21   22       23       24       25       26  \\\n",
       "0  197.760   ...    -0.277  258.733  2.0   67.435    2.150    0.444   46.062   \n",
       "1  125.157   ...    -1.916  164.546  1.0   46.226    0.725    1.158 -999.000   \n",
       "2  197.814   ...    -2.186  260.414  1.0   44.251    2.053   -2.028 -999.000   \n",
       "3   75.968   ...     0.060   86.062  0.0 -999.000 -999.000 -999.000 -999.000   \n",
       "4   57.983   ...    -0.871   53.131  0.0 -999.000 -999.000 -999.000 -999.000   \n",
       "\n",
       "       27       28       29  \n",
       "0    1.24   -2.475  113.497  \n",
       "1 -999.00 -999.000   46.226  \n",
       "2 -999.00 -999.000   44.251  \n",
       "3 -999.00 -999.000    0.000  \n",
       "4 -999.00 -999.000    0.000  \n",
       "\n",
       "[5 rows x 30 columns]"
      ]
     },
     "execution_count": 74,
     "metadata": {},
     "output_type": "execute_result"
    }
   ],
   "source": [
    "# illegal: \n",
    "pd.DataFrame(tx_train).head()"
   ]
  },
  {
   "cell_type": "markdown",
   "metadata": {},
   "source": [
    "### Parameters"
   ]
  },
  {
   "cell_type": "code",
   "execution_count": 75,
   "metadata": {
    "collapsed": true
   },
   "outputs": [],
   "source": [
    "def clean_missing_values(tx):\n",
    "    nan_values = (tx==-999)*1\n",
    "    for col in range(tx.shape[1]):\n",
    "        column = tx[:,col][tx[:,col]!=-999]\n",
    "        median = np.median(column)\n",
    "        tx[:,col][tx[:,col]==-999] = median\n",
    "    return tx, nan_values"
   ]
  },
  {
   "cell_type": "code",
   "execution_count": 76,
   "metadata": {
    "collapsed": true
   },
   "outputs": [],
   "source": [
    "\n",
    "\n",
    "tx_train, nan_values_train = clean_missing_values(tx_train)\n",
    "tx_test, nan_values_test = clean_missing_values(tx_test)\n",
    "\n"
   ]
  },
  {
   "cell_type": "code",
   "execution_count": 77,
   "metadata": {},
   "outputs": [],
   "source": [
    "def standardize(x):\n",
    "\t\"\"\"Standardize the original data set.\"\"\"\n",
    "\tmean_x = np.mean(x, axis=0)\n",
    "\tx = x - mean_x\n",
    "\tstd_x = np.std(x, axis=0)\n",
    "\tfor idx in range(len(std_x)):\n",
    "\t\tif std_x[idx] > 1e-15:\n",
    "\t\t\tx[idx] = x[idx] / std_x[idx]\n",
    "\treturn x, mean_x, std_x\n",
    "\n",
    "tx_train, tmp1, tmp2 = standardize(tx_train)\n",
    "tx_test, tmp1, tmp2 = standardize(tx_test)"
   ]
  },
  {
   "cell_type": "code",
   "execution_count": 78,
   "metadata": {
    "collapsed": true
   },
   "outputs": [],
   "source": [
    "def add_ones(tx):\n",
    "    return np.concatenate((np.ones([tx.shape[0],1]),tx), axis=1)\n",
    "AAA = 0"
   ]
  },
  {
   "cell_type": "code",
   "execution_count": 79,
   "metadata": {},
   "outputs": [],
   "source": [
    "if AAA == 0 :\n",
    "    tx_train = add_ones(tx_train)\n",
    "    tx_test = add_ones(tx_test)\n"
   ]
  },
  {
   "cell_type": "code",
   "execution_count": 80,
   "metadata": {},
   "outputs": [
    {
     "data": {
      "text/plain": [
       "(250000, 31)"
      ]
     },
     "execution_count": 80,
     "metadata": {},
     "output_type": "execute_result"
    }
   ],
   "source": [
    "tx_train.shape"
   ]
  },
  {
   "cell_type": "code",
   "execution_count": 81,
   "metadata": {
    "scrolled": false
   },
   "outputs": [
    {
     "data": {
      "text/plain": [
       "array([ 0.,  0.,  0.,  0.,  0.,  0.,  0.,  0.,  0.,  0.,  0.,  0.,  0.,\n",
       "        0.,  0.,  0.,  0.,  0.,  0.,  0.,  0.,  0.,  0.,  0.,  0.,  0.,\n",
       "        0.,  0.,  0.,  0.,  0.])"
      ]
     },
     "execution_count": 81,
     "metadata": {},
     "output_type": "execute_result"
    }
   ],
   "source": [
    "initial_w = np.zeros(tx_train.shape[1])\n",
    "initial_w"
   ]
  },
  {
   "cell_type": "code",
   "execution_count": 82,
   "metadata": {
    "collapsed": true
   },
   "outputs": [],
   "source": [
    "gamma = 0.05\n",
    "max_iters = 1000\n",
    "lambda_ = 0.5"
   ]
  },
  {
   "cell_type": "markdown",
   "metadata": {},
   "source": [
    "# Methods"
   ]
  },
  {
   "cell_type": "markdown",
   "metadata": {},
   "source": [
    "## *LEAST-SQUARES"
   ]
  },
  {
   "cell_type": "code",
   "execution_count": 88,
   "metadata": {
    "collapsed": true
   },
   "outputs": [],
   "source": [
    "def func_least_squares (y, tx, test_set, fct='mse'):\n",
    "    name = 'least_squares'\n",
    "    w,loss = least_squares(y,tx,fct)\n",
    "    y_pred = predict_labels(w, test_set)\n",
    "    create_csv_submission(ids_test, y_pred, name)\n",
    "    \n",
    "    plt.plot(w, 'go')\n",
    "    plt.title('least squares weights for loss:  '+str(loss),fontsize=15, fontweight='bold');\n",
    "    plt.show()\n",
    "    \n",
    "    return w, loss"
   ]
  },
  {
   "cell_type": "code",
   "execution_count": 89,
   "metadata": {},
   "outputs": [
    {
     "data": {
      "image/png": "[encoded data removed]",
      "text/plain": [
       "<matplotlib.figure.Figure at 0x7fb7c9e99080>"
      ]
     },
     "metadata": {},
     "output_type": "display_data"
    }
   ],
   "source": [
    "w, loss = func_least_squares (y=y_train, tx=tx_train, test_set=tx_test, fct='mse');\n"
   ]
  },
  {
   "cell_type": "markdown",
   "metadata": {},
   "source": [
    "## *Gradient descent     -------------------------------------------------------------------------------"
   ]
  },
  {
   "cell_type": "code",
   "execution_count": 85,
   "metadata": {
    "collapsed": true
   },
   "outputs": [],
   "source": [
    "gamma = 0.05\n",
    "max_iters = 50\n",
    "lambda_ = 0.5"
   ]
  },
  {
   "cell_type": "code",
   "execution_count": 86,
   "metadata": {
    "collapsed": true
   },
   "outputs": [],
   "source": [
    "def func_GD (y, tx, test_set, max_iters, gamma, initial_w):\n",
    "    name = 'Gradient_descent'\n",
    "    w,loss = least_squares_GD(y, tx, initial_w, max_iters, gamma,fct='mae');\n",
    "    y_pred = predict_labels(w, test_set)\n",
    "    create_csv_submission(ids_test, y_pred, name)\n",
    "    \n",
    "    plt.plot(w, 'go')\n",
    "    plt.title('GD: weights with loss:  '+str(loss),fontsize=15, fontweight='bold');\n",
    "    plt.show()\n",
    "    \n",
    "    return w, loss"
   ]
  },
  {
   "cell_type": "code",
   "execution_count": 90,
   "metadata": {},
   "outputs": [
    {
     "name": "stdout",
     "output_type": "stream",
     "text": [
      "Gradient Descent(0/49): loss=0.3509957350189807, w0=-0.3146599953445604, w1=0.00023090123571808033\n",
      "Gradient Descent(1/49): loss=0.35099573503705084, w0=-0.31465999534456074, w1=0.00023090128236106806\n",
      "Gradient Descent(2/49): loss=0.3509956825716947, w0=-0.31465999534475697, w1=0.00023073979681919563\n",
      "Gradient Descent(3/49): loss=0.3511514376970002, w0=-0.3146599947173441, w1=0.0006134148221816134\n",
      "Gradient Descent(4/49): loss=2.19417273507195, w0=-0.31466195418750914, w1=-0.9662756169168735\n",
      "Gradient Descent(5/49): loss=6512.066784003621, w0=-0.3085879143247222, w1=2643.712054137875\n",
      "Gradient Descent(6/49): loss=19738856.118220784, w0=-19.072752831452068, w1=-7628072.628098691\n",
      "Gradient Descent(7/49): loss=60310535249.78743, w0=57850.54761498166, w1=22699926460.0894\n",
      "Gradient Descent(8/49): loss=184989744321957.7, w0=-178266029.031865, w1=-68683495450505.57\n",
      "Gradient Descent(9/49): loss=5.684997542538759e+17, w0=549094275559.90564, w1=2.096160191675701e+17\n",
      "Gradient Descent(10/49): loss=1.748730626581542e+21, w0=-1690967729191550.5, w1=-6.425421792320225e+20\n",
      "Gradient Descent(11/49): loss=5.381700487276006e+24, w0=5.206895772677175e+18, w1=1.9739615694538706e+24\n",
      "Gradient Descent(12/49): loss=1.6565999265352207e+28, w0=-1.6032457088573056e+22, w1=-6.070954599934939e+27\n",
      "Gradient Descent(13/49): loss=5.099954421617779e+31, w0=4.936397606480737e+25, w1=1.868168089253085e+31\n",
      "Gradient Descent(14/49): loss=1.5701464221897312e+35, w0=-1.5198986017978344e+29, w1=-5.750361215607399e+34\n",
      "Gradient Descent(15/49): loss=4.83422193353816e+38, w0=4.679681781790534e+32, w1=1.7702488053427377e+38\n",
      "Gradient Descent(16/49): loss=1.4883987136874477e+42, w0=-1.4408429435148166e+36, w1=-5.450087041528245e+41\n",
      "Gradient Descent(17/49): loss=4.582633395574335e+45, w0=4.436252682373372e+39, w1=1.6779828093861027e+45\n",
      "Gradient Descent(18/49): loss=1.4109528650078206e+49, w0=-1.3658894839605237e+43, w1=-5.166292965489145e+48\n",
      "Gradient Descent(19/49): loss=4.344208632195665e+52, w0=4.205471323290048e+46, w1=1.5906486880894398e+52\n",
      "Gradient Descent(20/49): loss=1.3375475526276629e+56, w0=-1.294832837221734e+50, w1=-4.8974653077006986e+55\n",
      "Gradient Descent(21/49): loss=4.118205190012679e+59, w0=3.986692054963691e+53, w1=1.507889060071123e+59\n",
      "Gradient Descent(22/49): loss=1.2679637241805026e+63, w0=-1.2274721726994347e+57, w1=-4.6426706301384605e+62\n",
      "Gradient Descent(23/49): loss=3.9039632804376595e+66, w0=3.779293401784346e+60, w1=1.4294421639921988e+66\n",
      "Gradient Descent(24/49): loss=1.2020004869525205e+70, w0=-1.1636156614936832e+64, w1=-4.40114236732e+69\n",
      "Gradient Descent(25/49): loss=3.700867827801667e+73, w0=3.58268399796175e+67, w1=1.355078028466935e+73\n",
      "Gradient Descent(26/49): loss=1.1394689949207524e+77, w0=-1.1030811130214851e+71, w1=-4.172181744829893e+76\n",
      "Gradient Descent(27/49): loss=3.508338205322447e+80, w0=3.3963027181676917e+74, w1=1.2845829330825893e+80\n",
      "Gradient Descent(28/49): loss=1.0801906028164679e+84, w0=-1.045695734297532e+78, w1=-3.9551329254784475e+83\n",
      "Gradient Descent(29/49): loss=3.3258245702746017e+87, w0=3.2196175048332437e+81, w1=1.2177552871992526e+87\n",
      "Gradient Descent(30/49): loss=1.0239960478126008e+91, w0=-9.912957025165429e+84, w1=-3.749375744102098e+90\n",
      "Gradient Descent(31/49): loss=3.152805820710342e+94, w0=3.0521239503148215e+88, w1=1.1544042261060802e+94\n",
      "Gradient Descent(32/49): loss=9.707248935628334e+97, w0=-9.397257129263295e+91, w1=-3.55432266478026e+97\n",
      "Gradient Descent(33/49): loss=2.988787996052767e+101, w0=2.8933438808091526e+95, w1=1.0943488707053525e+101\n",
      "Gradient Descent(34/49): loss=9.202250550138133e+104, w0=-8.908385390925378e+98, w1=-3.36941680332946e+104\n",
      "Gradient Descent(35/49): loss=2.8333028405356146e+108, w0=2.7428239968073203e+102, w1=1.037417765019645e+108\n",
      "Gradient Descent(36/49): loss=8.723523601704469e+111, w0=-8.444946134796452e+105, w1=-3.1941302666459467e+111\n",
      "Gradient Descent(37/49): loss=2.685906460165361e+115, w0=2.6001345803518565e+109, w1=9.834483758267134e+114\n",
      "Gradient Descent(38/49): loss=8.269701375453414e+118, w0=-8.005616291752634e+112, w1=-3.0279626289222387e+118\n",
      "Gradient Descent(39/49): loss=2.5461780539847297e+122, w0=2.464868268536205e+116, w1=9.322866260787635e+121\n",
      "Gradient Descent(40/49): loss=7.83948825751073e+125, w0=-7.5891416223981e+119, w1=-2.870439499043855e+125\n",
      "Gradient Descent(41/49): loss=2.4137187123851447e+129, w0=2.3366388906117398e+123, w1=8.837864544236073e+128\n",
      "Gradient Descent(42/49): loss=7.431656035631742e+132, w0=-7.194333136401702e+126, w1=-2.721111165323615e+132\n",
      "Gradient Descent(43/49): loss=2.2881502781809907e+136, w0=2.2150803654617454e+130, w1=8.378093980724744e+135\n",
      "Gradient Descent(44/49): loss=7.04504039266257e+139, w0=-6.820063697970313e+133, w1=-2.5795513114042444e+139\n",
      "Gradient Descent(45/49): loss=2.1691142669923245e+143, w0=2.0998456565956e+137, w1=7.942241974698541e+142\n",
      "Gradient Descent(46/49): loss=6.678537582509848e+146, w0=-6.465264808075794e+140, w1=-2.445355799118755e+146\n",
      "Gradient Descent(47/49): loss=2.056270843805892e+150, w0=1.9906057812745084e+144, w1=7.529064215537153e+149\n",
      "Gradient Descent(48/49): loss=6.331101279057512e+153, w0=-6.128923553996756e+147, w1=-2.3181415147076075e+153\n",
      "Gradient Descent(49/49): loss=1.9492978527816764e+157, w0=1.8870488714425806e+151, w1=7.137381125162306e+156\n"
     ]
    },
    {
     "data": {
      "image/png": "[encoded data removed]",
      "text/plain": [
       "<matplotlib.figure.Figure at 0x7fb83d9f16d8>"
      ]
     },
     "metadata": {},
     "output_type": "display_data"
    }
   ],
   "source": [
    "w, loss = func_GD (y=y_train, tx=tx_train, test_set=tx_test, max_iters=max_iters,gamma=gamma, initial_w=initial_w);\n"
   ]
  },
  {
   "cell_type": "code",
   "execution_count": 246,
   "metadata": {},
   "outputs": [
    {
     "data": {
      "text/plain": [
       "(250000, 31)"
      ]
     },
     "execution_count": 246,
     "metadata": {},
     "output_type": "execute_result"
    }
   ],
   "source": [
    "w.shape\n",
    "tx_train.shape"
   ]
  },
  {
   "cell_type": "code",
   "execution_count": 257,
   "metadata": {},
   "outputs": [
    {
     "data": {
      "text/plain": [
       "72.547600000000003"
      ]
     },
     "execution_count": 257,
     "metadata": {},
     "output_type": "execute_result"
    }
   ],
   "source": [
    "    y_pred_train = predict_labels(w, tx_train)\n",
    "    right_train = np.sum(y_pred_train == y_train)/len(y_train)*100\n",
    "    right_train"
   ]
  },
  {
   "cell_type": "markdown",
   "metadata": {},
   "source": [
    "## *Ridge regression    -------------------------------------------------------------------------------"
   ]
  },
  {
   "cell_type": "code",
   "execution_count": 146,
   "metadata": {
    "collapsed": true
   },
   "outputs": [],
   "source": [
    "def func_ridge_regression (y, tx, test_set, lambda_):\n",
    "    name = 'Ridge_regression'\n",
    "    \n",
    "    w,loss = ridge_regression(y, tx, lambda_=lambda_, fct='mse');\n",
    "    \n",
    "    y_pred = predict_labels(w, test_set)\n",
    "    create_csv_submission(ids_test, y_pred, name)\n",
    "    \n",
    "    plt.plot(w, 'go')\n",
    "    plt.title('Ridge regression: weights ;loss:  '+str(loss),fontsize=15, fontweight='bold');\n",
    "    plt.show()\n",
    "    \n",
    "    return w, loss"
   ]
  },
  {
   "cell_type": "code",
   "execution_count": 198,
   "metadata": {},
   "outputs": [
    {
     "data": {
      "image/png": "[encoded data removed]",
      "text/plain": [
       "<matplotlib.figure.Figure at 0x7f388a3cd780>"
      ]
     },
     "metadata": {},
     "output_type": "display_data"
    }
   ],
   "source": [
    "func_ridge_regression (y=y_train, tx=tx_train, test_set=tx_test, lambda_=lambda_);"
   ]
  },
  {
   "cell_type": "markdown",
   "metadata": {
    "collapsed": true
   },
   "source": [
    "## * SGD -------------------------------------------------------------------------------------------------"
   ]
  },
  {
   "cell_type": "code",
   "execution_count": 129,
   "metadata": {
    "collapsed": true
   },
   "outputs": [],
   "source": [
    "def func_SGD (y, tx, test_set, max_iters, gamma, initial_w, batch_size):\n",
    "    name = 'Stochastic_Gradient_descent'\n",
    "    \n",
    "    w,loss = least_squares_SGD(y, tx, initial_w, max_iters,\\\n",
    "                               gamma, batch_size)\n",
    "    \n",
    "    y_pred = predict_labels(w, test_set)\n",
    "    create_csv_submission(ids_test, y_pred, name)\n",
    "    \n",
    "    plt.plot(w, 'go')\n",
    "    plt.title('SGD: weights with loss:  '+str(loss),fontsize=15, fontweight='bold');\n",
    "    plt.show()\n",
    "    \n",
    "    return w, loss"
   ]
  },
  {
   "cell_type": "code",
   "execution_count": 199,
   "metadata": {},
   "outputs": [
    {
     "data": {
      "image/png": "[encoded data removed]",
      "text/plain": [
       "<matplotlib.figure.Figure at 0x7f3899eda2b0>"
      ]
     },
     "metadata": {},
     "output_type": "display_data"
    }
   ],
   "source": [
    "w, loss = func_SGD (y=y_train, tx=tx_train, test_set=tx_test, max_iters=10,gamma=gamma, initial_w=initial_w,\\\n",
    "                   batch_size=5);"
   ]
  },
  {
   "cell_type": "markdown",
   "metadata": {},
   "source": [
    "## *LOGISTIC"
   ]
  },
  {
   "cell_type": "code",
   "execution_count": 289,
   "metadata": {
    "collapsed": true
   },
   "outputs": [],
   "source": [
    "def func_logistic (y, tx, test_set, max_iters, gamma, initial_w):\n",
    "    name = 'Logistic regression'\n",
    "    \n",
    "    w,loss = logistic_regression(y, tx, initial_w, max_iters, gamma)\n",
    "    #w,loss = logistic_regression_mat (y, tx, initial_w, max_iters, gamma)\n",
    "    \n",
    "    y_pred = predict_labels(w, test_set)\n",
    "    create_csv_submission(ids_test, y_pred, name)\n",
    "    \n",
    "    plt.plot(w, 'go')\n",
    "    plt.title('logistic reg: weights with loss:  '+str(loss),fontsize=15, fontweight='bold');\n",
    "    plt.show()\n",
    "    \n",
    "    return w, loss"
   ]
  },
  {
   "cell_type": "code",
   "execution_count": 295,
   "metadata": {
    "scrolled": true
   },
   "outputs": [
    {
     "data": {
      "image/png": "[encoded data removed]",
      "text/plain": [
       "<matplotlib.figure.Figure at 0x7f38984b62b0>"
      ]
     },
     "metadata": {},
     "output_type": "display_data"
    }
   ],
   "source": [
    "w, loss = func_logistic (y=y_train, tx=tx_train, test_set=tx_test, max_iters=10,\\\n",
    "                         gamma=0.000000001, initial_w=w);"
   ]
  },
  {
   "cell_type": "code",
   "execution_count": 293,
   "metadata": {},
   "outputs": [
    {
     "data": {
      "text/plain": [
       "65.733199999999997"
      ]
     },
     "execution_count": 293,
     "metadata": {},
     "output_type": "execute_result"
    }
   ],
   "source": [
    "y_pred_train = predict_labels(w, tx_train)\n",
    "right_train = np.sum(y_pred_train == y_train)/len(y_train)*100\n",
    "right_train"
   ]
  },
  {
   "cell_type": "code",
   "execution_count": null,
   "metadata": {
    "collapsed": true
   },
   "outputs": [],
   "source": []
  }
 ],
 "metadata": {
  "kernelspec": {
   "display_name": "Python 3",
   "language": "python",
   "name": "python3"
  },
  "language_info": {
   "codemirror_mode": {
    "name": "ipython",
    "version": 3
   },
   "file_extension": ".py",
   "mimetype": "text/x-python",
   "name": "python",
   "nbconvert_exporter": "python",
   "pygments_lexer": "ipython3",
   "version": "3.6.2"
  }
 },
 "nbformat": 4,
 "nbformat_minor": 2
}
