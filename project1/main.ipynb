{
 "cells": [
  {
   "cell_type": "markdown",
   "metadata": {
    "collapsed": true
   },
   "source": [
    "# Project 1\n",
    "\n",
    "    We begin by loading the data"
   ]
  },
  {
   "cell_type": "code",
   "execution_count": 1,
   "metadata": {},
   "outputs": [],
   "source": [
    "%matplotlib inline \n",
    "import numpy as np   # generic stuff\n",
    "import matplotlib.pyplot as plt\n",
    "%load_ext autoreload\n",
    "%autoreload 2\n",
    "%reload_ext autoreload\n",
    "\n",
    "from lib.proj1_helpers import * #the helper provided for the project\n",
    "\n",
    "from implementations import * #our implementations of the functions done by us\n",
    "import datetime\n",
    "from helpers import * #helpers of exo 2\n",
    "# Useful starting lines\n",
    "\n"
   ]
  },
  {
   "cell_type": "code",
   "execution_count": 2,
   "metadata": {},
   "outputs": [],
   "source": [
    "DATA_FOLDER = 'data/'\n",
    "\n",
    "y, tx, ids = load_csv_data(DATA_FOLDER+'train.csv',sub_sample=True)\n",
    "\n",
    "y_test, tx_test, ids_test = load_csv_data(DATA_FOLDER+'test.csv',sub_sample=True)"
   ]
  },
  {
   "cell_type": "markdown",
   "metadata": {},
   "source": [
    "note that here we are only considering a sub_sample as the \"True\" value indicates"
   ]
  },
  {
   "cell_type": "code",
   "execution_count": 3,
   "metadata": {},
   "outputs": [
    {
     "data": {
      "text/plain": [
       "array([ 1., -1., -1., ...,  1., -1.,  1.])"
      ]
     },
     "execution_count": 3,
     "metadata": {},
     "output_type": "execute_result"
    }
   ],
   "source": [
    "y"
   ]
  },
  {
   "cell_type": "code",
   "execution_count": 4,
   "metadata": {},
   "outputs": [
    {
     "data": {
      "text/plain": [
       "array([[ 138.47 ,   51.655,   97.827, ...,    1.24 ,   -2.475,  113.497],\n",
       "       [ 219.057,   72.461,  124.835, ..., -999.   , -999.   ,   50.396],\n",
       "       [  90.801,   27.787,   65.373, ..., -999.   , -999.   ,   62.766],\n",
       "       ..., \n",
       "       [ 142.347,    7.389,   99.212, ..., -999.   , -999.   ,   97.068],\n",
       "       [  78.162,   46.335,   60.136, ..., -999.   , -999.   ,   32.44 ],\n",
       "       [ 130.042,    4.073,   67.819, ..., -999.   , -999.   ,   51.037]])"
      ]
     },
     "execution_count": 4,
     "metadata": {},
     "output_type": "execute_result"
    }
   ],
   "source": [
    "tx"
   ]
  },
  {
   "cell_type": "code",
   "execution_count": 5,
   "metadata": {},
   "outputs": [
    {
     "data": {
      "text/plain": [
       "array([100000, 100050, 100100, ..., 349850, 349900, 349950])"
      ]
     },
     "execution_count": 5,
     "metadata": {},
     "output_type": "execute_result"
    }
   ],
   "source": [
    "ids"
   ]
  },
  {
   "cell_type": "code",
   "execution_count": 20,
   "metadata": {},
   "outputs": [
    {
     "data": {
      "text/html": [
       "<div>\n",
       "<style>\n",
       "    .dataframe thead tr:only-child th {\n",
       "        text-align: right;\n",
       "    }\n",
       "\n",
       "    .dataframe thead th {\n",
       "        text-align: left;\n",
       "    }\n",
       "\n",
       "    .dataframe tbody tr th {\n",
       "        vertical-align: top;\n",
       "    }\n",
       "</style>\n",
       "<table border=\"1\" class=\"dataframe\">\n",
       "  <thead>\n",
       "    <tr style=\"text-align: right;\">\n",
       "      <th></th>\n",
       "      <th>0</th>\n",
       "      <th>1</th>\n",
       "      <th>2</th>\n",
       "      <th>3</th>\n",
       "      <th>4</th>\n",
       "      <th>5</th>\n",
       "      <th>6</th>\n",
       "      <th>7</th>\n",
       "      <th>8</th>\n",
       "      <th>9</th>\n",
       "      <th>...</th>\n",
       "      <th>20</th>\n",
       "      <th>21</th>\n",
       "      <th>22</th>\n",
       "      <th>23</th>\n",
       "      <th>24</th>\n",
       "      <th>25</th>\n",
       "      <th>26</th>\n",
       "      <th>27</th>\n",
       "      <th>28</th>\n",
       "      <th>29</th>\n",
       "    </tr>\n",
       "  </thead>\n",
       "  <tbody>\n",
       "    <tr>\n",
       "      <th>0</th>\n",
       "      <td>138.470</td>\n",
       "      <td>51.655</td>\n",
       "      <td>97.827</td>\n",
       "      <td>27.980</td>\n",
       "      <td>0.91</td>\n",
       "      <td>124.711</td>\n",
       "      <td>2.666</td>\n",
       "      <td>3.064</td>\n",
       "      <td>41.928</td>\n",
       "      <td>197.760</td>\n",
       "      <td>...</td>\n",
       "      <td>-0.277</td>\n",
       "      <td>258.733</td>\n",
       "      <td>2.0</td>\n",
       "      <td>67.435</td>\n",
       "      <td>2.150</td>\n",
       "      <td>0.444</td>\n",
       "      <td>46.062</td>\n",
       "      <td>1.240</td>\n",
       "      <td>-2.475</td>\n",
       "      <td>113.497</td>\n",
       "    </tr>\n",
       "    <tr>\n",
       "      <th>1</th>\n",
       "      <td>219.057</td>\n",
       "      <td>72.461</td>\n",
       "      <td>124.835</td>\n",
       "      <td>5.506</td>\n",
       "      <td>-999.00</td>\n",
       "      <td>-999.000</td>\n",
       "      <td>-999.000</td>\n",
       "      <td>3.771</td>\n",
       "      <td>46.936</td>\n",
       "      <td>122.986</td>\n",
       "      <td>...</td>\n",
       "      <td>0.960</td>\n",
       "      <td>90.355</td>\n",
       "      <td>1.0</td>\n",
       "      <td>50.396</td>\n",
       "      <td>-0.708</td>\n",
       "      <td>-0.642</td>\n",
       "      <td>-999.000</td>\n",
       "      <td>-999.000</td>\n",
       "      <td>-999.000</td>\n",
       "      <td>50.396</td>\n",
       "    </tr>\n",
       "    <tr>\n",
       "      <th>2</th>\n",
       "      <td>90.801</td>\n",
       "      <td>27.787</td>\n",
       "      <td>65.373</td>\n",
       "      <td>55.978</td>\n",
       "      <td>-999.00</td>\n",
       "      <td>-999.000</td>\n",
       "      <td>-999.000</td>\n",
       "      <td>2.457</td>\n",
       "      <td>20.608</td>\n",
       "      <td>138.624</td>\n",
       "      <td>...</td>\n",
       "      <td>0.880</td>\n",
       "      <td>219.339</td>\n",
       "      <td>1.0</td>\n",
       "      <td>62.766</td>\n",
       "      <td>0.778</td>\n",
       "      <td>-2.209</td>\n",
       "      <td>-999.000</td>\n",
       "      <td>-999.000</td>\n",
       "      <td>-999.000</td>\n",
       "      <td>62.766</td>\n",
       "    </tr>\n",
       "    <tr>\n",
       "      <th>3</th>\n",
       "      <td>128.167</td>\n",
       "      <td>52.145</td>\n",
       "      <td>86.912</td>\n",
       "      <td>103.373</td>\n",
       "      <td>0.90</td>\n",
       "      <td>47.636</td>\n",
       "      <td>4.808</td>\n",
       "      <td>2.277</td>\n",
       "      <td>1.936</td>\n",
       "      <td>212.505</td>\n",
       "      <td>...</td>\n",
       "      <td>2.802</td>\n",
       "      <td>292.582</td>\n",
       "      <td>2.0</td>\n",
       "      <td>72.406</td>\n",
       "      <td>-2.689</td>\n",
       "      <td>-0.295</td>\n",
       "      <td>31.252</td>\n",
       "      <td>-1.788</td>\n",
       "      <td>-0.287</td>\n",
       "      <td>103.658</td>\n",
       "    </tr>\n",
       "    <tr>\n",
       "      <th>4</th>\n",
       "      <td>107.067</td>\n",
       "      <td>1.939</td>\n",
       "      <td>70.444</td>\n",
       "      <td>54.621</td>\n",
       "      <td>-999.00</td>\n",
       "      <td>-999.000</td>\n",
       "      <td>-999.000</td>\n",
       "      <td>2.079</td>\n",
       "      <td>30.366</td>\n",
       "      <td>151.198</td>\n",
       "      <td>...</td>\n",
       "      <td>1.190</td>\n",
       "      <td>290.199</td>\n",
       "      <td>1.0</td>\n",
       "      <td>66.634</td>\n",
       "      <td>-0.359</td>\n",
       "      <td>-0.485</td>\n",
       "      <td>-999.000</td>\n",
       "      <td>-999.000</td>\n",
       "      <td>-999.000</td>\n",
       "      <td>66.634</td>\n",
       "    </tr>\n",
       "  </tbody>\n",
       "</table>\n",
       "<p>5 rows × 30 columns</p>\n",
       "</div>"
      ],
      "text/plain": [
       "        0       1        2        3       4        5        6      7       8   \\\n",
       "0  138.470  51.655   97.827   27.980    0.91  124.711    2.666  3.064  41.928   \n",
       "1  219.057  72.461  124.835    5.506 -999.00 -999.000 -999.000  3.771  46.936   \n",
       "2   90.801  27.787   65.373   55.978 -999.00 -999.000 -999.000  2.457  20.608   \n",
       "3  128.167  52.145   86.912  103.373    0.90   47.636    4.808  2.277   1.936   \n",
       "4  107.067   1.939   70.444   54.621 -999.00 -999.000 -999.000  2.079  30.366   \n",
       "\n",
       "        9    ...        20       21   22      23     24     25       26  \\\n",
       "0  197.760   ...    -0.277  258.733  2.0  67.435  2.150  0.444   46.062   \n",
       "1  122.986   ...     0.960   90.355  1.0  50.396 -0.708 -0.642 -999.000   \n",
       "2  138.624   ...     0.880  219.339  1.0  62.766  0.778 -2.209 -999.000   \n",
       "3  212.505   ...     2.802  292.582  2.0  72.406 -2.689 -0.295   31.252   \n",
       "4  151.198   ...     1.190  290.199  1.0  66.634 -0.359 -0.485 -999.000   \n",
       "\n",
       "        27       28       29  \n",
       "0    1.240   -2.475  113.497  \n",
       "1 -999.000 -999.000   50.396  \n",
       "2 -999.000 -999.000   62.766  \n",
       "3   -1.788   -0.287  103.658  \n",
       "4 -999.000 -999.000   66.634  \n",
       "\n",
       "[5 rows x 30 columns]"
      ]
     },
     "execution_count": 20,
     "metadata": {},
     "output_type": "execute_result"
    }
   ],
   "source": [
    "# illegal: \n",
    "import pandas as pd\n",
    "pd.DataFrame(tx).head()"
   ]
  },
  {
   "cell_type": "markdown",
   "metadata": {},
   "source": [
    "### Parameters"
   ]
  },
  {
   "cell_type": "code",
   "execution_count": 6,
   "metadata": {
    "scrolled": true
   },
   "outputs": [
    {
     "data": {
      "text/plain": [
       "array([ 0.,  0.,  0.,  0.,  0.,  0.,  0.,  0.,  0.,  0.,  0.,  0.,  0.,\n",
       "        0.,  0.,  0.,  0.,  0.,  0.,  0.,  0.,  0.,  0.,  0.,  0.,  0.,\n",
       "        0.,  0.,  0.,  0.])"
      ]
     },
     "execution_count": 6,
     "metadata": {},
     "output_type": "execute_result"
    }
   ],
   "source": [
    "initial_w = np.zeros(tx.shape[1])\n",
    "initial_w"
   ]
  },
  {
   "cell_type": "code",
   "execution_count": 7,
   "metadata": {
    "collapsed": true
   },
   "outputs": [],
   "source": [
    "gamma = 0.5\n",
    "max_iters = 50\n",
    "lambda_ = 1"
   ]
  },
  {
   "cell_type": "markdown",
   "metadata": {},
   "source": [
    "### Methods"
   ]
  },
  {
   "cell_type": "code",
   "execution_count": 8,
   "metadata": {},
   "outputs": [
    {
     "name": "stdout",
     "output_type": "stream",
     "text": [
      "Gradient Descent(0/49): loss=0.5000000000000004, w0=57.80285280000054, w1=-14.487160400000011\n",
      "Gradient Descent(1/49): loss=621856760293.665, w0=-62710489.517109506, w1=25606519.608812504\n",
      "Gradient Descent(2/49): loss=5.046665008292038e+24, w0=168756041635167.1, w1=-72671335396127.39\n",
      "Gradient Descent(3/49): loss=4.0971055023080493e+37, w0=-4.7964058454025653e+20, w1=2.0703943639389628e+20\n",
      "Gradient Descent(4/49): loss=3.326216795350471e+50, w0=1.3664443268769607e+27, w1=-5.899133225068102e+26\n",
      "Gradient Descent(5/49): loss=2.7003742747813633e+63, w0=-3.893358174576636e+33, w1=1.6808340549830917e+33\n",
      "Gradient Descent(6/49): loss=2.1922868150761122e+76, w0=1.1093299077739105e+40, w1=-4.789184180221482e+39\n",
      "Gradient Descent(7/49): loss=1.779798276277377e+89, w0=-3.1608027758526597e+46, w1=1.3645776187755836e+46\n",
      "Gradient Descent(8/49): loss=1.4449212951773208e+102, w0=9.006044749720894e+52, w1=-3.888077820493091e+52\n",
      "Gradient Descent(9/49): loss=1.173052911155607e+115, w0=-2.5660836250814015e+59, w1=1.10782625561609e+59\n",
      "Gradient Descent(10/49): loss=9.523377757414628e+127, w0=7.311517271810304e+65, w1=-3.1565186431442006e+65\n",
      "Gradient Descent(11/49): loss=7.73151177137215e+140, w0=-2.0832635497731984e+72, w1=8.993838062611985e+71\n",
      "Gradient Descent(12/49): loss=6.276793359827191e+153, w0=5.935822697924529e+78, w1=-2.562605586764966e+78\n",
      "Gradient Descent(13/49): loss=5.095786703429999e+166, w0=-1.6912882244323752e+85, w1=7.301607331155212e+84\n",
      "Gradient Descent(14/49): loss=4.1369917150767705e+179, w0=4.818971191817872e+91, w1=-2.080439919967653e+91\n",
      "Gradient Descent(15/49): loss=3.358598278670856e+192, w0=-1.3730648042183602e+98, w1=5.9277773568113954e+97\n",
      "Gradient Descent(16/49): loss=2.726663037874016e+205, w0=3.912260276185641e+104, w1=-1.688995873164765e+104\n",
      "Gradient Descent(17/49): loss=2.21362923018307e+218, w0=-1.1147165393503186e+111, w1=4.812439617506324e+110\n",
      "Gradient Descent(18/49): loss=1.7971250208245603e+231, w0=3.1761510619959395e+117, w1=-1.371203769062444e+117\n",
      "Gradient Descent(19/49): loss=1.4589879354848344e+244, w0=-9.049776523902111e+123, w1=3.9069576467025345e+123\n",
      "Gradient Descent(20/49): loss=1.1844728503716615e+257, w0=2.5785440784766616e+130, w1=-1.113205666256617e+130\n",
      "Gradient Descent(21/49): loss=9.616090024770115e+269, w0=-7.347020721546124e+136, w1=3.171846145892421e+136\n",
      "Gradient Descent(22/49): loss=7.806779812257317e+282, w0=2.093379513400345e+143, w1=-9.037510568054749e+142\n",
      "Gradient Descent(23/49): loss=6.3378993832293255e+295, w0=-5.964646015319888e+149, w1=2.575049151531942e+149\n",
      "Gradient Descent(24/49): loss=inf, w0=1.6995008244005617e+156, w1=-7.33706265998049e+155\n",
      "Gradient Descent(25/49): loss=inf, w0=-4.8423712735336315e+162, w1=2.090542172542776e+162\n",
      "Gradient Descent(26/49): loss=inf, w0=1.3797321668857914e+169, w1=-5.956561607436894e+168\n",
      "Gradient Descent(27/49): loss=inf, w0=-3.931257528194859e+175, w1=1.697197341875921e+175\n",
      "Gradient Descent(28/49): loss=inf, w0=1.1201294080047359e+182, w1=-4.835807983039014e+181\n",
      "Gradient Descent(29/49): loss=inf, w0=-3.1915738963383653e+188, w1=1.377862094868483e+188\n",
      "Gradient Descent(30/49): loss=inf, w0=9.093720656734546e+194, w1=-3.925929150069921e+194\n",
      "Gradient Descent(31/49): loss=inf, w0=-2.591065037773239e+201, w1=1.118611198375402e+201\n",
      "Gradient Descent(32/49): loss=inf, w0=7.382696569856579e+207, w1=-3.1872480763147844e+207\n",
      "Gradient Descent(33/49): loss=inf, w0=-2.1035445983792482e+214, w1=9.08139513954974e+213\n",
      "Gradient Descent(34/49): loss=inf, w0=5.993609293706176e+220, w1=-2.5875531400741977e+220\n",
      "Gradient Descent(35/49): loss=inf, w0=-1.7077533033185743e+227, w1=7.372690153684705e+226\n",
      "Gradient Descent(36/49): loss=inf, w0=4.86588498195571e+233, w1=-2.1006934798904565e+233\n",
      "Gradient Descent(37/49): loss=inf, w0=-1.3864319051008367e+240, w1=5.985485629351715e+239\n",
      "Gradient Descent(38/49): loss=inf, w0=3.950347027538978e+246, w1=-1.7054386354854657e+246\n",
      "Gradient Descent(39/49): loss=inf, w0=-1.1255685606031311e+253, w1=4.85928982126976e+252\n",
      "Gradient Descent(40/49): loss=inf, w0=3.2070716212683405e+259, w1=-1.384552752340712e+259\n",
      "Gradient Descent(41/49): loss=inf, w0=-9.137878174594227e+265, w1=3.944992775741312e+265\n",
      "Gradient Descent(42/49): loss=inf, w0=2.603646796659383e+272, w1=-1.1240429788132272e+272\n",
      "Gradient Descent(43/49): loss=inf, w0=-7.418545653849991e+278, w1=3.202724795818897e+278\n",
      "Gradient Descent(44/49): loss=inf, w0=2.1137590432338666e+285, w1=-9.125492806852556e+284\n",
      "Gradient Descent(45/49): loss=inf, w0=-6.022713212709306e+291, w1=2.600117845799032e+291\n",
      "Gradient Descent(46/49): loss=inf, w0=1.716045854831621e+298, w1=-7.408490648270398e+297\n",
      "Gradient Descent(47/49): loss=inf, w0=-4.889512868835515e+304, w1=2.1108940802120888e+304\n",
      "Gradient Descent(48/49): loss=inf, w0=nan, w1=nan\n",
      "Gradient Descent(49/49): loss=nan, w0=nan, w1=nan\n"
     ]
    }
   ],
   "source": [
    "losses, weights = least_squares_GD(y, tx, initial_w, max_iters, gamma);"
   ]
  },
  {
   "cell_type": "markdown",
   "metadata": {},
   "source": [
    "#### Prediction"
   ]
  },
  {
   "cell_type": "code",
   "execution_count": 13,
   "metadata": {},
   "outputs": [
    {
     "data": {
      "text/plain": [
       "(30, 51)"
      ]
     },
     "execution_count": 13,
     "metadata": {},
     "output_type": "execute_result"
    }
   ],
   "source": [
    "weights = np.array(weights).T\n",
    "weights.shape"
   ]
  },
  {
   "cell_type": "code",
   "execution_count": 14,
   "metadata": {},
   "outputs": [
    {
     "data": {
      "text/plain": [
       "(11365, 30)"
      ]
     },
     "execution_count": 14,
     "metadata": {},
     "output_type": "execute_result"
    }
   ],
   "source": [
    "data = tx_test\n",
    "data.shape"
   ]
  },
  {
   "cell_type": "code",
   "execution_count": 15,
   "metadata": {
    "scrolled": true
   },
   "outputs": [
    {
     "name": "stderr",
     "output_type": "stream",
     "text": [
      "/home/zampieri/Documents/EPFL/ML/LMO_ML/project1/lib/proj1_helpers.py:30: RuntimeWarning: invalid value encountered in less_equal\n",
      "  y_pred[np.where(y_pred <= 0)] = -1\n",
      "/home/zampieri/Documents/EPFL/ML/LMO_ML/project1/lib/proj1_helpers.py:31: RuntimeWarning: invalid value encountered in greater\n",
      "  y_pred[np.where(y_pred > 0)] = 1\n"
     ]
    }
   ],
   "source": [
    "y_pred = predict_labels(weights, data)"
   ]
  },
  {
   "cell_type": "code",
   "execution_count": 16,
   "metadata": {},
   "outputs": [
    {
     "ename": "TypeError",
     "evalue": "only length-1 arrays can be converted to Python scalars",
     "output_type": "error",
     "traceback": [
      "\u001b[0;31m---------------------------------------------------------------------------\u001b[0m",
      "\u001b[0;31mTypeError\u001b[0m                                 Traceback (most recent call last)",
      "\u001b[0;32m<ipython-input-16-9f0147fafe9f>\u001b[0m in \u001b[0;36m<module>\u001b[0;34m()\u001b[0m\n\u001b[1;32m      1\u001b[0m \u001b[0mname\u001b[0m \u001b[0;34m=\u001b[0m \u001b[0;34m'ye'\u001b[0m\u001b[0;34m\u001b[0m\u001b[0m\n\u001b[0;32m----> 2\u001b[0;31m \u001b[0mcreate_csv_submission\u001b[0m\u001b[0;34m(\u001b[0m\u001b[0mids_test\u001b[0m\u001b[0;34m,\u001b[0m \u001b[0my_pred\u001b[0m\u001b[0;34m,\u001b[0m \u001b[0mname\u001b[0m\u001b[0;34m)\u001b[0m\u001b[0;34m\u001b[0m\u001b[0m\n\u001b[0m",
      "\u001b[0;32m~/Documents/EPFL/ML/LMO_ML/project1/lib/proj1_helpers.py\u001b[0m in \u001b[0;36mcreate_csv_submission\u001b[0;34m(ids, y_pred, name)\u001b[0m\n\u001b[1;32m     46\u001b[0m         \u001b[0mwriter\u001b[0m\u001b[0;34m.\u001b[0m\u001b[0mwriteheader\u001b[0m\u001b[0;34m(\u001b[0m\u001b[0;34m)\u001b[0m\u001b[0;34m\u001b[0m\u001b[0m\n\u001b[1;32m     47\u001b[0m         \u001b[0;32mfor\u001b[0m \u001b[0mr1\u001b[0m\u001b[0;34m,\u001b[0m \u001b[0mr2\u001b[0m \u001b[0;32min\u001b[0m \u001b[0mzip\u001b[0m\u001b[0;34m(\u001b[0m\u001b[0mids\u001b[0m\u001b[0;34m,\u001b[0m \u001b[0my_pred\u001b[0m\u001b[0;34m)\u001b[0m\u001b[0;34m:\u001b[0m\u001b[0;34m\u001b[0m\u001b[0m\n\u001b[0;32m---> 48\u001b[0;31m             \u001b[0mwriter\u001b[0m\u001b[0;34m.\u001b[0m\u001b[0mwriterow\u001b[0m\u001b[0;34m(\u001b[0m\u001b[0;34m{\u001b[0m\u001b[0;34m'Id'\u001b[0m\u001b[0;34m:\u001b[0m\u001b[0mint\u001b[0m\u001b[0;34m(\u001b[0m\u001b[0mr1\u001b[0m\u001b[0;34m)\u001b[0m\u001b[0;34m,\u001b[0m\u001b[0;34m'Prediction'\u001b[0m\u001b[0;34m:\u001b[0m\u001b[0mint\u001b[0m\u001b[0;34m(\u001b[0m\u001b[0mr2\u001b[0m\u001b[0;34m)\u001b[0m\u001b[0;34m}\u001b[0m\u001b[0;34m)\u001b[0m\u001b[0;34m\u001b[0m\u001b[0m\n\u001b[0m",
      "\u001b[0;31mTypeError\u001b[0m: only length-1 arrays can be converted to Python scalars"
     ]
    }
   ],
   "source": [
    "name = 'ye'\n",
    "create_csv_submission(ids_test, y_pred, name)"
   ]
  },
  {
   "cell_type": "code",
   "execution_count": null,
   "metadata": {
    "collapsed": true
   },
   "outputs": [],
   "source": []
  },
  {
   "cell_type": "code",
   "execution_count": null,
   "metadata": {
    "collapsed": true
   },
   "outputs": [],
   "source": []
  }
 ],
 "metadata": {
  "kernelspec": {
   "display_name": "Python 3",
   "language": "python",
   "name": "python3"
  },
  "language_info": {
   "codemirror_mode": {
    "name": "ipython",
    "version": 3
   },
   "file_extension": ".py",
   "mimetype": "text/x-python",
   "name": "python",
   "nbconvert_exporter": "python",
   "pygments_lexer": "ipython3",
   "version": "3.6.2"
  }
 },
 "nbformat": 4,
 "nbformat_minor": 2
}
