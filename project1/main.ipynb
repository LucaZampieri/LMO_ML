{
 "cells": [
  {
   "cell_type": "markdown",
   "metadata": {
    "collapsed": true
   },
   "source": [
    "# Project 1\n",
    "\n",
    "    We begin by loading the data"
   ]
  },
  {
   "cell_type": "code",
   "execution_count": 139,
   "metadata": {},
   "outputs": [
    {
     "name": "stdout",
     "output_type": "stream",
     "text": [
      "The autoreload extension is already loaded. To reload it, use:\n",
      "  %reload_ext autoreload\n"
     ]
    }
   ],
   "source": [
    "%matplotlib inline \n",
    "import numpy as np   # generic stuff\n",
    "import matplotlib.pyplot as plt\n",
    "\n",
    "#### REMOVE THIS LINE BEFORE SUBMISSION\n",
    "import pandas as pd\n",
    "#######################################################################\n",
    "\n",
    "from lib.proj1_helpers import * #the helper provided for the project\n",
    "from lib.costs import *\n",
    "\n",
    "# choose which implementations you would like\n",
    "from lib.implementations import *\n",
    "#from implementations import * #our implementations of the functions done by us\n",
    "\n",
    "\n",
    "import datetime\n",
    "from helpers import * #helpers of exo 2\n",
    "# Useful starting lines\n",
    "\n",
    "%load_ext autoreload\n",
    "%autoreload 2\n",
    "%reload_ext autoreload"
   ]
  },
  {
   "cell_type": "code",
   "execution_count": 230,
   "metadata": {},
   "outputs": [],
   "source": [
    "DATA_FOLDER = 'data/'\n",
    "\n",
    "y_train, tx_train, ids_train = load_csv_data(DATA_FOLDER+'train.csv',sub_sample=False)\n",
    "\n",
    "y_test, tx_test, ids_test = load_csv_data(DATA_FOLDER+'test.csv',sub_sample=False)"
   ]
  },
  {
   "cell_type": "markdown",
   "metadata": {},
   "source": [
    "note that here we are only considering a sub_sample as the \"True\" value indicates"
   ]
  },
  {
   "cell_type": "code",
   "execution_count": 231,
   "metadata": {},
   "outputs": [
    {
     "data": {
      "text/plain": [
       "array([ 1., -1., -1., ...,  1., -1., -1.])"
      ]
     },
     "execution_count": 231,
     "metadata": {},
     "output_type": "execute_result"
    }
   ],
   "source": [
    "y_train"
   ]
  },
  {
   "cell_type": "code",
   "execution_count": 232,
   "metadata": {},
   "outputs": [
    {
     "data": {
      "text/plain": [
       "array([100000, 100001, 100002, ..., 349997, 349998, 349999])"
      ]
     },
     "execution_count": 232,
     "metadata": {},
     "output_type": "execute_result"
    }
   ],
   "source": [
    "ids_train"
   ]
  },
  {
   "cell_type": "code",
   "execution_count": 233,
   "metadata": {},
   "outputs": [
    {
     "data": {
      "text/html": [
       "<div>\n",
       "<style>\n",
       "    .dataframe thead tr:only-child th {\n",
       "        text-align: right;\n",
       "    }\n",
       "\n",
       "    .dataframe thead th {\n",
       "        text-align: left;\n",
       "    }\n",
       "\n",
       "    .dataframe tbody tr th {\n",
       "        vertical-align: top;\n",
       "    }\n",
       "</style>\n",
       "<table border=\"1\" class=\"dataframe\">\n",
       "  <thead>\n",
       "    <tr style=\"text-align: right;\">\n",
       "      <th></th>\n",
       "      <th>0</th>\n",
       "      <th>1</th>\n",
       "      <th>2</th>\n",
       "      <th>3</th>\n",
       "      <th>4</th>\n",
       "      <th>5</th>\n",
       "      <th>6</th>\n",
       "      <th>7</th>\n",
       "      <th>8</th>\n",
       "      <th>9</th>\n",
       "      <th>...</th>\n",
       "      <th>20</th>\n",
       "      <th>21</th>\n",
       "      <th>22</th>\n",
       "      <th>23</th>\n",
       "      <th>24</th>\n",
       "      <th>25</th>\n",
       "      <th>26</th>\n",
       "      <th>27</th>\n",
       "      <th>28</th>\n",
       "      <th>29</th>\n",
       "    </tr>\n",
       "  </thead>\n",
       "  <tbody>\n",
       "    <tr>\n",
       "      <th>0</th>\n",
       "      <td>138.470</td>\n",
       "      <td>51.655</td>\n",
       "      <td>97.827</td>\n",
       "      <td>27.980</td>\n",
       "      <td>0.91</td>\n",
       "      <td>124.711</td>\n",
       "      <td>2.666</td>\n",
       "      <td>3.064</td>\n",
       "      <td>41.928</td>\n",
       "      <td>197.760</td>\n",
       "      <td>...</td>\n",
       "      <td>-0.277</td>\n",
       "      <td>258.733</td>\n",
       "      <td>2.0</td>\n",
       "      <td>67.435</td>\n",
       "      <td>2.150</td>\n",
       "      <td>0.444</td>\n",
       "      <td>46.062</td>\n",
       "      <td>1.24</td>\n",
       "      <td>-2.475</td>\n",
       "      <td>113.497</td>\n",
       "    </tr>\n",
       "    <tr>\n",
       "      <th>1</th>\n",
       "      <td>160.937</td>\n",
       "      <td>68.768</td>\n",
       "      <td>103.235</td>\n",
       "      <td>48.146</td>\n",
       "      <td>-999.00</td>\n",
       "      <td>-999.000</td>\n",
       "      <td>-999.000</td>\n",
       "      <td>3.473</td>\n",
       "      <td>2.078</td>\n",
       "      <td>125.157</td>\n",
       "      <td>...</td>\n",
       "      <td>-1.916</td>\n",
       "      <td>164.546</td>\n",
       "      <td>1.0</td>\n",
       "      <td>46.226</td>\n",
       "      <td>0.725</td>\n",
       "      <td>1.158</td>\n",
       "      <td>-999.000</td>\n",
       "      <td>-999.00</td>\n",
       "      <td>-999.000</td>\n",
       "      <td>46.226</td>\n",
       "    </tr>\n",
       "    <tr>\n",
       "      <th>2</th>\n",
       "      <td>-999.000</td>\n",
       "      <td>162.172</td>\n",
       "      <td>125.953</td>\n",
       "      <td>35.635</td>\n",
       "      <td>-999.00</td>\n",
       "      <td>-999.000</td>\n",
       "      <td>-999.000</td>\n",
       "      <td>3.148</td>\n",
       "      <td>9.336</td>\n",
       "      <td>197.814</td>\n",
       "      <td>...</td>\n",
       "      <td>-2.186</td>\n",
       "      <td>260.414</td>\n",
       "      <td>1.0</td>\n",
       "      <td>44.251</td>\n",
       "      <td>2.053</td>\n",
       "      <td>-2.028</td>\n",
       "      <td>-999.000</td>\n",
       "      <td>-999.00</td>\n",
       "      <td>-999.000</td>\n",
       "      <td>44.251</td>\n",
       "    </tr>\n",
       "    <tr>\n",
       "      <th>3</th>\n",
       "      <td>143.905</td>\n",
       "      <td>81.417</td>\n",
       "      <td>80.943</td>\n",
       "      <td>0.414</td>\n",
       "      <td>-999.00</td>\n",
       "      <td>-999.000</td>\n",
       "      <td>-999.000</td>\n",
       "      <td>3.310</td>\n",
       "      <td>0.414</td>\n",
       "      <td>75.968</td>\n",
       "      <td>...</td>\n",
       "      <td>0.060</td>\n",
       "      <td>86.062</td>\n",
       "      <td>0.0</td>\n",
       "      <td>-999.000</td>\n",
       "      <td>-999.000</td>\n",
       "      <td>-999.000</td>\n",
       "      <td>-999.000</td>\n",
       "      <td>-999.00</td>\n",
       "      <td>-999.000</td>\n",
       "      <td>0.000</td>\n",
       "    </tr>\n",
       "    <tr>\n",
       "      <th>4</th>\n",
       "      <td>175.864</td>\n",
       "      <td>16.915</td>\n",
       "      <td>134.805</td>\n",
       "      <td>16.405</td>\n",
       "      <td>-999.00</td>\n",
       "      <td>-999.000</td>\n",
       "      <td>-999.000</td>\n",
       "      <td>3.891</td>\n",
       "      <td>16.405</td>\n",
       "      <td>57.983</td>\n",
       "      <td>...</td>\n",
       "      <td>-0.871</td>\n",
       "      <td>53.131</td>\n",
       "      <td>0.0</td>\n",
       "      <td>-999.000</td>\n",
       "      <td>-999.000</td>\n",
       "      <td>-999.000</td>\n",
       "      <td>-999.000</td>\n",
       "      <td>-999.00</td>\n",
       "      <td>-999.000</td>\n",
       "      <td>0.000</td>\n",
       "    </tr>\n",
       "  </tbody>\n",
       "</table>\n",
       "<p>5 rows × 30 columns</p>\n",
       "</div>"
      ],
      "text/plain": [
       "        0        1        2       3       4        5        6      7       8   \\\n",
       "0  138.470   51.655   97.827  27.980    0.91  124.711    2.666  3.064  41.928   \n",
       "1  160.937   68.768  103.235  48.146 -999.00 -999.000 -999.000  3.473   2.078   \n",
       "2 -999.000  162.172  125.953  35.635 -999.00 -999.000 -999.000  3.148   9.336   \n",
       "3  143.905   81.417   80.943   0.414 -999.00 -999.000 -999.000  3.310   0.414   \n",
       "4  175.864   16.915  134.805  16.405 -999.00 -999.000 -999.000  3.891  16.405   \n",
       "\n",
       "        9    ...        20       21   22       23       24       25       26  \\\n",
       "0  197.760   ...    -0.277  258.733  2.0   67.435    2.150    0.444   46.062   \n",
       "1  125.157   ...    -1.916  164.546  1.0   46.226    0.725    1.158 -999.000   \n",
       "2  197.814   ...    -2.186  260.414  1.0   44.251    2.053   -2.028 -999.000   \n",
       "3   75.968   ...     0.060   86.062  0.0 -999.000 -999.000 -999.000 -999.000   \n",
       "4   57.983   ...    -0.871   53.131  0.0 -999.000 -999.000 -999.000 -999.000   \n",
       "\n",
       "       27       28       29  \n",
       "0    1.24   -2.475  113.497  \n",
       "1 -999.00 -999.000   46.226  \n",
       "2 -999.00 -999.000   44.251  \n",
       "3 -999.00 -999.000    0.000  \n",
       "4 -999.00 -999.000    0.000  \n",
       "\n",
       "[5 rows x 30 columns]"
      ]
     },
     "execution_count": 233,
     "metadata": {},
     "output_type": "execute_result"
    }
   ],
   "source": [
    "# illegal: \n",
    "pd.DataFrame(tx_train).head()"
   ]
  },
  {
   "cell_type": "markdown",
   "metadata": {},
   "source": [
    "### Parameters"
   ]
  },
  {
   "cell_type": "code",
   "execution_count": 234,
   "metadata": {
    "collapsed": true
   },
   "outputs": [],
   "source": [
    "def clean_missing_values(tx):\n",
    "    nan_values = (tx==-999)*1\n",
    "    for col in range(tx.shape[1]):\n",
    "        column = tx[:,col][tx[:,col]!=-999]\n",
    "        median = np.median(column)\n",
    "        tx[:,col][tx[:,col]==-999] = median\n",
    "    return tx, nan_values"
   ]
  },
  {
   "cell_type": "code",
   "execution_count": 235,
   "metadata": {},
   "outputs": [],
   "source": [
    "\n",
    "\n",
    "tx_train, nan_values_train = clean_missing_values(tx_train)\n",
    "tx_test, nan_values_test = clean_missing_values(tx_test)\n",
    "\n"
   ]
  },
  {
   "cell_type": "code",
   "execution_count": 236,
   "metadata": {},
   "outputs": [],
   "source": [
    "tx_train = standardize(tx_train)\n",
    "tx_train = tx_train[0]\n",
    "tx_test = standardize(tx_test)\n",
    "tx_test = tx_test[0]"
   ]
  },
  {
   "cell_type": "code",
   "execution_count": 237,
   "metadata": {
    "collapsed": true
   },
   "outputs": [],
   "source": [
    "def add_ones(tx):\n",
    "    return np.concatenate((tx, np.ones([tx.shape[0],1])), axis=1)"
   ]
  },
  {
   "cell_type": "code",
   "execution_count": 238,
   "metadata": {},
   "outputs": [
    {
     "data": {
      "text/plain": [
       "(250000, 31)"
      ]
     },
     "execution_count": 238,
     "metadata": {},
     "output_type": "execute_result"
    }
   ],
   "source": [
    "tx_train = add_ones(tx_train)\n",
    "tx_test = add_ones(tx_test)\n"
   ]
  },
  {
   "cell_type": "code",
   "execution_count": 243,
   "metadata": {},
   "outputs": [
    {
     "data": {
      "text/plain": [
       "(250000, 31)"
      ]
     },
     "execution_count": 243,
     "metadata": {},
     "output_type": "execute_result"
    }
   ],
   "source": [
    "tx_train.shape"
   ]
  },
  {
   "cell_type": "code",
   "execution_count": 239,
   "metadata": {
    "scrolled": false
   },
   "outputs": [
    {
     "data": {
      "text/plain": [
       "array([ 0.,  0.,  0.,  0.,  0.,  0.,  0.,  0.,  0.,  0.,  0.,  0.,  0.,\n",
       "        0.,  0.,  0.,  0.,  0.,  0.,  0.,  0.,  0.,  0.,  0.,  0.,  0.,\n",
       "        0.,  0.,  0.,  0.,  0.])"
      ]
     },
     "execution_count": 239,
     "metadata": {},
     "output_type": "execute_result"
    }
   ],
   "source": [
    "initial_w = np.zeros(tx_train.shape[1])\n",
    "initial_w"
   ]
  },
  {
   "cell_type": "code",
   "execution_count": 240,
   "metadata": {
    "collapsed": true
   },
   "outputs": [],
   "source": [
    "gamma = 0.05\n",
    "max_iters = 1000\n",
    "lambda_ = 0.5"
   ]
  },
  {
   "cell_type": "markdown",
   "metadata": {},
   "source": [
    "# Methods"
   ]
  },
  {
   "cell_type": "markdown",
   "metadata": {},
   "source": [
    "## *LEAST-SQUARES"
   ]
  },
  {
   "cell_type": "code",
   "execution_count": 194,
   "metadata": {},
   "outputs": [],
   "source": [
    "def func_least_squares (y, tx, test_set, fct='mse'):\n",
    "    name = 'least_squares'\n",
    "    w,loss = least_squares(y,tx,fct)\n",
    "    y_pred = predict_labels(w, test_set)\n",
    "    create_csv_submission(ids_test, y_pred, name)\n",
    "    \n",
    "    plt.plot(w, 'go')\n",
    "    plt.title('least squares weights for loss:  '+str(loss),fontsize=15, fontweight='bold');\n",
    "    plt.show()\n",
    "    \n",
    "    return w, loss"
   ]
  },
  {
   "cell_type": "code",
   "execution_count": 195,
   "metadata": {},
   "outputs": [
    {
     "data": {
      "image/png": "[encoded data removed]",
      "text/plain": [
       "<matplotlib.figure.Figure at 0x7f388e6256a0>"
      ]
     },
     "metadata": {},
     "output_type": "display_data"
    }
   ],
   "source": [
    "w, loss = func_least_squares (y=y_train, tx=tx_train, test_set=tx_test, fct='mse');\n"
   ]
  },
  {
   "cell_type": "markdown",
   "metadata": {},
   "source": [
    "## *Gradient descent     -------------------------------------------------------------------------------"
   ]
  },
  {
   "cell_type": "code",
   "execution_count": 255,
   "metadata": {},
   "outputs": [],
   "source": [
    "def func_GD (y, tx, test_set, max_iters, gamma, initial_w):\n",
    "    name = 'Gradient_descent'\n",
    "    w,loss = least_squares_GD(y, tx, initial_w, max_iters, gamma,fct='mse');\n",
    "    y_pred = predict_labels(w, test_set)\n",
    "    create_csv_submission(ids_test, y_pred, name)\n",
    "    \n",
    "    plt.plot(w, 'go')\n",
    "    plt.title('GD: weights with loss:  '+str(loss),fontsize=15, fontweight='bold');\n",
    "    plt.show()\n",
    "    \n",
    "    return w, loss"
   ]
  },
  {
   "cell_type": "code",
   "execution_count": 256,
   "metadata": {},
   "outputs": [
    {
     "name": "stdout",
     "output_type": "stream",
     "text": [
      "Gradient Descent(0/499): loss=0.5000000000000249, w0=-0.012945172731498287, w1=-0.007707255240772587\n",
      "Gradient Descent(1/499): loss=0.47297380377022674, w0=-0.01761314829293544, w1=-0.014922424031245735\n",
      "Gradient Descent(2/499): loss=0.4612197207645217, w0=-0.022517040342354876, w1=-0.021924792056576055\n",
      "Gradient Descent(3/499): loss=0.45223198726807673, w0=-0.026417875008247223, w1=-0.028697998902000227\n",
      "Gradient Descent(4/499): loss=0.4451260309739292, w0=-0.029642122726539273, w1=-0.03527035861367672\n",
      "Gradient Descent(5/499): loss=0.4394570947414904, w0=-0.03224596842833226, w1=-0.04165996488014815\n",
      "Gradient Descent(6/499): loss=0.43489248891755516, w0=-0.03431555683614382, w1=-0.047883944996655325\n",
      "Gradient Descent(7/499): loss=0.4311784787941555, w0=-0.03592003816597766, w1=-0.053957258252926736\n",
      "Gradient Descent(8/499): loss=0.4281210723895494, w0=-0.037120762146869005, w1=-0.05989315932493515\n",
      "Gradient Descent(9/499): loss=0.42557171189027043, w0=-0.03797114397212468, w1=-0.06570336143428455\n",
      "Gradient Descent(10/499): loss=0.42341647160738094, w0=-0.03851786552577811, w1=-0.07139822153400636\n",
      "Gradient Descent(11/499): loss=0.4215678744946594, w0=-0.03880170468243113, w1=-0.0769868979880234\n",
      "Gradient Descent(12/499): loss=0.419958675381819, w0=-0.03885829109509087, w1=-0.08247749134243722\n",
      "Gradient Descent(13/499): loss=0.41853712708935387, w0=-0.03871875812175061, w1=-0.0878771687801841\n",
      "Gradient Descent(14/499): loss=0.4172633683842309, w0=-0.03841031137441809, w1=-0.09319227425091925\n",
      "Gradient Descent(15/499): loss=0.4161066631242696, w0=-0.03795672393716442, w1=-0.09842842583190815\n",
      "Gradient Descent(16/499): loss=0.41504328687179615, w0=-0.03737876813606293, w1=-0.10359060175436315\n",
      "Gradient Descent(17/499): loss=0.41405490708825166, w0=-0.03669459218340062, w1=-0.1086832163734202\n",
      "Gradient Descent(18/499): loss=0.4131273403002692, w0=-0.03592004891466141, w1=-0.11371018722503339\n",
      "Gradient Descent(19/499): loss=0.4122495976363927, w0=-0.03506898285331558, w1=-0.11867499418956098\n",
      "Gradient Descent(20/499): loss=0.41141315125745004, w0=-0.03415348100053737, w1=-0.1235807316704375\n",
      "Gradient Descent(21/499): loss=0.4106113701879943, w0=-0.03318409202578963, w1=-0.12843015459598062\n",
      "Gradient Descent(22/499): loss=0.40983908618667736, w0=-0.03217001791362442, w1=-0.13322571896225813\n",
      "Gradient Descent(23/499): loss=0.4090922595221882, w0=-0.031119281587125295, w1=-0.13796961755416978\n",
      "Gradient Descent(24/499): loss=0.40836772155771606, w0=-0.030038873566762575, w1=-0.14266381140967238\n",
      "Gradient Descent(25/499): loss=0.4076629764215335, w0=-0.028934880324515615, w1=-0.14731005752759543\n",
      "Gradient Descent(26/499): loss=0.406976048153129, w0=-0.02781259664801162, w1=-0.1519099332620303\n",
      "Gradient Descent(27/499): loss=0.40630536286428576, w0=-0.026676624030549993, w1=-0.15646485779512773\n",
      "Gradient Descent(28/499): loss=0.40564965787033874, w0=-0.02553095684376729, w1=-0.1609761110346814\n",
      "Gradient Descent(29/499): loss=0.40500791160143795, w0=-0.024379057824841482, w1=-0.16544485024250885\n",
      "Gradient Descent(30/499): loss=0.4043792895285514, w0=-0.023223924214828714, w1=-0.16987212466384347\n",
      "Gradient Descent(31/499): loss=0.4037631024344431, w0=-0.02206814571494379, w1=-0.17425888839622589\n",
      "Gradient Descent(32/499): loss=0.40315877420262985, w0=-0.020913955279883954, w1=-0.17860601170829338\n",
      "Gradient Descent(33/499): loss=0.40256581694593596, w0=-0.01976327363869121, w1=-0.18291429099401366\n",
      "Gradient Descent(34/499): loss=0.4019838117957086, w0=-0.018617748321601197, w1=-0.18718445752593327\n",
      "Gradient Descent(35/499): loss=0.4014123940574153, w0=-0.01747878787364398, w1=-0.19141718515159328\n",
      "Gradient Descent(36/499): loss=0.4008512417347405, w0=-0.01634759185055061, w1=-0.1956130970601149\n",
      "Gradient Descent(37/499): loss=0.40030006665267703, w0=-0.015225177118146882, w1=-0.19977277173081787\n",
      "Gradient Descent(38/499): loss=0.3997586075861902, w0=-0.014112400911468911, w1=-0.20389674816237677\n",
      "Gradient Descent(39/499): loss=0.3992266249367255, w0=-0.013009981053095162, w1=-0.20798553046923773\n",
      "Gradient Descent(40/499): loss=0.39870389660351546, w0=-0.011918513680594626, w1=-0.2120395919216299\n",
      "Gradient Descent(41/499): loss=0.3981902147773063, w0=-0.010838488789626493, w1=-0.216059378496351\n",
      "Gradient Descent(42/499): loss=0.3976853834464, w0=-0.009770303861294002, w1=-0.22004531199743663\n",
      "Gradient Descent(43/499): loss=0.39718921645287897, w0=-0.008714275809164238, w1=-0.22399779279871823\n",
      "Gradient Descent(44/499): loss=0.3967015359739321, w0=-0.007670651452312377, w1=-0.22791720225401502\n",
      "Gradient Descent(45/499): loss=0.3962221713317455, w0=-0.0066396166953128855, w1=-0.23180390481519414\n",
      "Gradient Descent(46/499): loss=0.3957509580574727, w0=-0.0056213045738217286, w1=-0.23565824989348358\n",
      "Gradient Descent(47/499): loss=0.3952877371517839, w0=-0.004615802304879374, w1=-0.2394805734951519\n",
      "Gradient Descent(48/499): loss=0.39483235449762083, w0=-0.003623157463965239, w1=-0.2432711996589123\n",
      "Gradient Descent(49/499): loss=0.3943846603908927, w0=-0.002643383395848197, w1=-0.24703044171910335\n",
      "Gradient Descent(50/499): loss=0.39394450916266766, w0=-0.001676463953143212, w1=-0.25075860341579015\n",
      "Gradient Descent(51/499): loss=0.3935117588724268, w0=-0.0007223576449676632, w1=-0.2544559798703722\n",
      "Gradient Descent(52/499): loss=0.39308627105661, w0=0.00021899873200646833, w1=-0.2581228584430353\n",
      "Gradient Descent(53/499): loss=0.3926679105202579, w0=0.0011476869166635907, w1=-0.26175951948640513\n",
      "Gradient Descent(54/499): loss=0.39225654516232844, w0=0.0020638044050448777, w1=-0.2653662370080226\n",
      "Gradient Descent(55/499): loss=0.3918520458274111, w0=0.0029674620215772375, w1=-0.26894327925272987\n",
      "Gradient Descent(56/499): loss=0.39145428617819444, w0=0.0038587817970471643, w1=-0.27249090921471236\n",
      "Gradient Descent(57/499): loss=0.3910631425843291, w0=0.004737895115680248, w1=-0.2760093850877603\n",
      "Gradient Descent(58/499): loss=0.3906784940243119, w0=0.005604941098288543, w1=-0.27949896066127317\n",
      "Gradient Descent(59/499): loss=0.3903002219977592, w0=0.006460065192486311, w1=-0.2829598856686185\n",
      "Gradient Descent(60/499): loss=0.3899282104460519, w0=0.007303417944518703, w1=-0.28639240609365274\n",
      "Gradient Descent(61/499): loss=0.3895623456797555, w0=0.008135153930357953, w1=-0.28979676444050745\n",
      "Gradient Descent(62/499): loss=0.3892025163115931, w0=0.00895543082645235, w1=-0.29317319997112296\n",
      "Gradient Descent(63/499): loss=0.38884861319400965, w0=0.009764408602909247, w1=-0.29652194891446776\n",
      "Gradient Descent(64/499): loss=0.3885005293605698, w0=0.010562248823997174, w1=-0.2998432446509031\n",
      "Gradient Descent(65/499): loss=0.38815815997060754, w0=0.011349114042698814, w1=-0.303137317874731\n",
      "Gradient Descent(66/499): loss=0.3878214022566555, w0=0.012125167277667945, w1=-0.30640439673759434\n",
      "Gradient Descent(67/499): loss=0.38749015547428933, w0=0.012890571562366546, w1=-0.30964470697507346\n",
      "Gradient Descent(68/499): loss=0.387164320854092, w0=0.013645489557408212, w1=-0.3128584720185384\n",
      "Gradient Descent(69/499): loss=0.38684380155550685, w0=0.01439008321823089, w1=-0.31604591309406377\n",
      "Gradient Descent(70/499): loss=0.3865285026223866, w0=0.015124513511185381, w1=-0.319207249309995\n",
      "Gradient Descent(71/499): loss=0.38621833094008556, w0=0.015848940171972085, w1=-0.32234269773455987\n",
      "Gradient Descent(72/499): loss=0.3859131951939689, w0=0.01656352150110055, w1=-0.3254524734647494\n",
      "Gradient Descent(73/499): loss=0.38561300582923425, w0=0.01726841419169923, w1=-0.32853678968754346\n",
      "Gradient Descent(74/499): loss=0.38531767501195857, w0=0.017963773185574648, w1=-0.33159585773442435\n",
      "Gradient Descent(75/499): loss=0.3850271165912906, w0=0.01864975155392254, w1=-0.33462988713000735\n",
      "Gradient Descent(76/499): loss=0.3847412460627328, w0=0.019326500399534593, w1=-0.33763908563551526\n",
      "Gradient Descent(77/499): loss=0.3844599805324503, w0=0.019994168777732153, w1=-0.34062365928773486\n",
      "Gradient Descent(78/499): loss=0.3841832386825619, w0=0.02065290363359862, w1=-0.34358381243401687\n",
      "Gradient Descent(79/499): loss=0.38391094073736587, w0=0.021302849753381037, w1=-0.34651974776380934\n",
      "Gradient Descent(80/499): loss=0.38364300843046556, w0=0.02194414972819381, w1=-0.34943166633715733\n",
      "Gradient Descent(81/499): loss=0.38337936497275427, w0=0.02257694392838773, w1=-0.3523197676105465\n",
      "Gradient Descent(82/499): loss=0.38311993502123065, w0=0.023201370487149927, w1=-0.35518424946042304\n",
      "Gradient Descent(83/499): loss=0.3828646446486146, w0=0.023817565292077892, w1=-0.3580253082046812\n",
      "Gradient Descent(84/499): loss=0.38261342131372844, w0=0.024425661983626435, w1=-0.3608431386223735\n",
      "Gradient Descent(85/499): loss=0.38236619383262727, w0=0.025025791959463573, w1=-0.3636379339718676\n",
      "Gradient Descent(86/499): loss=0.38212289235044694, w0=0.025618084383891418, w1=-0.3664098860076468\n"
     ]
    },
    {
     "name": "stdout",
     "output_type": "stream",
     "text": [
      "Gradient Descent(87/499): loss=0.3818834483139468, w0=0.026202666201593304, w1=-0.36915918499592465\n",
      "Gradient Descent(88/499): loss=0.3816477944447275, w0=0.02677966215506151, w1=-0.37188601972922625\n",
      "Gradient Descent(89/499): loss=0.3814158647131001, w0=0.027349194805140704, w1=-0.3745905775400666\n",
      "Gradient Descent(90/499): loss=0.38118759431258803, w0=0.02791138455419367, w1=-0.3772730443138427\n",
      "Gradient Descent(91/499): loss=0.3809629196350407, w0=0.028466349671458644, w1=-0.37993360450104013\n",
      "Gradient Descent(92/499): loss=0.38074177824634386, w0=0.029014206320222214, w1=-0.3825724411288425\n",
      "Gradient Descent(93/499): loss=0.38052410886270227, w0=0.02955506858648004, w1=-0.38518973581222155\n",
      "Gradient Descent(94/499): loss=0.3803098513274864, w0=0.030089048508799933, w1=-0.3877856687645752\n",
      "Gradient Descent(95/499): loss=0.3800989465886178, w0=0.0306162561091388, w1=-0.3903604188079731\n",
      "Gradient Descent(96/499): loss=0.37989133667648556, w0=0.03113679942439753, w1=-0.392914163383061\n",
      "Gradient Descent(97/499): loss=0.37968696468237195, w0=0.031650784538526405, w1=-0.3954470785586688\n",
      "Gradient Descent(98/499): loss=0.37948577473737766, w0=0.032158315615018425, w1=-0.39795933904116204\n",
      "Gradient Descent(99/499): loss=0.37928771199182715, w0=0.03265949492965019, w1=-0.4004511181835711\n",
      "Gradient Descent(100/499): loss=0.3790927225951476, w0=0.03315442290334874, w1=-0.402922587994527\n",
      "Gradient Descent(101/499): loss=0.378900753676201, w0=0.03364319813507991, w1=-0.40537391914703086\n",
      "Gradient Descent(102/499): loss=0.3787117533240628, w0=0.03412591743466816, w1=-0.4078052809870783\n",
      "Gradient Descent(103/499): loss=0.37852567056922976, w0=0.03460267585547102, w1=-0.4102168415421598\n",
      "Gradient Descent(104/499): loss=0.37834245536524935, w0=0.035073566726842385, w1=-0.4126087675296521\n",
      "Gradient Descent(105/499): loss=0.3781620585707563, w0=0.03553868168632868, w1=-0.4149812243651166\n",
      "Gradient Descent(106/499): loss=0.3779844319319072, w0=0.03599811071155075, w1=-0.4173343761705169\n",
      "Gradient Descent(107/499): loss=0.3778095280652028, w0=0.03645194215173171, w1=-0.4196683857823661\n",
      "Gradient Descent(108/499): loss=0.37763730044068267, w0=0.0369002627588375, w1=-0.4219834147598132\n",
      "Gradient Descent(109/499): loss=0.3774677033654924, w0=0.03734315771830282, w1=-0.4242796233926773\n",
      "Gradient Descent(110/499): loss=0.37730069196780164, w0=0.03778071067931993, w1=-0.4265571707094347\n",
      "Gradient Descent(111/499): loss=0.3771362221810729, w0=0.03821300378467228, w1=-0.42881621448516705\n",
      "Gradient Descent(112/499): loss=0.37697425072866886, w0=0.03864011770009864, w1=-0.4310569112494728\n",
      "Gradient Descent(113/499): loss=0.3768147351087854, w0=0.0390621316431767, w1=-0.43327941629434824\n",
      "Gradient Descent(114/499): loss=0.37665763357971394, w0=0.039479123411718005, w1=-0.4354838836820401\n",
      "Gradient Descent(115/499): loss=0.37650290514540596, w0=0.03989116941166859, w1=-0.4376704662528734\n",
      "Gradient Descent(116/499): loss=0.37635050954135113, w0=0.04029834468451166, w1=-0.4398393156330562\n",
      "Gradient Descent(117/499): loss=0.376200407220751, w0=0.040700722934170715, w1=-0.4419905822424638\n",
      "Gradient Descent(118/499): loss=0.3760525593409785, w0=0.04109837655341297, w1=-0.44412441530240304\n",
      "Gradient Descent(119/499): loss=0.37590692775032497, w0=0.04149137664975434, w1=-0.4462409628433589\n",
      "Gradient Descent(120/499): loss=0.37576347497502127, w0=0.04187979307086843, w1=-0.4483403717127231\n",
      "Gradient Descent(121/499): loss=0.3756221642065265, w0=0.04226369442950289, w1=-0.4504227875825064\n",
      "Gradient Descent(122/499): loss=0.37548295928908104, w0=0.04264314812790754, w1=-0.45248835495703393\n",
      "Gradient Descent(123/499): loss=0.3753458247075147, w0=0.04301822038177905, w1=-0.45453721718062495\n",
      "Gradient Descent(124/499): loss=0.3752107255753034, w0=0.043388976243728, w1=-0.456569516445256\n",
      "Gradient Descent(125/499): loss=0.37507762762287356, w0=0.04375547962627422, w1=-0.45858539379820823\n",
      "Gradient Descent(126/499): loss=0.3749464971861388, w0=0.04411779332437699, w1=-0.46058498914969787\n",
      "Gradient Descent(127/499): loss=0.37481730119527445, w0=0.04447597903750691, w1=-0.4625684412804907\n",
      "Gradient Descent(128/499): loss=0.3746900071637151, w0=0.044830097391266616, w1=-0.46453588784949884\n",
      "Gradient Descent(129/499): loss=0.3745645831773746, w0=0.04518020795856754, w1=-0.4664874654013608\n",
      "Gradient Descent(130/499): loss=0.3744409978840841, w0=0.04552636928037032, w1=-0.4684233093740031\n",
      "Gradient Descent(131/499): loss=0.37431922048323996, w0=0.0458686388859964, w1=-0.4703435541061837\n",
      "Gradient Descent(132/499): loss=0.37419922071565614, w0=0.046207073313018446, w1=-0.47224833284501644\n",
      "Gradient Descent(133/499): loss=0.3740809688536231, w0=0.0465417281267375, w1=-0.4741377777534761\n",
      "Gradient Descent(134/499): loss=0.3739644356911589, w0=0.0468726579392544, w1=-0.47601201991788317\n",
      "Gradient Descent(135/499): loss=0.3738495925344557, w0=0.04719991642814334, w1=-0.4778711893553681\n",
      "Gradient Descent(136/499): loss=0.37373641119251455, w0=0.04752355635473531, w1=-0.4797154150213137\n",
      "Gradient Descent(137/499): loss=0.3736248639679609, w0=0.04784362958201905, w1=-0.4815448248167765\n",
      "Gradient Descent(138/499): loss=0.373514923648046, w0=0.04816018709216712, w1=-0.4833595455958845\n",
      "Gradient Descent(139/499): loss=0.3734065634958168, w0=0.04847327900369475, w1=-0.4851597031732125\n",
      "Gradient Descent(140/499): loss=0.37329975724146475, w0=0.048782954588258834, w1=-0.48694542233113314\n",
      "Gradient Descent(141/499): loss=0.37319447907383707, w0=0.04908926228710454, w1=-0.4887168268271438\n",
      "Gradient Descent(142/499): loss=0.3730907036321177, w0=0.04939224972716677, w1=-0.4904740394011684\n",
      "Gradient Descent(143/499): loss=0.37298840599766286, w0=0.04969196373683366, w1=-0.4922171817828335\n",
      "Gradient Descent(144/499): loss=0.37288756168600146, w0=0.04998845036137929, w1=-0.4939463746987185\n",
      "Gradient Descent(145/499): loss=0.37278814663898246, w0=0.05028175487807241, w1=-0.49566173787957846\n",
      "Gradient Descent(146/499): loss=0.3726901372170779, w0=0.05057192181096821, w1=-0.4973633900675406\n",
      "Gradient Descent(147/499): loss=0.3725935101918293, w0=0.05085899494538969, w1=-0.4990514490232721\n",
      "Gradient Descent(148/499): loss=0.37249824273844345, w0=0.05114301734210544, w1=-0.50072603153312\n",
      "Gradient Descent(149/499): loss=0.3724043124285234, w0=0.05142403135121013, w1=-0.5023872534162223\n",
      "Gradient Descent(150/499): loss=0.3723116972229413, w0=0.05170207862571423, w1=-0.5040352295315894\n",
      "Gradient Descent(151/499): loss=0.372220375464848, w0=0.051977200134849105, w1=-0.5056700737851563\n",
      "Gradient Descent(152/499): loss=0.3721303258728082, w0=0.05224943617709371, w1=-0.5072918991368036\n",
      "Gradient Descent(153/499): loss=0.37204152753407493, w0=0.05251882639292882, w1=-0.5089008176073494\n",
      "Gradient Descent(154/499): loss=0.3719539598979824, w0=0.052785409777324696, w1=-0.5104969402855084\n",
      "Gradient Descent(155/499): loss=0.3718676027694679, w0=0.05304922469196799, w1=-0.5120803773348205\n",
      "Gradient Descent(156/499): loss=0.3717824363027145, w0=0.05331030887723351, w1=-0.5136512380005473\n",
      "Gradient Descent(157/499): loss=0.37169844099491145, w0=0.05356869946390634, w1=-0.5152096306165367\n",
      "Gradient Descent(158/499): loss=0.3716155976801341, w0=0.0538244329846599, w1=-0.5167556626120537\n",
      "Gradient Descent(159/499): loss=0.37153388752333555, w0=0.05407754538529495, w1=-0.5182894405185802\n",
      "Gradient Descent(160/499): loss=0.3714532920144517, w0=0.05432807203574508, w1=-0.5198110699765793\n",
      "Gradient Descent(161/499): loss=0.37137379296261624, w0=0.05457604774085345, w1=-0.5213206557422285\n",
      "Gradient Descent(162/499): loss=0.37129537249048206, w0=0.054821506750926015, w1=-0.5228183016941166\n",
      "Gradient Descent(163/499): loss=0.37121801302864865, w0=0.0550644827720659, w1=-0.5243041108399084\n",
      "Gradient Descent(164/499): loss=0.371141697310194, w0=0.0553050089762938, w1=-0.5257781853229737\n",
      "Gradient Descent(165/499): loss=0.37106640836530547, w0=0.05554311801145903, w1=-0.5272406264289828\n",
      "Gradient Descent(166/499): loss=0.37099212951601096, w0=0.05577884201094579, w1=-0.5286915345924661\n",
      "Gradient Descent(167/499): loss=0.3709188443710069, w0=0.05601221260317905, w1=-0.5301310094033393\n",
      "Gradient Descent(168/499): loss=0.3708465368205831, w0=0.056243260920934506, w1=-0.5315591496133931\n",
      "Gradient Descent(169/499): loss=0.37077519103163775, w0=0.056472017610456816, w1=-0.5329760531427474\n",
      "Gradient Descent(170/499): loss=0.37070479144278656, w0=0.056698512840390264, w1=-0.5343818170862698\n",
      "Gradient Descent(171/499): loss=0.37063532275956135, w0=0.05692277631052598, w1=-0.5357765377199583\n",
      "Gradient Descent(172/499): loss=0.3705667699496951, w0=0.05714483726036968, w1=-0.5371603105072884\n"
     ]
    },
    {
     "name": "stdout",
     "output_type": "stream",
     "text": [
      "Gradient Descent(173/499): loss=0.37049911823849463, w0=0.05736472447753383, w1=-0.5385332301055237\n",
      "Gradient Descent(174/499): loss=0.37043235310429834, w0=0.057582466305958056, w1=-0.5398953903719897\n",
      "Gradient Descent(175/499): loss=0.3703664602740133, w0=0.05779809065396151, w1=-0.5412468843703128\n",
      "Gradient Descent(176/499): loss=0.3703014257187388, w0=0.05801162500213086, w1=-0.542587804376621\n",
      "Gradient Descent(177/499): loss=0.37023723564946637, w0=0.05822309641104747, w1=-0.5439182418857097\n",
      "Gradient Descent(178/499): loss=0.3701738765128568, w0=0.058432531528857246, w1=-0.5452382876171692\n",
      "Gradient Descent(179/499): loss=0.3701113349870989, w0=0.05863995659868658, w1=-0.5465480315214769\n",
      "Gradient Descent(180/499): loss=0.3700495979778368, w0=0.05884539746590768, w1=-0.547847562786052\n",
      "Gradient Descent(181/499): loss=0.3699886526141758, w0=0.05904887958525661, w1=-0.549136969841273\n",
      "Gradient Descent(182/499): loss=0.36992848624476, w0=0.05925042802780721, w1=-0.5504163403664593\n",
      "Gradient Descent(183/499): loss=0.369869086433919, w0=0.05945006748780393, w1=-0.5516857612958147\n",
      "Gradient Descent(184/499): loss=0.36981044095788335, w0=0.05964782228935681, w1=-0.5529453188243347\n",
      "Gradient Descent(185/499): loss=0.369752537801075, w0=0.05984371639300137, w1=-0.5541950984136766\n",
      "Gradient Descent(186/499): loss=0.3696953651524538, w0=0.060037773402126494, w1=-0.5554351847979925\n",
      "Gradient Descent(187/499): loss=0.36963891140194016, w0=0.06023001656927307, w1=-0.5566656619897247\n",
      "Gradient Descent(188/499): loss=0.36958316513689526, w0=0.060420468802306226, w1=-0.5578866132853654\n",
      "Gradient Descent(189/499): loss=0.36952811513866746, w0=0.0606091526704638, w1=-0.5590981212711781\n",
      "Gradient Descent(190/499): loss=0.3694737503792015, w0=0.06079609041028384, w1=-0.5603002678288828\n",
      "Gradient Descent(191/499): loss=0.3694200600177049, w0=0.06098130393141359, w1=-0.5614931341413034\n",
      "Gradient Descent(192/499): loss=0.36936703339737853, w0=0.06116481482230266, w1=-0.5626768006979792\n",
      "Gradient Descent(193/499): loss=0.3693146600422028, w0=0.06134664435578273, w1=-0.5638513473007383\n",
      "Gradient Descent(194/499): loss=0.3692629296537825, w0=0.06152681349453632, w1=-0.565016853069235\n",
      "Gradient Descent(195/499): loss=0.36921183210824704, w0=0.06170534289645698, w1=-0.5661733964464502\n",
      "Gradient Descent(196/499): loss=0.36916135745320966, w0=0.061882252919903215, w1=-0.5673210552041542\n",
      "Gradient Descent(197/499): loss=0.369111495904775, w0=0.062057563628848414, w1=-0.5684599064483343\n",
      "Gradient Descent(198/499): loss=0.3690622378446045, w0=0.062231294797929076, w1=-0.569590026624584\n",
      "Gradient Descent(199/499): loss=0.36901357381703415, w0=0.06240346591739339, w1=-0.570711491523457\n",
      "Gradient Descent(200/499): loss=0.3689654945262413, w0=0.06257409619795243, w1=-0.5718243762857838\n",
      "Gradient Descent(201/499): loss=0.36891799083346277, w0=0.06274320457553596, w1=-0.5729287554079522\n",
      "Gradient Descent(202/499): loss=0.3688710537542639, w0=0.06291080971595489, w1=-0.5740247027471518\n",
      "Gradient Descent(203/499): loss=0.3688246744558532, w0=0.06307693001947241, w1=-0.5751122915265812\n",
      "Gradient Descent(204/499): loss=0.3687788442544492, w0=0.06324158362528574, w1=-0.5761915943406202\n",
      "Gradient Descent(205/499): loss=0.36873355461268975, w0=0.06340478841592039, w1=-0.577262683159965\n",
      "Gradient Descent(206/499): loss=0.3686887971370887, w0=0.06356656202153871, w1=-0.5783256293367282\n",
      "Gradient Descent(207/499): loss=0.3686445635755386, w0=0.06372692182416478, w1=-0.5793805036095019\n",
      "Gradient Descent(208/499): loss=0.3686008458148584, w0=0.06388588496182712, w1=-0.5804273761083864\n",
      "Gradient Descent(209/499): loss=0.36855763587838075, w0=0.06404346833262119, w1=-0.5814663163599818\n",
      "Gradient Descent(210/499): loss=0.3685149259235866, w0=0.06419968859869328, w1=-0.5824973932923456\n",
      "Gradient Descent(211/499): loss=0.3684727082397784, w0=0.06435456219014746, w1=-0.5835206752399132\n",
      "Gradient Descent(212/499): loss=0.3684309752457971, w0=0.06450810530887727, w1=-0.5845362299483847\n",
      "Gradient Descent(213/499): loss=0.3683897194877775, w0=0.06466033393232365, w1=-0.5855441245795754\n",
      "Gradient Descent(214/499): loss=0.368348933636943, w0=0.06481126381716078, w1=-0.5865444257162317\n",
      "Gradient Descent(215/499): loss=0.3683086104874415, w0=0.0649609105029112, w1=-0.5875371993668124\n",
      "Gradient Descent(216/499): loss=0.3682687429542183, w0=0.06510928931549188, w1=-0.5885225109702348\n",
      "Gradient Descent(217/499): loss=0.3682293240709253, w0=0.0652564153706926, w1=-0.5895004254005861\n",
      "Gradient Descent(218/499): loss=0.36819034698786973, w0=0.06540230357758794, w1=-0.590471006971801\n",
      "Gradient Descent(219/499): loss=0.36815180496999594, w0=0.0655469686418846, w1=-0.591434319442304\n",
      "Gradient Descent(220/499): loss=0.36811369139490646, w0=0.065690425069205, w1=-0.5923904260196182\n",
      "Gradient Descent(221/499): loss=0.3680759997509139, w0=0.06583268716830892, w1=-0.5933393893649402\n",
      "Gradient Descent(222/499): loss=0.3680387236351299, w0=0.06597376905425406, w1=-0.5942812715976804\n",
      "Gradient Descent(223/499): loss=0.3680018567515875, w0=0.06611368465149713, w1=-0.59521613429997\n",
      "Gradient Descent(224/499): loss=0.3679653929093948, w0=0.06625244769693651, w1=-0.5961440385211345\n",
      "Gradient Descent(225/499): loss=0.36792932602092343, w0=0.06639007174289788, w1=-0.5970650447821336\n",
      "Gradient Descent(226/499): loss=0.3678936501000264, w0=0.06652657016006372, w1=-0.5979792130799677\n",
      "Gradient Descent(227/499): loss=0.36785835926028965, w0=0.0666619561403482, w1=-0.5988866028920518\n",
      "Gradient Descent(228/499): loss=0.36782344771331255, w0=0.06679624269971836, w1=-0.5997872731805555\n",
      "Gradient Descent(229/499): loss=0.3677889097670193, w0=0.06692944268096272, w1=-0.6006812823967117\n",
      "Gradient Descent(230/499): loss=0.3677547398240005, w0=0.06706156875640858, w1=-0.6015686884850912\n",
      "Gradient Descent(231/499): loss=0.3677209323798821, w0=0.06719263343058873, w1=-0.6024495488878455\n",
      "Gradient Descent(232/499): loss=0.3676874820217253, w0=0.06732264904285913, w1=-0.6033239205489176\n",
      "Gradient Descent(233/499): loss=0.36765438342645185, w0=0.06745162776996796, w1=-0.60419185991822\n",
      "Gradient Descent(234/499): loss=0.36762163135929954, w0=0.06757958162857766, w1=-0.6050534229557814\n",
      "Gradient Descent(235/499): loss=0.3675892206723034, w0=0.0677065224777404, w1=-0.605908665135861\n",
      "Gradient Descent(236/499): loss=0.3675571463028024, w0=0.06783246202132825, w1=-0.606757641451032\n",
      "Gradient Descent(237/499): loss=0.3675254032719755, w0=0.06795741181041906, w1=-0.6076004064162327\n",
      "Gradient Descent(238/499): loss=0.3674939866833999, w0=0.06808138324563849, w1=-0.6084370140727874\n",
      "Gradient Descent(239/499): loss=0.3674628917216364, w0=0.06820438757945971, w1=-0.6092675179923951\n",
      "Gradient Descent(240/499): loss=0.36743211365083894, w0=0.06832643591846113, w1=-0.6100919712810882\n",
      "Gradient Descent(241/499): loss=0.3674016478133888, w0=0.06844753922554336, w1=-0.6109104265831601\n",
      "Gradient Descent(242/499): loss=0.36737148962855215, w0=0.06856770832210597, w1=-0.6117229360850621\n",
      "Gradient Descent(243/499): loss=0.36734163459116154, w0=0.06868695389018512, w1=-0.6125295515192705\n",
      "Gradient Descent(244/499): loss=0.3673120782703202, w0=0.06880528647455263, w1=-0.6133303241681224\n",
      "Gradient Descent(245/499): loss=0.36728281630812953, w0=0.06892271648477746, w1=-0.6141253048676227\n",
      "Gradient Descent(246/499): loss=0.36725384441843645, w0=0.06903925419725024, w1=-0.6149145440112209\n",
      "Gradient Descent(247/499): loss=0.36722515838560665, w0=0.06915490975717163, w1=-0.6156980915535575\n",
      "Gradient Descent(248/499): loss=0.3671967540633151, w0=0.06926969318050535, w1=-0.6164759970141815\n",
      "Gradient Descent(249/499): loss=0.3671686273733609, w0=0.06938361435589636, w1=-0.6172483094812394\n",
      "Gradient Descent(250/499): loss=0.3671407743045013, w0=0.0694966830465552, w1=-0.6180150776151333\n",
      "Gradient Descent(251/499): loss=0.3671131909113047, w0=0.06960890889210884, w1=-0.6187763496521514\n",
      "Gradient Descent(252/499): loss=0.36708587331302744, w0=0.06972030141041907, w1=-0.6195321734080695\n",
      "Gradient Descent(253/499): loss=0.3670588176925056, w0=0.06983086999936874, w1=-0.6202825962817233\n",
      "Gradient Descent(254/499): loss=0.3670320202950703, w0=0.06994062393861675, w1=-0.6210276652585532\n",
      "Gradient Descent(255/499): loss=0.367005477427478, w0=0.07004957239132228, w1=-0.6217674269141203\n",
      "Gradient Descent(256/499): loss=0.3669791854568636, w0=0.070157724405839, w1=-0.6225019274175944\n"
     ]
    },
    {
     "name": "stdout",
     "output_type": "stream",
     "text": [
      "Gradient Descent(257/499): loss=0.3669531408097064, w0=0.07026508891737966, w1=-0.623231212535214\n",
      "Gradient Descent(258/499): loss=0.36692733997082033, w0=0.07037167474965184, w1=-0.6239553276337194\n",
      "Gradient Descent(259/499): loss=0.3669017794823572, w0=0.07047749061646535, w1=-0.6246743176837575\n",
      "Gradient Descent(260/499): loss=0.36687645594282725, w0=0.07058254512331195, w1=-0.6253882272632592\n",
      "Gradient Descent(261/499): loss=0.3668513660061411, w0=0.07068684676891772, w1=-0.6260971005607903\n",
      "Gradient Descent(262/499): loss=0.3668265063806625, w0=0.07079040394676878, w1=-0.6268009813788751\n",
      "Gradient Descent(263/499): loss=0.3668018738282822, w0=0.07089322494661097, w1=-0.6274999131372933\n",
      "Gradient Descent(264/499): loss=0.36677746516350546, w0=0.07099531795592381, w1=-0.6281939388763498\n",
      "Gradient Descent(265/499): loss=0.3667532772525562, w0=0.07109669106136932, w1=-0.628883101260119\n",
      "Gradient Descent(266/499): loss=0.3667293070124956, w0=0.07119735225021626, w1=-0.6295674425796622\n",
      "Gradient Descent(267/499): loss=0.36670555141035877, w0=0.07129730941174026, w1=-0.630247004756219\n",
      "Gradient Descent(268/499): loss=0.3666820074623034, w0=0.07139657033860018, w1=-0.6309218293443728\n",
      "Gradient Descent(269/499): loss=0.3666586722327743, w0=0.07149514272819135, w1=-0.631591957535191\n",
      "Gradient Descent(270/499): loss=0.36663554283368316, w0=0.07159303418397601, w1=-0.6322574301593393\n",
      "Gradient Descent(271/499): loss=0.3666126164236013, w0=0.07169025221679151, w1=-0.6329182876901703\n",
      "Gradient Descent(272/499): loss=0.366589890206967, w0=0.07178680424613657, w1=-0.6335745702467878\n",
      "Gradient Descent(273/499): loss=0.36656736143330626, w0=0.07188269760143609, w1=-0.6342263175970853\n",
      "Gradient Descent(274/499): loss=0.3665450273964692, w0=0.07197793952328504, w1=-0.6348735691607601\n",
      "Gradient Descent(275/499): loss=0.3665228854338757, w0=0.07207253716467162, w1=-0.6355163640123027\n",
      "Gradient Descent(276/499): loss=0.3665009329257766, w0=0.07216649759218019, w1=-0.6361547408839615\n",
      "Gradient Descent(277/499): loss=0.36647916729452795, w0=0.0722598277871745, w1=-0.6367887381686832\n",
      "Gradient Descent(278/499): loss=0.3664575860038779, w0=0.07235253464696136, w1=-0.6374183939230296\n",
      "Gradient Descent(279/499): loss=0.3664361865582635, w0=0.07244462498593524, w1=-0.6380437458700696\n",
      "Gradient Descent(280/499): loss=0.366414966502122, w0=0.07253610553670424, w1=-0.6386648314022484\n",
      "Gradient Descent(281/499): loss=0.36639392341921506, w0=0.07262698295119767, w1=-0.6392816875842317\n",
      "Gradient Descent(282/499): loss=0.3663730549319608, w0=0.07271726380175558, w1=-0.6398943511557278\n",
      "Gradient Descent(283/499): loss=0.36635235870078087, w0=0.07280695458220075, w1=-0.6405028585342862\n",
      "Gradient Descent(284/499): loss=0.3663318324234579, w0=0.0728960617088933, w1=-0.6411072458180721\n",
      "Gradient Descent(285/499): loss=0.366311473834503, w0=0.07298459152176828, w1=-0.641707548788619\n",
      "Gradient Descent(286/499): loss=0.366291280704535, w0=0.0730725502853567, w1=-0.6423038029135582\n",
      "Gradient Descent(287/499): loss=0.36627125083967127, w0=0.07315994418979012, w1=-0.6428960433493254\n",
      "Gradient Descent(288/499): loss=0.366251382080927, w0=0.07324677935178925, w1=-0.6434843049438455\n",
      "Gradient Descent(289/499): loss=0.3662316723036274, w0=0.07333306181563679, w1=-0.6440686222391945\n",
      "Gradient Descent(290/499): loss=0.36621211941682724, w0=0.07341879755413486, w1=-0.6446490294742396\n",
      "Gradient Descent(291/499): loss=0.36619272136274283, w0=0.07350399246954727, w1=-0.6452255605872574\n",
      "Gradient Descent(292/499): loss=0.3661734761161925, w0=0.0735886523945269, w1=-0.64579824921853\n",
      "Gradient Descent(293/499): loss=0.36615438168404685, w0=0.07367278309302853, w1=-0.6463671287129199\n",
      "Gradient Descent(294/499): loss=0.36613543610468885, w0=0.07375639026120738, w1=-0.6469322321224231\n",
      "Gradient Descent(295/499): loss=0.36611663744748424, w0=0.07383947952830348, w1=-0.6474935922087012\n",
      "Gradient Descent(296/499): loss=0.36609798381225767, w0=0.07392205645751244, w1=-0.648051241445592\n",
      "Gradient Descent(297/499): loss=0.3660794733287813, w0=0.07400412654684252, w1=-0.6486052120215997\n",
      "Gradient Descent(298/499): loss=0.36606110415627197, w0=0.07408569522995853, w1=-0.6491555358423636\n",
      "Gradient Descent(299/499): loss=0.3660428744828942, w0=0.07416676787701267, w1=-0.6497022445331064\n",
      "Gradient Descent(300/499): loss=0.3660247825252755, w0=0.07424734979546252, w1=-0.6502453694410625\n",
      "Gradient Descent(301/499): loss=0.3660068265280273, w0=0.07432744623087656, w1=-0.650784941637885\n",
      "Gradient Descent(302/499): loss=0.3659890047632739, w0=0.07440706236772729, w1=-0.6513209919220336\n",
      "Gradient Descent(303/499): loss=0.36597131553019296, w0=0.07448620333017232, w1=-0.6518535508211415\n",
      "Gradient Descent(304/499): loss=0.36595375715456036, w0=0.07456487418282348, w1=-0.6523826485943627\n",
      "Gradient Descent(305/499): loss=0.36593632798830356, w0=0.07464307993150436, w1=-0.6529083152347002\n",
      "Gradient Descent(306/499): loss=0.3659190264090646, w0=0.07472082552399635, w1=-0.6534305804713136\n",
      "Gradient Descent(307/499): loss=0.3659018508197679, w0=0.07479811585077342, w1=-0.6539494737718085\n",
      "Gradient Descent(308/499): loss=0.3658847996481973, w0=0.07487495574572592, w1=-0.6544650243445047\n",
      "Gradient Descent(309/499): loss=0.3658678713465805, w0=0.07495134998687344, w1=-0.654977261140688\n",
      "Gradient Descent(310/499): loss=0.3658510643911793, w0=0.07502730329706715, w1=-0.6554862128568404\n",
      "Gradient Descent(311/499): loss=0.36583437728188795, w0=0.07510282034468155, w1=-0.655991907936853\n",
      "Gradient Descent(312/499): loss=0.3658178085418371, w0=0.07517790574429604, w1=-0.6564943745742201\n",
      "Gradient Descent(313/499): loss=0.36580135671700775, w0=0.07525256405736641, w1=-0.656993640714214\n",
      "Gradient Descent(314/499): loss=0.36578502037584687, w0=0.07532679979288633, w1=-0.6574897340560419\n",
      "Gradient Descent(315/499): loss=0.3657687981088953, w0=0.07540061740803918, w1=-0.6579826820549854\n",
      "Gradient Descent(316/499): loss=0.3657526885284158, w0=0.07547402130884037, w1=-0.6584725119245198\n",
      "Gradient Descent(317/499): loss=0.3657366902680343, w0=0.07554701585077016, w1=-0.6589592506384178\n",
      "Gradient Descent(318/499): loss=0.36572080198237983, w0=0.07561960533939734, w1=-0.6594429249328333\n",
      "Gradient Descent(319/499): loss=0.3657050223467384, w0=0.0756917940309938, w1=-0.6599235613083695\n",
      "Gradient Descent(320/499): loss=0.3656893500567072, w0=0.07576358613314023, w1=-0.6604011860321279\n",
      "Gradient Descent(321/499): loss=0.3656737838278556, w0=0.0758349858053231, w1=-0.6608758251397406\n",
      "Gradient Descent(322/499): loss=0.3656583223953952, w0=0.07590599715952293, w1=-0.6613475044373851\n",
      "Gradient Descent(323/499): loss=0.3656429645138511, w0=0.07597662426079428, w1=-0.6618162495037824\n",
      "Gradient Descent(324/499): loss=0.3656277089567424, w0=0.07604687112783731, w1=-0.6622820856921775\n",
      "Gradient Descent(325/499): loss=0.3656125545162657, w0=0.07611674173356127, w1=-0.6627450381323037\n",
      "Gradient Descent(326/499): loss=0.3655975000029856, w0=0.0761862400056399, w1=-0.6632051317323295\n",
      "Gradient Descent(327/499): loss=0.36558254424552994, w0=0.07625536982705904, w1=-0.6636623911807898\n",
      "Gradient Descent(328/499): loss=0.36556768609028967, w0=0.07632413503665646, w1=-0.6641168409484997\n",
      "Gradient Descent(329/499): loss=0.3655529244011252, w0=0.07639253942965406, w1=-0.6645685052904523\n",
      "Gradient Descent(330/499): loss=0.365538258059077, w0=0.07646058675818264, w1=-0.6650174082477012\n",
      "Gradient Descent(331/499): loss=0.3655236859620796, w0=0.07652828073179928, w1=-0.6654635736492253\n",
      "Gradient Descent(332/499): loss=0.3655092070246846, w0=0.07659562501799752, w1=-0.6659070251137791\n",
      "Gradient Descent(333/499): loss=0.3654948201777834, w0=0.07666262324271045, w1=-0.6663477860517267\n",
      "Gradient Descent(334/499): loss=0.3654805243683388, w0=0.07672927899080678, w1=-0.66678587966686\n",
      "Gradient Descent(335/499): loss=0.3654663185591188, w0=0.07679559580658005, w1=-0.6672213289582011\n",
      "Gradient Descent(336/499): loss=0.36545220172843595, w0=0.07686157719423115, w1=-0.6676541567217903\n",
      "Gradient Descent(337/499): loss=0.3654381728698903, w0=0.07692722661834411, w1=-0.6680843855524579\n",
      "Gradient Descent(338/499): loss=0.36542423099211807, w0=0.07699254750435548, w1=-0.668512037845581\n",
      "Gradient Descent(339/499): loss=0.36541037511854335, w0=0.07705754323901716, w1=-0.6689371357988255\n",
      "Gradient Descent(340/499): loss=0.3653966042871347, w0=0.077122217170853, w1=-0.6693597014138731\n"
     ]
    },
    {
     "name": "stdout",
     "output_type": "stream",
     "text": [
      "Gradient Descent(341/499): loss=0.3653829175501657, w0=0.07718657261060924, w1=-0.6697797564981334\n",
      "Gradient Descent(342/499): loss=0.3653693139739794, w0=0.0772506128316987, w1=-0.6701973226664413\n",
      "Gradient Descent(343/499): loss=0.36535579263875756, w0=0.07731434107063916, w1=-0.67061242134274\n",
      "Gradient Descent(344/499): loss=0.36534235263829257, w0=0.07737776052748563, w1=-0.6710250737617496\n",
      "Gradient Descent(345/499): loss=0.3653289930797648, w0=0.07744087436625698, w1=-0.6714353009706211\n",
      "Gradient Descent(346/499): loss=0.3653157130835216, w0=0.07750368571535678, w1=-0.6718431238305765\n",
      "Gradient Descent(347/499): loss=0.36530251178286344, w0=0.07756619766798853, w1=-0.6722485630185349\n",
      "Gradient Descent(348/499): loss=0.36528938832382907, w0=0.07762841328256535, w1=-0.6726516390287237\n",
      "Gradient Descent(349/499): loss=0.36527634186498925, w0=0.07769033558311426, w1=-0.6730523721742777\n",
      "Gradient Descent(350/499): loss=0.36526337157723976, w0=0.07775196755967512, w1=-0.6734507825888226\n",
      "Gradient Descent(351/499): loss=0.36525047664360144, w0=0.0778133121686942, w1=-0.6738468902280461\n",
      "Gradient Descent(352/499): loss=0.36523765625902027, w0=0.07787437233341271, w1=-0.674240714871255\n",
      "Gradient Descent(353/499): loss=0.3652249096301743, w0=0.07793515094425019, w1=-0.6746322761229191\n",
      "Gradient Descent(354/499): loss=0.3652122359752813, w0=0.0779956508591828, w1=-0.6750215934142016\n",
      "Gradient Descent(355/499): loss=0.36519963452390936, w0=0.07805587490411675, w1=-0.6754086860044768\n",
      "Gradient Descent(356/499): loss=0.3651871045167948, w0=0.07811582587325691, w1=-0.6757935729828335\n",
      "Gradient Descent(357/499): loss=0.36517464520565734, w0=0.07817550652947049, w1=-0.6761762732695673\n",
      "Gradient Descent(358/499): loss=0.3651622558530226, w0=0.0782349196046462, w1=-0.6765568056176584\n",
      "Gradient Descent(359/499): loss=0.3651499357320471, w0=0.07829406780004859, w1=-0.6769351886142376\n",
      "Gradient Descent(360/499): loss=0.36513768412634323, w0=0.07835295378666803, w1=-0.6773114406820393\n",
      "Gradient Descent(361/499): loss=0.3651255003298114, w0=0.07841158020556598, w1=-0.6776855800808418\n",
      "Gradient Descent(362/499): loss=0.36511338364647294, w0=0.07846994966821604, w1=-0.6780576249088958\n",
      "Gradient Descent(363/499): loss=0.36510133339030404, w0=0.07852806475684049, w1=-0.6784275931043399\n",
      "Gradient Descent(364/499): loss=0.36508934888507716, w0=0.07858592802474268, w1=-0.6787955024466041\n",
      "Gradient Descent(365/499): loss=0.36507742946419985, w0=0.0786435419966351, w1=-0.6791613705578016\n",
      "Gradient Descent(366/499): loss=0.3650655744705614, w0=0.07870090916896334, w1=-0.6795252149041074\n",
      "Gradient Descent(367/499): loss=0.36505378325637666, w0=0.07875803201022595, w1=-0.6798870527971268\n",
      "Gradient Descent(368/499): loss=0.36504205518303723, w0=0.0788149129612903, w1=-0.6802469013952501\n",
      "Gradient Descent(369/499): loss=0.3650303896209629, w0=0.07887155443570441, w1=-0.6806047777049974\n",
      "Gradient Descent(370/499): loss=0.3650187859494567, w0=0.07892795882000497, w1=-0.68096069858235\n",
      "Gradient Descent(371/499): loss=0.3650072435565601, w0=0.0789841284740214, w1=-0.681314680734072\n",
      "Gradient Descent(372/499): loss=0.36499576183891336, w0=0.07904006573117622, w1=-0.6816667407190191\n",
      "Gradient Descent(373/499): loss=0.36498434020161713, w0=0.07909577289878161, w1=-0.6820168949494371\n",
      "Gradient Descent(374/499): loss=0.3649729780580958, w0=0.07915125225833237, w1=-0.682365159692248\n",
      "Gradient Descent(375/499): loss=0.36496167482996467, w0=0.07920650606579518, w1=-0.6827115510703263\n",
      "Gradient Descent(376/499): loss=0.3649504299468978, w0=0.07926153655189437, w1=-0.6830560850637633\n",
      "Gradient Descent(377/499): loss=0.36493924284649876, w0=0.07931634592239409, w1=-0.6833987775111205\n",
      "Gradient Descent(378/499): loss=0.3649281129741739, w0=0.07937093635837708, w1=-0.683739644110673\n",
      "Gradient Descent(379/499): loss=0.3649170397830073, w0=0.07942531001652002, w1=-0.6840787004216408\n",
      "Gradient Descent(380/499): loss=0.3649060227336373, w0=0.07947946902936553, w1=-0.6844159618654103\n",
      "Gradient Descent(381/499): loss=0.36489506129413696, w0=0.07953341550559077, w1=-0.6847514437267456\n",
      "Gradient Descent(382/499): loss=0.36488415493989457, w0=0.07958715153027292, w1=-0.6850851611549877\n",
      "Gradient Descent(383/499): loss=0.3648733031534958, w0=0.07964067916515129, w1=-0.6854171291652453\n",
      "Gradient Descent(384/499): loss=0.3648625054246126, w0=0.0796940004488864, w1=-0.6857473626395735\n",
      "Gradient Descent(385/499): loss=0.3648517612498856, w0=0.07974711739731584, w1=-0.6860758763281433\n",
      "Gradient Descent(386/499): loss=0.36484107013281664, w0=0.07980003200370708, w1=-0.6864026848504008\n",
      "Gradient Descent(387/499): loss=0.36483043158365835, w0=0.07985274623900727, w1=-0.6867278026962164\n",
      "Gradient Descent(388/499): loss=0.36481984511930743, w0=0.07990526205208999, w1=-0.6870512442270232\n",
      "Gradient Descent(389/499): loss=0.3648093102631985, w0=0.07995758136999913, w1=-0.6873730236769469\n",
      "Gradient Descent(390/499): loss=0.3647988265452008, w0=0.08000970609818978, w1=-0.6876931551539244\n",
      "Gradient Descent(391/499): loss=0.36478839350151676, w0=0.08006163812076632, w1=-0.688011652640814\n",
      "Gradient Descent(392/499): loss=0.3647780106745814, w0=0.08011337930071766, w1=-0.6883285299964951\n",
      "Gradient Descent(393/499): loss=0.36476767761296364, w0=0.08016493148014968, w1=-0.6886438009569585\n",
      "Gradient Descent(394/499): loss=0.36475739387126954, w0=0.08021629648051494, w1=-0.6889574791363876\n",
      "Gradient Descent(395/499): loss=0.36474715901004684, w0=0.08026747610283971, w1=-0.6892695780282297\n",
      "Gradient Descent(396/499): loss=0.36473697259569215, w0=0.08031847212794825, w1=-0.6895801110062583\n",
      "Gradient Descent(397/499): loss=0.36472683420035834, w0=0.08036928631668455, w1=-0.6898890913256258\n",
      "Gradient Descent(398/499): loss=0.3647167434018632, w0=0.08041992041013142, w1=-0.6901965321239077\n",
      "Gradient Descent(399/499): loss=0.36470669978360204, w0=0.08047037612982702, w1=-0.6905024464221371\n",
      "Gradient Descent(400/499): loss=0.36469670293445844, w0=0.08052065517797888, w1=-0.6908068471258302\n",
      "Gradient Descent(401/499): loss=0.3646867524487199, w0=0.08057075923767544, w1=-0.6911097470260033\n",
      "Gradient Descent(402/499): loss=0.36467684792599203, w0=0.08062068997309511, w1=-0.6914111588001806\n",
      "Gradient Descent(403/499): loss=0.36466698897111494, w0=0.08067044902971293, w1=-0.6917110950133936\n",
      "Gradient Descent(404/499): loss=0.36465717519408347, w0=0.0807200380345048, w1=-0.692009568119171\n",
      "Gradient Descent(405/499): loss=0.36464740620996466, w0=0.08076945859614941, w1=-0.6923065904605212\n",
      "Gradient Descent(406/499): loss=0.36463768163881893, w0=0.08081871230522779, w1=-0.6926021742709049\n",
      "Gradient Descent(407/499): loss=0.36462800110562354, w0=0.08086780073442061, w1=-0.6928963316751999\n",
      "Gradient Descent(408/499): loss=0.364618364240195, w0=0.08091672543870321, w1=-0.6931890746906582\n",
      "Gradient Descent(409/499): loss=0.36460877067711417, w0=0.08096548795553833, w1=-0.693480415227853\n",
      "Gradient Descent(410/499): loss=0.36459922005565193, w0=0.08101408980506676, w1=-0.693770365091619\n",
      "Gradient Descent(411/499): loss=0.3645897120196969, w0=0.08106253249029571, w1=-0.6940589359819842\n",
      "Gradient Descent(412/499): loss=0.3645802462176843, w0=0.08111081749728508, w1=-0.6943461394950925\n",
      "Gradient Descent(413/499): loss=0.36457082230252486, w0=0.0811589462953316, w1=-0.69463198712412\n",
      "Gradient Descent(414/499): loss=0.36456143993153484, w0=0.08120692033715092, w1=-0.6949164902601817\n",
      "Gradient Descent(415/499): loss=0.3645520987663706, w0=0.08125474105905758, w1=-0.6951996601932311\n",
      "Gradient Descent(416/499): loss=0.3645427984729592, w0=0.08130240988114298, w1=-0.6954815081129523\n",
      "Gradient Descent(417/499): loss=0.364533538721434, w0=0.08134992820745134, w1=-0.6957620451096431\n",
      "Gradient Descent(418/499): loss=0.36452431918606965, w0=0.08139729742615366, w1=-0.6960412821750919\n",
      "Gradient Descent(419/499): loss=0.3645151395452177, w0=0.08144451890971978, w1=-0.6963192302034452\n",
      "Gradient Descent(420/499): loss=0.3645059994812462, w0=0.08149159401508843, w1=-0.6965958999920694\n",
      "Gradient Descent(421/499): loss=0.3644968986804746, w0=0.08153852408383544, w1=-0.6968713022424037\n",
      "Gradient Descent(422/499): loss=0.3644878368331176, w0=0.08158531044234005, w1=-0.6971454475608061\n",
      "Gradient Descent(423/499): loss=0.36447881363322193, w0=0.08163195440194931, w1=-0.697418346459392\n"
     ]
    },
    {
     "name": "stdout",
     "output_type": "stream",
     "text": [
      "Gradient Descent(424/499): loss=0.3644698287786097, w0=0.08167845725914077, w1=-0.6976900093568653\n",
      "Gradient Descent(425/499): loss=0.36446088197082105, w0=0.08172482029568323, w1=-0.6979604465793423\n",
      "Gradient Descent(426/499): loss=0.3644519729150561, w0=0.08177104477879578, w1=-0.6982296683611685\n",
      "Gradient Descent(427/499): loss=0.3644431013201209, w0=0.08181713196130506, w1=-0.6984976848457283\n",
      "Gradient Descent(428/499): loss=0.36443426689837155, w0=0.0818630830818008, w1=-0.6987645060862472\n",
      "Gradient Descent(429/499): loss=0.36442546936566095, w0=0.08190889936478955, w1=-0.6990301420465878\n",
      "Gradient Descent(430/499): loss=0.36441670844128604, w0=0.08195458202084685, w1=-0.6992946026020377\n",
      "Gradient Descent(431/499): loss=0.36440798384793466, w0=0.08200013224676761, w1=-0.6995578975400919\n",
      "Gradient Descent(432/499): loss=0.3643992953116352, w0=0.08204555122571491, w1=-0.6998200365612272\n",
      "Gradient Descent(433/499): loss=0.36439064256170683, w0=0.08209084012736712, w1=-0.7000810292796699\n",
      "Gradient Descent(434/499): loss=0.364382025330708, w0=0.08213600010806339, w1=-0.7003408852241578\n",
      "Gradient Descent(435/499): loss=0.36437344335439026, w0=0.08218103231094766, w1=-0.7005996138386945\n",
      "Gradient Descent(436/499): loss=0.3643648963716476, w0=0.08222593786611089, w1=-0.7008572244832976\n",
      "Gradient Descent(437/499): loss=0.36435638412447147, w0=0.08227071789073197, w1=-0.7011137264347399\n",
      "Gradient Descent(438/499): loss=0.364347906357904, w0=0.08231537348921691, w1=-0.7013691288872849\n",
      "Gradient Descent(439/499): loss=0.3643394628199905, w0=0.08235990575333663, w1=-0.7016234409534149\n",
      "Gradient Descent(440/499): loss=0.36433105326173754, w0=0.08240431576236315, w1=-0.7018766716645537\n",
      "Gradient Descent(441/499): loss=0.3643226774370675, w0=0.08244860458320442, w1=-0.702128829971782\n",
      "Gradient Descent(442/499): loss=0.36431433510277383, w0=0.08249277327053758, w1=-0.7023799247465476\n",
      "Gradient Descent(443/499): loss=0.36430602601848056, w0=0.08253682286694083, w1=-0.7026299647813683\n",
      "Gradient Descent(444/499): loss=0.364297749946599, w0=0.08258075440302387, w1=-0.7028789587905293\n",
      "Gradient Descent(445/499): loss=0.3642895066522872, w0=0.08262456889755689, w1=-0.7031269154107744\n",
      "Gradient Descent(446/499): loss=0.36428129590340796, w0=0.08266826735759825, w1=-0.7033738432019913\n",
      "Gradient Descent(447/499): loss=0.36427311747049085, w0=0.0827118507786207, w1=-0.7036197506478901\n",
      "Gradient Descent(448/499): loss=0.3642649711266913, w0=0.0827553201446363, w1=-0.7038646461566771\n",
      "Gradient Descent(449/499): loss=0.36425685664775226, w0=0.08279867642831994, w1=-0.7041085380617217\n",
      "Gradient Descent(450/499): loss=0.36424877381196696, w0=0.08284192059113157, w1=-0.7043514346222178\n",
      "Gradient Descent(451/499): loss=0.3642407224001407, w0=0.08288505358343716, w1=-0.7045933440238396\n",
      "Gradient Descent(452/499): loss=0.3642327021955538, w0=0.08292807634462826, w1=-0.704834274379391\n",
      "Gradient Descent(453/499): loss=0.3642247129839265, w0=0.08297098980324034, w1=-0.7050742337294503\n",
      "Gradient Descent(454/499): loss=0.36421675455338226, w0=0.08301379487706992, w1=-0.7053132300430086\n",
      "Gradient Descent(455/499): loss=0.3642088266944127, w0=0.08305649247329032, w1=-0.7055512712181026\n",
      "Gradient Descent(456/499): loss=0.36420092919984415, w0=0.0830990834885663, w1=-0.7057883650824417\n",
      "Gradient Descent(457/499): loss=0.36419306186480294, w0=0.0831415688091674, w1=-0.7060245193940305\n",
      "Gradient Descent(458/499): loss=0.3641852244866823, w0=0.08318394931108007, w1=-0.7062597418417849\n",
      "Gradient Descent(459/499): loss=0.36417741686510874, w0=0.08322622586011871, w1=-0.7064940400461427\n",
      "Gradient Descent(460/499): loss=0.36416963880191133, w0=0.08326839931203539, w1=-0.70672742155967\n",
      "Gradient Descent(461/499): loss=0.3641618901010884, w0=0.08331047051262848, w1=-0.7069598938676613\n",
      "Gradient Descent(462/499): loss=0.3641541705687771, w0=0.08335244029785015, w1=-0.7071914643887341\n",
      "Gradient Descent(463/499): loss=0.36414648001322236, w0=0.08339430949391266, w1=-0.7074221404754193\n",
      "Gradient Descent(464/499): loss=0.3641388182447468, w0=0.08343607891739362, w1=-0.7076519294147458\n",
      "Gradient Descent(465/499): loss=0.36413118507572095, w0=0.08347774937533999, w1=-0.7078808384288198\n",
      "Gradient Descent(466/499): loss=0.36412358032053377, w0=0.08351932166537117, w1=-0.7081088746753995\n",
      "Gradient Descent(467/499): loss=0.36411600379556297, w0=0.08356079657578086, w1=-0.7083360452484647\n",
      "Gradient Descent(468/499): loss=0.36410845531914987, w0=0.0836021748856379, w1=-0.7085623571787807\n",
      "Gradient Descent(469/499): loss=0.3641009347115669, w0=0.08364345736488601, w1=-0.7087878174344581\n",
      "Gradient Descent(470/499): loss=0.3640934417949935, w0=0.08368464477444255, w1=-0.7090124329215074\n",
      "Gradient Descent(471/499): loss=0.36408597639348833, w0=0.08372573786629618, w1=-0.7092362104843888\n",
      "Gradient Descent(472/499): loss=0.3640785383329619, w0=0.08376673738360349, w1=-0.7094591569065567\n",
      "Gradient Descent(473/499): loss=0.3640711274411509, w0=0.0838076440607847, w1=-0.7096812789110001\n",
      "Gradient Descent(474/499): loss=0.36406374354759363, w0=0.08384845862361821, w1=-0.7099025831607777\n",
      "Gradient Descent(475/499): loss=0.3640563864836014, w0=0.08388918178933434, w1=-0.7101230762595491\n",
      "Gradient Descent(476/499): loss=0.3640490560822379, w0=0.0839298142667079, w1=-0.7103427647520999\n",
      "Gradient Descent(477/499): loss=0.3640417521782917, w0=0.08397035675614992, w1=-0.7105616551248639\n",
      "Gradient Descent(478/499): loss=0.3640344746082526, w0=0.08401080994979838, w1=-0.7107797538064395\n",
      "Gradient Descent(479/499): loss=0.3640272232102885, w0=0.08405117453160801, w1=-0.7109970671681021\n",
      "Gradient Descent(480/499): loss=0.36401999782422284, w0=0.0840914511774391, w1=-0.7112136015243115\n",
      "Gradient Descent(481/499): loss=0.3640127982915085, w0=0.08413164055514541, w1=-0.7114293631332156\n",
      "Gradient Descent(482/499): loss=0.3640056244552086, w0=0.08417174332466121, w1=-0.7116443581971493\n",
      "Gradient Descent(483/499): loss=0.36399847615997283, w0=0.08421176013808734, w1=-0.7118585928631287\n",
      "Gradient Descent(484/499): loss=0.3639913532520152, w0=0.08425169163977646, w1=-0.7120720732233413\n",
      "Gradient Descent(485/499): loss=0.36398425557909275, w0=0.08429153846641724, w1=-0.7122848053156321\n",
      "Gradient Descent(486/499): loss=0.36397718299048454, w0=0.08433130124711789, w1=-0.7124967951239848\n",
      "Gradient Descent(487/499): loss=0.36397013533697103, w0=0.08437098060348873, w1=-0.7127080485789994\n",
      "Gradient Descent(488/499): loss=0.3639631124708117, w0=0.08441057714972379, w1=-0.7129185715583654\n",
      "Gradient Descent(489/499): loss=0.3639561142457282, w0=0.08445009149268179, w1=-0.7131283698873304\n",
      "Gradient Descent(490/499): loss=0.36394914051688065, w0=0.08448952423196605, w1=-0.7133374493391655\n",
      "Gradient Descent(491/499): loss=0.3639421911408516, w0=0.08452887596000375, w1=-0.7135458156356257\n",
      "Gradient Descent(492/499): loss=0.3639352659756231, w0=0.08456814726212422, w1=-0.7137534744474066\n",
      "Gradient Descent(493/499): loss=0.3639283648805607, w0=0.08460733871663659, w1=-0.7139604313945973\n",
      "Gradient Descent(494/499): loss=0.3639214877163937, w0=0.08464645089490641, w1=-0.7141666920471292\n",
      "Gradient Descent(495/499): loss=0.3639146343451959, w0=0.0846854843614317, w1=-0.7143722619252206\n",
      "Gradient Descent(496/499): loss=0.3639078046303689, w0=0.08472443967391806, w1=-0.7145771464998177\n",
      "Gradient Descent(497/499): loss=0.36390099843662405, w0=0.0847633173833531, w1=-0.7147813511930314\n",
      "Gradient Descent(498/499): loss=0.3638942156299637, w0=0.08480211803408001, w1=-0.7149848813785707\n",
      "Gradient Descent(499/499): loss=0.3638874560776647, w0=0.08484084216387044, w1=-0.715187742382172\n"
     ]
    },
    {
     "data": {
      "image/png": "[encoded data removed]",
      "text/plain": [
       "<matplotlib.figure.Figure at 0x7f38984c34a8>"
      ]
     },
     "metadata": {},
     "output_type": "display_data"
    }
   ],
   "source": [
    "w, loss = func_GD (y=y_train, tx=tx_train, test_set=tx_test, max_iters=500,gamma=0.05, initial_w=initial_w);\n"
   ]
  },
  {
   "cell_type": "code",
   "execution_count": 246,
   "metadata": {},
   "outputs": [
    {
     "data": {
      "text/plain": [
       "(250000, 31)"
      ]
     },
     "execution_count": 246,
     "metadata": {},
     "output_type": "execute_result"
    }
   ],
   "source": [
    "w.shape\n",
    "tx_train.shape"
   ]
  },
  {
   "cell_type": "code",
   "execution_count": 257,
   "metadata": {},
   "outputs": [
    {
     "data": {
      "text/plain": [
       "72.547600000000003"
      ]
     },
     "execution_count": 257,
     "metadata": {},
     "output_type": "execute_result"
    }
   ],
   "source": [
    "    y_pred_train = predict_labels(w, tx_train)\n",
    "    right_train = np.sum(y_pred_train == y_train)/len(y_train)*100\n",
    "    right_train"
   ]
  },
  {
   "cell_type": "markdown",
   "metadata": {},
   "source": [
    "## *Ridge regression    -------------------------------------------------------------------------------"
   ]
  },
  {
   "cell_type": "code",
   "execution_count": 146,
   "metadata": {
    "collapsed": true
   },
   "outputs": [],
   "source": [
    "def func_ridge_regression (y, tx, test_set, lambda_):\n",
    "    name = 'Ridge_regression'\n",
    "    \n",
    "    w,loss = ridge_regression(y, tx, lambda_=lambda_, fct='mse');\n",
    "    \n",
    "    y_pred = predict_labels(w, test_set)\n",
    "    create_csv_submission(ids_test, y_pred, name)\n",
    "    \n",
    "    plt.plot(w, 'go')\n",
    "    plt.title('Ridge regression: weights ;loss:  '+str(loss),fontsize=15, fontweight='bold');\n",
    "    plt.show()\n",
    "    \n",
    "    return w, loss"
   ]
  },
  {
   "cell_type": "code",
   "execution_count": 198,
   "metadata": {},
   "outputs": [
    {
     "data": {
      "image/png": "[encoded data removed]",
      "text/plain": [
       "<matplotlib.figure.Figure at 0x7f388a3cd780>"
      ]
     },
     "metadata": {},
     "output_type": "display_data"
    }
   ],
   "source": [
    "func_ridge_regression (y=y_train, tx=tx_train, test_set=tx_test, lambda_=lambda_);"
   ]
  },
  {
   "cell_type": "markdown",
   "metadata": {
    "collapsed": true
   },
   "source": [
    "## * SGD -------------------------------------------------------------------------------------------------"
   ]
  },
  {
   "cell_type": "code",
   "execution_count": 129,
   "metadata": {},
   "outputs": [],
   "source": [
    "def func_SGD (y, tx, test_set, max_iters, gamma, initial_w, batch_size):\n",
    "    name = 'Stochastic_Gradient_descent'\n",
    "    \n",
    "    w,loss = least_squares_SGD(y, tx, initial_w, max_iters,\\\n",
    "                               gamma, batch_size)\n",
    "    \n",
    "    y_pred = predict_labels(w, test_set)\n",
    "    create_csv_submission(ids_test, y_pred, name)\n",
    "    \n",
    "    plt.plot(w, 'go')\n",
    "    plt.title('SGD: weights with loss:  '+str(loss),fontsize=15, fontweight='bold');\n",
    "    plt.show()\n",
    "    \n",
    "    return w, loss"
   ]
  },
  {
   "cell_type": "code",
   "execution_count": 199,
   "metadata": {},
   "outputs": [
    {
     "data": {
      "image/png": "[encoded data removed]",
      "text/plain": [
       "<matplotlib.figure.Figure at 0x7f3899eda2b0>"
      ]
     },
     "metadata": {},
     "output_type": "display_data"
    }
   ],
   "source": [
    "w, loss = func_SGD (y=y_train, tx=tx_train, test_set=tx_test, max_iters=10,gamma=gamma, initial_w=initial_w,\\\n",
    "                   batch_size=5);"
   ]
  },
  {
   "cell_type": "markdown",
   "metadata": {},
   "source": [
    "## *LOGISTIC"
   ]
  },
  {
   "cell_type": "code",
   "execution_count": 289,
   "metadata": {
    "collapsed": true
   },
   "outputs": [],
   "source": [
    "def func_logistic (y, tx, test_set, max_iters, gamma, initial_w):\n",
    "    name = 'Logistic regression'\n",
    "    \n",
    "    w,loss = logistic_regression(y, tx, initial_w, max_iters, gamma)\n",
    "    #w,loss = logistic_regression_mat (y, tx, initial_w, max_iters, gamma)\n",
    "    \n",
    "    y_pred = predict_labels(w, test_set)\n",
    "    create_csv_submission(ids_test, y_pred, name)\n",
    "    \n",
    "    plt.plot(w, 'go')\n",
    "    plt.title('logistic reg: weights with loss:  '+str(loss),fontsize=15, fontweight='bold');\n",
    "    plt.show()\n",
    "    \n",
    "    return w, loss"
   ]
  },
  {
   "cell_type": "code",
   "execution_count": 295,
   "metadata": {
    "scrolled": true
   },
   "outputs": [
    {
     "data": {
      "image/png": "[encoded data removed]",
      "text/plain": [
       "<matplotlib.figure.Figure at 0x7f38984b62b0>"
      ]
     },
     "metadata": {},
     "output_type": "display_data"
    }
   ],
   "source": [
    "w, loss = func_logistic (y=y_train, tx=tx_train, test_set=tx_test, max_iters=10,\\\n",
    "                         gamma=0.000000001, initial_w=w);"
   ]
  },
  {
   "cell_type": "code",
   "execution_count": 293,
   "metadata": {},
   "outputs": [
    {
     "data": {
      "text/plain": [
       "65.733199999999997"
      ]
     },
     "execution_count": 293,
     "metadata": {},
     "output_type": "execute_result"
    }
   ],
   "source": [
    "y_pred_train = predict_labels(w, tx_train)\n",
    "right_train = np.sum(y_pred_train == y_train)/len(y_train)*100\n",
    "right_train"
   ]
  },
  {
   "cell_type": "code",
   "execution_count": null,
   "metadata": {
    "collapsed": true
   },
   "outputs": [],
   "source": []
  }
 ],
 "metadata": {
  "kernelspec": {
   "display_name": "Python 3",
   "language": "python",
   "name": "python3"
  },
  "language_info": {
   "codemirror_mode": {
    "name": "ipython",
    "version": 3
   },
   "file_extension": ".py",
   "mimetype": "text/x-python",
   "name": "python",
   "nbconvert_exporter": "python",
   "pygments_lexer": "ipython3",
   "version": "3.6.2"
  }
 },
 "nbformat": 4,
 "nbformat_minor": 2
}
