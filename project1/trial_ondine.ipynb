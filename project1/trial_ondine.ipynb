{
 "cells": [
  {
   "cell_type": "markdown",
   "metadata": {},
   "source": [
    "# **TODO**\n",
    "* Cross-validation\n",
    "* Features cross products\n",
    "* Square and cube roots\n",
    "* phi features overfit?"
   ]
  },
  {
   "cell_type": "markdown",
   "metadata": {},
   "source": [
    "# Import libraries"
   ]
  },
  {
   "cell_type": "code",
   "execution_count": 1,
   "metadata": {
    "collapsed": true
   },
   "outputs": [],
   "source": [
    "%matplotlib inline \n",
    "import numpy as np   # generic stuff\n",
    "import matplotlib.pyplot as plt\n",
    "\n",
    "from lib.proj1_helpers import * #the helper provided for the project\n",
    "\n",
    "from implementations import * #our implementations of the functions done by us\n",
    "from helpers import *\n",
    "import datetime\n",
    "# Useful starting lines\n",
    "\n",
    "%load_ext autoreload\n",
    "%autoreload 2\n",
    "%reload_ext autoreload"
   ]
  },
  {
   "cell_type": "markdown",
   "metadata": {},
   "source": [
    "# Loading the training and the testing sets"
   ]
  },
  {
   "cell_type": "code",
   "execution_count": 2,
   "metadata": {
    "collapsed": true
   },
   "outputs": [],
   "source": [
    "DATA_FOLDER = 'data/'\n",
    "\n",
    "y_train, tx_train, ids_train = load_csv_data(DATA_FOLDER+'train.csv',sub_sample=False)\n",
    "\n",
    "y_test, tx_test, ids_test = load_csv_data(DATA_FOLDER+'test.csv',sub_sample=False)"
   ]
  },
  {
   "cell_type": "code",
   "execution_count": 3,
   "metadata": {},
   "outputs": [
    {
     "data": {
      "text/plain": [
       "array([ 1., -1., -1., ...,  1., -1., -1.])"
      ]
     },
     "execution_count": 3,
     "metadata": {},
     "output_type": "execute_result"
    }
   ],
   "source": [
    "y_train"
   ]
  },
  {
   "cell_type": "code",
   "execution_count": 4,
   "metadata": {},
   "outputs": [
    {
     "data": {
      "text/plain": [
       "array([[ 138.47 ,   51.655,   97.827, ...,    1.24 ,   -2.475,  113.497],\n",
       "       [ 160.937,   68.768,  103.235, ..., -999.   , -999.   ,   46.226],\n",
       "       [-999.   ,  162.172,  125.953, ..., -999.   , -999.   ,   44.251],\n",
       "       ..., \n",
       "       [ 105.457,   60.526,   75.839, ..., -999.   , -999.   ,   41.992],\n",
       "       [  94.951,   19.362,   68.812, ..., -999.   , -999.   ,    0.   ],\n",
       "       [-999.   ,   72.756,   70.831, ..., -999.   , -999.   ,    0.   ]])"
      ]
     },
     "execution_count": 4,
     "metadata": {},
     "output_type": "execute_result"
    }
   ],
   "source": [
    "tx_train"
   ]
  },
  {
   "cell_type": "markdown",
   "metadata": {},
   "source": [
    "# Handling missing values (-999)"
   ]
  },
  {
   "cell_type": "code",
   "execution_count": 5,
   "metadata": {
    "collapsed": true
   },
   "outputs": [],
   "source": [
    "def clean_missing_values(tx):\n",
    "    nan_values = (tx==-999)*1\n",
    "    for col in range(tx.shape[1]):\n",
    "        column = tx[:,col][tx[:,col]!=-999]\n",
    "        median = np.median(column)\n",
    "        tx[:,col][tx[:,col]==-999] = median\n",
    "    return tx, nan_values"
   ]
  },
  {
   "cell_type": "code",
   "execution_count": 6,
   "metadata": {},
   "outputs": [],
   "source": [
    "tx_train, nan_values_train = clean_missing_values(tx_train)\n",
    "tx_test, nan_values_test = clean_missing_values(tx_test)"
   ]
  },
  {
   "cell_type": "code",
   "execution_count": 7,
   "metadata": {},
   "outputs": [],
   "source": [
    "def add_nan_feature(tx, nan_values):\n",
    "    cols_wo_nan_ids = [i for i in range(nan_values_train.shape[1]) if np.prod((nan_values_train.T[i]==0)*1)==1]\n",
    "    nan_values = np.delete(nan_values, cols_wo_nan_ids, axis=1)\n",
    "    return np.concatenate((tx, nan_values), axis=1)"
   ]
  },
  {
   "cell_type": "code",
   "execution_count": 8,
   "metadata": {},
   "outputs": [
    {
     "name": "stdout",
     "output_type": "stream",
     "text": [
      "(250000, 30)\n",
      "(250000, 41)\n"
     ]
    }
   ],
   "source": [
    "print(tx_train.shape)\n",
    "tx_train = add_nan_feature(tx_train, nan_values_train)\n",
    "print(tx_train.shape)"
   ]
  },
  {
   "cell_type": "code",
   "execution_count": 9,
   "metadata": {
    "collapsed": true
   },
   "outputs": [],
   "source": [
    "tx_test = add_nan_feature(tx_test, nan_values_test)"
   ]
  },
  {
   "cell_type": "code",
   "execution_count": 10,
   "metadata": {},
   "outputs": [
    {
     "name": "stdout",
     "output_type": "stream",
     "text": [
      "(250000, 41)\n"
     ]
    }
   ],
   "source": [
    "print(tx_train.shape)"
   ]
  },
  {
   "cell_type": "markdown",
   "metadata": {},
   "source": [
    "# Manage categorical data (feature 22)"
   ]
  },
  {
   "cell_type": "code",
   "execution_count": 11,
   "metadata": {},
   "outputs": [
    {
     "data": {
      "text/plain": [
       "array([ 2.,  1.,  1., ...,  1.,  0.,  0.])"
      ]
     },
     "execution_count": 11,
     "metadata": {},
     "output_type": "execute_result"
    }
   ],
   "source": [
    "tx_train[:,22]"
   ]
  },
  {
   "cell_type": "code",
   "execution_count": 12,
   "metadata": {
    "collapsed": true
   },
   "outputs": [],
   "source": [
    "def manage_categorical_data(tx):\n",
    "    idx_cat = 22\n",
    "    larger_tx = np.zeros([tx.shape[0],4])\n",
    "    larger_tx[:,0] = (tx[:,idx_cat]==0)*1\n",
    "    larger_tx[:,1] = (tx[:,idx_cat]==1)*1\n",
    "    larger_tx[:,2] = (tx[:,idx_cat]==2)*1\n",
    "    larger_tx[:,3] = (tx[:,idx_cat]==3)*1\n",
    "    tx = np.delete(tx, idx_cat, axis=1)\n",
    "    tx = np.concatenate((tx, larger_tx), axis=1)\n",
    "    return tx"
   ]
  },
  {
   "cell_type": "code",
   "execution_count": 13,
   "metadata": {},
   "outputs": [
    {
     "name": "stdout",
     "output_type": "stream",
     "text": [
      "(250000, 41)\n",
      "(250000, 44)\n"
     ]
    }
   ],
   "source": [
    "print(tx_train.shape)\n",
    "tx_train = manage_categorical_data(tx_train)\n",
    "print(tx_train.shape)"
   ]
  },
  {
   "cell_type": "code",
   "execution_count": 14,
   "metadata": {
    "collapsed": true
   },
   "outputs": [],
   "source": [
    "tx_test = manage_categorical_data(tx_test)"
   ]
  },
  {
   "cell_type": "markdown",
   "metadata": {},
   "source": [
    "# Standardization of data"
   ]
  },
  {
   "cell_type": "code",
   "execution_count": 15,
   "metadata": {},
   "outputs": [],
   "source": [
    "tx_train = standardize(tx_train)\n",
    "tx_train = tx_train[0]\n",
    "tx_test = standardize(tx_test)\n",
    "tx_test = tx_test[0]"
   ]
  },
  {
   "cell_type": "markdown",
   "metadata": {},
   "source": [
    "# Add a column of all ones"
   ]
  },
  {
   "cell_type": "code",
   "execution_count": 16,
   "metadata": {
    "collapsed": true
   },
   "outputs": [],
   "source": [
    "def add_ones(tx):\n",
    "    return np.concatenate((tx, np.ones([tx.shape[0],1])), axis=1)"
   ]
  },
  {
   "cell_type": "code",
   "execution_count": 17,
   "metadata": {},
   "outputs": [],
   "source": [
    "tx_train = add_ones(tx_train)\n",
    "tx_test = add_ones(tx_test)"
   ]
  },
  {
   "cell_type": "markdown",
   "metadata": {},
   "source": [
    "# Add powers of the columns"
   ]
  },
  {
   "cell_type": "code",
   "execution_count": 18,
   "metadata": {
    "collapsed": true
   },
   "outputs": [],
   "source": [
    "def build_poly(x, degree):\n",
    "    \"\"\"polynomial basis functions for input data x, for j=1 up to j=degree.\"\"\"\n",
    "    return np.array([x**p for p in range(1,degree+1)]).T"
   ]
  },
  {
   "cell_type": "code",
   "execution_count": 19,
   "metadata": {
    "collapsed": true
   },
   "outputs": [],
   "source": [
    "def add_powers(tx, degree):\n",
    "    for col in range(tx.shape[1]):\n",
    "        tx = np.concatenate((tx, build_poly(tx[:,col], degree)), axis=1)\n",
    "    return tx"
   ]
  },
  {
   "cell_type": "code",
   "execution_count": 20,
   "metadata": {},
   "outputs": [],
   "source": [
    "deg = 11\n",
    "tx_train = add_powers(tx_train, deg)\n",
    "tx_test = add_powers(tx_test, deg)"
   ]
  },
  {
   "cell_type": "markdown",
   "metadata": {},
   "source": [
    "# Submission trials"
   ]
  },
  {
   "cell_type": "markdown",
   "metadata": {},
   "source": [
    "## Least squares"
   ]
  },
  {
   "cell_type": "code",
   "execution_count": null,
   "metadata": {
    "collapsed": true
   },
   "outputs": [],
   "source": []
  },
  {
   "cell_type": "markdown",
   "metadata": {},
   "source": [
    "## Gradient descent"
   ]
  },
  {
   "cell_type": "code",
   "execution_count": null,
   "metadata": {
    "collapsed": true
   },
   "outputs": [],
   "source": []
  },
  {
   "cell_type": "markdown",
   "metadata": {},
   "source": [
    "## Stochastic gradient descent"
   ]
  },
  {
   "cell_type": "code",
   "execution_count": null,
   "metadata": {
    "collapsed": true
   },
   "outputs": [],
   "source": []
  },
  {
   "cell_type": "markdown",
   "metadata": {},
   "source": [
    "## Ridge regression"
   ]
  },
  {
   "cell_type": "code",
   "execution_count": 21,
   "metadata": {},
   "outputs": [
    {
     "name": "stdout",
     "output_type": "stream",
     "text": [
      "losses: \n",
      " \n",
      "\n",
      " weights: \n",
      " [  1.39069172e-02  -5.20547866e-02   8.79203751e-03   9.02012251e-03\n",
      "   5.54651156e-03  -2.07207833e-02   5.52977045e-03   5.91592391e-03\n",
      "   1.84893597e-04   2.56195774e-03   4.67977531e-03   6.90215333e-03\n",
      "   5.78494471e-03   1.89410495e-02   5.75738141e-03   5.71183808e-03\n",
      "  -8.32963127e-03   5.77115749e-03   5.79659569e-03  -1.04500544e-02\n",
      "   5.82350941e-03  -4.84224176e-03  -3.00635895e-03   5.76233238e-03\n",
      "   5.77744287e-03  -2.36503999e-03   5.78067360e-03   5.74494364e-03\n",
      "   3.48055613e-03   5.35626772e-03   5.63251834e-03   5.63296048e-03\n",
      "   5.63296048e-03   5.63296048e-03   5.58818558e-03   5.58900226e-03\n",
      "   5.58900226e-03   5.63296174e-03   5.63296174e-03   5.63296174e-03\n",
      "   5.58975420e-03   5.81151960e-03   5.79777582e-03   5.67810854e-03\n",
      "  -1.47450757e-02   1.39069320e-02   2.53399493e-02   2.02345213e-02\n",
      "  -1.71776808e-03  -1.80300917e-02   9.01117402e-03  -1.86973918e-03\n",
      "   2.01789602e-04  -1.17530382e-05   3.44164181e-07  -3.84892782e-09\n",
      "  -5.20547796e-02  -2.55950180e-02  -1.94146694e-02  -9.64527877e-03\n",
      "  -1.69639104e-03   4.30111397e-03   3.17692198e-03  -2.45293832e-03\n",
      "   5.61022099e-04  -5.46438875e-05   1.96017453e-06   8.79196872e-03\n",
      "  -1.61251138e-04  -1.08917204e-02  -1.48634834e-02  -5.14507857e-03\n",
      "   7.28924923e-03  -2.19018059e-03   3.07453110e-04  -2.27146210e-05\n",
      "   8.54902315e-07  -1.29297574e-08   9.02012373e-03   6.19129309e-03\n",
      "   8.41183576e-03   5.83056999e-03  -4.09188482e-04  -5.79044154e-04\n",
      "   1.03269435e-04  -3.01803150e-06  -2.57707986e-07   8.95808865e-09\n",
      "  -2.05986257e-10   5.54657064e-03  -2.08212826e-03   7.80266489e-04\n",
      "  -2.91980402e-04   1.09129811e-04  -4.07474114e-05   1.52019467e-05\n",
      "  -5.66768957e-06   2.11192208e-06  -7.86618840e-07   2.92893272e-07\n",
      "  -2.07207842e-02  -1.86231014e-02   1.05133938e-02  -1.26595076e-03\n",
      "   5.79109874e-05  -2.06840731e-07  -8.27436367e-08   3.48027706e-09\n",
      "  -6.54725545e-11   6.08231945e-13  -2.26183767e-15   5.52966007e-03\n",
      "  -2.06105373e-03   7.61643886e-04  -2.78031858e-04   9.96946074e-05\n",
      "  -3.47941571e-05   1.16287005e-05  -3.60065897e-06   9.48780383e-07\n",
      "  -1.45544006e-07  -5.50222768e-08   5.91612956e-03  -2.35663263e-03\n",
      "   9.33075492e-04  -3.67544800e-04   1.44142607e-04  -5.63148596e-05\n",
      "   2.19288841e-05  -8.51436006e-06   3.29746835e-06  -1.27418089e-06\n",
      "   4.91375572e-07   1.84894577e-04  -4.24509317e-04   9.25916142e-04\n",
      "   1.22410910e-03   1.10592414e-03  -2.91493959e-04  -1.38196946e-05\n",
      "   3.31986535e-06   3.54484197e-07  -2.62451949e-08   2.09212912e-10\n",
      "   2.56093625e-03   1.05854165e-02   1.12497830e-02   3.40785049e-03\n",
      "  -3.14637818e-03   7.67828920e-04  -9.62882461e-05   7.03059578e-06\n",
      "  -3.03396493e-07   7.22092939e-09  -7.34855402e-11   4.67962152e-03\n",
      "  -1.44650684e-03   4.30075901e-04  -1.20188352e-04   2.99994055e-05\n",
      "  -5.70720183e-06   9.70490874e-08   7.18386242e-07  -5.48777489e-07\n",
      "   3.09393610e-07  -1.54506100e-07   6.90197691e-03  -3.14294096e-03\n",
      "   1.40286105e-03  -6.16770915e-04   2.67983565e-04  -1.15344587e-04\n",
      "   4.92664964e-05  -2.09097254e-05   8.82745980e-06  -3.70995746e-06\n",
      "   1.55322338e-06   5.78420727e-03  -2.26824290e-03   8.89183635e-04\n",
      "  -3.48462952e-04   1.36518497e-04  -5.34690268e-05   2.09360428e-05\n",
      "  -8.19546898e-06   3.20734325e-06  -1.25491472e-06   4.90890665e-07\n",
      "   1.89425808e-02   5.46194458e-03   2.77823744e-03   1.02983608e-03\n",
      "  -1.80295612e-04  -8.88324892e-04  -5.52912152e-04   4.87744173e-04\n",
      "  -1.14214579e-04   1.09905482e-05  -3.79701978e-07   5.75740643e-03\n",
      "  -2.26198035e-03   8.94124370e-04  -3.55537013e-04   1.42183321e-04\n",
      "  -5.71692956e-05   2.31036179e-05  -9.38076516e-06   3.82531005e-06\n",
      "  -1.56600038e-06   6.43340729e-07   5.71178568e-03  -2.22107391e-03\n",
      "   8.67025502e-04  -3.39768177e-04   1.33662888e-04  -5.27841963e-05\n",
      "   2.09238415e-05  -8.32520607e-06   3.32452700e-06  -1.33230850e-06\n",
      "   5.35763403e-07  -8.32867456e-03  -5.32539762e-03  -4.24676808e-03\n",
      "  -3.80384039e-03  -3.30161669e-03  -2.12139396e-03   8.47988667e-06\n",
      "   1.66464950e-03  -7.01272886e-04   1.05887981e-04  -5.51874321e-06\n",
      "   5.77132448e-03  -2.27722807e-03   9.05631987e-04  -3.62878923e-04\n",
      "   1.46432448e-04  -5.94759174e-05   2.43002779e-05  -9.98098297e-06\n",
      "   4.11861954e-06  -1.70639441e-06   7.09420838e-07   5.79638077e-03\n",
      "  -2.28753272e-03   9.06235837e-04  -3.60359012e-04   1.43813706e-04\n",
      "  -5.75945218e-05   2.31430221e-05  -9.32945084e-06   3.77247367e-06\n",
      "  -1.52991184e-06   6.22174638e-07  -1.04500570e-02   6.43024923e-04\n",
      "  -7.41052024e-05   3.56414490e-04  -2.61694526e-04   1.80102803e-04\n",
      "  -6.97163147e-05   1.04947894e-05  -5.97246342e-07   7.54609007e-09\n",
      "   4.00923701e-10   5.82345151e-03  -2.30837343e-03   9.18283269e-04\n",
      "  -3.66555829e-04   1.46805476e-04  -5.89827397e-05   2.37699915e-05\n",
      "  -9.60715521e-06   3.89370009e-06  -1.58224089e-06   6.44565357e-07\n",
      "  -4.84223722e-03   2.02631694e-03   5.82590985e-03   2.01527122e-03\n",
      "  -2.91213543e-03   8.65659891e-04  -1.21980953e-04   9.46959496e-06\n",
      "  -4.14826150e-07   9.59888793e-09  -9.10288464e-11  -3.00636001e-03\n",
      "   7.32754787e-04   2.40872467e-03   2.54177501e-03   8.63058543e-04\n",
      "  -1.37025538e-03   2.97335170e-04   8.90193154e-07  -6.23058578e-06\n",
      "   6.31195041e-07  -1.87666478e-08   5.76239840e-03  -2.23083201e-03\n",
      "   8.55307995e-04  -3.24540117e-04   1.21724801e-04  -4.50437404e-05\n",
      "   1.63979761e-05  -5.84713545e-06   2.02804422e-06  -6.76245850e-07\n",
      "   2.12095696e-07   5.77736560e-03  -2.26391294e-03   8.87243390e-04\n",
      "  -3.47765103e-04   1.36331266e-04  -5.34538234e-05   2.09624921e-05\n",
      "  -8.22234561e-06   3.22586120e-06  -1.26590559e-06   4.96903494e-07\n",
      "  -2.36504324e-03   2.47964620e-04   8.80744180e-04   8.84753616e-04\n",
      "   3.95302384e-04  -5.91904861e-04  -1.17256233e-03   8.51130361e-04\n",
      "  -2.07895477e-04   2.18606422e-05  -8.41634675e-07   5.78088688e-03\n",
      "  -2.26616685e-03   8.88282266e-04  -3.48162303e-04   1.36456172e-04\n",
      "  -5.34802343e-05   2.09599265e-05  -8.21464882e-06   3.21956956e-06\n",
      "  -1.26189159e-06   4.94615613e-07   5.74492081e-03  -2.24109737e-03\n",
      "   8.75327753e-04  -3.42301803e-04   1.34020951e-04  -5.25363155e-05\n",
      "   2.06191071e-05  -8.10223605e-06   3.18762333e-06  -1.25562790e-06\n",
      "   4.95212849e-07   3.48202542e-03  -9.21445682e-03  -1.16728911e-02\n",
      "  -1.09146451e-02   4.44802475e-03  -4.27922284e-04  -2.86796192e-05\n",
      "   8.50002983e-06  -6.55340912e-07   2.24217171e-08  -2.92734081e-10\n",
      "   5.35623419e-03  -1.93963453e-03   6.99931903e-04  -2.51570649e-04\n",
      "   9.00082754e-05  -3.20342746e-05   1.13311464e-05  -3.97897974e-06\n",
      "   1.38508802e-06  -4.77036009e-07   1.62123102e-07   5.63296274e-03\n",
      "  -2.15246861e-03   8.22713365e-04  -3.14538023e-04   1.20285156e-04\n",
      "  -4.60115057e-05   1.76050543e-05  -6.73792537e-06   2.57949125e-06\n",
      "  -9.87784007e-07   3.78364642e-07   5.63296274e-03  -2.15246861e-03\n",
      "   8.22713365e-04  -3.14538023e-04   1.20285156e-04  -4.60115057e-05\n",
      "   1.76050543e-05  -6.73792537e-06   2.57949125e-06  -9.87784007e-07\n",
      "   3.78364642e-07   5.63296274e-03  -2.15246861e-03   8.22713365e-04\n",
      "  -3.14538023e-04   1.20285156e-04  -4.60115057e-05   1.76050543e-05\n",
      "  -6.73792537e-06   2.57949125e-06  -9.87784007e-07   3.78364642e-07\n",
      "   5.63296274e-03  -2.15246861e-03   8.22713365e-04  -3.14538023e-04\n",
      "   1.20285156e-04  -4.60115057e-05   1.76050543e-05  -6.73792537e-06\n",
      "   2.57949125e-06  -9.87784007e-07   3.78364642e-07   5.58900405e-03\n",
      "  -2.11866070e-03   8.03209561e-04  -3.04535656e-04   1.15475687e-04\n",
      "  -4.37912328e-05   1.66084491e-05  -6.29966921e-06   2.38976125e-06\n",
      "  -9.06651835e-07   3.44014880e-07   5.58900405e-03  -2.11866070e-03\n",
      "   8.03209561e-04  -3.04535656e-04   1.15475687e-04  -4.37912328e-05\n",
      "   1.66084491e-05  -6.29966921e-06   2.38976125e-06  -9.06651835e-07\n",
      "   3.44014880e-07   5.58900405e-03  -2.11866070e-03   8.03209561e-04\n",
      "  -3.04535656e-04   1.15475687e-04  -4.37912328e-05   1.66084491e-05\n",
      "  -6.29966921e-06   2.38976125e-06  -9.06651835e-07   3.44014880e-07\n",
      "   5.63296274e-03  -2.15246861e-03   8.22713365e-04  -3.14538023e-04\n",
      "   1.20285156e-04  -4.60115057e-05   1.76050543e-05  -6.73792537e-06\n",
      "   2.57949125e-06  -9.87784007e-07   3.78364642e-07   5.63296274e-03\n",
      "  -2.15246861e-03   8.22713365e-04  -3.14538023e-04   1.20285156e-04\n",
      "  -4.60115057e-05   1.76050543e-05  -6.73792537e-06   2.57949125e-06\n",
      "  -9.87784007e-07   3.78364642e-07   5.63296274e-03  -2.15246861e-03\n",
      "   8.22713365e-04  -3.14538023e-04   1.20285156e-04  -4.60115057e-05\n",
      "   1.76050543e-05  -6.73792537e-06   2.57949125e-06  -9.87784007e-07\n",
      "   3.78364642e-07   5.58900405e-03  -2.11866070e-03   8.03209561e-04\n",
      "  -3.04535656e-04   1.15475687e-04  -4.37912328e-05   1.66084491e-05\n",
      "  -6.29966921e-06   2.38976125e-06  -9.06651835e-07   3.44014880e-07\n",
      "   5.81145458e-03  -2.28974781e-03   9.01908195e-04  -3.55152093e-04\n",
      "   1.39813854e-04  -5.50268507e-05   2.16517462e-05  -8.51745587e-06\n",
      "   3.34988613e-06  -1.31721765e-06   5.17841139e-07   5.79722274e-03\n",
      "  -2.27880367e-03   8.95594197e-04  -3.51914288e-04   1.38256923e-04\n",
      "  -5.43081040e-05   2.13291237e-05  -8.37558314e-06   3.28846631e-06\n",
      "  -1.29095368e-06   5.06721521e-07   5.67788751e-03  -2.18702113e-03\n",
      "   8.42645785e-04  -3.24760311e-04   1.25200371e-04  -4.82805814e-05\n",
      "   1.86235682e-05  -7.18581794e-06   2.77339330e-06  -1.07069904e-06\n",
      "   4.13469729e-07  -1.47450816e-02  -1.47450816e-02  -1.47450816e-02\n",
      "  -1.47450816e-02  -1.47450816e-02  -1.47450816e-02  -1.47450816e-02\n",
      "  -1.47450781e-02  -1.47450781e-02  -1.47450781e-02  -1.47450779e-02]\n"
     ]
    }
   ],
   "source": [
    "max_iters = 100\n",
    "lambda_ = 1\n",
    "weights = ridge_regression(y_train, tx_train, lambda_);\n",
    "print('losses: \\n','\\n\\n','weights: \\n',weights)"
   ]
  },
  {
   "cell_type": "code",
   "execution_count": 22,
   "metadata": {},
   "outputs": [],
   "source": [
    "y_pred = predict_labels(weights, tx_test)"
   ]
  },
  {
   "cell_type": "code",
   "execution_count": 23,
   "metadata": {
    "collapsed": true
   },
   "outputs": [],
   "source": [
    "name = 'output/ridge_regression_ondine'\n",
    "create_csv_submission(ids_test, y_pred, name)"
   ]
  },
  {
   "cell_type": "markdown",
   "metadata": {},
   "source": [
    "## Logistic regression"
   ]
  },
  {
   "cell_type": "code",
   "execution_count": null,
   "metadata": {
    "collapsed": true
   },
   "outputs": [],
   "source": []
  },
  {
   "cell_type": "markdown",
   "metadata": {},
   "source": [
    "## Regularized logistic regression"
   ]
  },
  {
   "cell_type": "code",
   "execution_count": null,
   "metadata": {
    "collapsed": true
   },
   "outputs": [],
   "source": []
  },
  {
   "cell_type": "markdown",
   "metadata": {},
   "source": [
    "## Newton regularized logistic regression"
   ]
  },
  {
   "cell_type": "code",
   "execution_count": null,
   "metadata": {
    "collapsed": true
   },
   "outputs": [],
   "source": []
  }
 ],
 "metadata": {
  "kernelspec": {
   "display_name": "Python 3",
   "language": "python",
   "name": "python3"
  },
  "language_info": {
   "codemirror_mode": {
    "name": "ipython",
    "version": 3
   },
   "file_extension": ".py",
   "mimetype": "text/x-python",
   "name": "python",
   "nbconvert_exporter": "python",
   "pygments_lexer": "ipython3",
   "version": "3.6.2"
  }
 },
 "nbformat": 4,
 "nbformat_minor": 2
}
