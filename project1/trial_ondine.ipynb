{
 "cells": [
  {
   "cell_type": "markdown",
   "metadata": {},
   "source": [
    "# **TODO**\n",
    "* Features cross products\n",
    "* Square and cube roots\n",
    "* phi features overfit?"
   ]
  },
  {
   "cell_type": "markdown",
   "metadata": {},
   "source": [
    "# Import libraries"
   ]
  },
  {
   "cell_type": "code",
   "execution_count": 1,
   "metadata": {
    "collapsed": true
   },
   "outputs": [],
   "source": [
    "%matplotlib inline \n",
    "import numpy as np   # generic stuff\n",
    "import matplotlib.pyplot as plt\n",
    "\n",
    "from lib.proj1_helpers import * #the helper provided for the project\n",
    "\n",
    "from implementations import * #our implementations of the functions done by us\n",
    "from helpers import *\n",
    "import datetime\n",
    "# Useful starting lines\n",
    "\n",
    "%load_ext autoreload\n",
    "%autoreload 2\n",
    "%reload_ext autoreload"
   ]
  },
  {
   "cell_type": "markdown",
   "metadata": {},
   "source": [
    "# Loading the training and the testing sets"
   ]
  },
  {
   "cell_type": "code",
   "execution_count": 2,
   "metadata": {
    "collapsed": true
   },
   "outputs": [],
   "source": [
    "DATA_FOLDER = 'data/'\n",
    "\n",
    "y_train, tx_train, ids_train = load_csv_data(DATA_FOLDER+'train.csv',sub_sample=False)\n",
    "\n",
    "y_test, tx_test, ids_test = load_csv_data(DATA_FOLDER+'test.csv',sub_sample=False)"
   ]
  },
  {
   "cell_type": "code",
   "execution_count": 3,
   "metadata": {},
   "outputs": [
    {
     "data": {
      "text/plain": [
       "array([ 1., -1., -1., ...,  1., -1., -1.])"
      ]
     },
     "execution_count": 3,
     "metadata": {},
     "output_type": "execute_result"
    }
   ],
   "source": [
    "y_train"
   ]
  },
  {
   "cell_type": "code",
   "execution_count": 4,
   "metadata": {},
   "outputs": [
    {
     "data": {
      "text/plain": [
       "array([[ 138.47 ,   51.655,   97.827, ...,    1.24 ,   -2.475,  113.497],\n",
       "       [ 160.937,   68.768,  103.235, ..., -999.   , -999.   ,   46.226],\n",
       "       [-999.   ,  162.172,  125.953, ..., -999.   , -999.   ,   44.251],\n",
       "       ..., \n",
       "       [ 105.457,   60.526,   75.839, ..., -999.   , -999.   ,   41.992],\n",
       "       [  94.951,   19.362,   68.812, ..., -999.   , -999.   ,    0.   ],\n",
       "       [-999.   ,   72.756,   70.831, ..., -999.   , -999.   ,    0.   ]])"
      ]
     },
     "execution_count": 4,
     "metadata": {},
     "output_type": "execute_result"
    }
   ],
   "source": [
    "tx_train"
   ]
  },
  {
   "cell_type": "markdown",
   "metadata": {},
   "source": [
    "# Handling missing values (-999)"
   ]
  },
  {
   "cell_type": "code",
   "execution_count": 5,
   "metadata": {
    "collapsed": true
   },
   "outputs": [],
   "source": [
    "def clean_missing_values(tx):\n",
    "    nan_values = (tx==-999)*1\n",
    "    for col in range(tx.shape[1]):\n",
    "        column = tx[:,col][tx[:,col]!=-999]\n",
    "        median = np.median(column)\n",
    "        tx[:,col][tx[:,col]==-999] = median\n",
    "    return tx, nan_values"
   ]
  },
  {
   "cell_type": "code",
   "execution_count": 6,
   "metadata": {},
   "outputs": [],
   "source": [
    "tx_train, nan_values_train = clean_missing_values(tx_train)\n",
    "tx_test, nan_values_test = clean_missing_values(tx_test)"
   ]
  },
  {
   "cell_type": "code",
   "execution_count": 7,
   "metadata": {},
   "outputs": [],
   "source": [
    "def add_nan_feature(tx, nan_values):\n",
    "    cols_wo_nan_ids = [i for i in range(nan_values_train.shape[1]) if np.prod((nan_values_train.T[i]==0)*1)==1]\n",
    "    nan_values = np.delete(nan_values, cols_wo_nan_ids, axis=1)\n",
    "    return np.concatenate((tx, nan_values), axis=1)"
   ]
  },
  {
   "cell_type": "code",
   "execution_count": 8,
   "metadata": {},
   "outputs": [
    {
     "name": "stdout",
     "output_type": "stream",
     "text": [
      "(250000, 30)\n",
      "(250000, 41)\n"
     ]
    }
   ],
   "source": [
    "print(tx_train.shape)\n",
    "tx_train = add_nan_feature(tx_train, nan_values_train)\n",
    "print(tx_train.shape)"
   ]
  },
  {
   "cell_type": "code",
   "execution_count": 9,
   "metadata": {
    "collapsed": true
   },
   "outputs": [],
   "source": [
    "tx_test = add_nan_feature(tx_test, nan_values_test)"
   ]
  },
  {
   "cell_type": "code",
   "execution_count": 10,
   "metadata": {},
   "outputs": [
    {
     "name": "stdout",
     "output_type": "stream",
     "text": [
      "(250000, 41)\n"
     ]
    }
   ],
   "source": [
    "print(tx_train.shape)"
   ]
  },
  {
   "cell_type": "markdown",
   "metadata": {},
   "source": [
    "# Manage categorical data (feature 22)"
   ]
  },
  {
   "cell_type": "code",
   "execution_count": 11,
   "metadata": {},
   "outputs": [
    {
     "data": {
      "text/plain": [
       "array([ 2.,  1.,  1., ...,  1.,  0.,  0.])"
      ]
     },
     "execution_count": 11,
     "metadata": {},
     "output_type": "execute_result"
    }
   ],
   "source": [
    "tx_train[:,22]"
   ]
  },
  {
   "cell_type": "code",
   "execution_count": 12,
   "metadata": {
    "collapsed": true
   },
   "outputs": [],
   "source": [
    "def manage_categorical_data(tx):\n",
    "    idx_cat = 22\n",
    "    larger_tx = np.zeros([tx.shape[0],4])\n",
    "    larger_tx[:,0] = (tx[:,idx_cat]==0)*1\n",
    "    larger_tx[:,1] = (tx[:,idx_cat]==1)*1\n",
    "    larger_tx[:,2] = (tx[:,idx_cat]==2)*1\n",
    "    larger_tx[:,3] = (tx[:,idx_cat]==3)*1\n",
    "    tx = np.delete(tx, idx_cat, axis=1)\n",
    "    tx = np.concatenate((tx, larger_tx), axis=1)\n",
    "    return tx"
   ]
  },
  {
   "cell_type": "code",
   "execution_count": 13,
   "metadata": {},
   "outputs": [
    {
     "name": "stdout",
     "output_type": "stream",
     "text": [
      "(250000, 41)\n",
      "(250000, 44)\n"
     ]
    }
   ],
   "source": [
    "print(tx_train.shape)\n",
    "tx_train = manage_categorical_data(tx_train)\n",
    "print(tx_train.shape)"
   ]
  },
  {
   "cell_type": "code",
   "execution_count": 14,
   "metadata": {
    "collapsed": true
   },
   "outputs": [],
   "source": [
    "tx_test = manage_categorical_data(tx_test)"
   ]
  },
  {
   "cell_type": "markdown",
   "metadata": {},
   "source": [
    "# Standardization of data"
   ]
  },
  {
   "cell_type": "code",
   "execution_count": 15,
   "metadata": {},
   "outputs": [],
   "source": [
    "tx_train = standardize(tx_train)\n",
    "tx_train = tx_train[0]\n",
    "tx_test = standardize(tx_test)\n",
    "tx_test = tx_test[0]"
   ]
  },
  {
   "cell_type": "markdown",
   "metadata": {},
   "source": [
    "# Add a column of all ones"
   ]
  },
  {
   "cell_type": "code",
   "execution_count": 16,
   "metadata": {
    "collapsed": true
   },
   "outputs": [],
   "source": [
    "def add_ones(tx):\n",
    "    return np.concatenate((tx, np.ones([tx.shape[0],1])), axis=1)"
   ]
  },
  {
   "cell_type": "code",
   "execution_count": 17,
   "metadata": {},
   "outputs": [],
   "source": [
    "tx_train = add_ones(tx_train)\n",
    "tx_test = add_ones(tx_test)"
   ]
  },
  {
   "cell_type": "markdown",
   "metadata": {},
   "source": [
    "# Add powers of the columns"
   ]
  },
  {
   "cell_type": "code",
   "execution_count": 18,
   "metadata": {
    "collapsed": true
   },
   "outputs": [],
   "source": [
    "def build_poly(x, degree):\n",
    "    \"\"\"polynomial basis functions for input data x, for j=1 up to j=degree.\"\"\"\n",
    "    return np.array([x**p for p in range(1,degree+1)]).T"
   ]
  },
  {
   "cell_type": "code",
   "execution_count": 19,
   "metadata": {
    "collapsed": true
   },
   "outputs": [],
   "source": [
    "def add_powers(tx, degree):\n",
    "    for col in range(tx.shape[1]):\n",
    "        tx = np.concatenate((tx, build_poly(tx[:,col], degree)), axis=1)\n",
    "    return tx"
   ]
  },
  {
   "cell_type": "code",
   "execution_count": 20,
   "metadata": {},
   "outputs": [],
   "source": [
    "deg = 11\n",
    "tx_train = add_powers(tx_train, deg)\n",
    "tx_test = add_powers(tx_test, deg)"
   ]
  },
  {
   "cell_type": "code",
   "execution_count": 21,
   "metadata": {},
   "outputs": [
    {
     "name": "stdout",
     "output_type": "stream",
     "text": [
      "(250000, 540)\n",
      "(568238, 540)\n"
     ]
    }
   ],
   "source": [
    "print(tx_train.shape)\n",
    "print(tx_test.shape)"
   ]
  },
  {
   "cell_type": "markdown",
   "metadata": {},
   "source": [
    "# Cross-validation"
   ]
  },
  {
   "cell_type": "code",
   "execution_count": 22,
   "metadata": {
    "collapsed": true
   },
   "outputs": [],
   "source": [
    "def build_k_indices(y, k_fold, seed):\n",
    "    \"\"\"build k indices for k-fold.\"\"\"\n",
    "    num_row = y.shape[0]\n",
    "    interval = int(num_row / k_fold)\n",
    "    np.random.seed(seed)\n",
    "    indices = np.random.permutation(num_row)\n",
    "    k_indices = [indices[k * interval: (k + 1) * interval]\n",
    "                 for k in range(k_fold)]\n",
    "    return np.array(k_indices)"
   ]
  },
  {
   "cell_type": "code",
   "execution_count": null,
   "metadata": {
    "collapsed": true
   },
   "outputs": [],
   "source": []
  },
  {
   "cell_type": "markdown",
   "metadata": {},
   "source": [
    "# Submission trials"
   ]
  },
  {
   "cell_type": "markdown",
   "metadata": {},
   "source": [
    "## Least squares"
   ]
  },
  {
   "cell_type": "code",
   "execution_count": null,
   "metadata": {
    "collapsed": true
   },
   "outputs": [],
   "source": []
  },
  {
   "cell_type": "markdown",
   "metadata": {},
   "source": [
    "## Gradient descent"
   ]
  },
  {
   "cell_type": "code",
   "execution_count": null,
   "metadata": {
    "collapsed": true
   },
   "outputs": [],
   "source": []
  },
  {
   "cell_type": "markdown",
   "metadata": {},
   "source": [
    "## Stochastic gradient descent"
   ]
  },
  {
   "cell_type": "code",
   "execution_count": null,
   "metadata": {
    "collapsed": true
   },
   "outputs": [],
   "source": []
  },
  {
   "cell_type": "markdown",
   "metadata": {},
   "source": [
    "## Ridge regression"
   ]
  },
  {
   "cell_type": "code",
   "execution_count": 110,
   "metadata": {
    "collapsed": true
   },
   "outputs": [],
   "source": [
    "def cross_validation_ridge_regression(y, tx, k_indices, k, lambda_, fct='rmse'):\n",
    "    \"\"\"return the loss of ridge regression.\"\"\"\n",
    "    # get k'th subgroup in test, others in train\n",
    "    k_index = k_indices[k]\n",
    "    test_y = y[k_index]\n",
    "    test_tx = tx[k_index,:]\n",
    "\n",
    "    mask = np.ones(len(y), dtype=bool) # set all elements to True\n",
    "    mask[k_index] = False              # set test elements to False\n",
    "    train_tx = tx[mask,:]              # select only True elements (ie train elements)\n",
    "    train_y = y[mask]\n",
    "    \n",
    "    # ridge regression and\n",
    "    # calculate the loss for train and test data\n",
    "    weights = ridge_regression(train_y, train_tx, lambda_)\n",
    "\n",
    "    y_pred_train = predict_labels(weights, train_tx)\n",
    "    y_pred_test = predict_labels(weights, test_tx)\n",
    "    right_train = np.sum(y_pred_train == train_y)/len(train_y)*100\n",
    "    right_test = np.sum(y_pred_test == test_y)/len(test_y)*100\n",
    "    \n",
    "    return right_train, right_test"
   ]
  },
  {
   "cell_type": "code",
   "execution_count": 118,
   "metadata": {},
   "outputs": [
    {
     "data": {
      "text/plain": [
       "<matplotlib.legend.Legend at 0x7f53c4bfdbe0>"
      ]
     },
     "execution_count": 118,
     "metadata": {},
     "output_type": "execute_result"
    },
    {
     "data": {
      "image/png": "[encoded data removed]",
      "text/plain": [
       "<matplotlib.figure.Figure at 0x7f53ea86f8d0>"
      ]
     },
     "metadata": {},
     "output_type": "display_data"
    }
   ],
   "source": [
    "seed = 1\n",
    "k_fold = 4\n",
    "k_indices = build_k_indices(y_train, k_fold, seed)\n",
    "\n",
    "right_train_l = []\n",
    "right_test_l = []\n",
    "\n",
    "lambdas = np.linspace(1e-10,1e-9,10)\n",
    "for i,lambda_ in enumerate(lambdas):\n",
    "    right_train = 0\n",
    "    right_test = 0\n",
    "    for k in range(k_fold):\n",
    "        right_train_temp, right_test_temp = cross_validation_ridge_regression(y_train, tx_train, k_indices, k, lambda_)\n",
    "        right_train += right_train_temp\n",
    "        right_test += right_test_temp\n",
    "    right_train_l.append(right_train/k_fold)\n",
    "    right_test_l.append(right_test/k_fold)\n",
    "\n",
    "plt.plot(lambdas, right_train_l, label='train', color='r')\n",
    "plt.plot(lambdas, right_test_l, label='test')\n",
    "plt.legend()"
   ]
  },
  {
   "cell_type": "markdown",
   "metadata": {},
   "source": [
    "And now, let us compute the results on the validation set."
   ]
  },
  {
   "cell_type": "code",
   "execution_count": 119,
   "metadata": {
    "scrolled": true
   },
   "outputs": [
    {
     "name": "stdout",
     "output_type": "stream",
     "text": [
      "losses: \n",
      " \n",
      "\n",
      " weights: \n",
      " [  9.14452133e+01  -2.94417417e+01   4.25024013e+01  -8.59991907e+00\n",
      "  -1.17650342e+02   1.93546472e+02   3.29276617e+01   6.23408285e+01\n",
      "  -2.72767960e+00  -1.45434386e+01   2.06059137e+01   1.31060817e+02\n",
      "   1.65396383e+02   1.56292693e+01   3.99344032e+01   1.04841303e+01\n",
      "   8.94378271e+00  -9.58966230e+01  -6.45283260e+01   3.07679029e+01\n",
      "   2.57770261e+01   1.17072234e+02  -8.71642188e-02   8.67380058e+01\n",
      "  -8.06009091e+00   1.50186708e+01   2.18082302e+00   6.19920777e+00\n",
      "   1.55137109e+01  -7.50963070e+00   4.27702459e+00   3.30405825e+01\n",
      "  -2.29689983e+01   1.07410010e+01   1.53598327e+02  -3.12872813e+01\n",
      "  -4.48901775e+01   9.79333673e+01   8.82782373e+01  -3.95722889e+01\n",
      "  -7.26127060e+01  -4.35662426e+01   6.92914408e+01   5.34139726e+01\n",
      "   3.89611136e+01  -9.52415163e+01   7.95768595e+00  -5.20769203e+00\n",
      "   1.05328312e+00   2.37847068e-01  -1.64655846e-01   3.67212130e-02\n",
      "  -4.37176790e-03   2.95873888e-04  -1.07344214e-05   1.62219215e-07\n",
      "   2.90227327e+01  -1.18484398e+00   4.04025786e-01   2.67601348e+00\n",
      "  -3.25642361e+00   1.71388260e+00  -5.03796656e-01   8.84930202e-02\n",
      "  -9.24328549e-03   5.30383580e-04  -1.28839894e-05  -4.24349688e+01\n",
      "   1.35709976e+00  -3.48393337e+00   2.92312918e+00  -1.22307735e+00\n",
      "   2.94279156e-01  -4.32071465e-02   3.92888344e-03  -2.15644157e-04\n",
      "   6.53607225e-06  -8.38946715e-08   8.50116604e+00   2.66535230e-01\n",
      "  -2.85083918e-01   1.36810695e-01  -3.14213732e-02   3.31914899e-03\n",
      "  -1.02090311e-04  -6.27390486e-06   4.23619896e-07  -8.42336969e-09\n",
      "   1.34336726e-10  -6.73556298e+00  -2.58702225e+02   1.39123868e+01\n",
      "   1.96167746e+02  -2.44662513e+02   1.98776719e+02  -1.33177723e+02\n",
      "   7.96135161e+01  -4.40732568e+01   2.30468350e+01  -1.15474306e+01\n",
      "  -1.93923321e+02   1.03020371e-01  -1.51103370e-02   1.29293628e-03\n",
      "  -6.76484709e-05   2.19402669e-06  -4.31021078e-08   4.65362767e-10\n",
      "  -1.78367964e-12  -1.06055172e-14   9.04076860e-17  -2.98018401e+01\n",
      "  -7.42146266e+00  -6.35388306e+01  -2.54663623e+01   7.25843612e+01\n",
      "  -5.06677377e+01  -1.41692444e+00   4.63850304e+01  -6.95341203e+01\n",
      "   7.33640293e+01  -6.56148154e+01   1.00774808e+02   3.60716032e+02\n",
      "   1.00311002e+01  -3.02659506e+02   3.52163607e+02  -2.83785814e+02\n",
      "   1.90272733e+02  -1.13971005e+02   6.33126600e+01  -3.32530131e+01\n",
      "   1.67441114e+01   2.60993424e+00   5.05831442e-02   6.28052508e-01\n",
      "  -6.17281269e-01   2.11707556e-01  -2.75342813e-02   4.81135413e-04\n",
      "   8.28011863e-05   2.46998166e-06   3.80050744e-08  -2.75721475e-09\n",
      "  -1.24035860e+01   1.90916517e+00  -1.18894733e+00   4.22617691e-01\n",
      "  -9.24776564e-02   1.29897311e-02  -1.19113978e-03   7.08179875e-05\n",
      "  -2.62743712e-06   5.52070120e-08  -5.01005126e-10  -1.98476667e+01\n",
      "   1.59753231e+01   3.86661510e+01  -1.50305197e+01  -1.53590650e+01\n",
      "   2.29257101e+01  -1.90512805e+01   1.27473034e+01  -7.53742767e+00\n",
      "   4.10179241e+00  -2.10145654e+00  -6.42311066e+00   9.96475586e+01\n",
      "  -8.20132213e+01   3.33747254e+01   4.04893038e+00  -2.02724384e+01\n",
      "   2.03248050e+01  -1.54469974e+01   1.01768581e+01  -6.18649433e+00\n",
      "   3.55497540e+00   1.57418965e+02   1.60775688e+02  -2.38307406e+02\n",
      "   2.13977835e+02  -1.43383690e+02   8.74146451e+01  -4.80872546e+01\n",
      "   2.49963652e+01  -1.25681171e+01   6.12611765e+00  -2.91279806e+00\n",
      "   1.12498349e+01   4.73384102e-02  -5.83463595e+00   1.05882308e+01\n",
      "  -9.08832904e+00   4.47370282e+00  -1.34273380e+00   2.48740860e-01\n",
      "  -2.76538867e-02   1.68520266e-03  -4.31213587e-05  -8.24380246e+01\n",
      "  -1.75647884e+01   3.84150619e+01  -3.37349665e+01   1.82557546e+01\n",
      "  -1.06030443e+01   5.85381954e+00  -3.30665031e+00   1.84005962e+00\n",
      "  -1.05367701e+00   5.83342216e-01  -6.53725831e+00   1.00939746e+01\n",
      "   6.75159879e+00  -2.59514362e+00   1.35371713e+00  -8.23648055e-01\n",
      "   4.15495085e-01  -7.54387146e-02  -2.68363435e-01   2.57444312e-01\n",
      "  -2.46035515e-01   1.70190499e+01  -5.40823137e+00   1.60258913e+01\n",
      "  -2.31247683e+01   1.92268317e+01  -9.94608903e+00   3.30699600e+00\n",
      "  -7.07476363e-01   9.41780592e-02  -7.10393847e-03   2.32190626e-04\n",
      "   1.02793309e+00  -7.16569965e+01   6.70110956e+01  -3.12428258e+01\n",
      "   6.96742741e+00   2.73407356e+00  -6.44645073e+00   5.59667948e+00\n",
      "  -4.01292288e+00   2.58322053e+00  -1.54613566e+00   3.73748334e+01\n",
      "  -3.90758572e+01   2.05653845e+01   2.34847400e+01  -3.67345265e+01\n",
      "   3.32584281e+01  -2.54058632e+01   1.71174425e+01  -1.05647713e+01\n",
      "   6.11521037e+00  -3.37668217e+00  -3.07176895e+01   6.69453350e-01\n",
      "  -7.75945399e-01   3.51106150e-01  -7.10806866e-02   5.66990648e-03\n",
      "   3.21671582e-05  -2.47111485e-05   1.00290239e-06  -7.55521972e-09\n",
      "  -1.78665549e-09  -2.88773072e+01  -4.00945136e+00   3.85080629e+00\n",
      "   3.64038614e+00  -4.28439709e+00   4.96875912e+00  -3.65051391e+00\n",
      "   2.00963757e+00  -9.60524165e-01   4.36244888e-01  -1.62183582e-01\n",
      "  -1.16952084e+02  -2.04462621e-02   7.68867962e-04  -6.33114721e-03\n",
      "   3.08706677e-03  -6.54843941e-04   7.74471561e-05  -5.46763432e-06\n",
      "   2.28990680e-07  -5.24799308e-09   5.06794866e-11   8.63013014e-01\n",
      "  -9.21381711e-01   7.68829413e-01  -4.15267277e-01   1.46237124e-01\n",
      "  -3.38136313e-02   5.07251201e-03  -4.75914888e-04   2.59789708e-05\n",
      "  -7.16588250e-07   7.20080749e-09   6.28917790e+01   1.25182807e+02\n",
      "  -1.29982280e+02   2.96068600e+01   5.83074106e+01  -8.81614753e+01\n",
      "   8.48239009e+01  -6.67791914e+01   4.65622716e+01  -3.00627981e+01\n",
      "   1.83241504e+01   3.12187468e+01   3.65347685e+01  -5.99287062e+00\n",
      "  -1.32167448e+01   2.48395671e+01  -2.43508294e+01   1.82515462e+01\n",
      "  -1.26625365e+01   7.98997579e+00  -4.71339563e+00   2.66187848e+00\n",
      "  -1.41261162e+01  -1.55231933e+00   2.56553232e+00  -2.74212171e+00\n",
      "   1.75464576e+00  -6.91598224e-01   1.72662587e-01  -2.74568347e-02\n",
      "   2.70283530e-03  -1.50438999e-04   3.62221659e-06   1.17656218e+02\n",
      "   1.02167112e+02  -8.42998803e+01   3.03846739e+01   1.72355952e+01\n",
      "  -4.27216374e+01   4.54569411e+01  -3.74327000e+01   2.69875050e+01\n",
      "  -1.78111592e+01   1.10488327e+01  -2.23609542e+00   5.59828563e+00\n",
      "  -9.29116313e+00  -1.03666155e+01   1.12873561e+01  -1.01178804e+01\n",
      "   7.59267898e+00  -4.72832220e+00   2.67937694e+00  -1.44425054e+00\n",
      "   7.15391097e-01   9.78415089e+00  -2.86991290e-02   1.41370509e-01\n",
      "  -1.06921909e-01   3.73351636e-02  -7.35386456e-03   8.80267522e-04\n",
      "  -6.53562759e-05   2.93997350e-06  -7.33448640e-08   7.77870274e-10\n",
      "  -4.60342064e+01  -1.49012253e+01   2.94423885e+01  -9.82132449e+00\n",
      "   5.49795145e+00  -1.51481451e+00   1.12740117e+00  -4.18215872e-01\n",
      "   2.29805307e-01  -9.59623578e-02   3.44547862e-02   2.60895204e+01\n",
      "   2.27629366e+01  -9.10810454e+00   2.54946410e+00  -9.57780227e-01\n",
      "   1.32783573e+00  -5.76134995e-01   1.97963736e-01  -1.19274272e-02\n",
      "   2.74961503e-02  -1.31598753e-02   2.60895204e+01   2.27629366e+01\n",
      "  -9.10810454e+00   2.54946410e+00  -9.57780227e-01   1.32783573e+00\n",
      "  -5.76134995e-01   1.97963736e-01  -1.19274272e-02   2.74961503e-02\n",
      "  -1.31598753e-02   2.60895204e+01   2.27629366e+01  -9.10810454e+00\n",
      "   2.54946410e+00  -9.57780227e-01   1.32783573e+00  -5.76134995e-01\n",
      "   1.97963736e-01  -1.19274272e-02   2.74961503e-02  -1.31598753e-02\n",
      "   2.60895204e+01   2.27629366e+01  -9.10810454e+00   2.54946410e+00\n",
      "  -9.57780227e-01   1.32783573e+00  -5.76134995e-01   1.97963736e-01\n",
      "  -1.19274272e-02   2.74961503e-02  -1.31598753e-02  -5.98947068e+00\n",
      "   2.03258896e+01  -2.96221243e+00  -4.67176446e-01   1.36074492e+00\n",
      "  -1.19191181e+00   8.15326642e-02  -1.20168682e-02   8.41557185e-03\n",
      "  -2.49189653e-03   1.45604326e-03  -5.98947068e+00   2.03258896e+01\n",
      "  -2.96221243e+00  -4.67176446e-01   1.36074492e+00  -1.19191181e+00\n",
      "   8.15326642e-02  -1.20168682e-02   8.41557185e-03  -2.49189653e-03\n",
      "   1.45604326e-03  -5.98947068e+00   2.03258896e+01  -2.96221243e+00\n",
      "  -4.67176446e-01   1.36074492e+00  -1.19191181e+00   8.15326642e-02\n",
      "  -1.20168682e-02   8.41557185e-03  -2.49189653e-03   1.45604326e-03\n",
      "   2.60895204e+01   2.27629366e+01  -9.10810454e+00   2.54946410e+00\n",
      "  -9.57780227e-01   1.32783573e+00  -5.76134995e-01   1.97963736e-01\n",
      "  -1.19274272e-02   2.74961503e-02  -1.31598753e-02   2.60895204e+01\n",
      "   2.27629366e+01  -9.10810454e+00   2.54946410e+00  -9.57780227e-01\n",
      "   1.32783573e+00  -5.76134995e-01   1.97963736e-01  -1.19274272e-02\n",
      "   2.74961503e-02  -1.31598753e-02   2.60895204e+01   2.27629366e+01\n",
      "  -9.10810454e+00   2.54946410e+00  -9.57780227e-01   1.32783573e+00\n",
      "  -5.76134995e-01   1.97963736e-01  -1.19274272e-02   2.74961503e-02\n",
      "  -1.31598753e-02  -5.98947068e+00   2.03258896e+01  -2.96221243e+00\n",
      "  -4.67176446e-01   1.36074492e+00  -1.19191181e+00   8.15326642e-02\n",
      "  -1.20168682e-02   8.41557185e-03  -2.49189653e-03   1.45604326e-03\n",
      "  -1.54886018e+01   1.85248681e+01  -1.27518350e+01   1.13510377e+00\n",
      "  -1.75040230e+00   3.97229826e-01  -3.73698750e-01   1.63857669e-01\n",
      "  -6.56166212e-02   3.94211774e-02  -1.15158487e-02   2.88576086e+01\n",
      "  -1.58700976e+01  -9.13399716e-01   6.52015815e+00  -9.48277308e-01\n",
      "   1.43880143e+00  -1.09235594e-01  -2.34100866e-02  -8.87018693e-03\n",
      "   1.82284003e-02  -2.91547131e-03   4.97268864e+01   7.81158372e+00\n",
      "   2.28895808e+00  -1.47061833e+00   1.51636546e+00  -7.59522788e-01\n",
      "   2.67932595e-01  -1.93648944e-01   4.37602279e-02  -2.76647286e-02\n",
      "   1.24788546e-02  -1.73276858e+01  -1.73276858e+01  -1.73276858e+01\n",
      "  -1.73276858e+01  -1.73276858e+01  -1.73276858e+01  -1.73274501e+01\n",
      "   9.14538619e+01   9.14538619e+01   9.14538619e+01   9.11826423e+01]\n"
     ]
    }
   ],
   "source": [
    "lambda_ = 1e-10\n",
    "weights = ridge_regression(y_train, tx_train, lambda_);\n",
    "print('losses: \\n','\\n\\n','weights: \\n',weights)"
   ]
  },
  {
   "cell_type": "code",
   "execution_count": 120,
   "metadata": {},
   "outputs": [],
   "source": [
    "y_pred = predict_labels(weights, tx_test)"
   ]
  },
  {
   "cell_type": "code",
   "execution_count": 121,
   "metadata": {
    "collapsed": true
   },
   "outputs": [],
   "source": [
    "name = 'output/ridge_regression_ondine'\n",
    "create_csv_submission(ids_test, y_pred, name)"
   ]
  },
  {
   "cell_type": "markdown",
   "metadata": {},
   "source": [
    "## Logistic regression"
   ]
  },
  {
   "cell_type": "code",
   "execution_count": null,
   "metadata": {
    "collapsed": true
   },
   "outputs": [],
   "source": []
  },
  {
   "cell_type": "markdown",
   "metadata": {},
   "source": [
    "## Regularized logistic regression"
   ]
  },
  {
   "cell_type": "code",
   "execution_count": null,
   "metadata": {
    "collapsed": true
   },
   "outputs": [],
   "source": []
  },
  {
   "cell_type": "markdown",
   "metadata": {},
   "source": [
    "## Newton regularized logistic regression"
   ]
  },
  {
   "cell_type": "code",
   "execution_count": null,
   "metadata": {
    "collapsed": true
   },
   "outputs": [],
   "source": []
  }
 ],
 "metadata": {
  "kernelspec": {
   "display_name": "Python 3",
   "language": "python",
   "name": "python3"
  },
  "language_info": {
   "codemirror_mode": {
    "name": "ipython",
    "version": 3
   },
   "file_extension": ".py",
   "mimetype": "text/x-python",
   "name": "python",
   "nbconvert_exporter": "python",
   "pygments_lexer": "ipython3",
   "version": "3.6.2"
  }
 },
 "nbformat": 4,
 "nbformat_minor": 2
}
