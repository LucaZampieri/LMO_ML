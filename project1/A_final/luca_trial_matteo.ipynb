{
 "cells": [
  {
   "cell_type": "markdown",
   "metadata": {
    "collapsed": true
   },
   "source": [
    "# Project 1\n",
    "\n",
    "    We begin by loading the data"
   ]
  },
  {
   "cell_type": "code",
   "execution_count": 1,
   "metadata": {
    "collapsed": true
   },
   "outputs": [],
   "source": [
    "%matplotlib inline \n",
    "import numpy as np   # generic stuff\n",
    "import matplotlib.pyplot as plt\n",
    "\n",
    "#### REMOVE THIS LINE BEFORE SUBMISSION\n",
    "import pandas as pd\n",
    "#######################################################################\n",
    "\n",
    "from lib.proj1_helpers import * #the helper provided for the project\n",
    "from lib.costs import *\n",
    "\n",
    "# choose which implementations you would like\n",
    "from lib.implementations import *\n",
    "#from implementations import * #our implementations of the functions done by us\n",
    "\n",
    "\n",
    "import datetime\n",
    "from helpers import * #helpers of exo 2\n",
    "# Useful starting lines\n",
    "\n",
    "%load_ext autoreload\n",
    "%autoreload 2\n",
    "%reload_ext autoreload"
   ]
  },
  {
   "cell_type": "code",
   "execution_count": 3,
   "metadata": {
    "collapsed": true
   },
   "outputs": [],
   "source": [
    "DATA_FOLDER = 'data/'\n",
    "\n",
    "y_train, tx_train, ids_train = load_csv_data(DATA_FOLDER+'train.csv',sub_sample=False)\n",
    "\n",
    "y_test, tx_test, ids_test = load_csv_data(DATA_FOLDER+'test.csv',sub_sample=False)\n",
    "AAA = 0;"
   ]
  },
  {
   "cell_type": "markdown",
   "metadata": {},
   "source": [
    "note that here we are only considering a sub_sample as the \"True\" value indicates"
   ]
  },
  {
   "cell_type": "code",
   "execution_count": 4,
   "metadata": {
    "scrolled": true
   },
   "outputs": [
    {
     "data": {
      "text/plain": [
       "array([ 1., -1., -1., ...,  1., -1., -1.])"
      ]
     },
     "execution_count": 4,
     "metadata": {},
     "output_type": "execute_result"
    }
   ],
   "source": [
    "y_train"
   ]
  },
  {
   "cell_type": "code",
   "execution_count": 5,
   "metadata": {},
   "outputs": [
    {
     "data": {
      "text/plain": [
       "array([ -4.90230794e+01,   4.92398193e+01,   8.11819816e+01,\n",
       "         5.78959617e+01,  -7.08420675e+02,  -6.01237051e+02,\n",
       "        -7.09356603e+02,   2.37309984e+00,   1.89173324e+01,\n",
       "         1.58432217e+02,   1.43760943e+00,  -1.28304708e-01,\n",
       "        -7.08985189e+02,   3.87074191e+01,  -1.09730480e-02,\n",
       "        -8.17107200e-03,   4.66602072e+01,  -1.95074680e-02,\n",
       "         4.35429640e-02,   4.17172345e+01,  -1.01191920e-02,\n",
       "         2.09797178e+02,   9.79176000e-01,  -3.48329567e+02,\n",
       "        -3.99254314e+02,  -3.99259788e+02,  -6.92381204e+02,\n",
       "        -7.09121609e+02,  -7.09118631e+02,   7.30645914e+01])"
      ]
     },
     "execution_count": 5,
     "metadata": {},
     "output_type": "execute_result"
    }
   ],
   "source": [
    "ids_train\n",
    "np.mean(tx_train,axis=0)"
   ]
  },
  {
   "cell_type": "code",
   "execution_count": 6,
   "metadata": {},
   "outputs": [
    {
     "data": {
      "text/html": [
       "<div>\n",
       "<style>\n",
       "    .dataframe thead tr:only-child th {\n",
       "        text-align: right;\n",
       "    }\n",
       "\n",
       "    .dataframe thead th {\n",
       "        text-align: left;\n",
       "    }\n",
       "\n",
       "    .dataframe tbody tr th {\n",
       "        vertical-align: top;\n",
       "    }\n",
       "</style>\n",
       "<table border=\"1\" class=\"dataframe\">\n",
       "  <thead>\n",
       "    <tr style=\"text-align: right;\">\n",
       "      <th></th>\n",
       "      <th>0</th>\n",
       "      <th>1</th>\n",
       "      <th>2</th>\n",
       "      <th>3</th>\n",
       "      <th>4</th>\n",
       "      <th>5</th>\n",
       "      <th>6</th>\n",
       "      <th>7</th>\n",
       "      <th>8</th>\n",
       "      <th>9</th>\n",
       "      <th>...</th>\n",
       "      <th>20</th>\n",
       "      <th>21</th>\n",
       "      <th>22</th>\n",
       "      <th>23</th>\n",
       "      <th>24</th>\n",
       "      <th>25</th>\n",
       "      <th>26</th>\n",
       "      <th>27</th>\n",
       "      <th>28</th>\n",
       "      <th>29</th>\n",
       "    </tr>\n",
       "  </thead>\n",
       "  <tbody>\n",
       "    <tr>\n",
       "      <th>0</th>\n",
       "      <td>138.470</td>\n",
       "      <td>51.655</td>\n",
       "      <td>97.827</td>\n",
       "      <td>27.980</td>\n",
       "      <td>0.91</td>\n",
       "      <td>124.711</td>\n",
       "      <td>2.666</td>\n",
       "      <td>3.064</td>\n",
       "      <td>41.928</td>\n",
       "      <td>197.760</td>\n",
       "      <td>...</td>\n",
       "      <td>-0.277</td>\n",
       "      <td>258.733</td>\n",
       "      <td>2.0</td>\n",
       "      <td>67.435</td>\n",
       "      <td>2.150</td>\n",
       "      <td>0.444</td>\n",
       "      <td>46.062</td>\n",
       "      <td>1.24</td>\n",
       "      <td>-2.475</td>\n",
       "      <td>113.497</td>\n",
       "    </tr>\n",
       "    <tr>\n",
       "      <th>1</th>\n",
       "      <td>160.937</td>\n",
       "      <td>68.768</td>\n",
       "      <td>103.235</td>\n",
       "      <td>48.146</td>\n",
       "      <td>-999.00</td>\n",
       "      <td>-999.000</td>\n",
       "      <td>-999.000</td>\n",
       "      <td>3.473</td>\n",
       "      <td>2.078</td>\n",
       "      <td>125.157</td>\n",
       "      <td>...</td>\n",
       "      <td>-1.916</td>\n",
       "      <td>164.546</td>\n",
       "      <td>1.0</td>\n",
       "      <td>46.226</td>\n",
       "      <td>0.725</td>\n",
       "      <td>1.158</td>\n",
       "      <td>-999.000</td>\n",
       "      <td>-999.00</td>\n",
       "      <td>-999.000</td>\n",
       "      <td>46.226</td>\n",
       "    </tr>\n",
       "    <tr>\n",
       "      <th>2</th>\n",
       "      <td>-999.000</td>\n",
       "      <td>162.172</td>\n",
       "      <td>125.953</td>\n",
       "      <td>35.635</td>\n",
       "      <td>-999.00</td>\n",
       "      <td>-999.000</td>\n",
       "      <td>-999.000</td>\n",
       "      <td>3.148</td>\n",
       "      <td>9.336</td>\n",
       "      <td>197.814</td>\n",
       "      <td>...</td>\n",
       "      <td>-2.186</td>\n",
       "      <td>260.414</td>\n",
       "      <td>1.0</td>\n",
       "      <td>44.251</td>\n",
       "      <td>2.053</td>\n",
       "      <td>-2.028</td>\n",
       "      <td>-999.000</td>\n",
       "      <td>-999.00</td>\n",
       "      <td>-999.000</td>\n",
       "      <td>44.251</td>\n",
       "    </tr>\n",
       "    <tr>\n",
       "      <th>3</th>\n",
       "      <td>143.905</td>\n",
       "      <td>81.417</td>\n",
       "      <td>80.943</td>\n",
       "      <td>0.414</td>\n",
       "      <td>-999.00</td>\n",
       "      <td>-999.000</td>\n",
       "      <td>-999.000</td>\n",
       "      <td>3.310</td>\n",
       "      <td>0.414</td>\n",
       "      <td>75.968</td>\n",
       "      <td>...</td>\n",
       "      <td>0.060</td>\n",
       "      <td>86.062</td>\n",
       "      <td>0.0</td>\n",
       "      <td>-999.000</td>\n",
       "      <td>-999.000</td>\n",
       "      <td>-999.000</td>\n",
       "      <td>-999.000</td>\n",
       "      <td>-999.00</td>\n",
       "      <td>-999.000</td>\n",
       "      <td>0.000</td>\n",
       "    </tr>\n",
       "    <tr>\n",
       "      <th>4</th>\n",
       "      <td>175.864</td>\n",
       "      <td>16.915</td>\n",
       "      <td>134.805</td>\n",
       "      <td>16.405</td>\n",
       "      <td>-999.00</td>\n",
       "      <td>-999.000</td>\n",
       "      <td>-999.000</td>\n",
       "      <td>3.891</td>\n",
       "      <td>16.405</td>\n",
       "      <td>57.983</td>\n",
       "      <td>...</td>\n",
       "      <td>-0.871</td>\n",
       "      <td>53.131</td>\n",
       "      <td>0.0</td>\n",
       "      <td>-999.000</td>\n",
       "      <td>-999.000</td>\n",
       "      <td>-999.000</td>\n",
       "      <td>-999.000</td>\n",
       "      <td>-999.00</td>\n",
       "      <td>-999.000</td>\n",
       "      <td>0.000</td>\n",
       "    </tr>\n",
       "  </tbody>\n",
       "</table>\n",
       "<p>5 rows × 30 columns</p>\n",
       "</div>"
      ],
      "text/plain": [
       "        0        1        2       3       4        5        6      7       8   \\\n",
       "0  138.470   51.655   97.827  27.980    0.91  124.711    2.666  3.064  41.928   \n",
       "1  160.937   68.768  103.235  48.146 -999.00 -999.000 -999.000  3.473   2.078   \n",
       "2 -999.000  162.172  125.953  35.635 -999.00 -999.000 -999.000  3.148   9.336   \n",
       "3  143.905   81.417   80.943   0.414 -999.00 -999.000 -999.000  3.310   0.414   \n",
       "4  175.864   16.915  134.805  16.405 -999.00 -999.000 -999.000  3.891  16.405   \n",
       "\n",
       "        9    ...        20       21   22       23       24       25       26  \\\n",
       "0  197.760   ...    -0.277  258.733  2.0   67.435    2.150    0.444   46.062   \n",
       "1  125.157   ...    -1.916  164.546  1.0   46.226    0.725    1.158 -999.000   \n",
       "2  197.814   ...    -2.186  260.414  1.0   44.251    2.053   -2.028 -999.000   \n",
       "3   75.968   ...     0.060   86.062  0.0 -999.000 -999.000 -999.000 -999.000   \n",
       "4   57.983   ...    -0.871   53.131  0.0 -999.000 -999.000 -999.000 -999.000   \n",
       "\n",
       "       27       28       29  \n",
       "0    1.24   -2.475  113.497  \n",
       "1 -999.00 -999.000   46.226  \n",
       "2 -999.00 -999.000   44.251  \n",
       "3 -999.00 -999.000    0.000  \n",
       "4 -999.00 -999.000    0.000  \n",
       "\n",
       "[5 rows x 30 columns]"
      ]
     },
     "execution_count": 6,
     "metadata": {},
     "output_type": "execute_result"
    }
   ],
   "source": [
    "# illegal: \n",
    "pd.DataFrame(tx_train).head()"
   ]
  },
  {
   "cell_type": "markdown",
   "metadata": {},
   "source": [
    "### Helper functions"
   ]
  },
  {
   "cell_type": "code",
   "execution_count": 7,
   "metadata": {
    "collapsed": true
   },
   "outputs": [],
   "source": [
    "def replace_999_median(tx):\n",
    "    nan_values = (tx==-999)*1\n",
    "    for col in range(tx.shape[1]):\n",
    "        column = tx[:,col][tx[:,col]!=-999]\n",
    "        median = np.median(column)\n",
    "        tx[:,col][tx[:,col]==-999] = median\n",
    "    return tx, nan_values\n",
    "\n",
    "def replace_999_mean(tx):\n",
    "    nan_values = (tx==-999)*1\n",
    "    for col in range(tx.shape[1]):\n",
    "        column = tx[:,col][tx[:,col]!=-999]\n",
    "        median = np.median(column)\n",
    "        tx[:,col][tx[:,col]==-999] = median\n",
    "    return tx, nan_values\n",
    "\n",
    "def add_ones(tx):\n",
    "    return np.concatenate((np.ones([tx.shape[0],1]),tx), axis=1)\n",
    "\n",
    "def standardize(x):\n",
    "    \"\"\"Standardize the original data set.\"\"\"\n",
    "    mean_x = np.mean(x, axis=0)\n",
    "    x = x - mean_x\n",
    "    std_x = np.std(x, axis=0)\n",
    "    x = x / std_x\n",
    "    return x, mean_x, std_x"
   ]
  },
  {
   "cell_type": "code",
   "execution_count": 8,
   "metadata": {
    "collapsed": true
   },
   "outputs": [],
   "source": [
    "\n",
    "\n",
    "tx_train, nan_values_train = replace_999_median(tx_train)\n",
    "tx_test, nan_values_test = replace_999_median(tx_test)\n",
    "\n"
   ]
  },
  {
   "cell_type": "code",
   "execution_count": null,
   "metadata": {
    "collapsed": true
   },
   "outputs": [],
   "source": []
  },
  {
   "cell_type": "code",
   "execution_count": 9,
   "metadata": {
    "collapsed": true
   },
   "outputs": [],
   "source": [
    "tx_train = standardize(tx_train)\n",
    "tx_train = tx_train[0]\n",
    "tx_test = standardize(tx_test)\n",
    "tx_test = tx_test[0]"
   ]
  },
  {
   "cell_type": "code",
   "execution_count": 10,
   "metadata": {
    "collapsed": true
   },
   "outputs": [],
   "source": [
    "if (AAA!=1):\n",
    "    tx_train = add_ones(tx_train)\n",
    "    tx_test = add_ones(tx_test)\n",
    "    AAA = 1\n"
   ]
  },
  {
   "cell_type": "code",
   "execution_count": 11,
   "metadata": {},
   "outputs": [
    {
     "data": {
      "text/plain": [
       "array([  1.00000000e+00,   9.27252671e-13,   4.50019089e-15,\n",
       "        -3.48448848e-15,   7.19675786e-15,  -3.68138116e-12,\n",
       "         2.13543213e-12,   5.95433581e-13,   2.16429719e-14,\n",
       "         6.39742126e-15,   2.86409207e-15,  -7.00447966e-15,\n",
       "         4.45924897e-15,   4.29197803e-12,  -5.96492045e-15,\n",
       "         1.35646161e-16,   7.13136217e-17,   2.58030370e-14,\n",
       "        -1.06327391e-16,  -1.87188487e-16,   8.24369382e-15,\n",
       "         1.41040513e-16,  -9.00283004e-15,  -6.01698247e-16,\n",
       "        -2.95741174e-12,   1.46076658e-15,   2.17857554e-14,\n",
       "        -4.93485594e-12,   5.44553736e-15,  -2.56949984e-15,\n",
       "        -8.76751116e-16])"
      ]
     },
     "execution_count": 11,
     "metadata": {},
     "output_type": "execute_result"
    }
   ],
   "source": [
    "np.mean(tx_train,axis=0)"
   ]
  },
  {
   "cell_type": "code",
   "execution_count": 12,
   "metadata": {},
   "outputs": [
    {
     "data": {
      "text/plain": [
       "(250000, 31)"
      ]
     },
     "execution_count": 12,
     "metadata": {},
     "output_type": "execute_result"
    }
   ],
   "source": [
    "tx_train.shape"
   ]
  },
  {
   "cell_type": "code",
   "execution_count": 13,
   "metadata": {
    "scrolled": false
   },
   "outputs": [
    {
     "data": {
      "text/plain": [
       "(31,)"
      ]
     },
     "execution_count": 13,
     "metadata": {},
     "output_type": "execute_result"
    }
   ],
   "source": [
    "initial_w = np.zeros(tx_train.shape[1])\n",
    "initial_w.shape"
   ]
  },
  {
   "cell_type": "code",
   "execution_count": 14,
   "metadata": {
    "collapsed": true
   },
   "outputs": [],
   "source": [
    "gamma = 0.05\n",
    "max_iters = 1000\n",
    "lambda_ = 0.5"
   ]
  },
  {
   "cell_type": "markdown",
   "metadata": {},
   "source": [
    "# Methods"
   ]
  },
  {
   "cell_type": "markdown",
   "metadata": {},
   "source": [
    "### Functions for methods: "
   ]
  },
  {
   "cell_type": "code",
   "execution_count": 37,
   "metadata": {
    "collapsed": true
   },
   "outputs": [],
   "source": [
    "OUT_FOLDER = 'output/'\n",
    "\n",
    "def func_least_squares (y, tx, test_set, fct='mse'):\n",
    "    name = 'least_squares'\n",
    "    w,loss = least_squares(y,tx,fct)\n",
    "    y_pred = predict_labels(w, test_set)\n",
    "    create_csv_submission(ids_test, y_pred, OUT_FOLDER+name)\n",
    "    \n",
    "    plt.plot(w, 'go')\n",
    "    plt.title('least squares weights for loss:  '+str(loss),fontsize=15, fontweight='bold');\n",
    "    plt.show()\n",
    "    \n",
    "    return w, loss\n",
    "\n",
    "def func_GD (y, tx, test_set, max_iters, gamma, initial_w):\n",
    "    name = 'Gradient_descent'\n",
    "    w,loss = least_squares_GD(y, tx, initial_w, max_iters, gamma,fct='mse');\n",
    "    y_pred = predict_labels(w, test_set)\n",
    "    create_csv_submission(ids_test, y_pred, OUT_FOLDER+name)\n",
    "    \n",
    "    plt.plot(w, 'go')\n",
    "    plt.title('GD: weights with loss:  '+str(loss),fontsize=15, fontweight='bold');\n",
    "    plt.show()\n",
    "    \n",
    "    return w, loss\n",
    "\n",
    "########################  RIDGE REGRESSION #######################################################\n",
    "def func_ridge_regression (y, tx, test_set, lambda_):\n",
    "    name = 'Ridge_regression'\n",
    "    \n",
    "    w,loss = ridge_regression(y, tx, lambda_=lambda_, fct='mse');\n",
    "    \n",
    "    y_pred = predict_labels(w, test_set)\n",
    "    create_csv_submission(ids_test, y_pred, OUT_FOLDER+name)\n",
    "    \n",
    "    plt.plot(w, 'go')\n",
    "    plt.title('Ridge regression: weights ;loss:  '+str(loss),fontsize=15, fontweight='bold');\n",
    "    plt.show()\n",
    "    \n",
    "    return w, loss"
   ]
  },
  {
   "cell_type": "markdown",
   "metadata": {},
   "source": [
    "## LEAST-SQUARES"
   ]
  },
  {
   "cell_type": "code",
   "execution_count": 16,
   "metadata": {
    "scrolled": true
   },
   "outputs": [
    {
     "data": {
      "image/png": "[encoded data removed]",
      "text/plain": [
       "<matplotlib.figure.Figure at 0x7f7d07b8ac88>"
      ]
     },
     "metadata": {},
     "output_type": "display_data"
    }
   ],
   "source": [
    "w, loss = func_least_squares (y=y_train, tx=tx_train, test_set=tx_test, fct='mse');\n"
   ]
  },
  {
   "cell_type": "code",
   "execution_count": 17,
   "metadata": {},
   "outputs": [
    {
     "data": {
      "text/plain": [
       "74.499200000000002"
      ]
     },
     "execution_count": 17,
     "metadata": {},
     "output_type": "execute_result"
    }
   ],
   "source": [
    "y_pred_train = predict_labels(w, tx_train)\n",
    "right_train = np.sum(y_pred_train == y_train)/len(y_train)*100\n",
    "right_train"
   ]
  },
  {
   "cell_type": "markdown",
   "metadata": {},
   "source": [
    "## Gradient descent "
   ]
  },
  {
   "cell_type": "code",
   "execution_count": 18,
   "metadata": {},
   "outputs": [
    {
     "name": "stdout",
     "output_type": "stream",
     "text": [
      "Gradient Descent(0/499): loss=0.5000000000000249, w0=-0.031466400000014945, w1=0.002504206625732244\n",
      "Gradient Descent(1/499): loss=0.4494343967425655, w0=-0.0597861600000126, w1=0.004438498929019952\n",
      "Gradient Descent(2/499): loss=0.4237550966541934, w0=-0.08527394400001406, w1=0.006020285830294936\n",
      "Gradient Descent(3/499): loss=0.4070187761061894, w0=-0.108212949600019, w1=0.0072840399711404345\n",
      "Gradient Descent(4/499): loss=0.3951946905073953, w0=-0.12885805464002748, w1=0.008234547940797575\n",
      "Gradient Descent(5/499): loss=0.38648993849775537, w0=-0.14743864917603822, w1=0.008883836358338948\n",
      "Gradient Descent(6/499): loss=0.3798896347830327, w0=-0.16416118425845092, w1=0.009255089133456313\n",
      "Gradient Descent(7/499): loss=0.37476690775624144, w0=-0.17921146583262498, w1=0.009378902879218826\n",
      "Gradient Descent(8/499): loss=0.37071472549275486, w0=-0.19275671924938384, w1=0.00928903699482596\n",
      "Gradient Descent(9/499): loss=0.3674580691602446, w0=-0.20494744732446882, w1=0.009019283091522143\n",
      "Gradient Descent(10/499): loss=0.36480472393657815, w0=-0.21591910259204714, w1=0.008601519728930907\n",
      "Gradient Descent(11/499): loss=0.36261648374655586, w0=-0.22579359233286914, w1=0.008064668317610603\n",
      "Gradient Descent(12/499): loss=0.36079163177278045, w0=-0.23468063309961046, w1=0.007434256491318512\n",
      "Gradient Descent(13/499): loss=0.3592538737238359, w0=-0.24267896978967884, w1=0.006732362016934813\n",
      "Gradient Descent(14/499): loss=0.3579450962900165, w0=-0.24987747281074155, w1=0.00597777882561493\n",
      "Gradient Descent(15/499): loss=0.35682047490212365, w0=-0.25635612552969916, w1=0.0051863002497362\n",
      "Gradient Descent(16/499): loss=0.35584507472245464, w0=-0.262186912976762, w1=0.00437105261960692\n",
      "Gradient Descent(17/499): loss=0.35499143157761803, w0=-0.26743462167911947, w1=0.0035428382968072975\n",
      "Gradient Descent(18/499): loss=0.35423779479871625, w0=-0.27215755951124215, w1=0.002710464396935861\n",
      "Gradient Descent(19/499): loss=0.3535668286601078, w0=-0.2764082035601534, w1=0.0018810445772838272\n",
      "Gradient Descent(20/499): loss=0.3529646386535219, w0=-0.2802337832041743, w1=0.0010602682903819998\n",
      "Gradient Descent(21/499): loss=0.3524200322832165, w0=-0.2836768048837939, w1=0.00025263619990395936\n",
      "Gradient Descent(22/499): loss=0.35192395198892207, w0=-0.28677552439545223, w1=-0.0005383370412434682\n",
      "Gradient Descent(23/499): loss=0.3514690362130231, w0=-0.2895643719559454, w1=-0.0013099501045215718\n",
      "Gradient Descent(24/499): loss=0.35104927705013034, w0=-0.2920743347603899, w1=-0.002060169229780778\n",
      "Gradient Descent(25/499): loss=0.35065975147295947, w0=-0.2943333012843906, w1=-0.0027875060716798417\n",
      "Gradient Descent(26/499): loss=0.3502964091307315, w0=-0.29636637115599185, w1=-0.0034909159166575904\n",
      "Gradient Descent(27/499): loss=0.34995590399724485, w0=-0.2981961340404335, w1=-0.004169713277853097\n",
      "Gradient Descent(28/499): loss=0.3496354602447124, w0=-0.29984292063643153, w1=-0.004823502181765157\n",
      "Gradient Descent(29/499): loss=0.3493327649931605, w0=-0.30132502857283033, w1=-0.005452118787255545\n",
      "Gradient Descent(30/499): loss=0.3490458822739176, w0=-0.3026589257155898, w1=-0.006055584297156151\n",
      "Gradient Descent(31/499): loss=0.34877318381384237, w0=-0.30385943314407377, w1=-0.006634066420066071\n",
      "Gradient Descent(32/499): loss=0.34851329320881186, w0=-0.3049398898297099, w1=-0.007187847907624596\n",
      "Gradient Descent(33/499): loss=0.3482650407910446, w0=-0.30591230084678284, w1=-0.007717300928190996\n",
      "Gradient Descent(34/499): loss=0.3480274270626065, w0=-0.30678747076214896, w1=-0.008222866241914055\n",
      "Gradient Descent(35/499): loss=0.34779959300848823, w0=-0.30757512368597895, w1=-0.00870503631670072\n",
      "Gradient Descent(36/499): loss=0.34758079594734814, w0=-0.3082840113174264, w1=-0.009164341672451323\n",
      "Gradient Descent(37/499): loss=0.34737038984888213, w0=-0.30892201018572957, w1=-0.009601339865259552\n",
      "Gradient Descent(38/499): loss=0.34716780926062063, w0=-0.30949620916720283, w1=-0.01001660662719802\n",
      "Gradient Descent(39/499): loss=0.34697255615646283, w0=-0.3100129882505292, w1=-0.010410728763756885\n",
      "Gradient Descent(40/499): loss=0.3467841891540662, w0=-0.31047808942552335, w1=-0.010784298482628574\n",
      "Gradient Descent(41/499): loss=0.34660231465579394, w0=-0.3108966804830185, w1=-0.011137908886685415\n",
      "Gradient Descent(42/499): loss=0.3464265795539457, w0=-0.31127341243476453, w1=-0.011472150412720133\n",
      "Gradient Descent(43/499): loss=0.346256665209985, w0=-0.31161247119133634, w1=-0.011787608037560224\n",
      "Gradient Descent(44/499): loss=0.3460922824728801, w0=-0.3119176240722514, w1=-0.012084859106013864\n",
      "Gradient Descent(45/499): loss=0.345933167546257, w0=-0.3121922616650753, w1=-0.012364471662006231\n",
      "Gradient Descent(46/499): loss=0.3457790785500007, w0=-0.31243943549861725, w1=-0.012627003186269232\n",
      "Gradient Descent(47/499): loss=0.34562979265092386, w0=-0.31266189194880534, w1=-0.012872999661926081\n",
      "Gradient Descent(48/499): loss=0.34548510366056673, w0=-0.312862102753975, w1=-0.013102994903987579\n",
      "Gradient Descent(49/499): loss=0.3453448200171256, w0=-0.3130422924786281, w1=-0.01331751010074708\n",
      "Gradient Descent(50/499): loss=0.34520876308387344, w0=-0.3132044632308162, w1=-0.013517053524818022\n",
      "Gradient Descent(51/499): loss=0.3450767657088646, w0=-0.31335041690778587, w1=-0.013702120379506253\n",
      "Gradient Descent(52/499): loss=0.3449486710008176, w0=-0.3134817752170589, w1=-0.013873192752681522\n",
      "Gradient Descent(53/499): loss=0.34482433128427203, w0=-0.313599997695405, w1=-0.014030739655580028\n",
      "Gradient Descent(54/499): loss=0.3447036072037792, w0=-0.3137063979259168, w1=-0.014175217128255967\n",
      "Gradient Descent(55/499): loss=0.34458636695231337, w0=-0.3138021581333778, w1=-0.014307068396885834\n",
      "Gradient Descent(56/499): loss=0.3444724856035177, w0=-0.313888342320093, w1=-0.014426724070963766\n",
      "Gradient Descent(57/499): loss=0.34436184453099616, w0=-0.313965908088137, w1=-0.014534602370730303\n",
      "Gradient Descent(58/499): loss=0.34425433090080926, w0=-0.31403571727937696, w1=-0.014631109377049416\n",
      "Gradient Descent(59/499): loss=0.344149837225743, w0=-0.31409854555149325, w1=-0.0147166392974698\n",
      "Gradient Descent(60/499): loss=0.34404826097188024, w0=-0.3141550909963982, w1=-0.014791574743442027\n",
      "Gradient Descent(61/499): loss=0.343949504209624, w0=-0.314205981896813, w1=-0.014856287014666195\n",
      "Gradient Descent(62/499): loss=0.3438534733026436, w0=-0.3142517837071866, w1=-0.014911136387358881\n",
      "Gradient Descent(63/499): loss=0.3437600786293, w0=-0.31429300533652316, w1=-0.014956472403888437\n",
      "Gradient Descent(64/499): loss=0.34366923433200813, w0=-0.3143301048029264, w1=-0.014992634161763274\n",
      "Gradient Descent(65/499): loss=0.34358085809072125, w0=-0.31436349432268956, w1=-0.015019950600391406\n",
      "Gradient Descent(66/499): loss=0.34349487091734343, w0=-0.3143935448904767, w1=-0.015038740784380727\n",
      "Gradient Descent(67/499): loss=0.3434111969683685, w0=-0.31442059040148546, w1=-0.01504931418243348\n",
      "Gradient Descent(68/499): loss=0.34332976337346977, w0=-0.3144449313613936, w1=-0.01505197094111771\n",
      "Gradient Descent(69/499): loss=0.3432505000781074, w0=-0.31446683822531124, w1=-0.015047002152983496\n",
      "Gradient Descent(70/499): loss=0.34317333969850744, w0=-0.3144865544028374, w1=-0.015034690118640651\n",
      "Gradient Descent(71/499): loss=0.3430982173876096, w0=-0.31450429896261123, w1=-0.015015308602534116\n",
      "Gradient Descent(72/499): loss=0.3430250707107826, w0=-0.31452026906640795, w1=-0.014989123082249086\n",
      "Gradient Descent(73/499): loss=0.3429538395302699, w0=-0.31453464215982524, w1=-0.014956390991254278\n",
      "Gradient Descent(74/499): loss=0.34288446589747545, w0=-0.3145475779439011, w1=-0.014917361955052458\n",
      "Gradient Descent(75/499): loss=0.342816893952313, w0=-0.3145592201495696, w1=-0.014872278020755293\n",
      "Gradient Descent(76/499): loss=0.3427510698289486, w0=-0.31456969813467156, w1=-0.014821373880137202\n",
      "Gradient Descent(77/499): loss=0.34268694156734736, w0=-0.31457912832126356, w1=-0.01476487708625214\n",
      "Gradient Descent(78/499): loss=0.3426244590301106, w0=-0.3145876154891966, w1=-0.014703008263719638\n",
      "Gradient Descent(79/499): loss=0.3425635738241476, w0=-0.31459525394033666, w1=-0.01463598131280349\n",
      "Gradient Descent(80/499): loss=0.34250423922678397, w0=-0.31460212854636294, w1=-0.014564003607418883\n",
      "Gradient Descent(81/499): loss=0.34244641011595006, w0=-0.3146083156917868, w1=-0.01448727618721283\n",
      "Gradient Descent(82/499): loss=0.34239004290413655, w0=-0.31461388412266855, w1=-0.014405993943868886\n",
      "Gradient Descent(83/499): loss=0.34233509547582847, w0=-0.31461889571046237, w1=-0.014320345801790816\n",
      "Gradient Descent(84/499): loss=0.3422815271281734, w0=-0.31462340613947704, w1=-0.014230514893322001\n",
      "Gradient Descent(85/499): loss=0.34222929851464656, w0=-0.3146274655255905, w1=-0.014136678728657745\n",
      "Gradient Descent(86/499): loss=0.34217837159151865, w0=-0.31463111897309287, w1=-0.014039009360607143\n"
     ]
    },
    {
     "name": "stdout",
     "output_type": "stream",
     "text": [
      "Gradient Descent(87/499): loss=0.34212870956692654, w0=-0.3146344070758452, w1=-0.013937673544359494\n",
      "Gradient Descent(88/499): loss=0.3420802768523936, w0=-0.31463736636832257, w1=-0.013832832892408138\n",
      "Gradient Descent(89/499): loss=0.3420330390166304, w0=-0.3146400297315524, w1=-0.01372464402478169\n",
      "Gradient Descent(90/499): loss=0.3419869627414883, w0=-0.3146424267584595, w1=-0.013613258714729596\n",
      "Gradient Descent(91/499): loss=0.3419420157799274, w0=-0.3146445840826761, w1=-0.013498824030005345\n",
      "Gradient Descent(92/499): loss=0.3418981669158857, w0=-0.3146465256744712, w1=-0.013381482469887074\n",
      "Gradient Descent(93/499): loss=0.3418553859259397, w0=-0.31464827310708704, w1=-0.013261372098071449\n",
      "Gradient Descent(94/499): loss=0.3418136435426556, w0=-0.3146498457964415, w1=-0.013138626671572779\n",
      "Gradient Descent(95/499): loss=0.34177291141953503, w0=-0.31465126121686077, w1=-0.013013375765755411\n",
      "Gradient Descent(96/499): loss=0.34173316209747634, w0=-0.3146525350952383, w1=-0.0128857448956235\n",
      "Gradient Descent(97/499): loss=0.3416943689726636, w0=-0.3146536815857783, w1=-0.012755855633488303\n",
      "Gradient Descent(98/499): loss=0.3416565062658123, w0=-0.3146547134272645, w1=-0.012623825723129289\n",
      "Gradient Descent(99/499): loss=0.34161954899270497, w0=-0.3146556420846022, w1=-0.012489769190561559\n",
      "Gradient Descent(100/499): loss=0.3415834729359442, w0=-0.31465647787620643, w1=-0.012353796451518273\n",
      "Gradient Descent(101/499): loss=0.34154825461787175, w0=-0.31465723008865043, w1=-0.012216014415753245\n",
      "Gradient Descent(102/499): loss=0.34151387127458815, w0=-0.3146579070798502, w1=-0.012076526588265182\n",
      "Gradient Descent(103/499): loss=0.3414803008310273, w0=-0.3146585163719302, w1=-0.011935433167541677\n",
      "Gradient Descent(104/499): loss=0.3414475218770272, w0=-0.3146590647348024, w1=-0.011792831140917679\n",
      "Gradient Descent(105/499): loss=0.3414155136443596, w0=-0.31465955826138753, w1=-0.011648814377139917\n",
      "Gradient Descent(106/499): loss=0.34138425598466615, w0=-0.31466000243531433, w1=-0.011503473716225603\n",
      "Gradient Descent(107/499): loss=0.3413537293482621, w0=-0.31466040219184865, w1=-0.011356897056700685\n",
      "Gradient Descent(108/499): loss=0.3413239147637689, w0=-0.31466076197272974, w1=-0.011209169440300036\n",
      "Gradient Descent(109/499): loss=0.3412947938185382, w0=-0.3146610857755229, w1=-0.011060373134209005\n",
      "Gradient Descent(110/499): loss=0.34126634863982885, w0=-0.3146613771980369, w1=-0.0109105877109232\n",
      "Gradient Descent(111/499): loss=0.34123856187670776, w0=-0.31466163947829967, w1=-0.01075989012580051\n",
      "Gradient Descent(112/499): loss=0.3412114166826409, w0=-0.3146618755305364, w1=-0.010608354792377062\n",
      "Gradient Descent(113/499): loss=0.34118489669874463, w0=-0.3146620879775496, w1=-0.010456053655516105\n",
      "Gradient Descent(114/499): loss=0.34115898603766714, w0=-0.3146622791798616, w1=-0.010303056262456704\n",
      "Gradient Descent(115/499): loss=0.34113366926807703, w0=-0.3146624512619426, w1=-0.010149429831826623\n",
      "Gradient Descent(116/499): loss=0.34110893139972986, w0=-0.31466260613581565, w1=-0.009995239320681734\n",
      "Gradient Descent(117/499): loss=0.34108475786908843, w0=-0.31466274552230156, w1=-0.009840547489632109\n",
      "Gradient Descent(118/499): loss=0.3410611345254764, w0=-0.31466287097013906, w1=-0.009685414966112917\n",
      "Gradient Descent(119/499): loss=0.34103804761773976, w0=-0.31466298387319297, w1=-0.009529900305856343\n",
      "Gradient Descent(120/499): loss=0.34101548378139623, w0=-0.31466308548594163, w1=-0.009374060052618757\n",
      "Gradient Descent(121/499): loss=0.34099343002625454, w0=-0.3146631769374156, w1=-0.009217948796215673\n",
      "Gradient Descent(122/499): loss=0.34097187372448046, w0=-0.3146632592437423, w1=-0.009061619228915168\n",
      "Gradient Descent(123/499): loss=0.3409508025990954, w0=-0.31466333331943647, w1=-0.00890512220023883\n",
      "Gradient Descent(124/499): loss=0.3409302047128881, w0=-0.31466339998756143, w1=-0.008748506770217651\n",
      "Gradient Descent(125/499): loss=0.3409100684577202, w0=-0.314663459988874, w1=-0.008591820261148728\n",
      "Gradient Descent(126/499): loss=0.3408903825442181, w0=-0.3146635139900555, w1=-0.0084351083078971\n",
      "Gradient Descent(127/499): loss=0.34087113599182517, w0=-0.314663562591119, w1=-0.008278414906785644\n",
      "Gradient Descent(128/499): loss=0.3408523181192087, w0=-0.3146636063320763, w1=-0.008121782463114523\n",
      "Gradient Descent(129/499): loss=0.34083391853500256, w0=-0.31466364569893795, w1=-0.007965251837350374\n",
      "Gradient Descent(130/499): loss=0.34081592712887326, w0=-0.31466368112911364, w1=-0.007808862390024077\n",
      "Gradient Descent(131/499): loss=0.3407983340629002, w0=-0.3146637130162719, w1=-0.0076526520253747095\n",
      "Gradient Descent(132/499): loss=0.3407811297632528, w0=-0.31466374171471445, w1=-0.007496657233776151\n",
      "Gradient Descent(133/499): loss=0.3407643049121562, w0=-0.3146637675433129, w1=-0.007340913132981525\n",
      "Gradient Descent(134/499): loss=0.3407478504401334, w0=-0.3146637907890516, w1=-0.007185453508219668\n",
      "Gradient Descent(135/499): loss=0.3407317575185148, w0=-0.31466381171021657, w1=-0.007030310851176648\n",
      "Gradient Descent(136/499): loss=0.3407160175522008, w0=-0.31466383053926517, w1=-0.006875516397894339\n",
      "Gradient Descent(137/499): loss=0.3407006221726736, w0=-0.31466384748540904, w1=-0.006721100165617111\n",
      "Gradient Descent(138/499): loss=0.34068556323124377, w0=-0.31466386273693864, w1=-0.00656709098861662\n",
      "Gradient Descent(139/499): loss=0.3406708327925259, w0=-0.3146638764633154, w1=-0.00641351655302385\n",
      "Gradient Descent(140/499): loss=0.3406564231281317, w0=-0.31466388881705465, w1=-0.006260403430696573\n",
      "Gradient Descent(141/499): loss=0.34064232671057637, w0=-0.3146638999354201, w1=-0.006107777112149621\n",
      "Gradient Descent(142/499): loss=0.340628536207388, w0=-0.3146639099419491, w1=-0.005955662038574398\n",
      "Gradient Descent(143/499): loss=0.34061504447540836, w0=-0.3146639189478253, w1=-0.0058040816329734\n",
      "Gradient Descent(144/499): loss=0.3406018445552905, w0=-0.314663927053114, w1=-0.005653058330434565\n",
      "Gradient Descent(145/499): loss=0.3405889296661675, w0=-0.314663934347874, w1=-0.005502613607569661\n",
      "Gradient Descent(146/499): loss=0.34057629320050486, w0=-0.3146639409131581, w1=-0.005352768011140102\n",
      "Gradient Descent(147/499): loss=0.34056392871911567, w0=-0.31466394682191384, w1=-0.005203541185892918\n",
      "Gradient Descent(148/499): loss=0.34055182994634037, w0=-0.31466395213979415, w1=-0.005054951901628896\n",
      "Gradient Descent(149/499): loss=0.34053999076538133, w0=-0.31466395692588656, w1=-0.004907018079524276\n",
      "Gradient Descent(150/499): loss=0.3405284052137909, w0=-0.3146639612333698, w1=-0.004759756817726728\n",
      "Gradient Descent(151/499): loss=0.34051706747910027, w0=-0.31466396511010486, w1=-0.0046131844162457455\n",
      "Gradient Descent(152/499): loss=0.3405059718945912, w0=-0.3146639685991665, w1=-0.00446731640115696\n",
      "Gradient Descent(153/499): loss=0.3404951129352034, w0=-0.3146639717393221, w1=-0.004322167548139331\n",
      "Gradient Descent(154/499): loss=0.34048448521356933, w0=-0.31466397456546225, w1=-0.004177751905363628\n",
      "Gradient Descent(155/499): loss=0.34047408347617625, w0=-0.31466397710898847, w1=-0.004034082815750022\n",
      "Gradient Descent(156/499): loss=0.340463902599649, w0=-0.31466397939816215, w1=-0.003891172938612129\n",
      "Gradient Descent(157/499): loss=0.3404539375871493, w0=-0.3146639814584186, w1=-0.0037490342707043717\n",
      "Gradient Descent(158/499): loss=0.3404441835648876, w0=-0.3146639833126495, w1=-0.0036076781666889443\n",
      "Gradient Descent(159/499): loss=0.3404346357787438, w0=-0.3146639849814574, w1=-0.003467115359038301\n",
      "Gradient Descent(160/499): loss=0.3404252895909926, w0=-0.3146639864833846, w1=-0.0033273559773885335\n",
      "Gradient Descent(161/499): loss=0.34041614047713187, w0=-0.3146639878351192, w1=-0.0031884095673586524\n",
      "Gradient Descent(162/499): loss=0.34040718402280423, w0=-0.3146639890516804, w1=-0.0030502851088502884\n",
      "Gradient Descent(163/499): loss=0.3403984159208181, w0=-0.3146639901465856, w1=-0.0029129910338419416\n",
      "Gradient Descent(164/499): loss=0.34038983196825695, w0=-0.31466399113200033, w1=-0.0027765352436915024\n",
      "Gradient Descent(165/499): loss=0.34038142806367766, w0=-0.31466399201887374, w1=-0.0026409251259604054\n",
      "Gradient Descent(166/499): loss=0.3403732002043914, w0=-0.31466399281705987, w1=-0.002506167570772335\n",
      "Gradient Descent(167/499): loss=0.34036514448383137, w0=-0.31466399353542746, w1=-0.0023722689867191013\n",
      "Gradient Descent(168/499): loss=0.3403572570889932, w0=-0.3146639941819584, w1=-0.0022392353163259225\n"
     ]
    },
    {
     "name": "stdout",
     "output_type": "stream",
     "text": [
      "Gradient Descent(169/499): loss=0.3403495342979599, w0=-0.31466399476383633, w1=-0.002107072051088\n",
      "Gradient Descent(170/499): loss=0.3403419724774923, w0=-0.31466399528752653, w1=-0.001975784246089955\n",
      "Gradient Descent(171/499): loss=0.3403345680806975, w0=-0.3146639957588478, w1=-0.0018453765342193655\n",
      "Gradient Descent(172/499): loss=0.340327317644765, w0=-0.31466399618303703, w1=-0.0017158531399853452\n",
      "Gradient Descent(173/499): loss=0.3403202177887653, w0=-0.3146639965648074, w1=-0.0015872178929527423\n",
      "Gradient Descent(174/499): loss=0.3403132652115199, w0=-0.31466399690840086, w1=-0.0014594742408023378\n",
      "Gradient Descent(175/499): loss=0.3403064566895287, w0=-0.31466399721763505, w1=-0.0013326252620270804\n",
      "Gradient Descent(176/499): loss=0.34029978907496017, w0=-0.31466399749594587, w1=-0.0012066736782740842\n",
      "Gradient Descent(177/499): loss=0.3402932592936979, w0=-0.31466399774642567, w1=-0.0010816218663419258\n",
      "Gradient Descent(178/499): loss=0.3402868643434471, w0=-0.3146639979718576, w1=-0.0009574718698424799\n",
      "Gradient Descent(179/499): loss=0.3402806012918911, w0=-0.31466399817474644, w1=-0.000834225410536249\n",
      "Gradient Descent(180/499): loss=0.3402744672749063, w0=-0.31466399835734643, w1=-0.0007118838993499554\n",
      "Gradient Descent(181/499): loss=0.3402684594948217, w0=-0.3146639985216865, w1=-0.0005904484470848594\n",
      "Gradient Descent(182/499): loss=0.3402625752187345, w0=-0.31466399866959266, w1=-0.0004699198748241369\n",
      "Gradient Descent(183/499): loss=0.3402568117768683, w0=-0.31466399880270823, w1=-0.0003502987240472819\n",
      "Gradient Descent(184/499): loss=0.34025116656098175, w0=-0.31466399892251234, w1=-0.00023158526645941727\n",
      "Gradient Descent(185/499): loss=0.34024563702281896, w0=-0.3146639990303361, w1=-0.00011377951354309621\n",
      "Gradient Descent(186/499): loss=0.34024022067260584, w0=-0.3146639991273775, w1=3.118774159960292e-06\n",
      "Gradient Descent(187/499): loss=0.34023491507758674, w0=-0.3146639992147149, w1=0.00011911007803002232\n",
      "Gradient Descent(188/499): loss=0.34022971786060324, w0=-0.3146639992933186, w1=0.00023419511260638594\n",
      "Gradient Descent(189/499): loss=0.34022462669871023, w0=-0.31466399936406203, w1=0.00034837481707340734\n",
      "Gradient Descent(190/499): loss=0.34021963932183413, w0=-0.31466399942773116, w1=0.0004616503469889725\n",
      "Gradient Descent(191/499): loss=0.34021475351146463, w0=-0.31466399948503343, w1=0.0005740230662488683\n",
      "Gradient Descent(192/499): loss=0.3402099670993831, w0=-0.31466399953660557, w1=0.0006854945392808066\n",
      "Gradient Descent(193/499): loss=0.34020527796642785, w0=-0.31466399958302055, w1=0.0007960665234619554\n",
      "Gradient Descent(194/499): loss=0.3402006840412899, w0=-0.3146639996247941, w1=0.0009057409617540339\n",
      "Gradient Descent(195/499): loss=0.3401961832993439, w0=-0.31466399966239034, w1=0.0010145199755501322\n",
      "Gradient Descent(196/499): loss=0.3401917737615104, w0=-0.314663999696227, w1=0.001122405857727663\n",
      "Gradient Descent(197/499): loss=0.34018745349314794, w0=-0.3146639997266801, w1=0.0012294010659019204\n",
      "Gradient Descent(198/499): loss=0.3401832206029747, w0=-0.3146639997540879, w1=0.0013355082158748638\n",
      "Gradient Descent(199/499): loss=0.34017907324202207, w0=-0.314663999778755, w1=0.0014407300752739887\n",
      "Gradient Descent(200/499): loss=0.34017500960261127, w0=-0.31466399980095544, w1=0.0015450695573761338\n",
      "Gradient Descent(201/499): loss=0.3401710279173612, w0=-0.3146639998209359, w1=0.001648529715111342\n",
      "Gradient Descent(202/499): loss=0.3401671264582222, w0=-0.31466399983891835, w1=0.0017511137352419653\n",
      "Gradient Descent(203/499): loss=0.34016330353553237, w0=-0.3146639998551026, w1=0.0018528249327122823\n",
      "Gradient Descent(204/499): loss=0.3401595574971027, w0=-0.31466399986966853, w1=0.0019536667451641493\n",
      "Gradient Descent(205/499): loss=0.3401558867273239, w0=-0.3146639998827779, w1=0.0020536427276141678\n",
      "Gradient Descent(206/499): loss=0.3401522896462958, w0=-0.3146639998945764, w1=0.002152756547288121\n",
      "Gradient Descent(207/499): loss=0.3401487647089845, w0=-0.31466399990519506, w1=0.0022510119786084116\n",
      "Gradient Descent(208/499): loss=0.34014531040439333, w0=-0.3146639999147519, w1=0.002348412898330451\n",
      "Gradient Descent(209/499): loss=0.34014192525476333, w0=-0.31466399992335314, w1=0.002444963280823982\n",
      "Gradient Descent(210/499): loss=0.3401386078147891, w0=-0.3146639999310943, w1=0.0025406671934954665\n",
      "Gradient Descent(211/499): loss=0.3401353566708565, w0=-0.3146639999380614, w1=0.0026355287923477575\n",
      "Gradient Descent(212/499): loss=0.3401321704403024, w0=-0.3146639999443318, w1=0.0027295523176733435\n",
      "Gradient Descent(213/499): loss=0.3401290477706884, w0=-0.31466399994997524, w1=0.002822742089877628\n",
      "Gradient Descent(214/499): loss=0.3401259873390963, w0=-0.3146639999550544, w1=0.0029151025054287064\n",
      "Gradient Descent(215/499): loss=0.34012298785144346, w0=-0.3146639999596257, w1=0.00300663803293026\n",
      "Gradient Descent(216/499): loss=0.34012004804180984, w0=-0.3146639999637399, w1=0.0030973532093142592\n",
      "Gradient Descent(217/499): loss=0.34011716667178776, w0=-0.3146639999674427, w1=0.003187252636150236\n",
      "Gradient Descent(218/499): loss=0.3401143425298446, w0=-0.31466399997077527, w1=0.003276340976067979\n",
      "Gradient Descent(219/499): loss=0.34011157443070217, w0=-0.31466399997377464, w1=0.003364622949290622\n",
      "Gradient Descent(220/499): loss=0.34010886121473427, w0=-0.3146639999764741, w1=0.003452103330275101\n",
      "Gradient Descent(221/499): loss=0.34010620174737405, w0=-0.31466399997890365, w1=0.0035387869444571283\n",
      "Gradient Descent(222/499): loss=0.34010359491854225, w0=-0.3146639999810903, w1=0.003624678665097803\n",
      "Gradient Descent(223/499): loss=0.3401010396420847, w0=-0.31466399998305833, w1=0.0037097834102291457\n",
      "Gradient Descent(224/499): loss=0.3400985348552268, w0=-0.3146639999848296, w1=0.0037941061396958627\n",
      "Gradient Descent(225/499): loss=0.3400960795180398, w0=-0.31466399998642375, w1=0.0038776518522907087\n",
      "Gradient Descent(226/499): loss=0.34009367261292145, w0=-0.31466399998785854, w1=0.0039604255829809604\n",
      "Gradient Descent(227/499): loss=0.3400913131440893, w0=-0.3146639999891499, w1=0.0040424324002234285\n",
      "Gradient Descent(228/499): loss=0.34008900013708504, w0=-0.31466399999031214, w1=0.0041236774033657\n",
      "Gradient Descent(229/499): loss=0.3400867326382919, w0=-0.3146639999913582, w1=0.004204165720131192\n",
      "Gradient Descent(230/499): loss=0.34008450971446597, w0=-0.3146639999922997, w1=0.004283902504185744\n",
      "Gradient Descent(231/499): loss=0.34008233045227354, w0=-0.3146639999931471, w1=0.0043628929327835355\n",
      "Gradient Descent(232/499): loss=0.34008019395784683, w0=-0.31466399999390976, w1=0.004441142204490127\n",
      "Gradient Descent(233/499): loss=0.34007809935634326, w0=-0.3146639999945962, w1=0.004518655536980537\n",
      "Gradient Descent(234/499): loss=0.3400760457915212, w0=-0.31466399999521405, w1=0.0045954381649102915\n",
      "Gradient Descent(235/499): loss=0.34007403242532225, w0=-0.31466399999577016, w1=0.0046714953378574125\n",
      "Gradient Descent(236/499): loss=0.34007205843746535, w0=-0.3146639999962707, w1=0.004746832318333426\n",
      "Gradient Descent(237/499): loss=0.34007012302505013, w0=-0.3146639999967212, w1=0.004821454379861463\n",
      "Gradient Descent(238/499): loss=0.3400682254021695, w0=-0.3146639999971267, w1=0.0048953668051196116\n",
      "Gradient Descent(239/499): loss=0.3400663647995323, w0=-0.3146639999974917, w1=0.004968574884147703\n",
      "Gradient Descent(240/499): loss=0.34006454046409357, w0=-0.3146639999978202, w1=0.0050410839126157885\n",
      "Gradient Descent(241/499): loss=0.3400627516586952, w0=-0.3146639999981159, w1=0.00511289919015258\n",
      "Gradient Descent(242/499): loss=0.3400609976617137, w0=-0.314663999998382, w1=0.005184026018732187\n",
      "Gradient Descent(243/499): loss=0.3400592777667176, w0=-0.31466399999862155, w1=0.005254469701117536\n",
      "Gradient Descent(244/499): loss=0.34005759128213187, w0=-0.3146639999988372, w1=0.005324235539358867\n",
      "Gradient Descent(245/499): loss=0.34005593753091046, w0=-0.31466399999903133, w1=0.005393328833345811\n",
      "Gradient Descent(246/499): loss=0.3400543158502167, w0=-0.314663999999206, w1=0.005461754879411492\n",
      "Gradient Descent(247/499): loss=0.34005272559111216, w0=-0.3146639999993633, w1=0.005529518968987213\n",
      "Gradient Descent(248/499): loss=0.3400511661182509, w0=-0.31466399999950484, w1=0.00559662638730633\n",
      "Gradient Descent(249/499): loss=0.3400496368095813, w0=-0.3146639999996323, w1=0.005663082412155882\n",
      "Gradient Descent(250/499): loss=0.34004813705605696, w0=-0.31466399999974703, w1=0.005728892312674654\n",
      "Gradient Descent(251/499): loss=0.3400466662613513, w0=-0.31466399999985034, w1=0.005794061348196355\n"
     ]
    },
    {
     "name": "stdout",
     "output_type": "stream",
     "text": [
      "Gradient Descent(252/499): loss=0.34004522384158087, w0=-0.3146639999999433, w1=0.005858594767136622\n",
      "Gradient Descent(253/499): loss=0.3400438092250343, w0=-0.31466400000002703, w1=0.0059224978059226035\n",
      "Gradient Descent(254/499): loss=0.34004242185190625, w0=-0.3146640000001024, w1=0.005985775687963906\n",
      "Gradient Descent(255/499): loss=0.34004106117404187, w0=-0.31466400000017025, w1=0.006048433622663741\n",
      "Gradient Descent(256/499): loss=0.34003972665468096, w0=-0.3146640000002313, w1=0.006110476804469093\n",
      "Gradient Descent(257/499): loss=0.34003841776821264, w0=-0.3146640000002863, w1=0.006171910411958805\n",
      "Gradient Descent(258/499): loss=0.3400371339999343, w0=-0.31466400000033584, w1=0.006232739606968469\n",
      "Gradient Descent(259/499): loss=0.34003587484581566, w0=-0.3146640000003804, w1=0.0062929695337510866\n",
      "Gradient Descent(260/499): loss=0.34003463981226745, w0=-0.3146640000004206, w1=0.00635260531817243\n",
      "Gradient Descent(261/499): loss=0.34003342841591844, w0=-0.3146640000004568, w1=0.0064116520669401334\n",
      "Gradient Descent(262/499): loss=0.3400322401833942, w0=-0.3146640000004894, w1=0.006470114866865503\n",
      "Gradient Descent(263/499): loss=0.34003107465110133, w0=-0.3146640000005187, w1=0.006527998784157083\n",
      "Gradient Descent(264/499): loss=0.34002993136501963, w0=-0.3146640000005451, w1=0.006585308863745084\n",
      "Gradient Descent(265/499): loss=0.34002880988049533, w0=-0.31466400000056893, w1=0.006642050128635744\n",
      "Gradient Descent(266/499): loss=0.34002770976204033, w0=-0.31466400000059036, w1=0.006698227579294717\n",
      "Gradient Descent(267/499): loss=0.3400266305831372, w0=-0.3146640000006097, w1=0.006753846193058684\n",
      "Gradient Descent(268/499): loss=0.340025571926046, w0=-0.3146640000006271, w1=0.006808910923574293\n",
      "Gradient Descent(269/499): loss=0.3400245333816181, w0=-0.3146640000006428, w1=0.006863426700263654\n",
      "Gradient Descent(270/499): loss=0.34002351454911245, w0=-0.314664000000657, w1=0.00691739842781558\n",
      "Gradient Descent(271/499): loss=0.34002251503601566, w0=-0.3146640000006697, w1=0.006970830985701805\n",
      "Gradient Descent(272/499): loss=0.34002153445786965, w0=-0.3146640000006812, w1=0.007023729227717411\n",
      "Gradient Descent(273/499): loss=0.340020572438097, w0=-0.31466400000069156, w1=0.007076097981544768\n",
      "Gradient Descent(274/499): loss=0.34001962860783574, w0=-0.3146640000007009, w1=0.0071279420483402476\n",
      "Gradient Descent(275/499): loss=0.3400187026057753, w0=-0.3146640000007093, w1=0.007179266202343018\n",
      "Gradient Descent(276/499): loss=0.3400177940779967, w0=-0.3146640000007169, w1=0.007230075190505256\n",
      "Gradient Descent(277/499): loss=0.3400169026778147, w0=-0.31466400000072375, w1=0.007280373732143121\n",
      "Gradient Descent(278/499): loss=0.34001602806562714, w0=-0.3146640000007299, w1=0.007330166518607834\n",
      "Gradient Descent(279/499): loss=0.340015169908764, w0=-0.3146640000007355, w1=0.00737945821297627\n",
      "Gradient Descent(280/499): loss=0.34001432788134034, w0=-0.3146640000007406, w1=0.007428253449760421\n",
      "Gradient Descent(281/499): loss=0.34001350166411537, w0=-0.3146640000007451, w1=0.0074765568346351705\n",
      "Gradient Descent(282/499): loss=0.34001269094435055, w0=-0.31466400000074923, w1=0.007524372944183791\n",
      "Gradient Descent(283/499): loss=0.3400118954156737, w0=-0.31466400000075295, w1=0.007571706325660623\n",
      "Gradient Descent(284/499): loss=0.3400111147779451, w0=-0.3146640000007563, w1=0.0076185614967703595\n",
      "Gradient Descent(285/499): loss=0.3400103487371271, w0=-0.31466400000075934, w1=0.007664942945463439\n",
      "Gradient Descent(286/499): loss=0.34000959700515465, w0=-0.31466400000076206, w1=0.0077108551297470455\n",
      "Gradient Descent(287/499): loss=0.3400088592998114, w0=-0.31466400000076455, w1=0.007756302477511145\n",
      "Gradient Descent(288/499): loss=0.34000813534460694, w0=-0.31466400000076683, w1=0.007801289386369165\n",
      "Gradient Descent(289/499): loss=0.34000742486865687, w0=-0.3146640000007689, w1=0.007845820223512786\n",
      "Gradient Descent(290/499): loss=0.34000672760656525, w0=-0.3146640000007707, w1=0.007889899325580369\n",
      "Gradient Descent(291/499): loss=0.3400060432983107, w0=-0.3146640000007724, w1=0.00793353099853864\n",
      "Gradient Descent(292/499): loss=0.3400053716891335, w0=-0.3146640000007739, w1=0.007976719517577134\n",
      "Gradient Descent(293/499): loss=0.34000471252942693, w0=-0.31466400000077527, w1=0.008019469127014988\n",
      "Gradient Descent(294/499): loss=0.34000406557462837, w0=-0.31466400000077654, w1=0.008061784040219708\n",
      "Gradient Descent(295/499): loss=0.3400034305851157, w0=-0.3146640000007777, w1=0.008103668439537444\n",
      "Gradient Descent(296/499): loss=0.340002807326104, w0=-0.31466400000077877, w1=0.00814512647623443\n",
      "Gradient Descent(297/499): loss=0.3400021955675445, w0=-0.3146640000007797, w1=0.008186162270449214\n",
      "Gradient Descent(298/499): loss=0.34000159508402794, w0=-0.31466400000078054, w1=0.008226779911155268\n",
      "Gradient Descent(299/499): loss=0.34000100565468605, w0=-0.3146640000007813, w1=0.008266983456133673\n",
      "Gradient Descent(300/499): loss=0.3400004270630989, w0=-0.31466400000078204, w1=0.00830677693195546\n",
      "Gradient Descent(301/499): loss=0.33999985909720215, w0=-0.3146640000007827, w1=0.008346164333973359\n",
      "Gradient Descent(302/499): loss=0.339999301549198, w0=-0.3146640000007833, w1=0.00838514962632254\n",
      "Gradient Descent(303/499): loss=0.33999875421546544, w0=-0.31466400000078387, w1=0.008423736741930078\n",
      "Gradient Descent(304/499): loss=0.33999821689647425, w0=-0.31466400000078437, w1=0.008461929582532805\n",
      "Gradient Descent(305/499): loss=0.3399976893967016, w0=-0.3146640000007848, w1=0.008499732018703264\n",
      "Gradient Descent(306/499): loss=0.339997171524548, w0=-0.31466400000078526, w1=0.008537147889883464\n",
      "Gradient Descent(307/499): loss=0.3399966630922579, w0=-0.31466400000078565, w1=0.008574181004426144\n",
      "Gradient Descent(308/499): loss=0.33999616391583887, w0=-0.314664000000786, w1=0.008610835139643263\n",
      "Gradient Descent(309/499): loss=0.33999567381498474, w0=-0.3146640000007863, w1=0.00864711404186148\n",
      "Gradient Descent(310/499): loss=0.3399951926130006, w0=-0.31466400000078665, w1=0.008683021426484293\n",
      "Gradient Descent(311/499): loss=0.339994720136727, w0=-0.3146640000007869, w1=0.008718560978060683\n",
      "Gradient Descent(312/499): loss=0.3399942562164692, w0=-0.3146640000007872, w1=0.008753736350359899\n",
      "Gradient Descent(313/499): loss=0.3399938006859242, w0=-0.3146640000007874, w1=0.008788551166452246\n",
      "Gradient Descent(314/499): loss=0.3399933533821121, w0=-0.31466400000078765, w1=0.008823009018795566\n",
      "Gradient Descent(315/499): loss=0.3399929141453082, w0=-0.31466400000078787, w1=0.008857113469327238\n",
      "Gradient Descent(316/499): loss=0.33999248281897576, w0=-0.3146640000007881, w1=0.008890868049561436\n",
      "Gradient Descent(317/499): loss=0.3399920592497007, w0=-0.31466400000078826, w1=0.008924276260691458\n",
      "Gradient Descent(318/499): loss=0.33999164328712794, w0=-0.3146640000007884, w1=0.008957341573696907\n",
      "Gradient Descent(319/499): loss=0.3399912347838997, w0=-0.3146640000007886, w1=0.008990067429455515\n",
      "Gradient Descent(320/499): loss=0.3399908335955923, w0=-0.31466400000078876, w1=0.00902245723885944\n",
      "Gradient Descent(321/499): loss=0.3399904395806575, w0=-0.3146640000007889, w1=0.009054514382935802\n",
      "Gradient Descent(322/499): loss=0.3399900526003643, w0=-0.31466400000078903, w1=0.009086242212971317\n",
      "Gradient Descent(323/499): loss=0.3399896725187407, w0=-0.31466400000078915, w1=0.00911764405064082\n",
      "Gradient Descent(324/499): loss=0.3399892992025172, w0=-0.31466400000078926, w1=0.009148723188139515\n",
      "Gradient Descent(325/499): loss=0.3399889325210725, w0=-0.31466400000078937, w1=0.009179482888318786\n",
      "Gradient Descent(326/499): loss=0.3399885723463794, w0=-0.3146640000007895, w1=0.009209926384825377\n",
      "Gradient Descent(327/499): loss=0.3399882185529517, w0=-0.3146640000007896, w1=0.009240056882243837\n",
      "Gradient Descent(328/499): loss=0.33998787101779293, w0=-0.3146640000007897, w1=0.009269877556242015\n",
      "Gradient Descent(329/499): loss=0.3399875296203456, w0=-0.3146640000007898, w1=0.009299391553719488\n",
      "Gradient Descent(330/499): loss=0.3399871942424413, w0=-0.31466400000078987, w1=0.009328601992958777\n",
      "Gradient Descent(331/499): loss=0.33998686476825346, w0=-0.3146640000007899, w1=0.0093575119637792\n",
      "Gradient Descent(332/499): loss=0.33998654108424786, w0=-0.31466400000079, w1=0.009386124527693208\n",
      "Gradient Descent(333/499): loss=0.33998622307913856, w0=-0.31466400000079003, w1=0.009414442718065139\n",
      "Gradient Descent(334/499): loss=0.33998591064383965, w0=-0.3146640000007901, w1=0.009442469540272162\n",
      "Gradient Descent(335/499): loss=0.3399856036714238, w0=-0.31466400000079014, w1=0.009470207971867366\n"
     ]
    },
    {
     "name": "stdout",
     "output_type": "stream",
     "text": [
      "Gradient Descent(336/499): loss=0.33998530205707567, w0=-0.3146640000007902, w1=0.009497660962744838\n",
      "Gradient Descent(337/499): loss=0.33998500569805107, w0=-0.31466400000079026, w1=0.009524831435306618\n",
      "Gradient Descent(338/499): loss=0.33998471449363443, w0=-0.3146640000007903, w1=0.009551722284631423\n",
      "Gradient Descent(339/499): loss=0.33998442834509773, w0=-0.31466400000079037, w1=0.009578336378645021\n",
      "Gradient Descent(340/499): loss=0.33998414715566055, w0=-0.3146640000007904, w1=0.009604676558292157\n",
      "Gradient Descent(341/499): loss=0.33998387083045145, w0=-0.3146640000007905, w1=0.009630745637709917\n",
      "Gradient Descent(342/499): loss=0.3399835992764677, w0=-0.31466400000079053, w1=0.009656546404402448\n",
      "Gradient Descent(343/499): loss=0.3399833324025394, w0=-0.3146640000007906, w1=0.009682081619416923\n",
      "Gradient Descent(344/499): loss=0.3399830701192921, w0=-0.31466400000079064, w1=0.009707354017520646\n",
      "Gradient Descent(345/499): loss=0.3399828123391097, w0=-0.3146640000007907, w1=0.00973236630737924\n",
      "Gradient Descent(346/499): loss=0.3399825589761006, w0=-0.31466400000079076, w1=0.009757121171735796\n",
      "Gradient Descent(347/499): loss=0.3399823099460614, w0=-0.3146640000007908, w1=0.009781621267590933\n",
      "Gradient Descent(348/499): loss=0.33998206516644436, w0=-0.3146640000007908, w1=0.009805869226383627\n",
      "Gradient Descent(349/499): loss=0.33998182455632336, w0=-0.31466400000079087, w1=0.00982986765417281\n",
      "Gradient Descent(350/499): loss=0.33998158803636136, w0=-0.31466400000079087, w1=0.0098536191318196\n",
      "Gradient Descent(351/499): loss=0.3399813555287795, w0=-0.31466400000079087, w1=0.009877126215170113\n",
      "Gradient Descent(352/499): loss=0.3399811269573242, w0=-0.31466400000079087, w1=0.00990039143523878\n",
      "Gradient Descent(353/499): loss=0.3399809022472373, w0=-0.31466400000079087, w1=0.009923417298392107\n",
      "Gradient Descent(354/499): loss=0.3399806813252265, w0=-0.3146640000007909, w1=0.009946206286532772\n",
      "Gradient Descent(355/499): loss=0.33998046411943594, w0=-0.3146640000007909, w1=0.009968760857284072\n",
      "Gradient Descent(356/499): loss=0.3399802505594173, w0=-0.3146640000007909, w1=0.009991083444174573\n",
      "Gradient Descent(357/499): loss=0.3399800405761003, w0=-0.3146640000007909, w1=0.01001317645682297\n",
      "Gradient Descent(358/499): loss=0.33997983410176846, w0=-0.3146640000007909, w1=0.01003504228112305\n",
      "Gradient Descent(359/499): loss=0.3399796310700279, w0=-0.3146640000007909, w1=0.010056683279428713\n",
      "Gradient Descent(360/499): loss=0.33997943141578396, w0=-0.3146640000007909, w1=0.010078101790739046\n",
      "Gradient Descent(361/499): loss=0.33997923507521466, w0=-0.3146640000007909, w1=0.010099300130883289\n",
      "Gradient Descent(362/499): loss=0.33997904198574413, w0=-0.3146640000007909, w1=0.010120280592705772\n",
      "Gradient Descent(363/499): loss=0.3399788520860186, w0=-0.3146640000007909, w1=0.010141045446250677\n",
      "Gradient Descent(364/499): loss=0.3399786653158823, w0=-0.3146640000007909, w1=0.010161596938946615\n",
      "Gradient Descent(365/499): loss=0.3399784816163526, w0=-0.3146640000007909, w1=0.010181937295790996\n",
      "Gradient Descent(366/499): loss=0.33997830092959824, w0=-0.3146640000007909, w1=0.010202068719534075\n",
      "Gradient Descent(367/499): loss=0.3399781231989143, w0=-0.3146640000007909, w1=0.01022199339086273\n",
      "Gradient Descent(368/499): loss=0.33997794836870204, w0=-0.3146640000007909, w1=0.010241713468583836\n",
      "Gradient Descent(369/499): loss=0.33997777638444493, w0=-0.3146640000007909, w1=0.010261231089807277\n",
      "Gradient Descent(370/499): loss=0.3399776071926878, w0=-0.3146640000007909, w1=0.010280548370128496\n",
      "Gradient Descent(371/499): loss=0.33997744074101677, w0=-0.3146640000007909, w1=0.01029966740381059\n",
      "Gradient Descent(372/499): loss=0.33997727697803687, w0=-0.3146640000007909, w1=0.010318590263965897\n",
      "Gradient Descent(373/499): loss=0.3399771158533528, w0=-0.3146640000007909, w1=0.010337319002737034\n",
      "Gradient Descent(374/499): loss=0.339976957317549, w0=-0.3146640000007909, w1=0.010355855651477374\n",
      "Gradient Descent(375/499): loss=0.33997680132217045, w0=-0.3146640000007909, w1=0.010374202220930915\n",
      "Gradient Descent(376/499): loss=0.33997664781970216, w0=-0.3146640000007909, w1=0.010392360701411515\n",
      "Gradient Descent(377/499): loss=0.3399764967635529, w0=-0.3146640000007909, w1=0.010410333062981496\n",
      "Gradient Descent(378/499): loss=0.3399763481080351, w0=-0.3146640000007909, w1=0.010428121255629502\n",
      "Gradient Descent(379/499): loss=0.3399762018083472, w0=-0.3146640000007909, w1=0.01044572720944772\n",
      "Gradient Descent(380/499): loss=0.33997605782055657, w0=-0.3146640000007909, w1=0.0104631528348083\n",
      "Gradient Descent(381/499): loss=0.3399759161015824, w0=-0.3146640000007909, w1=0.010480400022539067\n",
      "Gradient Descent(382/499): loss=0.33997577660917844, w0=-0.3146640000007909, w1=0.010497470644098405\n",
      "Gradient Descent(383/499): loss=0.33997563930191643, w0=-0.3146640000007909, w1=0.010514366551749359\n",
      "Gradient Descent(384/499): loss=0.3399755041391701, w0=-0.3146640000007909, w1=0.01053108957873292\n",
      "Gradient Descent(385/499): loss=0.3399753710810996, w0=-0.3146640000007909, w1=0.010547641539440464\n",
      "Gradient Descent(386/499): loss=0.3399752400886362, w0=-0.3146640000007909, w1=0.010564024229585309\n",
      "Gradient Descent(387/499): loss=0.33997511112346546, w0=-0.3146640000007909, w1=0.010580239426373402\n",
      "Gradient Descent(388/499): loss=0.33997498414801375, w0=-0.3146640000007909, w1=0.01059628888867312\n",
      "Gradient Descent(389/499): loss=0.339974859125434, w0=-0.31466400000079087, w1=0.010612174357184145\n",
      "Gradient Descent(390/499): loss=0.33997473601959016, w0=-0.31466400000079087, w1=0.010627897554605421\n",
      "Gradient Descent(391/499): loss=0.3399746147950442, w0=-0.3146640000007908, w1=0.01064346018580215\n",
      "Gradient Descent(392/499): loss=0.33997449541704194, w0=-0.3146640000007908, w1=0.010658863937971861\n",
      "Gradient Descent(393/499): loss=0.33997437785149814, w0=-0.31466400000079076, w1=0.010674110480809473\n",
      "Gradient Descent(394/499): loss=0.33997426206498693, w0=-0.31466400000079076, w1=0.010689201466671405\n",
      "Gradient Descent(395/499): loss=0.3399741480247255, w0=-0.3146640000007907, w1=0.010704138530738688\n",
      "Gradient Descent(396/499): loss=0.339974035698562, w0=-0.31466400000079064, w1=0.010718923291179063\n",
      "Gradient Descent(397/499): loss=0.3399739250549648, w0=-0.3146640000007906, w1=0.010733557349308092\n",
      "Gradient Descent(398/499): loss=0.339973816063009, w0=-0.3146640000007906, w1=0.010748042289749196\n",
      "Gradient Descent(399/499): loss=0.3399737086923642, w0=-0.31466400000079053, w1=0.01076237968059272\n",
      "Gradient Descent(400/499): loss=0.3399736029132838, w0=-0.31466400000079053, w1=0.010776571073553915\n",
      "Gradient Descent(401/499): loss=0.3399734986965932, w0=-0.3146640000007905, w1=0.010790618004129898\n",
      "Gradient Descent(402/499): loss=0.33997339601367826, w0=-0.3146640000007905, w1=0.010804521991755538\n",
      "Gradient Descent(403/499): loss=0.33997329483647437, w0=-0.3146640000007904, w1=0.01081828453995831\n",
      "Gradient Descent(404/499): loss=0.3399731951374555, w0=-0.31466400000079037, w1=0.010831907136512046\n",
      "Gradient Descent(405/499): loss=0.3399730968896254, w0=-0.3146640000007903, w1=0.010845391253589638\n",
      "Gradient Descent(406/499): loss=0.339973000066504, w0=-0.31466400000079026, w1=0.010858738347914653\n",
      "Gradient Descent(407/499): loss=0.33997290464212027, w0=-0.3146640000007902, w1=0.010871949860911884\n",
      "Gradient Descent(408/499): loss=0.3399728105910006, w0=-0.31466400000079014, w1=0.010885027218856784\n",
      "Gradient Descent(409/499): loss=0.3399727178881597, w0=-0.31466400000079014, w1=0.010897971833023842\n",
      "Gradient Descent(410/499): loss=0.3399726265090902, w0=-0.3146640000007901, w1=0.010910785099833838\n",
      "Gradient Descent(411/499): loss=0.33997253642975495, w0=-0.31466400000079003, w1=0.010923468401000053\n",
      "Gradient Descent(412/499): loss=0.3399724476265765, w0=-0.31466400000079, w1=0.010936023103673306\n",
      "Gradient Descent(413/499): loss=0.3399723600764279, w0=-0.3146640000007899, w1=0.01094845056058595\n",
      "Gradient Descent(414/499): loss=0.3399722737566253, w0=-0.31466400000078987, w1=0.010960752110194767\n",
      "Gradient Descent(415/499): loss=0.33997218864491785, w0=-0.3146640000007898, w1=0.010972929076822726\n",
      "Gradient Descent(416/499): loss=0.33997210471948003, w0=-0.31466400000078976, w1=0.010984982770799647\n",
      "Gradient Descent(417/499): loss=0.33997202195890325, w0=-0.3146640000007897, w1=0.010996914488601803\n",
      "Gradient Descent(418/499): loss=0.3399719403421877, w0=-0.3146640000007897, w1=0.011008725512990364\n",
      "Gradient Descent(419/499): loss=0.3399718598487338, w0=-0.31466400000078965, w1=0.011020417113148773\n",
      "Gradient Descent(420/499): loss=0.33997178045833576, w0=-0.3146640000007896, w1=0.011031990544818987\n",
      "Gradient Descent(421/499): loss=0.3399717021511722, w0=-0.31466400000078953, w1=0.011043447050436675\n",
      "Gradient Descent(422/499): loss=0.33997162490779986, w0=-0.3146640000007895, w1=0.01105478785926525\n",
      "Gradient Descent(423/499): loss=0.33997154870914603, w0=-0.3146640000007894, w1=0.011066014187528835\n"
     ]
    },
    {
     "name": "stdout",
     "output_type": "stream",
     "text": [
      "Gradient Descent(424/499): loss=0.33997147353650115, w0=-0.31466400000078937, w1=0.01107712723854413\n",
      "Gradient Descent(425/499): loss=0.3399713993715112, w0=-0.3146640000007893, w1=0.011088128202851173\n",
      "Gradient Descent(426/499): loss=0.3399713261961724, w0=-0.31466400000078926, w1=0.011099018258343018\n",
      "Gradient Descent(427/499): loss=0.3399712539928227, w0=-0.3146640000007892, w1=0.01110979857039431\n",
      "Gradient Descent(428/499): loss=0.33997118274413574, w0=-0.31466400000078915, w1=0.011120470291988784\n",
      "Gradient Descent(429/499): loss=0.33997111243311495, w0=-0.3146640000007891, w1=0.011131034563845673\n",
      "Gradient Descent(430/499): loss=0.33997104304308545, w0=-0.31466400000078903, w1=0.01114149251454503\n",
      "Gradient Descent(431/499): loss=0.3399709745576909, w0=-0.314664000000789, w1=0.011151845260651964\n",
      "Gradient Descent(432/499): loss=0.33997090696088283, w0=-0.3146640000007889, w1=0.011162093906839813\n",
      "Gradient Descent(433/499): loss=0.3399708402369194, w0=-0.31466400000078887, w1=0.011172239546012245\n",
      "Gradient Descent(434/499): loss=0.33997077437035583, w0=-0.3146640000007888, w1=0.01118228325942427\n",
      "Gradient Descent(435/499): loss=0.3399707093460411, w0=-0.31466400000078876, w1=0.011192226116802208\n",
      "Gradient Descent(436/499): loss=0.33997064514911013, w0=-0.3146640000007887, w1=0.011202069176462586\n",
      "Gradient Descent(437/499): loss=0.33997058176497996, w0=-0.31466400000078865, w1=0.011211813485429978\n",
      "Gradient Descent(438/499): loss=0.3399705191793436, w0=-0.3146640000007886, w1=0.011221460079553793\n",
      "Gradient Descent(439/499): loss=0.3399704573781645, w0=-0.31466400000078854, w1=0.011231009983624021\n",
      "Gradient Descent(440/499): loss=0.33997039634767146, w0=-0.3146640000007885, w1=0.011240464211485932\n",
      "Gradient Descent(441/499): loss=0.33997033607435423, w0=-0.3146640000007884, w1=0.01124982376615372\n",
      "Gradient Descent(442/499): loss=0.3399702765449569, w0=-0.31466400000078837, w1=0.011259089639923144\n",
      "Gradient Descent(443/499): loss=0.3399702177464746, w0=-0.3146640000007883, w1=0.011268262814483123\n",
      "Gradient Descent(444/499): loss=0.3399701596661475, w0=-0.31466400000078826, w1=0.011277344261026301\n",
      "Gradient Descent(445/499): loss=0.33997010229145647, w0=-0.3146640000007882, w1=0.011286334940358604\n",
      "Gradient Descent(446/499): loss=0.33997004561011873, w0=-0.31466400000078815, w1=0.011295235803007786\n",
      "Gradient Descent(447/499): loss=0.3399699896100825, w0=-0.3146640000007881, w1=0.011304047789330965\n",
      "Gradient Descent(448/499): loss=0.33996993427952404, w0=-0.31466400000078804, w1=0.011312771829621154\n",
      "Gradient Descent(449/499): loss=0.3399698796068415, w0=-0.314664000000788, w1=0.011321408844212795\n",
      "Gradient Descent(450/499): loss=0.33996982558065114, w0=-0.3146640000007879, w1=0.011329959743586308\n",
      "Gradient Descent(451/499): loss=0.3399697721897844, w0=-0.31466400000078787, w1=0.011338425428471646\n",
      "Gradient Descent(452/499): loss=0.3399697194232814, w0=-0.3146640000007878, w1=0.01134680678995089\n",
      "Gradient Descent(453/499): loss=0.3399696672703896, w0=-0.31466400000078776, w1=0.011355104709559848\n",
      "Gradient Descent(454/499): loss=0.33996961572055706, w0=-0.3146640000007877, w1=0.011363320059388698\n",
      "Gradient Descent(455/499): loss=0.33996956476343165, w0=-0.31466400000078765, w1=0.011371453702181672\n",
      "Gradient Descent(456/499): loss=0.3399695143888539, w0=-0.3146640000007876, w1=0.01137950649143579\n",
      "Gradient Descent(457/499): loss=0.339969464586856, w0=-0.31466400000078754, w1=0.011387479271498625\n",
      "Gradient Descent(458/499): loss=0.33996941534765623, w0=-0.3146640000007875, w1=0.011395372877665148\n",
      "Gradient Descent(459/499): loss=0.3399693666616568, w0=-0.3146640000007874, w1=0.01140318813627363\n",
      "Gradient Descent(460/499): loss=0.33996931851943935, w0=-0.31466400000078737, w1=0.011410925864800602\n",
      "Gradient Descent(461/499): loss=0.33996927091176243, w0=-0.3146640000007873, w1=0.011418586871954912\n",
      "Gradient Descent(462/499): loss=0.3399692238295563, w0=-0.31466400000078726, w1=0.011426171957770853\n",
      "Gradient Descent(463/499): loss=0.3399691772639214, w0=-0.3146640000007872, w1=0.011433681913700373\n",
      "Gradient Descent(464/499): loss=0.3399691312061255, w0=-0.31466400000078715, w1=0.011441117522704403\n",
      "Gradient Descent(465/499): loss=0.33996908564759803, w0=-0.3146640000007871, w1=0.011448479559343269\n",
      "Gradient Descent(466/499): loss=0.33996904057992944, w0=-0.31466400000078704, w1=0.011455768789866216\n",
      "Gradient Descent(467/499): loss=0.3399689959948665, w0=-0.314664000000787, w1=0.011462985972300051\n",
      "Gradient Descent(468/499): loss=0.33996895188431014, w0=-0.3146640000007869, w1=0.011470131856536909\n",
      "Gradient Descent(469/499): loss=0.3399689082403126, w0=-0.31466400000078687, w1=0.011477207184421141\n",
      "Gradient Descent(470/499): loss=0.3399688650550736, w0=-0.3146640000007868, w1=0.011484212689835342\n",
      "Gradient Descent(471/499): loss=0.33996882232093883, w0=-0.31466400000078676, w1=0.01149114909878552\n",
      "Gradient Descent(472/499): loss=0.33996878003039577, w0=-0.3146640000007867, w1=0.011498017129485418\n",
      "Gradient Descent(473/499): loss=0.33996873817607176, w0=-0.31466400000078665, w1=0.011504817492439975\n",
      "Gradient Descent(474/499): loss=0.3399686967507316, w0=-0.3146640000007866, w1=0.011511550890527956\n",
      "Gradient Descent(475/499): loss=0.3399686557472744, w0=-0.31466400000078654, w1=0.011518218019083778\n",
      "Gradient Descent(476/499): loss=0.33996861515873134, w0=-0.3146640000007865, w1=0.011524819565978455\n",
      "Gradient Descent(477/499): loss=0.3399685749782616, w0=-0.3146640000007864, w1=0.011531356211699779\n",
      "Gradient Descent(478/499): loss=0.33996853519915343, w0=-0.31466400000078637, w1=0.011537828629431642\n",
      "Gradient Descent(479/499): loss=0.3399684958148179, w0=-0.31466400000078626, w1=0.011544237485132594\n",
      "Gradient Descent(480/499): loss=0.3399684568187886, w0=-0.3146640000007862, w1=0.011550583437613575\n",
      "Gradient Descent(481/499): loss=0.339968418204719, w0=-0.3146640000007861, w1=0.011556867138614858\n",
      "Gradient Descent(482/499): loss=0.33996837996637996, w0=-0.31466400000078604, w1=0.011563089232882217\n",
      "Gradient Descent(483/499): loss=0.33996834209765725, w0=-0.3146640000007859, w1=0.011569250358242317\n",
      "Gradient Descent(484/499): loss=0.33996830459255023, w0=-0.31466400000078587, w1=0.011575351145677303\n",
      "Gradient Descent(485/499): loss=0.3399682674451689, w0=-0.3146640000007858, w1=0.011581392219398662\n",
      "Gradient Descent(486/499): loss=0.33996823064973186, w0=-0.3146640000007857, w1=0.011587374196920306\n",
      "Gradient Descent(487/499): loss=0.33996819420056434, w0=-0.31466400000078565, w1=0.011593297689130894\n",
      "Gradient Descent(488/499): loss=0.33996815809209624, w0=-0.3146640000007856, w1=0.011599163300365416\n",
      "Gradient Descent(489/499): loss=0.3399681223188602, w0=-0.31466400000078554, w1=0.011604971628476048\n",
      "Gradient Descent(490/499): loss=0.3399680868754897, w0=-0.3146640000007854, w1=0.011610723264902253\n",
      "Gradient Descent(491/499): loss=0.33996805175671674, w0=-0.31466400000078537, w1=0.011616418794740171\n",
      "Gradient Descent(492/499): loss=0.3399680169573702, w0=-0.31466400000078526, w1=0.011622058796811269\n",
      "Gradient Descent(493/499): loss=0.33996798247237414, w0=-0.3146640000007852, w1=0.011627643843730311\n",
      "Gradient Descent(494/499): loss=0.3399679482967459, w0=-0.31466400000078515, w1=0.011633174501972578\n",
      "Gradient Descent(495/499): loss=0.33996791442559393, w0=-0.3146640000007851, w1=0.011638651331940414\n",
      "Gradient Descent(496/499): loss=0.3399678808541173, w0=-0.314664000000785, w1=0.01164407488802907\n",
      "Gradient Descent(497/499): loss=0.33996784757760223, w0=-0.3146640000007849, w1=0.011649445718691847\n",
      "Gradient Descent(498/499): loss=0.3399678145914208, w0=-0.3146640000007848, w1=0.01165476436650458\n",
      "Gradient Descent(499/499): loss=0.3399677818910316, w0=-0.3146640000007847, w1=0.011660031368229426\n"
     ]
    },
    {
     "data": {
      "image/png": "[encoded data removed]",
      "text/plain": [
       "<matplotlib.figure.Figure at 0x7f7cbf1a97b8>"
      ]
     },
     "metadata": {},
     "output_type": "display_data"
    }
   ],
   "source": [
    "w, loss = func_GD (y=y_train, tx=tx_train, test_set=tx_test, max_iters=500,gamma=0.1, initial_w=initial_w);\n"
   ]
  },
  {
   "cell_type": "code",
   "execution_count": 19,
   "metadata": {},
   "outputs": [
    {
     "data": {
      "text/plain": [
       "(250000, 31)"
      ]
     },
     "execution_count": 19,
     "metadata": {},
     "output_type": "execute_result"
    }
   ],
   "source": [
    "w.shape\n",
    "tx_train.shape"
   ]
  },
  {
   "cell_type": "code",
   "execution_count": 20,
   "metadata": {},
   "outputs": [
    {
     "data": {
      "text/plain": [
       "74.495599999999996"
      ]
     },
     "execution_count": 20,
     "metadata": {},
     "output_type": "execute_result"
    }
   ],
   "source": [
    "y_pred_train = predict_labels(w, tx_train)\n",
    "right_train = np.sum(y_pred_train == y_train)/len(y_train)*100\n",
    "right_train"
   ]
  },
  {
   "cell_type": "markdown",
   "metadata": {},
   "source": [
    "## Ridge regression   "
   ]
  },
  {
   "cell_type": "code",
   "execution_count": 21,
   "metadata": {},
   "outputs": [
    {
     "data": {
      "image/png": "[encoded data removed]",
      "text/plain": [
       "<matplotlib.figure.Figure at 0x7f7ccdfbae10>"
      ]
     },
     "metadata": {},
     "output_type": "display_data"
    }
   ],
   "source": [
    "[w,loss]=func_ridge_regression (y=y_train, tx=tx_train, test_set=tx_test, lambda_=lambda_);"
   ]
  },
  {
   "cell_type": "code",
   "execution_count": 22,
   "metadata": {},
   "outputs": [
    {
     "data": {
      "text/plain": [
       "72.492800000000003"
      ]
     },
     "execution_count": 22,
     "metadata": {},
     "output_type": "execute_result"
    }
   ],
   "source": [
    "y_pred_train = predict_labels(w, tx_train)\n",
    "right_train = np.sum(y_pred_train == y_train)/len(y_train)*100\n",
    "right_train"
   ]
  },
  {
   "cell_type": "markdown",
   "metadata": {
    "collapsed": true
   },
   "source": [
    "##  SGD"
   ]
  },
  {
   "cell_type": "code",
   "execution_count": 23,
   "metadata": {
    "collapsed": true
   },
   "outputs": [],
   "source": [
    "def func_SGD (y, tx, test_set, max_iters, gamma, initial_w, batch_size):\n",
    "    name = 'Stochastic_Gradient_descent'\n",
    "    \n",
    "    w,loss = least_squares_SGD(y, tx, initial_w, max_iters,\\\n",
    "                               gamma, batch_size)\n",
    "    \n",
    "    y_pred = predict_labels(w, test_set)\n",
    "    create_csv_submission(ids_test, y_pred, OUT_FOLDER+name)\n",
    "    \n",
    "    plt.plot(w, 'go')\n",
    "    plt.title('SGD: weights with loss:  '+str(loss),fontsize=15, fontweight='bold');\n",
    "    plt.show()\n",
    "    \n",
    "    return w, loss"
   ]
  },
  {
   "cell_type": "code",
   "execution_count": 24,
   "metadata": {},
   "outputs": [
    {
     "data": {
      "image/png": "[encoded data removed]",
      "text/plain": [
       "<matplotlib.figure.Figure at 0x7f7cc7622e48>"
      ]
     },
     "metadata": {},
     "output_type": "display_data"
    }
   ],
   "source": [
    "w, loss = func_SGD (y=y_train, tx=tx_train, test_set=tx_test, max_iters=10,gamma=gamma, initial_w=initial_w,\\\n",
    "                   batch_size=5);"
   ]
  },
  {
   "cell_type": "markdown",
   "metadata": {},
   "source": [
    "## LOGISTIC REGRESSION"
   ]
  },
  {
   "cell_type": "code",
   "execution_count": 25,
   "metadata": {
    "collapsed": true
   },
   "outputs": [],
   "source": [
    "def build_k_indices(y, k_fold, seed):\n",
    "    \"\"\"build k indices for k-fold.\"\"\"\n",
    "    num_row = y.shape[0]\n",
    "    interval = int(num_row / k_fold)\n",
    "    np.random.seed(seed)\n",
    "    indices = np.random.permutation(num_row)\n",
    "    k_indices = [indices[k * interval: (k + 1) * interval]\n",
    "                 for k in range(k_fold)]\n",
    "    return np.array(k_indices)\n",
    "\n",
    "def cross_validation_logistic_regression(y,tx, k_fold, max_iters, gammas):\n",
    "    \n",
    "    accuracies=np.zeros(len(gammas))\n",
    "    acc_max=0;\n",
    "    gamma_best=0;\n",
    "    \n",
    "    for i, single_gamma in enumerate(gammas):\n",
    "        \n",
    "        seed=1;\n",
    "\n",
    "        # get k'th subgroup in test, others in train\n",
    "        k_indices = build_k_indices(y, k_fold, seed)\n",
    "        accuracy_train = np.zeros(k_fold)\n",
    "        accuracy_test = np.zeros(k_fold)\n",
    "\n",
    "\n",
    "        for k in range(k_fold):\n",
    "            #print('----- FOLD', k, '-----')\n",
    "            k_index = k_indices[k]\n",
    "            test_y = y[k_index]\n",
    "            test_tx = tx[k_index,:]\n",
    "\n",
    "            mask = np.ones(len(y), dtype=bool) # set all elements to True\n",
    "            mask[k_index] = False              # set test elements to False\n",
    "            train_tx = tx[mask,:]              # select only True elements (ie train elements)\n",
    "            train_y = y[mask]\n",
    "            weights,loss = logistic_regression(train_y, train_tx, initial_w, max_iters, single_gamma)\n",
    "            # Compute the predictions\n",
    "            y_pred_train = predict_labels(weights, train_tx)\n",
    "            y_pred_test = predict_labels(weights, test_tx)\n",
    "            predictions=True;\n",
    "            accuracy_train[k] = np.sum(y_pred_train == train_y)/len(train_y)\n",
    "            accuracy_test[k] = np.sum(y_pred_test == test_y)/len(test_y)\n",
    "        accuracies[i]=np.mean(accuracy_test);\n",
    "        \n",
    "        print('GAMMA:', single_gamma, '---','ACCURANCY:',accuracies[i])\n",
    "        if (accuracies[i]>acc_max):\n",
    "                gamma_best=gammas[i];\n",
    "                acc_max=accuracies[i];\n",
    "    \n",
    "    return gamma_best,acc_max\n",
    "               \n",
    "        # Compute accuracy of the predictions\n",
    "\n",
    "        "
   ]
  },
  {
   "cell_type": "code",
   "execution_count": 26,
   "metadata": {
    "scrolled": true
   },
   "outputs": [
    {
     "name": "stdout",
     "output_type": "stream",
     "text": [
      "GAMMA: 1e-05 --- ACCURANCY: 0.711072\n",
      "GAMMA: 0.100008888889 --- ACCURANCY: 0.713916\n",
      "GAMMA: 0.200007777778 --- ACCURANCY: 0.713916\n",
      "GAMMA: 0.300006666667 --- ACCURANCY: 0.713916\n",
      "GAMMA: 0.400005555556 --- ACCURANCY: 0.713916\n",
      "GAMMA: 0.500004444444 --- ACCURANCY: 0.713916\n",
      "GAMMA: 0.600003333333 --- ACCURANCY: 0.713916\n",
      "GAMMA: 0.700002222222 --- ACCURANCY: 0.713916\n",
      "GAMMA: 0.800001111111 --- ACCURANCY: 0.713916\n",
      "GAMMA: 0.9 --- ACCURANCY: 0.713916\n",
      "BEST GAMMA: 0.100008888889 --- ACCURANCY: 0.713916\n"
     ]
    }
   ],
   "source": [
    "gammas=np.linspace(0.00001,0.9,10);\n",
    "k_fold=2;\n",
    "max_iters=10;\n",
    "\n",
    "best_gamma,acc_max=cross_validation_logistic_regression(y_train,tx_train, k_fold, max_iters, gammas)\n",
    "print('BEST GAMMA:', best_gamma, '---','ACCURANCY:',acc_max)"
   ]
  },
  {
   "cell_type": "code",
   "execution_count": 27,
   "metadata": {
    "collapsed": true
   },
   "outputs": [],
   "source": [
    "def func_logistic (y, tx, test_set, max_iters, gamma, initial_w):\n",
    "    name = 'Logistic regression'\n",
    "    \n",
    "    #w,loss = logistic_regression(y, tx, initial_w, max_iters, gamma)\n",
    "    w,loss = logistic_regression(y, tx, initial_w, max_iters, gamma)\n",
    "    \n",
    "    loss=loss/len(y);\n",
    "    y_pred = predict_labels(w, test_set)\n",
    "    create_csv_submission(ids_test, y_pred, OUT_FOLDER+name)  \n",
    "    \n",
    "    plt.plot(w, 'go')\n",
    "    plt.title('logistic reg: weights with loss:  '+str(loss),fontsize=15, fontweight='bold');\n",
    "    plt.show()\n",
    "    \n",
    "    return w, loss"
   ]
  },
  {
   "cell_type": "code",
   "execution_count": 28,
   "metadata": {
    "scrolled": true
   },
   "outputs": [
    {
     "data": {
      "image/png": "[encoded data removed]",
      "text/plain": [
       "<matplotlib.figure.Figure at 0x7f7d0ac1b5c0>"
      ]
     },
     "metadata": {},
     "output_type": "display_data"
    }
   ],
   "source": [
    "w, loss = func_logistic (y=y_train, tx=tx_train, test_set=tx_test, max_iters=50,\\\n",
    "                         gamma=best_gamma, initial_w=initial_w);"
   ]
  },
  {
   "cell_type": "code",
   "execution_count": 29,
   "metadata": {},
   "outputs": [
    {
     "data": {
      "text/plain": [
       "71.365200000000002"
      ]
     },
     "execution_count": 29,
     "metadata": {},
     "output_type": "execute_result"
    }
   ],
   "source": [
    "y_pred_train = predict_labels(w, tx_train)\n",
    "right_train = np.sum(y_pred_train == y_train)/len(y_train)*100\n",
    "right_train"
   ]
  },
  {
   "cell_type": "markdown",
   "metadata": {},
   "source": [
    "## LOGISTIC REGULARIZED"
   ]
  },
  {
   "cell_type": "code",
   "execution_count": 30,
   "metadata": {
    "collapsed": true
   },
   "outputs": [],
   "source": [
    "def build_k_indices(y, k_fold, seed):\n",
    "    \"\"\"build k indices for k-fold.\"\"\"\n",
    "    num_row = y.shape[0]\n",
    "    interval = int(num_row / k_fold)\n",
    "    np.random.seed(seed)\n",
    "    indices = np.random.permutation(num_row)\n",
    "    k_indices = [indices[k * interval: (k + 1) * interval]\n",
    "                 for k in range(k_fold)]\n",
    "    return np.array(k_indices)\n",
    "\n",
    "def cross_validation_logistic_regression_reg(y,tx, k_fold, max_iters, gammas,lambdas):\n",
    "    \n",
    "    acc_max=0;\n",
    "    accurancies=np.zeros([len(gammas),len(lambdas)]);\n",
    "    for i, single_gamma in enumerate(gammas):\n",
    "        for j, single_lambda in enumerate(lambdas):\n",
    "            seed=1;\n",
    "        \n",
    "            # get k'th subgroup in test, others in train\n",
    "            k_indices = build_k_indices(y, k_fold, seed)\n",
    "            accuracy_train = np.zeros(k_fold)\n",
    "            accuracy_test = np.zeros(k_fold)\n",
    "\n",
    "\n",
    "            for k in range(k_fold):\n",
    "                #print('----- FOLD', k, '-----')\n",
    "                k_index = k_indices[k]\n",
    "                test_y = y[k_index]\n",
    "                test_tx = tx[k_index,:]\n",
    "\n",
    "                mask = np.ones(len(y), dtype=bool) # set all elements to True\n",
    "                mask[k_index] = False              # set test elements to False\n",
    "                train_tx = tx[mask,:]              # select only True elements (ie train elements)\n",
    "                train_y = y[mask]\n",
    "                weights,loss = logistic_regression(train_y, train_tx, initial_w, max_iters, single_gamma)\n",
    "                # Compute the predictions\n",
    "                y_pred_train = predict_labels(weights, train_tx)\n",
    "                y_pred_test = predict_labels(weights, test_tx)\n",
    "                predictions=True;\n",
    "                accuracy_train[k] = np.sum(y_pred_train == train_y)/len(train_y)\n",
    "                accuracy_test[k] = np.sum(y_pred_test == test_y)/len(test_y)\n",
    "            accurancies[i,j]= np.mean(accuracy_test);\n",
    "            print('GAMMA', single_gamma, '---','LAMBDA', single_lambda, '---ACCURANCY:',accurancies[i,j])\n",
    "            \n",
    "            if (accurancies[i,j]>acc_max):\n",
    "                gamma_best=gammas[i];\n",
    "                lambda_best=lambdas[j];\n",
    "                acc_max=accurancies[i,j];\n",
    "            \n",
    "            \n",
    "    return [gamma_best,lambda_best,acc_max]\n",
    "     \n",
    "    \n",
    "    \n",
    "            # Compute accuracy of the predictions\n",
    "\n",
    "            "
   ]
  },
  {
   "cell_type": "code",
   "execution_count": 31,
   "metadata": {},
   "outputs": [
    {
     "name": "stdout",
     "output_type": "stream",
     "text": [
      "GAMMA 1e-06 --- LAMBDA 0.001 ---ACCURANCY: 0.7034\n",
      "GAMMA 1e-06 --- LAMBDA 0.3 ---ACCURANCY: 0.7034\n",
      "GAMMA 0.0001 --- LAMBDA 0.001 ---ACCURANCY: 0.713864\n",
      "GAMMA 0.0001 --- LAMBDA 0.3 ---ACCURANCY: 0.713864\n",
      "BEST GAMMA 0.0001 --- BEST LAMBDA 0.001 ---ACCURANCY: 0.713864\n"
     ]
    }
   ],
   "source": [
    "#test cross_validation\n",
    "\n",
    "gammas=np.linspace(0.000001,0.0001,2);\n",
    "lambdas=np.linspace(0.001,0.3,2);\n",
    "k_fold=2;\n",
    "max_iters=10;\n",
    "[gamma_best,lambda_best,acc_max]= cross_validation_logistic_regression_reg(y_train,tx_train, k_fold, max_iters, gammas,lambdas)\n",
    "\n",
    "print('BEST GAMMA', gamma_best, '---','BEST LAMBDA', lambda_best, '---ACCURANCY:',acc_max)"
   ]
  },
  {
   "cell_type": "code",
   "execution_count": 35,
   "metadata": {
    "collapsed": true
   },
   "outputs": [],
   "source": [
    "def func_logistic_reg (y, tx, lambda_, test_set, max_iters, gamma, initial_w):\n",
    "    name = 'Logistic regression regularized'\n",
    "    \n",
    "    #w,loss = logistic_regression(y, tx, initial_w, max_iters, gamma)\n",
    "    w,loss = reg_logistic_regression(y, tx, lambda_, initial_w, max_iters, gamma)\n",
    "    \n",
    "    loss=loss/len(y);\n",
    "    y_pred = predict_labels(w, test_set)\n",
    "    create_csv_submission(ids_test, y_pred, OUT_FOLDER+name)\n",
    "    \n",
    "    plt.plot(w, 'go')\n",
    "    plt.title('logistic reg: weights with the normalized log-like:  '+str(loss),fontsize=15, fontweight='bold');\n",
    "    plt.show()\n",
    "    \n",
    "    return w, loss"
   ]
  },
  {
   "cell_type": "code",
   "execution_count": 38,
   "metadata": {},
   "outputs": [
    {
     "data": {
      "image/png": "[encoded data removed]",
      "text/plain": [
       "<matplotlib.figure.Figure at 0x7f7cbf1e1080>"
      ]
     },
     "metadata": {},
     "output_type": "display_data"
    }
   ],
   "source": [
    "w, loss = func_logistic_reg (y=y_train, tx=tx_train, lambda_=lambda_best, test_set=tx_test, max_iters=50,\\\n",
    "                         gamma=gamma_best, initial_w=initial_w);\n",
    "\n"
   ]
  },
  {
   "cell_type": "code",
   "execution_count": 34,
   "metadata": {},
   "outputs": [
    {
     "data": {
      "text/plain": [
       "71.364399999999989"
      ]
     },
     "execution_count": 34,
     "metadata": {},
     "output_type": "execute_result"
    }
   ],
   "source": [
    "y_pred_train = predict_labels(w, tx_train)\n",
    "right_train = np.sum(y_pred_train == y_train)/len(y_train)*100\n",
    "right_train"
   ]
  },
  {
   "cell_type": "code",
   "execution_count": null,
   "metadata": {
    "collapsed": true
   },
   "outputs": [],
   "source": []
  },
  {
   "cell_type": "code",
   "execution_count": null,
   "metadata": {
    "collapsed": true
   },
   "outputs": [],
   "source": []
  }
 ],
 "metadata": {
  "kernelspec": {
   "display_name": "Python 3",
   "language": "python",
   "name": "python3"
  },
  "language_info": {
   "codemirror_mode": {
    "name": "ipython",
    "version": 3
   },
   "file_extension": ".py",
   "mimetype": "text/x-python",
   "name": "python",
   "nbconvert_exporter": "python",
   "pygments_lexer": "ipython3",
   "version": "3.6.2"
  }
 },
 "nbformat": 4,
 "nbformat_minor": 2
}
