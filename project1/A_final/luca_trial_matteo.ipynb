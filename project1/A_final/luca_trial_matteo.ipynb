{
 "cells": [
  {
   "cell_type": "markdown",
   "metadata": {
    "collapsed": true
   },
   "source": [
    "# Project 1\n",
    "\n",
    "    We begin by loading the data"
   ]
  },
  {
   "cell_type": "code",
   "execution_count": 1,
   "metadata": {},
   "outputs": [],
   "source": [
    "\n",
    "from preprocessing_functions import *\n",
    "%matplotlib inline \n",
    "import numpy as np   # generic stuff\n",
    "import matplotlib.pyplot as plt\n",
    "\n",
    "#### REMOVE THIS LINE BEFORE SUBMISSION\n",
    "import pandas as pd\n",
    "#######################################################################\n",
    "\n",
    "from lib.proj1_helpers import * #the helper provided for the project\n",
    "from lib.costs import *\n",
    "\n",
    "# choose which implementations you would like\n",
    "from lib.implementations import *\n",
    "#from implementations import * #our implementations of the functions done by us\n",
    "\n",
    "\n",
    "import datetime\n",
    "from helpers import * #helpers of exo 2\n",
    "# Useful starting lines\n",
    "\n",
    "%load_ext autoreload\n",
    "%autoreload 2\n",
    "%reload_ext autoreload"
   ]
  },
  {
   "cell_type": "code",
   "execution_count": 3,
   "metadata": {},
   "outputs": [],
   "source": [
    "DATA_FOLDER = 'data/'\n",
    "\n",
    "y_train, tx_train, ids_train = load_csv_data(DATA_FOLDER+'train.csv',sub_sample=True)\n",
    "\n",
    "y_test, tx_test, ids_test = load_csv_data(DATA_FOLDER+'test.csv',sub_sample=True)\n",
    "AAA = 0;"
   ]
  },
  {
   "cell_type": "markdown",
   "metadata": {},
   "source": [
    "note that here we are only considering a sub_sample as the \"True\" value indicates"
   ]
  },
  {
   "cell_type": "code",
   "execution_count": 4,
   "metadata": {
    "scrolled": true
   },
   "outputs": [
    {
     "data": {
      "text/plain": [
       "array([ 1., -1., -1., ...,  1., -1.,  1.])"
      ]
     },
     "execution_count": 4,
     "metadata": {},
     "output_type": "execute_result"
    }
   ],
   "source": [
    "y_train"
   ]
  },
  {
   "cell_type": "code",
   "execution_count": 5,
   "metadata": {},
   "outputs": [
    {
     "data": {
      "text/plain": [
       "array([ -6.65702052e+01,   5.02655292e+01,   8.10068096e+01,\n",
       "         5.72432294e+01,  -7.03584253e+02,  -5.96237100e+02,\n",
       "        -7.04529779e+02,   2.37571420e+00,   1.89751598e+01,\n",
       "         1.57925417e+02,   1.44750460e+00,  -1.58575000e-01,\n",
       "        -7.04154751e+02,   3.79714208e+01,  -7.52940000e-03,\n",
       "        -7.32000000e-05,   4.63404222e+01,  -1.99772000e-02,\n",
       "         1.15077200e-01,   4.22103976e+01,   2.86580000e-02,\n",
       "         2.09378977e+02,   9.84400000e-01,  -3.45453367e+02,\n",
       "        -3.96614008e+02,  -3.96605099e+02,  -6.87271262e+02,\n",
       "        -7.04296892e+02,  -7.04330749e+02,   7.36135732e+01])"
      ]
     },
     "execution_count": 5,
     "metadata": {},
     "output_type": "execute_result"
    }
   ],
   "source": [
    "ids_train\n",
    "np.mean(tx_train,axis=0)"
   ]
  },
  {
   "cell_type": "code",
   "execution_count": 6,
   "metadata": {},
   "outputs": [
    {
     "data": {
      "text/html": [
       "<div>\n",
       "<style>\n",
       "    .dataframe thead tr:only-child th {\n",
       "        text-align: right;\n",
       "    }\n",
       "\n",
       "    .dataframe thead th {\n",
       "        text-align: left;\n",
       "    }\n",
       "\n",
       "    .dataframe tbody tr th {\n",
       "        vertical-align: top;\n",
       "    }\n",
       "</style>\n",
       "<table border=\"1\" class=\"dataframe\">\n",
       "  <thead>\n",
       "    <tr style=\"text-align: right;\">\n",
       "      <th></th>\n",
       "      <th>0</th>\n",
       "      <th>1</th>\n",
       "      <th>2</th>\n",
       "      <th>3</th>\n",
       "      <th>4</th>\n",
       "      <th>5</th>\n",
       "      <th>6</th>\n",
       "      <th>7</th>\n",
       "      <th>8</th>\n",
       "      <th>9</th>\n",
       "      <th>...</th>\n",
       "      <th>20</th>\n",
       "      <th>21</th>\n",
       "      <th>22</th>\n",
       "      <th>23</th>\n",
       "      <th>24</th>\n",
       "      <th>25</th>\n",
       "      <th>26</th>\n",
       "      <th>27</th>\n",
       "      <th>28</th>\n",
       "      <th>29</th>\n",
       "    </tr>\n",
       "  </thead>\n",
       "  <tbody>\n",
       "    <tr>\n",
       "      <th>0</th>\n",
       "      <td>138.470</td>\n",
       "      <td>51.655</td>\n",
       "      <td>97.827</td>\n",
       "      <td>27.980</td>\n",
       "      <td>0.91</td>\n",
       "      <td>124.711</td>\n",
       "      <td>2.666</td>\n",
       "      <td>3.064</td>\n",
       "      <td>41.928</td>\n",
       "      <td>197.760</td>\n",
       "      <td>...</td>\n",
       "      <td>-0.277</td>\n",
       "      <td>258.733</td>\n",
       "      <td>2.0</td>\n",
       "      <td>67.435</td>\n",
       "      <td>2.150</td>\n",
       "      <td>0.444</td>\n",
       "      <td>46.062</td>\n",
       "      <td>1.240</td>\n",
       "      <td>-2.475</td>\n",
       "      <td>113.497</td>\n",
       "    </tr>\n",
       "    <tr>\n",
       "      <th>1</th>\n",
       "      <td>219.057</td>\n",
       "      <td>72.461</td>\n",
       "      <td>124.835</td>\n",
       "      <td>5.506</td>\n",
       "      <td>-999.00</td>\n",
       "      <td>-999.000</td>\n",
       "      <td>-999.000</td>\n",
       "      <td>3.771</td>\n",
       "      <td>46.936</td>\n",
       "      <td>122.986</td>\n",
       "      <td>...</td>\n",
       "      <td>0.960</td>\n",
       "      <td>90.355</td>\n",
       "      <td>1.0</td>\n",
       "      <td>50.396</td>\n",
       "      <td>-0.708</td>\n",
       "      <td>-0.642</td>\n",
       "      <td>-999.000</td>\n",
       "      <td>-999.000</td>\n",
       "      <td>-999.000</td>\n",
       "      <td>50.396</td>\n",
       "    </tr>\n",
       "    <tr>\n",
       "      <th>2</th>\n",
       "      <td>90.801</td>\n",
       "      <td>27.787</td>\n",
       "      <td>65.373</td>\n",
       "      <td>55.978</td>\n",
       "      <td>-999.00</td>\n",
       "      <td>-999.000</td>\n",
       "      <td>-999.000</td>\n",
       "      <td>2.457</td>\n",
       "      <td>20.608</td>\n",
       "      <td>138.624</td>\n",
       "      <td>...</td>\n",
       "      <td>0.880</td>\n",
       "      <td>219.339</td>\n",
       "      <td>1.0</td>\n",
       "      <td>62.766</td>\n",
       "      <td>0.778</td>\n",
       "      <td>-2.209</td>\n",
       "      <td>-999.000</td>\n",
       "      <td>-999.000</td>\n",
       "      <td>-999.000</td>\n",
       "      <td>62.766</td>\n",
       "    </tr>\n",
       "    <tr>\n",
       "      <th>3</th>\n",
       "      <td>128.167</td>\n",
       "      <td>52.145</td>\n",
       "      <td>86.912</td>\n",
       "      <td>103.373</td>\n",
       "      <td>0.90</td>\n",
       "      <td>47.636</td>\n",
       "      <td>4.808</td>\n",
       "      <td>2.277</td>\n",
       "      <td>1.936</td>\n",
       "      <td>212.505</td>\n",
       "      <td>...</td>\n",
       "      <td>2.802</td>\n",
       "      <td>292.582</td>\n",
       "      <td>2.0</td>\n",
       "      <td>72.406</td>\n",
       "      <td>-2.689</td>\n",
       "      <td>-0.295</td>\n",
       "      <td>31.252</td>\n",
       "      <td>-1.788</td>\n",
       "      <td>-0.287</td>\n",
       "      <td>103.658</td>\n",
       "    </tr>\n",
       "    <tr>\n",
       "      <th>4</th>\n",
       "      <td>107.067</td>\n",
       "      <td>1.939</td>\n",
       "      <td>70.444</td>\n",
       "      <td>54.621</td>\n",
       "      <td>-999.00</td>\n",
       "      <td>-999.000</td>\n",
       "      <td>-999.000</td>\n",
       "      <td>2.079</td>\n",
       "      <td>30.366</td>\n",
       "      <td>151.198</td>\n",
       "      <td>...</td>\n",
       "      <td>1.190</td>\n",
       "      <td>290.199</td>\n",
       "      <td>1.0</td>\n",
       "      <td>66.634</td>\n",
       "      <td>-0.359</td>\n",
       "      <td>-0.485</td>\n",
       "      <td>-999.000</td>\n",
       "      <td>-999.000</td>\n",
       "      <td>-999.000</td>\n",
       "      <td>66.634</td>\n",
       "    </tr>\n",
       "  </tbody>\n",
       "</table>\n",
       "<p>5 rows × 30 columns</p>\n",
       "</div>"
      ],
      "text/plain": [
       "        0       1        2        3       4        5        6      7       8   \\\n",
       "0  138.470  51.655   97.827   27.980    0.91  124.711    2.666  3.064  41.928   \n",
       "1  219.057  72.461  124.835    5.506 -999.00 -999.000 -999.000  3.771  46.936   \n",
       "2   90.801  27.787   65.373   55.978 -999.00 -999.000 -999.000  2.457  20.608   \n",
       "3  128.167  52.145   86.912  103.373    0.90   47.636    4.808  2.277   1.936   \n",
       "4  107.067   1.939   70.444   54.621 -999.00 -999.000 -999.000  2.079  30.366   \n",
       "\n",
       "        9    ...        20       21   22      23     24     25       26  \\\n",
       "0  197.760   ...    -0.277  258.733  2.0  67.435  2.150  0.444   46.062   \n",
       "1  122.986   ...     0.960   90.355  1.0  50.396 -0.708 -0.642 -999.000   \n",
       "2  138.624   ...     0.880  219.339  1.0  62.766  0.778 -2.209 -999.000   \n",
       "3  212.505   ...     2.802  292.582  2.0  72.406 -2.689 -0.295   31.252   \n",
       "4  151.198   ...     1.190  290.199  1.0  66.634 -0.359 -0.485 -999.000   \n",
       "\n",
       "        27       28       29  \n",
       "0    1.240   -2.475  113.497  \n",
       "1 -999.000 -999.000   50.396  \n",
       "2 -999.000 -999.000   62.766  \n",
       "3   -1.788   -0.287  103.658  \n",
       "4 -999.000 -999.000   66.634  \n",
       "\n",
       "[5 rows x 30 columns]"
      ]
     },
     "execution_count": 6,
     "metadata": {},
     "output_type": "execute_result"
    }
   ],
   "source": [
    "# illegal: \n",
    "pd.DataFrame(tx_train).head()"
   ]
  },
  {
   "cell_type": "markdown",
   "metadata": {},
   "source": [
    "### Helper functions"
   ]
  },
  {
   "cell_type": "code",
   "execution_count": 12,
   "metadata": {},
   "outputs": [
    {
     "name": "stdout",
     "output_type": "stream",
     "text": [
      "Cleaning features\n",
      "Keeping unique cols\n",
      "Standardizing\n",
      "Cross products\n",
      "0\n",
      "1\n",
      "2\n",
      "3\n",
      "4\n",
      "5\n",
      "6\n",
      "7\n",
      "8\n",
      "9\n",
      "10\n",
      "11\n",
      "12\n",
      "13\n",
      "14\n",
      "15\n",
      "16\n",
      "17\n",
      "18\n",
      "19\n",
      "20\n",
      "21\n",
      "22\n",
      "23\n",
      "24\n",
      "25\n",
      "26\n",
      "27\n",
      "28\n",
      "29\n",
      "0\n",
      "1\n",
      "2\n",
      "3\n",
      "4\n",
      "5\n",
      "6\n",
      "7\n",
      "8\n",
      "9\n",
      "10\n",
      "11\n",
      "12\n",
      "13\n",
      "14\n",
      "15\n",
      "16\n",
      "17\n",
      "18\n",
      "19\n",
      "20\n",
      "21\n",
      "22\n",
      "23\n",
      "24\n",
      "25\n",
      "26\n",
      "27\n",
      "28\n",
      "29\n",
      "Adding powers\n",
      "Adding ones\n"
     ]
    }
   ],
   "source": [
    "deg=9;\n",
    "tx_train,tx_test = prepare_data(tx_train, tx_test, deg);"
   ]
  },
  {
   "cell_type": "code",
   "execution_count": null,
   "metadata": {
    "collapsed": true
   },
   "outputs": [],
   "source": []
  },
  {
   "cell_type": "code",
   "execution_count": 13,
   "metadata": {},
   "outputs": [
    {
     "data": {
      "text/plain": [
       "array([ -3.02794638e-02,   3.33198046e-04,  -1.04006068e-02,\n",
       "         5.95164328e-02,  -3.97333473e-04,   9.01828401e-02,\n",
       "        -2.83900680e-04,  -9.49471673e-04,   1.86900037e-02,\n",
       "         1.32635270e-01,   5.81288413e-04,  -1.07312813e-03,\n",
       "         3.43287150e-04,  -1.13006723e-03,  -1.59894953e-03,\n",
       "         2.77282616e-03,   1.35215996e-02,  -2.36081542e-03,\n",
       "        -2.29997460e-03,   3.03231035e-02,  -2.13106735e-03,\n",
       "         2.04144908e-01,   8.84859057e-04,   4.61426263e-02,\n",
       "        -8.82311692e-04,  -7.35675922e-04,   2.80021898e-02,\n",
       "        -1.29873568e-03,   1.53536038e-03,   1.20244384e-01,\n",
       "         3.04207048e+02,   1.85643822e+03,   1.62274058e+02,\n",
       "        -9.19706518e-01,  -1.68814032e+02,   1.11529528e+00,\n",
       "         2.00417598e+01,   1.23022825e+01,   7.17836219e+02,\n",
       "         2.25169691e+00,   1.34709716e+00,  -2.49138009e-01,\n",
       "         2.84937438e+02,   1.57488313e+00,   1.78512824e-01,\n",
       "         3.44460997e+02,  -1.14050172e+00,   3.26644824e+00,\n",
       "         1.65458728e+02,   3.94553517e-01,   6.32229227e+02,\n",
       "         5.05083403e-01,   7.62175798e+01,  -6.79007126e-01,\n",
       "        -7.37776513e-01,  -2.19787630e+01,  -1.21516137e+00,\n",
       "        -8.45964826e-02,   8.84376706e+01,   3.03066682e+02,\n",
       "        -5.91911890e+02,  -2.99700140e+00,  -9.80078168e+02,\n",
       "         5.78700807e+00,   1.88549872e+00,   5.50449853e+00,\n",
       "        -6.65259831e+02,   9.99223429e+00,  -1.83112310e+01,\n",
       "        -3.84640264e-01,  -1.11071041e+02,   8.67451604e-01,\n",
       "         8.62272905e-01,   2.29318266e+02,   4.94856500e-02,\n",
       "         7.87502349e-01,   2.02872708e+02,  -2.13531260e+00,\n",
       "        -7.99202377e+02,  -8.08916904e+00,  -2.67730479e+02,\n",
       "         2.49859650e-01,   2.62974790e+00,  -4.93364293e+01,\n",
       "         6.44838384e-01,   4.18656057e-01,  -7.83507165e+02,\n",
       "        -1.52344762e+02,  -1.52937165e+00,  -4.93944271e+02,\n",
       "         2.70317440e+00,   1.95364531e+01,   6.33057146e+00,\n",
       "         3.11086566e+02,   2.88121130e+00,  -5.13397279e+00,\n",
       "        -3.39342069e-01,   2.26721815e+02,   5.36837062e-01,\n",
       "         9.27602884e-01,   3.27317557e+02,  -3.80958393e-01,\n",
       "         1.88270943e+00,  -9.37318744e+01,  -9.46354264e-02,\n",
       "         2.23798234e+02,  -1.31074403e+00,  -1.24537375e+02,\n",
       "        -6.19859378e-01,  -4.09223807e-01,  -4.28029709e+01,\n",
       "        -6.65454235e-01,  -2.62020275e-01,  -2.42952722e+02,\n",
       "         2.26189506e+00,   3.84087343e+03,  -9.76432110e+00,\n",
       "        -2.62890859e+01,   4.00211478e+02,   6.11267594e+03,\n",
       "         3.54903618e+00,   4.05442616e+01,  -5.91579165e-01,\n",
       "         5.69159071e+02,   4.83468321e-01,   1.73249523e+00,\n",
       "         4.60968394e+02,   1.44513822e+00,   1.42824543e+00,\n",
       "         1.36851957e+03,   3.91647024e+00,   6.34640314e+03,\n",
       "         3.74187168e+01,   2.36646946e+03,  -1.61704402e-01,\n",
       "        -1.75639396e-01,   4.60523934e+02,  -6.17907164e-01,\n",
       "         3.89997291e-01,   5.08254736e+03,   1.66558394e+02,\n",
       "        -1.58115569e+00,  -1.94958816e-02,  -1.98123964e+00,\n",
       "         2.41338885e+00,  -4.66625696e-02,   1.20278329e-01,\n",
       "         1.23153166e-01,   7.63531890e-01,   1.01732675e-02,\n",
       "        -2.04545307e-02,  -9.51508803e-01,   1.06260416e-02,\n",
       "         2.60048404e-02,  -4.15048067e-01,   4.39337205e-02,\n",
       "        -8.23042756e-01,   7.17348451e-02,   5.74286543e-01,\n",
       "         2.31510893e-02,  -2.28792475e-02,  -7.68108301e-01,\n",
       "         2.40843822e-02,  -4.02201334e-02,   2.60136199e+00,\n",
       "        -3.30298589e+02,  -2.75847839e+01,   2.61048386e+02,\n",
       "         8.80969539e+03,  -1.07822946e+01,   4.74818337e+01,\n",
       "         1.96539517e+01,   7.46046824e+02,  -6.79326707e-01,\n",
       "        -2.54116952e+00,   1.41883318e+02,   2.23467522e+00,\n",
       "         7.22382396e+00,   1.27820141e+03,   8.44733445e+00,\n",
       "         8.05854359e+03,   5.41060845e+01,   3.47209086e+03,\n",
       "        -3.54736009e+00,  -5.37417008e+00,   1.32190471e+03,\n",
       "         7.36294387e+00,  -8.28275701e+00,   7.92176215e+03,\n",
       "         7.47246797e-02,   2.85013803e+00,  -1.46869309e+01,\n",
       "         1.07611707e-01,  -2.23516151e-01,  -2.29795638e-01,\n",
       "        -2.60571274e+00,  -3.50973943e-02,   1.52223729e-02,\n",
       "         1.33695256e+00,  -4.55993668e-02,  -6.16232470e-02,\n",
       "        -2.03956330e+00,  -6.62170419e-02,  -9.69278546e+00,\n",
       "        -1.31157712e-01,  -6.02346278e+00,  -6.15368869e-02,\n",
       "         2.74653386e-02,  -1.23640967e+00,  -5.14257799e-02,\n",
       "         1.32205893e-01,  -1.34181715e+01,  -2.66654009e+00,\n",
       "        -3.92471848e+01,   3.75981772e-02,  -2.03435889e-01,\n",
       "         3.79017081e-03,  -3.50176223e+00,   1.40303673e-03,\n",
       "        -6.76578204e-03,  -9.73192784e-01,  -1.46473007e-02,\n",
       "        -6.44785245e-03,  -9.68358732e+00,  -2.66295944e-02,\n",
       "        -4.04991015e+01,  -2.59545972e-01,  -1.58564310e+01,\n",
       "        -5.63670356e-03,  -1.07400796e-02,  -3.23775085e+00,\n",
       "        -4.17597739e-03,  -2.07318063e-03,  -3.47722273e+01,\n",
       "         1.06960580e+03,   7.49346655e-02,   4.47688582e+00,\n",
       "        -5.57517327e-01,   6.53161593e+01,  -2.30505103e-01,\n",
       "        -1.46073601e-02,   4.56374242e+01,  -5.18125167e-02,\n",
       "         1.03986158e-01,   1.44307991e+02,  -3.47192325e-01,\n",
       "         1.34568605e+03,   8.02430656e+00,   2.64755870e+02,\n",
       "        -7.13980427e-01,  -3.77090991e-01,   1.37575841e+02,\n",
       "         5.46240606e-01,   4.67622035e-01,   9.58652179e+02,\n",
       "         7.09461634e+00,   5.88353960e+01,  -1.92761275e+00,\n",
       "         1.23187549e+03,  -1.06300038e+00,   1.94990347e+00,\n",
       "         1.03893049e+03,   1.46597993e+00,   3.18958744e+00,\n",
       "         1.98613208e+03,   5.68405328e+00,   1.36697255e+04,\n",
       "         8.54199198e+01,   4.60714301e+03,  -6.34138295e-01,\n",
       "        -2.37179891e-01,   1.39114810e+03,  -1.07108646e+00,\n",
       "         1.21412159e+00,   1.13605612e+04,  -5.71743692e-02,\n",
       "        -4.04278954e-03,  -8.62021180e+00,   8.77937803e-03,\n",
       "         5.32485988e-02,   1.26797638e+01,  -1.22134924e-02,\n",
       "        -2.18711292e-02,   7.80349784e-01,  -1.27279464e-02,\n",
       "         2.68608463e+00,   2.79871838e-02,   1.70221500e+00,\n",
       "        -1.66351252e-02,   1.21622602e-02,  -7.36954931e-02,\n",
       "         1.74198901e-02,   2.42641948e-02,   3.03506574e+00,\n",
       "         9.27356731e-03,   4.11057406e+00,   9.93248987e-03,\n",
       "         2.06222066e-02,   1.07170459e+00,   3.48609320e-02,\n",
       "        -3.90212733e-03,   6.80780512e+00,   5.65855764e-02,\n",
       "         6.50780912e+01,   5.70159687e-01,   1.67812012e+01,\n",
       "        -1.39005376e-02,  -2.25156475e-02,   3.30316115e+00,\n",
       "         3.88437578e-03,   1.29630129e-02,   5.36531129e+01,\n",
       "        -9.98472072e-02,   2.24366802e-03,   1.07105781e-03,\n",
       "        -1.41224107e-01,   2.80070637e-03,  -1.96624713e-03,\n",
       "        -4.10834277e-01,  -1.65133146e-03,  -2.45248645e+00,\n",
       "        -1.94197633e-02,  -3.30479174e-01,   1.29977073e-03,\n",
       "        -7.49831342e-03,  -1.08198258e-01,  -3.48651931e-04,\n",
       "        -4.35035195e-03,  -1.68654154e+00,  -7.26741242e-02,\n",
       "        -2.05606885e-01,   3.42089946e+01,   2.91207851e-01,\n",
       "         1.36619371e+00,   1.33639575e+02,   8.77647457e-01,\n",
       "         1.26442444e+03,   4.72124736e+00,   3.78868137e+02,\n",
       "         2.21865930e-01,  -5.85601142e-02,   7.89964803e+01,\n",
       "        -3.46062255e-01,  -7.21273805e-01,   7.60996592e+02,\n",
       "         4.52566673e-03,   1.43939305e-01,   8.44303342e-01,\n",
       "         2.92764437e-02,   4.99848761e-01,  -1.61098386e-02,\n",
       "        -2.72383957e+00,  -2.15211932e-02,   1.15318665e-01,\n",
       "         2.90428814e-01,   2.25163899e-02,  -1.38353822e-01,\n",
       "         1.23016232e-01,  -1.99108216e-02,  -1.13425234e+00,\n",
       "         1.09902360e+00,   2.12753604e-02,  -7.21758644e-01,\n",
       "         9.31585819e-02,   8.38820756e-02,   1.64083719e+00,\n",
       "        -6.04534661e-03,   1.51830880e+00,   5.84520363e-02,\n",
       "        -3.30793373e-01,   1.38693510e-01,   4.61788454e-03,\n",
       "        -7.91829442e-02,   1.05648891e+00,  -2.10936284e-01,\n",
       "         6.74100621e-01,   1.13031102e+02,   6.07220779e-01,\n",
       "         9.21391819e+02,   3.77604020e+00,   2.86225224e+02,\n",
       "        -4.09933442e-01,  -1.42438958e-01,   4.45712451e+01,\n",
       "         1.46608248e-01,   3.78143138e-01,   5.58940248e+02,\n",
       "        -1.53824274e-02,   4.71019521e-01,   6.62778913e-03,\n",
       "         1.10898102e+00,   1.12358669e-02,   1.74614785e-01,\n",
       "         3.25152008e-01,  -1.97910009e-02,   2.91950119e-01,\n",
       "         1.28962737e-01,  -3.31658451e-02,   1.38570003e+00,\n",
       "         6.27830421e-01,   6.10201926e-02,   2.88015180e+00,\n",
       "         2.98890575e-03,   9.58058174e-01,   5.16457295e-02,\n",
       "        -5.51409489e-01,  -2.67564851e-02,   4.78059874e-02,\n",
       "        -1.45385061e-01,   1.14928614e+00,   2.76219958e-01,\n",
       "         2.03114439e+03,   9.60581526e+00,   9.69379616e+02,\n",
       "        -3.21173006e-01,   1.11616491e+00,   1.86249472e+02,\n",
       "        -5.08666547e-01,   3.82663539e-01,   1.73946071e+03,\n",
       "         5.54641490e+00,   4.34308900e-02,   1.73396124e+00,\n",
       "         6.28927103e-02,  -6.03452274e-01,  -1.26739745e-01,\n",
       "         1.90578098e-02,  -8.10481155e-02,   4.19919759e+00,\n",
       "         8.75643818e+01,   4.56457050e+03,   2.51624450e+00,\n",
       "         1.58774339e+00,   1.40974895e+03,  -4.46613659e-01,\n",
       "         2.18722829e+00,   1.14839073e+04,   1.65994416e+01,\n",
       "        -6.73372265e-03,   3.33590506e-03,   5.58121445e+00,\n",
       "         1.22724021e-02,   2.77626725e-02,   7.69226206e+01,\n",
       "        -3.44156295e-01,  -4.56156914e-01,   5.01641221e+02,\n",
       "        -9.93530625e-01,   4.35571836e-01,   3.94204873e+03,\n",
       "        -6.76488261e-02,   1.25427273e-01,  -2.30759300e-01,\n",
       "        -2.71046282e-02,  -4.46077036e-01,   2.79707460e-01,\n",
       "         2.59579487e-03,  -8.07853859e-02,  -3.61863126e-02,\n",
       "        -3.82935194e-01,  -1.51168916e-02,   1.26758009e+03,\n",
       "        -5.52884674e-02,  -8.71632990e-01,   1.55725304e+00,\n",
       "         2.96941776e+03,   7.89836733e+05,   4.38918758e+08,\n",
       "         2.87385332e+11,   2.09072944e+14,   1.59947796e+17,\n",
       "         1.25987404e+20,   1.01098918e+23,   1.23190726e+03,\n",
       "         3.40504789e+04,   7.12133134e+06,   7.08836762e+08,\n",
       "         1.35785140e+11,   1.75612671e+13,   3.89350402e+15,\n",
       "         5.11558092e+17,   1.70810806e+03,   2.66531723e+05,\n",
       "         9.25511391e+07,   3.74582826e+10,   1.71458703e+13,\n",
       "         8.35514247e+15,   4.23600069e+18,   2.20683513e+21,\n",
       "         3.94085169e+03,   5.49089290e+05,   1.63073972e+08,\n",
       "         5.27216066e+10,   1.99128715e+13,   8.21285306e+15,\n",
       "         3.60233438e+18,   1.64723500e+21,   9.00177109e-01,\n",
       "         1.37720993e+00,   7.38520647e+00,   2.22975654e+01,\n",
       "         1.02232463e+02,   3.93418089e+02,   1.83625821e+03,\n",
       "         7.75771240e+03,   4.91169269e+04,   5.49906222e+07,\n",
       "         9.05077303e+10,   1.73164627e+14,   3.69247045e+17,\n",
       "         8.42494528e+20,   2.00914305e+24,   4.93646493e+27,\n",
       "         3.91170344e+00,  -7.20154368e+00,   2.38357813e+02,\n",
       "        -5.38441251e+02,   2.52517906e+04,  -3.48802282e+04,\n",
       "         3.55560656e+06,   1.27578865e+06,   6.25855157e-01,\n",
       "        -8.24219159e-02,   1.10176519e+00,   1.33844719e-01,\n",
       "         3.36172704e+00,   2.78071324e+00,   1.50503647e+01,\n",
       "         2.45887578e+01,   4.95180776e+02,   3.18101304e+04,\n",
       "         4.49849974e+06,   7.18649372e+08,   1.29249316e+11,\n",
       "         2.48056398e+13,   4.97296777e+15,   1.02866035e+18,\n",
       "         1.36313694e+04,   3.87502981e+06,   2.31445677e+09,\n",
       "         1.57356086e+12,   1.26587063e+15,   1.12640211e+18,\n",
       "         1.07136778e+21,   1.06348224e+24,   7.04332442e-01,\n",
       "         1.37947982e+00,   7.03338265e+00,   3.82083974e+01,\n",
       "         2.41838938e+02,   1.64592633e+03,   1.17893898e+04,\n",
       "         8.74606882e+04,   1.40008645e+00,   3.28740808e-01,\n",
       "         2.50691200e+00,   1.35840268e+00,   5.27383234e+00,\n",
       "         5.45828561e+00,   1.67662028e+01,   3.53735683e+01,\n",
       "         4.83758149e-02,  -2.10482270e-03,   1.37714330e-02,\n",
       "         6.33858469e-03,   1.78772927e-02,   3.18315227e-02,\n",
       "         6.70086739e-02,   1.37249189e-01,   4.36669739e+02,\n",
       "         2.91518179e+04,   4.25457888e+06,   7.71000288e+08,\n",
       "         1.64720619e+11,   3.83954275e+13,   9.39474290e+15,\n",
       "         2.36155906e+18,   1.50582833e+00,  -3.04371622e-01,\n",
       "         7.86149269e+00,  -3.56165906e+01,   4.17823969e+02,\n",
       "        -4.47807034e+03,   5.03296788e+04,  -5.63781280e+05,\n",
       "         3.21967609e+00,   3.24312827e-01,   1.98100768e+01,\n",
       "         1.13947685e+01,   2.15322256e+02,   7.44555111e+02,\n",
       "         7.34329230e+03,   5.50305032e+04,   4.45781100e+02,\n",
       "         2.47015180e+04,   2.85593282e+06,   3.75606580e+08,\n",
       "         5.77448442e+10,   9.77886740e+12,   1.77301232e+15,\n",
       "         3.37193329e+17,   1.61449228e+00,  -2.36071368e-02,\n",
       "         5.51358910e+00,  -1.52542956e+00,   3.21531508e+01,\n",
       "        -6.64335763e+01,   5.17072616e+02,  -2.59717178e+03,\n",
       "         3.36440598e+00,  -6.67308153e-01,   2.20229204e+01,\n",
       "        -2.55441117e+01,   3.29757382e+02,  -1.91655210e+03,\n",
       "         1.92918228e+04,  -1.80411630e+05,   1.03291897e+03,\n",
       "         9.73968711e+04,   2.08140648e+07,   5.11648300e+09,\n",
       "         1.44145343e+12,   4.34481067e+14,   1.36490916e+17,\n",
       "         4.40398120e+19,   3.26661064e+00,  -1.53728670e-01,\n",
       "         2.03957004e+01,  -1.02496536e+01,   2.19978056e+02,\n",
       "        -7.30925688e+02,   7.30207976e+03,  -5.41425201e+04,\n",
       "         1.67165090e+04,   4.33162539e+06,   2.84553143e+09,\n",
       "         1.94927594e+12,   1.62766969e+15,   1.50734787e+18,\n",
       "         1.50309185e+21,   1.57041610e+24,   9.52984659e-01,\n",
       "         5.67418714e-01,   2.11216381e+00,   3.16821529e+00,\n",
       "         8.40928424e+00,   2.09862328e+01,   6.80055879e+01,\n",
       "         2.51491957e+02,   2.37599272e+03,   4.35747342e+05,\n",
       "         1.45556867e+08,   6.05119965e+10,   2.99410035e+13,\n",
       "         1.64772439e+16,   9.67649934e+18,   5.91185711e+21,\n",
       "         1.93946978e+00,  -9.96745266e-02,   1.39647120e+01,\n",
       "        -9.37384986e-01,   1.34690859e+02,  -6.69311112e+00,\n",
       "         1.54039279e+03,  -2.53921275e+00,   1.96830507e+00,\n",
       "         5.71273742e-02,   1.16696718e+01,   3.35956274e-01,\n",
       "         8.24917055e+01,   1.94823208e+00,   6.34329300e+02,\n",
       "         1.29541815e+01,   3.53645220e+02,   4.33950865e+04,\n",
       "         8.52144929e+06,   2.01408547e+09,   5.29058368e+11,\n",
       "         1.46925915e+14,   4.20855130e+16,   1.22763642e+19,\n",
       "         1.21150084e+00,   7.59460834e-02,   1.11210302e+01,\n",
       "        -4.62239393e+00,   1.73276787e+02,  -4.52145488e+02,\n",
       "         5.50506203e+03,  -3.26114303e+04,   9.73946231e-01,\n",
       "         3.04895779e-01,   6.53336197e+00,   9.59351557e+00,\n",
       "         9.82892406e+01,   4.98877487e+02,   4.14864857e+03,\n",
       "         3.14587919e+04,   1.00406225e+04,   2.64157581e+06,\n",
       "         1.50002480e+09,   1.01307721e+12,   8.08412103e+14,\n",
       "         7.07692033e+17,   6.54704510e+20,   6.26013111e+23,\n",
       "         1.00000000e+00])"
      ]
     },
     "execution_count": 13,
     "metadata": {},
     "output_type": "execute_result"
    }
   ],
   "source": [
    "np.mean(tx_train,axis=0)"
   ]
  },
  {
   "cell_type": "code",
   "execution_count": 14,
   "metadata": {},
   "outputs": [
    {
     "data": {
      "text/plain": [
       "(5000, 706)"
      ]
     },
     "execution_count": 14,
     "metadata": {},
     "output_type": "execute_result"
    }
   ],
   "source": [
    "tx_train.shape"
   ]
  },
  {
   "cell_type": "code",
   "execution_count": 15,
   "metadata": {
    "scrolled": false
   },
   "outputs": [
    {
     "data": {
      "text/plain": [
       "(706,)"
      ]
     },
     "execution_count": 15,
     "metadata": {},
     "output_type": "execute_result"
    }
   ],
   "source": [
    "initial_w = np.zeros(tx_train.shape[1])\n",
    "initial_w.shape"
   ]
  },
  {
   "cell_type": "code",
   "execution_count": 16,
   "metadata": {
    "collapsed": true
   },
   "outputs": [],
   "source": [
    "gamma = 0.05\n",
    "max_iters = 1000\n",
    "lambda_ = 0.5"
   ]
  },
  {
   "cell_type": "markdown",
   "metadata": {},
   "source": [
    "# Methods"
   ]
  },
  {
   "cell_type": "markdown",
   "metadata": {},
   "source": [
    "### Functions for methods: "
   ]
  },
  {
   "cell_type": "code",
   "execution_count": 17,
   "metadata": {
    "collapsed": true
   },
   "outputs": [],
   "source": [
    "OUT_FOLDER = 'output/'\n",
    "\n",
    "def func_least_squares (y, tx, test_set, fct='mse'):\n",
    "    name = 'least_squares'\n",
    "    w,loss = least_squares(y,tx,fct)\n",
    "    y_pred = predict_labels(w, test_set)\n",
    "    create_csv_submission(ids_test, y_pred, OUT_FOLDER+name)\n",
    "    \n",
    "    plt.plot(w, 'go')\n",
    "    plt.title('least squares weights for loss:  '+str(loss),fontsize=15, fontweight='bold');\n",
    "    plt.show()\n",
    "    \n",
    "    return w, loss\n",
    "\n",
    "def func_GD (y, tx, test_set, max_iters, gamma, initial_w):\n",
    "    name = 'Gradient_descent'\n",
    "    w,loss = least_squares_GD(y, tx, initial_w, max_iters, gamma,fct='mse');\n",
    "    y_pred = predict_labels(w, test_set)\n",
    "    create_csv_submission(ids_test, y_pred, OUT_FOLDER+name)\n",
    "    \n",
    "    plt.plot(w, 'go')\n",
    "    plt.title('GD: weights with loss:  '+str(loss),fontsize=15, fontweight='bold');\n",
    "    plt.show()\n",
    "    \n",
    "    return w, loss\n",
    "\n",
    "########################  RIDGE REGRESSION #######################################################\n",
    "def func_ridge_regression (y, tx, test_set, lambda_):\n",
    "    name = 'Ridge_regression'\n",
    "    \n",
    "    w,loss = ridge_regression(y, tx, lambda_=lambda_, fct='mse');\n",
    "    \n",
    "    y_pred = predict_labels(w, test_set)\n",
    "    create_csv_submission(ids_test, y_pred, OUT_FOLDER+name)\n",
    "    \n",
    "    plt.plot(w, 'go')\n",
    "    plt.title('Ridge regression: weights ;loss:  '+str(loss),fontsize=15, fontweight='bold');\n",
    "    plt.show()\n",
    "    \n",
    "    return w, loss"
   ]
  },
  {
   "cell_type": "markdown",
   "metadata": {},
   "source": [
    "## LEAST-SQUARES"
   ]
  },
  {
   "cell_type": "code",
   "execution_count": 18,
   "metadata": {
    "scrolled": true
   },
   "outputs": [
    {
     "data": {
      "image/png": "[encoded data removed]",
      "text/plain": [
       "<matplotlib.figure.Figure at 0x109698160>"
      ]
     },
     "metadata": {},
     "output_type": "display_data"
    }
   ],
   "source": [
    "w, loss = func_least_squares (y=y_train, tx=tx_train, test_set=tx_test, fct='mse');\n"
   ]
  },
  {
   "cell_type": "code",
   "execution_count": 19,
   "metadata": {},
   "outputs": [
    {
     "data": {
      "text/plain": [
       "86.460000000000008"
      ]
     },
     "execution_count": 19,
     "metadata": {},
     "output_type": "execute_result"
    }
   ],
   "source": [
    "y_pred_train = predict_labels(w, tx_train)\n",
    "right_train = np.sum(y_pred_train == y_train)/len(y_train)*100\n",
    "right_train"
   ]
  },
  {
   "cell_type": "markdown",
   "metadata": {},
   "source": [
    "## Gradient descent "
   ]
  },
  {
   "cell_type": "code",
   "execution_count": 20,
   "metadata": {},
   "outputs": [
    {
     "name": "stdout",
     "output_type": "stream",
     "text": [
      "Gradient Descent(0/499): loss=0.5000000000000004, w0=0.07865693408977247, w1=-1.174452544260258\n",
      "Gradient Descent(1/499): loss=3.2185262255688604e+111, w0=-2.1883188450052752e+54, w1=8.402427347023627e+54\n",
      "Gradient Descent(2/499): loss=2.586811580888404e+226, w0=6.203895641523393e+111, w1=-2.3820925603231666e+112\n",
      "Gradient Descent(3/499): loss=inf, w0=-1.7588076903872944e+169, w1=6.753244987341451e+169\n",
      "Gradient Descent(4/499): loss=inf, w0=4.986229089768977e+226, w1=-1.9145485200149164e+227\n",
      "Gradient Descent(5/499): loss=inf, w0=-1.4135985799666138e+284, w1=5.427755164164871e+284\n",
      "Gradient Descent(6/499): loss=nan, w0=nan, w1=nan\n",
      "Gradient Descent(7/499): loss=nan, w0=nan, w1=nan\n",
      "Gradient Descent(8/499): loss=nan, w0=nan, w1=nan\n",
      "Gradient Descent(9/499): loss=nan, w0=nan, w1=nan\n",
      "Gradient Descent(10/499): loss=nan, w0=nan, w1=nan\n",
      "Gradient Descent(11/499): loss=nan, w0=nan, w1=nan\n",
      "Gradient Descent(12/499): loss=nan, w0=nan, w1=nan\n",
      "Gradient Descent(13/499): loss=nan, w0=nan, w1=nan\n",
      "Gradient Descent(14/499): loss=nan, w0=nan, w1=nan\n",
      "Gradient Descent(15/499): loss=nan, w0=nan, w1=nan\n",
      "Gradient Descent(16/499): loss=nan, w0=nan, w1=nan\n",
      "Gradient Descent(17/499): loss=nan, w0=nan, w1=nan\n",
      "Gradient Descent(18/499): loss=nan, w0=nan, w1=nan\n",
      "Gradient Descent(19/499): loss=nan, w0=nan, w1=nan\n",
      "Gradient Descent(20/499): loss=nan, w0=nan, w1=nan\n",
      "Gradient Descent(21/499): loss=nan, w0=nan, w1=nan\n",
      "Gradient Descent(22/499): loss=nan, w0=nan, w1=nan\n",
      "Gradient Descent(23/499): loss=nan, w0=nan, w1=nan\n",
      "Gradient Descent(24/499): loss=nan, w0=nan, w1=nan\n",
      "Gradient Descent(25/499): loss=nan, w0=nan, w1=nan\n",
      "Gradient Descent(26/499): loss=nan, w0=nan, w1=nan\n",
      "Gradient Descent(27/499): loss=nan, w0=nan, w1=nan\n",
      "Gradient Descent(28/499): loss=nan, w0=nan, w1=nan\n",
      "Gradient Descent(29/499): loss=nan, w0=nan, w1=nan\n",
      "Gradient Descent(30/499): loss=nan, w0=nan, w1=nan\n",
      "Gradient Descent(31/499): loss=nan, w0=nan, w1=nan\n",
      "Gradient Descent(32/499): loss=nan, w0=nan, w1=nan\n",
      "Gradient Descent(33/499): loss=nan, w0=nan, w1=nan\n",
      "Gradient Descent(34/499): loss=nan, w0=nan, w1=nan\n",
      "Gradient Descent(35/499): loss=nan, w0=nan, w1=nan\n",
      "Gradient Descent(36/499): loss=nan, w0=nan, w1=nan\n",
      "Gradient Descent(37/499): loss=nan, w0=nan, w1=nan\n",
      "Gradient Descent(38/499): loss=nan, w0=nan, w1=nan\n",
      "Gradient Descent(39/499): loss=nan, w0=nan, w1=nan\n",
      "Gradient Descent(40/499): loss=nan, w0=nan, w1=nan\n",
      "Gradient Descent(41/499): loss=nan, w0=nan, w1=nan\n",
      "Gradient Descent(42/499): loss=nan, w0=nan, w1=nan\n",
      "Gradient Descent(43/499): loss=nan, w0=nan, w1=nan\n",
      "Gradient Descent(44/499): loss=nan, w0=nan, w1=nan\n",
      "Gradient Descent(45/499): loss=nan, w0=nan, w1=nan\n",
      "Gradient Descent(46/499): loss=nan, w0=nan, w1=nan\n",
      "Gradient Descent(47/499): loss=nan, w0=nan, w1=nan\n",
      "Gradient Descent(48/499): loss=nan, w0=nan, w1=nan\n",
      "Gradient Descent(49/499): loss=nan, w0=nan, w1=nan\n",
      "Gradient Descent(50/499): loss=nan, w0=nan, w1=nan\n",
      "Gradient Descent(51/499): loss=nan, w0=nan, w1=nan\n",
      "Gradient Descent(52/499): loss=nan, w0=nan, w1=nan\n",
      "Gradient Descent(53/499): loss=nan, w0=nan, w1=nan\n",
      "Gradient Descent(54/499): loss=nan, w0=nan, w1=nan\n",
      "Gradient Descent(55/499): loss=nan, w0=nan, w1=nan\n",
      "Gradient Descent(56/499): loss=nan, w0=nan, w1=nan\n",
      "Gradient Descent(57/499): loss=nan, w0=nan, w1=nan\n",
      "Gradient Descent(58/499): loss=nan, w0=nan, w1=nan\n",
      "Gradient Descent(59/499): loss=nan, w0=nan, w1=nan\n",
      "Gradient Descent(60/499): loss=nan, w0=nan, w1=nan\n",
      "Gradient Descent(61/499): loss=nan, w0=nan, w1=nan\n",
      "Gradient Descent(62/499): loss=nan, w0=nan, w1=nan\n",
      "Gradient Descent(63/499): loss=nan, w0=nan, w1=nan\n",
      "Gradient Descent(64/499): loss=nan, w0=nan, w1=nan\n",
      "Gradient Descent(65/499): loss=nan, w0=nan, w1=nan\n",
      "Gradient Descent(66/499): loss=nan, w0=nan, w1=nan\n",
      "Gradient Descent(67/499): loss=nan, w0=nan, w1=nan\n",
      "Gradient Descent(68/499): loss=nan, w0=nan, w1=nan\n",
      "Gradient Descent(69/499): loss=nan, w0=nan, w1=nan\n",
      "Gradient Descent(70/499): loss=nan, w0=nan, w1=nan\n",
      "Gradient Descent(71/499): loss=nan, w0=nan, w1=nan\n",
      "Gradient Descent(72/499): loss=nan, w0=nan, w1=nan\n",
      "Gradient Descent(73/499): loss=nan, w0=nan, w1=nan\n",
      "Gradient Descent(74/499): loss=nan, w0=nan, w1=nan\n",
      "Gradient Descent(75/499): loss=nan, w0=nan, w1=nan\n",
      "Gradient Descent(76/499): loss=nan, w0=nan, w1=nan\n",
      "Gradient Descent(77/499): loss=nan, w0=nan, w1=nan\n",
      "Gradient Descent(78/499): loss=nan, w0=nan, w1=nan\n",
      "Gradient Descent(79/499): loss=nan, w0=nan, w1=nan\n",
      "Gradient Descent(80/499): loss=nan, w0=nan, w1=nan\n",
      "Gradient Descent(81/499): loss=nan, w0=nan, w1=nan\n",
      "Gradient Descent(82/499): loss=nan, w0=nan, w1=nan\n",
      "Gradient Descent(83/499): loss=nan, w0=nan, w1=nan\n",
      "Gradient Descent(84/499): loss=nan, w0=nan, w1=nan\n",
      "Gradient Descent(85/499): loss=nan, w0=nan, w1=nan\n",
      "Gradient Descent(86/499): loss=nan, w0=nan, w1=nan\n",
      "Gradient Descent(87/499): loss=nan, w0=nan, w1=nan\n",
      "Gradient Descent(88/499): loss=nan, w0=nan, w1=nan\n",
      "Gradient Descent(89/499): loss=nan, w0=nan, w1=nan\n",
      "Gradient Descent(90/499): loss=nan, w0=nan, w1=nan\n",
      "Gradient Descent(91/499): loss=nan, w0=nan, w1=nan\n",
      "Gradient Descent(92/499): loss=nan, w0=nan, w1=nan\n",
      "Gradient Descent(93/499): loss=nan, w0=nan, w1=nan\n",
      "Gradient Descent(94/499): loss=nan, w0=nan, w1=nan\n",
      "Gradient Descent(95/499): loss=nan, w0=nan, w1=nan\n",
      "Gradient Descent(96/499): loss=nan, w0=nan, w1=nan\n",
      "Gradient Descent(97/499): loss=nan, w0=nan, w1=nan\n",
      "Gradient Descent(98/499): loss=nan, w0=nan, w1=nan\n",
      "Gradient Descent(99/499): loss=nan, w0=nan, w1=nan\n",
      "Gradient Descent(100/499): loss=nan, w0=nan, w1=nan\n",
      "Gradient Descent(101/499): loss=nan, w0=nan, w1=nan\n",
      "Gradient Descent(102/499): loss=nan, w0=nan, w1=nan\n",
      "Gradient Descent(103/499): loss=nan, w0=nan, w1=nan\n",
      "Gradient Descent(104/499): loss=nan, w0=nan, w1=nan\n",
      "Gradient Descent(105/499): loss=nan, w0=nan, w1=nan\n",
      "Gradient Descent(106/499): loss=nan, w0=nan, w1=nan\n",
      "Gradient Descent(107/499): loss=nan, w0=nan, w1=nan\n",
      "Gradient Descent(108/499): loss=nan, w0=nan, w1=nan\n",
      "Gradient Descent(109/499): loss=nan, w0=nan, w1=nan\n",
      "Gradient Descent(110/499): loss=nan, w0=nan, w1=nan\n",
      "Gradient Descent(111/499): loss=nan, w0=nan, w1=nan\n",
      "Gradient Descent(112/499): loss=nan, w0=nan, w1=nan\n",
      "Gradient Descent(113/499): loss=nan, w0=nan, w1=nan\n",
      "Gradient Descent(114/499): loss=nan, w0=nan, w1=nan\n",
      "Gradient Descent(115/499): loss=nan, w0=nan, w1=nan\n",
      "Gradient Descent(116/499): loss=nan, w0=nan, w1=nan\n",
      "Gradient Descent(117/499): loss=nan, w0=nan, w1=nan\n",
      "Gradient Descent(118/499): loss=nan, w0=nan, w1=nan\n",
      "Gradient Descent(119/499): loss=nan, w0=nan, w1=nan\n",
      "Gradient Descent(120/499): loss=nan, w0=nan, w1=nan\n",
      "Gradient Descent(121/499): loss=nan, w0=nan, w1=nan\n",
      "Gradient Descent(122/499): loss=nan, w0=nan, w1=nan\n",
      "Gradient Descent(123/499): loss=nan, w0=nan, w1=nan\n",
      "Gradient Descent(124/499): loss=nan, w0=nan, w1=nan\n",
      "Gradient Descent(125/499): loss=nan, w0=nan, w1=nan\n",
      "Gradient Descent(126/499): loss=nan, w0=nan, w1=nan\n",
      "Gradient Descent(127/499): loss=nan, w0=nan, w1=nan\n",
      "Gradient Descent(128/499): loss=nan, w0=nan, w1=nan\n",
      "Gradient Descent(129/499): loss=nan, w0=nan, w1=nan\n",
      "Gradient Descent(130/499): loss=nan, w0=nan, w1=nan\n",
      "Gradient Descent(131/499): loss=nan, w0=nan, w1=nan\n",
      "Gradient Descent(132/499): loss=nan, w0=nan, w1=nan\n",
      "Gradient Descent(133/499): loss=nan, w0=nan, w1=nan\n",
      "Gradient Descent(134/499): loss=nan, w0=nan, w1=nan\n",
      "Gradient Descent(135/499): loss=nan, w0=nan, w1=nan\n",
      "Gradient Descent(136/499): loss=nan, w0=nan, w1=nan\n",
      "Gradient Descent(137/499): loss=nan, w0=nan, w1=nan\n",
      "Gradient Descent(138/499): loss=nan, w0=nan, w1=nan\n",
      "Gradient Descent(139/499): loss=nan, w0=nan, w1=nan\n",
      "Gradient Descent(140/499): loss=nan, w0=nan, w1=nan\n",
      "Gradient Descent(141/499): loss=nan, w0=nan, w1=nan\n",
      "Gradient Descent(142/499): loss=nan, w0=nan, w1=nan\n",
      "Gradient Descent(143/499): loss=nan, w0=nan, w1=nan\n",
      "Gradient Descent(144/499): loss=nan, w0=nan, w1=nan\n",
      "Gradient Descent(145/499): loss=nan, w0=nan, w1=nan\n",
      "Gradient Descent(146/499): loss=nan, w0=nan, w1=nan\n",
      "Gradient Descent(147/499): loss=nan, w0=nan, w1=nan\n",
      "Gradient Descent(148/499): loss=nan, w0=nan, w1=nan\n",
      "Gradient Descent(149/499): loss=nan, w0=nan, w1=nan\n",
      "Gradient Descent(150/499): loss=nan, w0=nan, w1=nan\n",
      "Gradient Descent(151/499): loss=nan, w0=nan, w1=nan\n",
      "Gradient Descent(152/499): loss=nan, w0=nan, w1=nan\n",
      "Gradient Descent(153/499): loss=nan, w0=nan, w1=nan\n",
      "Gradient Descent(154/499): loss=nan, w0=nan, w1=nan\n",
      "Gradient Descent(155/499): loss=nan, w0=nan, w1=nan\n",
      "Gradient Descent(156/499): loss=nan, w0=nan, w1=nan\n",
      "Gradient Descent(157/499): loss=nan, w0=nan, w1=nan\n",
      "Gradient Descent(158/499): loss=nan, w0=nan, w1=nan\n",
      "Gradient Descent(159/499): loss=nan, w0=nan, w1=nan\n",
      "Gradient Descent(160/499): loss=nan, w0=nan, w1=nan\n",
      "Gradient Descent(161/499): loss=nan, w0=nan, w1=nan\n",
      "Gradient Descent(162/499): loss=nan, w0=nan, w1=nan\n"
     ]
    },
    {
     "name": "stdout",
     "output_type": "stream",
     "text": [
      "Gradient Descent(163/499): loss=nan, w0=nan, w1=nan\n",
      "Gradient Descent(164/499): loss=nan, w0=nan, w1=nan\n",
      "Gradient Descent(165/499): loss=nan, w0=nan, w1=nan\n",
      "Gradient Descent(166/499): loss=nan, w0=nan, w1=nan\n",
      "Gradient Descent(167/499): loss=nan, w0=nan, w1=nan\n",
      "Gradient Descent(168/499): loss=nan, w0=nan, w1=nan\n",
      "Gradient Descent(169/499): loss=nan, w0=nan, w1=nan\n",
      "Gradient Descent(170/499): loss=nan, w0=nan, w1=nan\n",
      "Gradient Descent(171/499): loss=nan, w0=nan, w1=nan\n",
      "Gradient Descent(172/499): loss=nan, w0=nan, w1=nan\n",
      "Gradient Descent(173/499): loss=nan, w0=nan, w1=nan\n",
      "Gradient Descent(174/499): loss=nan, w0=nan, w1=nan\n",
      "Gradient Descent(175/499): loss=nan, w0=nan, w1=nan\n",
      "Gradient Descent(176/499): loss=nan, w0=nan, w1=nan\n",
      "Gradient Descent(177/499): loss=nan, w0=nan, w1=nan\n",
      "Gradient Descent(178/499): loss=nan, w0=nan, w1=nan\n",
      "Gradient Descent(179/499): loss=nan, w0=nan, w1=nan\n",
      "Gradient Descent(180/499): loss=nan, w0=nan, w1=nan\n",
      "Gradient Descent(181/499): loss=nan, w0=nan, w1=nan\n",
      "Gradient Descent(182/499): loss=nan, w0=nan, w1=nan\n",
      "Gradient Descent(183/499): loss=nan, w0=nan, w1=nan\n",
      "Gradient Descent(184/499): loss=nan, w0=nan, w1=nan\n",
      "Gradient Descent(185/499): loss=nan, w0=nan, w1=nan\n",
      "Gradient Descent(186/499): loss=nan, w0=nan, w1=nan\n",
      "Gradient Descent(187/499): loss=nan, w0=nan, w1=nan\n",
      "Gradient Descent(188/499): loss=nan, w0=nan, w1=nan\n",
      "Gradient Descent(189/499): loss=nan, w0=nan, w1=nan\n",
      "Gradient Descent(190/499): loss=nan, w0=nan, w1=nan\n",
      "Gradient Descent(191/499): loss=nan, w0=nan, w1=nan\n",
      "Gradient Descent(192/499): loss=nan, w0=nan, w1=nan\n",
      "Gradient Descent(193/499): loss=nan, w0=nan, w1=nan\n",
      "Gradient Descent(194/499): loss=nan, w0=nan, w1=nan\n",
      "Gradient Descent(195/499): loss=nan, w0=nan, w1=nan\n",
      "Gradient Descent(196/499): loss=nan, w0=nan, w1=nan\n",
      "Gradient Descent(197/499): loss=nan, w0=nan, w1=nan\n",
      "Gradient Descent(198/499): loss=nan, w0=nan, w1=nan\n",
      "Gradient Descent(199/499): loss=nan, w0=nan, w1=nan\n",
      "Gradient Descent(200/499): loss=nan, w0=nan, w1=nan\n",
      "Gradient Descent(201/499): loss=nan, w0=nan, w1=nan\n",
      "Gradient Descent(202/499): loss=nan, w0=nan, w1=nan\n",
      "Gradient Descent(203/499): loss=nan, w0=nan, w1=nan\n",
      "Gradient Descent(204/499): loss=nan, w0=nan, w1=nan\n",
      "Gradient Descent(205/499): loss=nan, w0=nan, w1=nan\n",
      "Gradient Descent(206/499): loss=nan, w0=nan, w1=nan\n",
      "Gradient Descent(207/499): loss=nan, w0=nan, w1=nan\n",
      "Gradient Descent(208/499): loss=nan, w0=nan, w1=nan\n",
      "Gradient Descent(209/499): loss=nan, w0=nan, w1=nan\n",
      "Gradient Descent(210/499): loss=nan, w0=nan, w1=nan\n",
      "Gradient Descent(211/499): loss=nan, w0=nan, w1=nan\n",
      "Gradient Descent(212/499): loss=nan, w0=nan, w1=nan\n",
      "Gradient Descent(213/499): loss=nan, w0=nan, w1=nan\n",
      "Gradient Descent(214/499): loss=nan, w0=nan, w1=nan\n",
      "Gradient Descent(215/499): loss=nan, w0=nan, w1=nan\n",
      "Gradient Descent(216/499): loss=nan, w0=nan, w1=nan\n",
      "Gradient Descent(217/499): loss=nan, w0=nan, w1=nan\n",
      "Gradient Descent(218/499): loss=nan, w0=nan, w1=nan\n",
      "Gradient Descent(219/499): loss=nan, w0=nan, w1=nan\n",
      "Gradient Descent(220/499): loss=nan, w0=nan, w1=nan\n",
      "Gradient Descent(221/499): loss=nan, w0=nan, w1=nan\n",
      "Gradient Descent(222/499): loss=nan, w0=nan, w1=nan\n",
      "Gradient Descent(223/499): loss=nan, w0=nan, w1=nan\n",
      "Gradient Descent(224/499): loss=nan, w0=nan, w1=nan\n",
      "Gradient Descent(225/499): loss=nan, w0=nan, w1=nan\n",
      "Gradient Descent(226/499): loss=nan, w0=nan, w1=nan\n",
      "Gradient Descent(227/499): loss=nan, w0=nan, w1=nan\n",
      "Gradient Descent(228/499): loss=nan, w0=nan, w1=nan\n",
      "Gradient Descent(229/499): loss=nan, w0=nan, w1=nan\n",
      "Gradient Descent(230/499): loss=nan, w0=nan, w1=nan\n",
      "Gradient Descent(231/499): loss=nan, w0=nan, w1=nan\n",
      "Gradient Descent(232/499): loss=nan, w0=nan, w1=nan\n",
      "Gradient Descent(233/499): loss=nan, w0=nan, w1=nan\n",
      "Gradient Descent(234/499): loss=nan, w0=nan, w1=nan\n",
      "Gradient Descent(235/499): loss=nan, w0=nan, w1=nan\n",
      "Gradient Descent(236/499): loss=nan, w0=nan, w1=nan\n",
      "Gradient Descent(237/499): loss=nan, w0=nan, w1=nan\n",
      "Gradient Descent(238/499): loss=nan, w0=nan, w1=nan\n",
      "Gradient Descent(239/499): loss=nan, w0=nan, w1=nan\n",
      "Gradient Descent(240/499): loss=nan, w0=nan, w1=nan\n",
      "Gradient Descent(241/499): loss=nan, w0=nan, w1=nan\n",
      "Gradient Descent(242/499): loss=nan, w0=nan, w1=nan\n",
      "Gradient Descent(243/499): loss=nan, w0=nan, w1=nan\n",
      "Gradient Descent(244/499): loss=nan, w0=nan, w1=nan\n",
      "Gradient Descent(245/499): loss=nan, w0=nan, w1=nan\n",
      "Gradient Descent(246/499): loss=nan, w0=nan, w1=nan\n",
      "Gradient Descent(247/499): loss=nan, w0=nan, w1=nan\n",
      "Gradient Descent(248/499): loss=nan, w0=nan, w1=nan\n",
      "Gradient Descent(249/499): loss=nan, w0=nan, w1=nan\n",
      "Gradient Descent(250/499): loss=nan, w0=nan, w1=nan\n",
      "Gradient Descent(251/499): loss=nan, w0=nan, w1=nan\n",
      "Gradient Descent(252/499): loss=nan, w0=nan, w1=nan\n",
      "Gradient Descent(253/499): loss=nan, w0=nan, w1=nan\n",
      "Gradient Descent(254/499): loss=nan, w0=nan, w1=nan\n",
      "Gradient Descent(255/499): loss=nan, w0=nan, w1=nan\n",
      "Gradient Descent(256/499): loss=nan, w0=nan, w1=nan\n",
      "Gradient Descent(257/499): loss=nan, w0=nan, w1=nan\n",
      "Gradient Descent(258/499): loss=nan, w0=nan, w1=nan\n",
      "Gradient Descent(259/499): loss=nan, w0=nan, w1=nan\n",
      "Gradient Descent(260/499): loss=nan, w0=nan, w1=nan\n",
      "Gradient Descent(261/499): loss=nan, w0=nan, w1=nan\n",
      "Gradient Descent(262/499): loss=nan, w0=nan, w1=nan\n",
      "Gradient Descent(263/499): loss=nan, w0=nan, w1=nan\n",
      "Gradient Descent(264/499): loss=nan, w0=nan, w1=nan\n",
      "Gradient Descent(265/499): loss=nan, w0=nan, w1=nan\n",
      "Gradient Descent(266/499): loss=nan, w0=nan, w1=nan\n",
      "Gradient Descent(267/499): loss=nan, w0=nan, w1=nan\n",
      "Gradient Descent(268/499): loss=nan, w0=nan, w1=nan\n",
      "Gradient Descent(269/499): loss=nan, w0=nan, w1=nan\n",
      "Gradient Descent(270/499): loss=nan, w0=nan, w1=nan\n",
      "Gradient Descent(271/499): loss=nan, w0=nan, w1=nan\n",
      "Gradient Descent(272/499): loss=nan, w0=nan, w1=nan\n",
      "Gradient Descent(273/499): loss=nan, w0=nan, w1=nan\n",
      "Gradient Descent(274/499): loss=nan, w0=nan, w1=nan\n",
      "Gradient Descent(275/499): loss=nan, w0=nan, w1=nan\n",
      "Gradient Descent(276/499): loss=nan, w0=nan, w1=nan\n",
      "Gradient Descent(277/499): loss=nan, w0=nan, w1=nan\n",
      "Gradient Descent(278/499): loss=nan, w0=nan, w1=nan\n",
      "Gradient Descent(279/499): loss=nan, w0=nan, w1=nan\n",
      "Gradient Descent(280/499): loss=nan, w0=nan, w1=nan\n",
      "Gradient Descent(281/499): loss=nan, w0=nan, w1=nan\n",
      "Gradient Descent(282/499): loss=nan, w0=nan, w1=nan\n",
      "Gradient Descent(283/499): loss=nan, w0=nan, w1=nan\n",
      "Gradient Descent(284/499): loss=nan, w0=nan, w1=nan\n",
      "Gradient Descent(285/499): loss=nan, w0=nan, w1=nan\n",
      "Gradient Descent(286/499): loss=nan, w0=nan, w1=nan\n",
      "Gradient Descent(287/499): loss=nan, w0=nan, w1=nan\n",
      "Gradient Descent(288/499): loss=nan, w0=nan, w1=nan\n",
      "Gradient Descent(289/499): loss=nan, w0=nan, w1=nan\n",
      "Gradient Descent(290/499): loss=nan, w0=nan, w1=nan\n",
      "Gradient Descent(291/499): loss=nan, w0=nan, w1=nan\n",
      "Gradient Descent(292/499): loss=nan, w0=nan, w1=nan\n",
      "Gradient Descent(293/499): loss=nan, w0=nan, w1=nan\n",
      "Gradient Descent(294/499): loss=nan, w0=nan, w1=nan\n",
      "Gradient Descent(295/499): loss=nan, w0=nan, w1=nan\n",
      "Gradient Descent(296/499): loss=nan, w0=nan, w1=nan\n",
      "Gradient Descent(297/499): loss=nan, w0=nan, w1=nan\n",
      "Gradient Descent(298/499): loss=nan, w0=nan, w1=nan\n",
      "Gradient Descent(299/499): loss=nan, w0=nan, w1=nan\n",
      "Gradient Descent(300/499): loss=nan, w0=nan, w1=nan\n",
      "Gradient Descent(301/499): loss=nan, w0=nan, w1=nan\n",
      "Gradient Descent(302/499): loss=nan, w0=nan, w1=nan\n",
      "Gradient Descent(303/499): loss=nan, w0=nan, w1=nan\n",
      "Gradient Descent(304/499): loss=nan, w0=nan, w1=nan\n",
      "Gradient Descent(305/499): loss=nan, w0=nan, w1=nan\n",
      "Gradient Descent(306/499): loss=nan, w0=nan, w1=nan\n",
      "Gradient Descent(307/499): loss=nan, w0=nan, w1=nan\n",
      "Gradient Descent(308/499): loss=nan, w0=nan, w1=nan\n",
      "Gradient Descent(309/499): loss=nan, w0=nan, w1=nan\n",
      "Gradient Descent(310/499): loss=nan, w0=nan, w1=nan\n",
      "Gradient Descent(311/499): loss=nan, w0=nan, w1=nan\n",
      "Gradient Descent(312/499): loss=nan, w0=nan, w1=nan\n",
      "Gradient Descent(313/499): loss=nan, w0=nan, w1=nan\n",
      "Gradient Descent(314/499): loss=nan, w0=nan, w1=nan\n",
      "Gradient Descent(315/499): loss=nan, w0=nan, w1=nan\n",
      "Gradient Descent(316/499): loss=nan, w0=nan, w1=nan\n",
      "Gradient Descent(317/499): loss=nan, w0=nan, w1=nan\n",
      "Gradient Descent(318/499): loss=nan, w0=nan, w1=nan\n",
      "Gradient Descent(319/499): loss=nan, w0=nan, w1=nan\n",
      "Gradient Descent(320/499): loss=nan, w0=nan, w1=nan\n",
      "Gradient Descent(321/499): loss=nan, w0=nan, w1=nan\n",
      "Gradient Descent(322/499): loss=nan, w0=nan, w1=nan\n",
      "Gradient Descent(323/499): loss=nan, w0=nan, w1=nan\n",
      "Gradient Descent(324/499): loss=nan, w0=nan, w1=nan\n",
      "Gradient Descent(325/499): loss=nan, w0=nan, w1=nan\n",
      "Gradient Descent(326/499): loss=nan, w0=nan, w1=nan\n",
      "Gradient Descent(327/499): loss=nan, w0=nan, w1=nan\n"
     ]
    },
    {
     "name": "stdout",
     "output_type": "stream",
     "text": [
      "Gradient Descent(328/499): loss=nan, w0=nan, w1=nan\n",
      "Gradient Descent(329/499): loss=nan, w0=nan, w1=nan\n",
      "Gradient Descent(330/499): loss=nan, w0=nan, w1=nan\n",
      "Gradient Descent(331/499): loss=nan, w0=nan, w1=nan\n",
      "Gradient Descent(332/499): loss=nan, w0=nan, w1=nan\n",
      "Gradient Descent(333/499): loss=nan, w0=nan, w1=nan\n",
      "Gradient Descent(334/499): loss=nan, w0=nan, w1=nan\n",
      "Gradient Descent(335/499): loss=nan, w0=nan, w1=nan\n",
      "Gradient Descent(336/499): loss=nan, w0=nan, w1=nan\n",
      "Gradient Descent(337/499): loss=nan, w0=nan, w1=nan\n",
      "Gradient Descent(338/499): loss=nan, w0=nan, w1=nan\n",
      "Gradient Descent(339/499): loss=nan, w0=nan, w1=nan\n",
      "Gradient Descent(340/499): loss=nan, w0=nan, w1=nan\n",
      "Gradient Descent(341/499): loss=nan, w0=nan, w1=nan\n",
      "Gradient Descent(342/499): loss=nan, w0=nan, w1=nan\n",
      "Gradient Descent(343/499): loss=nan, w0=nan, w1=nan\n",
      "Gradient Descent(344/499): loss=nan, w0=nan, w1=nan\n",
      "Gradient Descent(345/499): loss=nan, w0=nan, w1=nan\n",
      "Gradient Descent(346/499): loss=nan, w0=nan, w1=nan\n",
      "Gradient Descent(347/499): loss=nan, w0=nan, w1=nan\n",
      "Gradient Descent(348/499): loss=nan, w0=nan, w1=nan\n",
      "Gradient Descent(349/499): loss=nan, w0=nan, w1=nan\n",
      "Gradient Descent(350/499): loss=nan, w0=nan, w1=nan\n",
      "Gradient Descent(351/499): loss=nan, w0=nan, w1=nan\n",
      "Gradient Descent(352/499): loss=nan, w0=nan, w1=nan\n",
      "Gradient Descent(353/499): loss=nan, w0=nan, w1=nan\n",
      "Gradient Descent(354/499): loss=nan, w0=nan, w1=nan\n",
      "Gradient Descent(355/499): loss=nan, w0=nan, w1=nan\n",
      "Gradient Descent(356/499): loss=nan, w0=nan, w1=nan\n",
      "Gradient Descent(357/499): loss=nan, w0=nan, w1=nan\n",
      "Gradient Descent(358/499): loss=nan, w0=nan, w1=nan\n",
      "Gradient Descent(359/499): loss=nan, w0=nan, w1=nan\n",
      "Gradient Descent(360/499): loss=nan, w0=nan, w1=nan\n",
      "Gradient Descent(361/499): loss=nan, w0=nan, w1=nan\n",
      "Gradient Descent(362/499): loss=nan, w0=nan, w1=nan\n",
      "Gradient Descent(363/499): loss=nan, w0=nan, w1=nan\n",
      "Gradient Descent(364/499): loss=nan, w0=nan, w1=nan\n",
      "Gradient Descent(365/499): loss=nan, w0=nan, w1=nan\n",
      "Gradient Descent(366/499): loss=nan, w0=nan, w1=nan\n",
      "Gradient Descent(367/499): loss=nan, w0=nan, w1=nan\n",
      "Gradient Descent(368/499): loss=nan, w0=nan, w1=nan\n",
      "Gradient Descent(369/499): loss=nan, w0=nan, w1=nan\n",
      "Gradient Descent(370/499): loss=nan, w0=nan, w1=nan\n",
      "Gradient Descent(371/499): loss=nan, w0=nan, w1=nan\n",
      "Gradient Descent(372/499): loss=nan, w0=nan, w1=nan\n",
      "Gradient Descent(373/499): loss=nan, w0=nan, w1=nan\n",
      "Gradient Descent(374/499): loss=nan, w0=nan, w1=nan\n",
      "Gradient Descent(375/499): loss=nan, w0=nan, w1=nan\n",
      "Gradient Descent(376/499): loss=nan, w0=nan, w1=nan\n",
      "Gradient Descent(377/499): loss=nan, w0=nan, w1=nan\n",
      "Gradient Descent(378/499): loss=nan, w0=nan, w1=nan\n",
      "Gradient Descent(379/499): loss=nan, w0=nan, w1=nan\n",
      "Gradient Descent(380/499): loss=nan, w0=nan, w1=nan\n",
      "Gradient Descent(381/499): loss=nan, w0=nan, w1=nan\n",
      "Gradient Descent(382/499): loss=nan, w0=nan, w1=nan\n",
      "Gradient Descent(383/499): loss=nan, w0=nan, w1=nan\n",
      "Gradient Descent(384/499): loss=nan, w0=nan, w1=nan\n",
      "Gradient Descent(385/499): loss=nan, w0=nan, w1=nan\n",
      "Gradient Descent(386/499): loss=nan, w0=nan, w1=nan\n",
      "Gradient Descent(387/499): loss=nan, w0=nan, w1=nan\n",
      "Gradient Descent(388/499): loss=nan, w0=nan, w1=nan\n",
      "Gradient Descent(389/499): loss=nan, w0=nan, w1=nan\n",
      "Gradient Descent(390/499): loss=nan, w0=nan, w1=nan\n",
      "Gradient Descent(391/499): loss=nan, w0=nan, w1=nan\n",
      "Gradient Descent(392/499): loss=nan, w0=nan, w1=nan\n",
      "Gradient Descent(393/499): loss=nan, w0=nan, w1=nan\n",
      "Gradient Descent(394/499): loss=nan, w0=nan, w1=nan\n",
      "Gradient Descent(395/499): loss=nan, w0=nan, w1=nan\n",
      "Gradient Descent(396/499): loss=nan, w0=nan, w1=nan\n",
      "Gradient Descent(397/499): loss=nan, w0=nan, w1=nan\n",
      "Gradient Descent(398/499): loss=nan, w0=nan, w1=nan\n",
      "Gradient Descent(399/499): loss=nan, w0=nan, w1=nan\n",
      "Gradient Descent(400/499): loss=nan, w0=nan, w1=nan\n",
      "Gradient Descent(401/499): loss=nan, w0=nan, w1=nan\n",
      "Gradient Descent(402/499): loss=nan, w0=nan, w1=nan\n",
      "Gradient Descent(403/499): loss=nan, w0=nan, w1=nan\n",
      "Gradient Descent(404/499): loss=nan, w0=nan, w1=nan\n",
      "Gradient Descent(405/499): loss=nan, w0=nan, w1=nan\n",
      "Gradient Descent(406/499): loss=nan, w0=nan, w1=nan\n",
      "Gradient Descent(407/499): loss=nan, w0=nan, w1=nan\n",
      "Gradient Descent(408/499): loss=nan, w0=nan, w1=nan\n",
      "Gradient Descent(409/499): loss=nan, w0=nan, w1=nan\n",
      "Gradient Descent(410/499): loss=nan, w0=nan, w1=nan\n",
      "Gradient Descent(411/499): loss=nan, w0=nan, w1=nan\n",
      "Gradient Descent(412/499): loss=nan, w0=nan, w1=nan\n",
      "Gradient Descent(413/499): loss=nan, w0=nan, w1=nan\n",
      "Gradient Descent(414/499): loss=nan, w0=nan, w1=nan\n",
      "Gradient Descent(415/499): loss=nan, w0=nan, w1=nan\n",
      "Gradient Descent(416/499): loss=nan, w0=nan, w1=nan\n",
      "Gradient Descent(417/499): loss=nan, w0=nan, w1=nan\n",
      "Gradient Descent(418/499): loss=nan, w0=nan, w1=nan\n",
      "Gradient Descent(419/499): loss=nan, w0=nan, w1=nan\n",
      "Gradient Descent(420/499): loss=nan, w0=nan, w1=nan\n",
      "Gradient Descent(421/499): loss=nan, w0=nan, w1=nan\n",
      "Gradient Descent(422/499): loss=nan, w0=nan, w1=nan\n",
      "Gradient Descent(423/499): loss=nan, w0=nan, w1=nan\n",
      "Gradient Descent(424/499): loss=nan, w0=nan, w1=nan\n",
      "Gradient Descent(425/499): loss=nan, w0=nan, w1=nan\n",
      "Gradient Descent(426/499): loss=nan, w0=nan, w1=nan\n",
      "Gradient Descent(427/499): loss=nan, w0=nan, w1=nan\n",
      "Gradient Descent(428/499): loss=nan, w0=nan, w1=nan\n",
      "Gradient Descent(429/499): loss=nan, w0=nan, w1=nan\n",
      "Gradient Descent(430/499): loss=nan, w0=nan, w1=nan\n",
      "Gradient Descent(431/499): loss=nan, w0=nan, w1=nan\n",
      "Gradient Descent(432/499): loss=nan, w0=nan, w1=nan\n",
      "Gradient Descent(433/499): loss=nan, w0=nan, w1=nan\n",
      "Gradient Descent(434/499): loss=nan, w0=nan, w1=nan\n",
      "Gradient Descent(435/499): loss=nan, w0=nan, w1=nan\n",
      "Gradient Descent(436/499): loss=nan, w0=nan, w1=nan\n",
      "Gradient Descent(437/499): loss=nan, w0=nan, w1=nan\n",
      "Gradient Descent(438/499): loss=nan, w0=nan, w1=nan\n",
      "Gradient Descent(439/499): loss=nan, w0=nan, w1=nan\n",
      "Gradient Descent(440/499): loss=nan, w0=nan, w1=nan\n",
      "Gradient Descent(441/499): loss=nan, w0=nan, w1=nan\n",
      "Gradient Descent(442/499): loss=nan, w0=nan, w1=nan\n",
      "Gradient Descent(443/499): loss=nan, w0=nan, w1=nan\n",
      "Gradient Descent(444/499): loss=nan, w0=nan, w1=nan\n",
      "Gradient Descent(445/499): loss=nan, w0=nan, w1=nan\n",
      "Gradient Descent(446/499): loss=nan, w0=nan, w1=nan\n",
      "Gradient Descent(447/499): loss=nan, w0=nan, w1=nan\n",
      "Gradient Descent(448/499): loss=nan, w0=nan, w1=nan\n",
      "Gradient Descent(449/499): loss=nan, w0=nan, w1=nan\n",
      "Gradient Descent(450/499): loss=nan, w0=nan, w1=nan\n",
      "Gradient Descent(451/499): loss=nan, w0=nan, w1=nan\n",
      "Gradient Descent(452/499): loss=nan, w0=nan, w1=nan\n",
      "Gradient Descent(453/499): loss=nan, w0=nan, w1=nan\n",
      "Gradient Descent(454/499): loss=nan, w0=nan, w1=nan\n",
      "Gradient Descent(455/499): loss=nan, w0=nan, w1=nan\n",
      "Gradient Descent(456/499): loss=nan, w0=nan, w1=nan\n",
      "Gradient Descent(457/499): loss=nan, w0=nan, w1=nan\n",
      "Gradient Descent(458/499): loss=nan, w0=nan, w1=nan\n",
      "Gradient Descent(459/499): loss=nan, w0=nan, w1=nan\n",
      "Gradient Descent(460/499): loss=nan, w0=nan, w1=nan\n",
      "Gradient Descent(461/499): loss=nan, w0=nan, w1=nan\n",
      "Gradient Descent(462/499): loss=nan, w0=nan, w1=nan\n",
      "Gradient Descent(463/499): loss=nan, w0=nan, w1=nan\n",
      "Gradient Descent(464/499): loss=nan, w0=nan, w1=nan\n",
      "Gradient Descent(465/499): loss=nan, w0=nan, w1=nan\n",
      "Gradient Descent(466/499): loss=nan, w0=nan, w1=nan\n",
      "Gradient Descent(467/499): loss=nan, w0=nan, w1=nan\n",
      "Gradient Descent(468/499): loss=nan, w0=nan, w1=nan\n",
      "Gradient Descent(469/499): loss=nan, w0=nan, w1=nan\n",
      "Gradient Descent(470/499): loss=nan, w0=nan, w1=nan\n",
      "Gradient Descent(471/499): loss=nan, w0=nan, w1=nan\n",
      "Gradient Descent(472/499): loss=nan, w0=nan, w1=nan\n",
      "Gradient Descent(473/499): loss=nan, w0=nan, w1=nan\n",
      "Gradient Descent(474/499): loss=nan, w0=nan, w1=nan\n",
      "Gradient Descent(475/499): loss=nan, w0=nan, w1=nan\n",
      "Gradient Descent(476/499): loss=nan, w0=nan, w1=nan\n",
      "Gradient Descent(477/499): loss=nan, w0=nan, w1=nan\n",
      "Gradient Descent(478/499): loss=nan, w0=nan, w1=nan\n",
      "Gradient Descent(479/499): loss=nan, w0=nan, w1=nan\n",
      "Gradient Descent(480/499): loss=nan, w0=nan, w1=nan\n",
      "Gradient Descent(481/499): loss=nan, w0=nan, w1=nan\n",
      "Gradient Descent(482/499): loss=nan, w0=nan, w1=nan\n",
      "Gradient Descent(483/499): loss=nan, w0=nan, w1=nan\n",
      "Gradient Descent(484/499): loss=nan, w0=nan, w1=nan\n",
      "Gradient Descent(485/499): loss=nan, w0=nan, w1=nan\n",
      "Gradient Descent(486/499): loss=nan, w0=nan, w1=nan\n",
      "Gradient Descent(487/499): loss=nan, w0=nan, w1=nan\n",
      "Gradient Descent(488/499): loss=nan, w0=nan, w1=nan\n",
      "Gradient Descent(489/499): loss=nan, w0=nan, w1=nan\n",
      "Gradient Descent(490/499): loss=nan, w0=nan, w1=nan\n",
      "Gradient Descent(491/499): loss=nan, w0=nan, w1=nan\n",
      "Gradient Descent(492/499): loss=nan, w0=nan, w1=nan\n"
     ]
    },
    {
     "name": "stdout",
     "output_type": "stream",
     "text": [
      "Gradient Descent(493/499): loss=nan, w0=nan, w1=nan\n",
      "Gradient Descent(494/499): loss=nan, w0=nan, w1=nan\n",
      "Gradient Descent(495/499): loss=nan, w0=nan, w1=nan\n",
      "Gradient Descent(496/499): loss=nan, w0=nan, w1=nan\n",
      "Gradient Descent(497/499): loss=nan, w0=nan, w1=nan\n",
      "Gradient Descent(498/499): loss=nan, w0=nan, w1=nan\n",
      "Gradient Descent(499/499): loss=nan, w0=nan, w1=nan\n"
     ]
    },
    {
     "name": "stderr",
     "output_type": "stream",
     "text": [
      "/Users/matteociprian/Documents/GitHub/LMO_ML/project1/A_final/lib/proj1_helpers.py:30: RuntimeWarning: invalid value encountered in less_equal\n",
      "  y_pred[np.where(y_pred <= 0)] = -1\n",
      "/Users/matteociprian/Documents/GitHub/LMO_ML/project1/A_final/lib/proj1_helpers.py:31: RuntimeWarning: invalid value encountered in greater\n",
      "  y_pred[np.where(y_pred > 0)] = 1\n"
     ]
    },
    {
     "ename": "ValueError",
     "evalue": "cannot convert float NaN to integer",
     "output_type": "error",
     "traceback": [
      "\u001b[0;31m---------------------------------------------------------------------------\u001b[0m",
      "\u001b[0;31mValueError\u001b[0m                                Traceback (most recent call last)",
      "\u001b[0;32m<ipython-input-20-cf1cefd1cab7>\u001b[0m in \u001b[0;36m<module>\u001b[0;34m()\u001b[0m\n\u001b[0;32m----> 1\u001b[0;31m \u001b[0mw\u001b[0m\u001b[0;34m,\u001b[0m \u001b[0mloss\u001b[0m \u001b[0;34m=\u001b[0m \u001b[0mfunc_GD\u001b[0m \u001b[0;34m(\u001b[0m\u001b[0my\u001b[0m\u001b[0;34m=\u001b[0m\u001b[0my_train\u001b[0m\u001b[0;34m,\u001b[0m \u001b[0mtx\u001b[0m\u001b[0;34m=\u001b[0m\u001b[0mtx_train\u001b[0m\u001b[0;34m,\u001b[0m \u001b[0mtest_set\u001b[0m\u001b[0;34m=\u001b[0m\u001b[0mtx_test\u001b[0m\u001b[0;34m,\u001b[0m \u001b[0mmax_iters\u001b[0m\u001b[0;34m=\u001b[0m\u001b[0;36m500\u001b[0m\u001b[0;34m,\u001b[0m\u001b[0mgamma\u001b[0m\u001b[0;34m=\u001b[0m\u001b[0;36m0.1\u001b[0m\u001b[0;34m,\u001b[0m \u001b[0minitial_w\u001b[0m\u001b[0;34m=\u001b[0m\u001b[0minitial_w\u001b[0m\u001b[0;34m)\u001b[0m\u001b[0;34m;\u001b[0m\u001b[0;34m\u001b[0m\u001b[0m\n\u001b[0m",
      "\u001b[0;32m<ipython-input-17-f830c63a93f5>\u001b[0m in \u001b[0;36mfunc_GD\u001b[0;34m(y, tx, test_set, max_iters, gamma, initial_w)\u001b[0m\n\u001b[1;32m     17\u001b[0m     \u001b[0mw\u001b[0m\u001b[0;34m,\u001b[0m\u001b[0mloss\u001b[0m \u001b[0;34m=\u001b[0m \u001b[0mleast_squares_GD\u001b[0m\u001b[0;34m(\u001b[0m\u001b[0my\u001b[0m\u001b[0;34m,\u001b[0m \u001b[0mtx\u001b[0m\u001b[0;34m,\u001b[0m \u001b[0minitial_w\u001b[0m\u001b[0;34m,\u001b[0m \u001b[0mmax_iters\u001b[0m\u001b[0;34m,\u001b[0m \u001b[0mgamma\u001b[0m\u001b[0;34m,\u001b[0m\u001b[0mfct\u001b[0m\u001b[0;34m=\u001b[0m\u001b[0;34m'mse'\u001b[0m\u001b[0;34m)\u001b[0m\u001b[0;34m;\u001b[0m\u001b[0;34m\u001b[0m\u001b[0m\n\u001b[1;32m     18\u001b[0m     \u001b[0my_pred\u001b[0m \u001b[0;34m=\u001b[0m \u001b[0mpredict_labels\u001b[0m\u001b[0;34m(\u001b[0m\u001b[0mw\u001b[0m\u001b[0;34m,\u001b[0m \u001b[0mtest_set\u001b[0m\u001b[0;34m)\u001b[0m\u001b[0;34m\u001b[0m\u001b[0m\n\u001b[0;32m---> 19\u001b[0;31m     \u001b[0mcreate_csv_submission\u001b[0m\u001b[0;34m(\u001b[0m\u001b[0mids_test\u001b[0m\u001b[0;34m,\u001b[0m \u001b[0my_pred\u001b[0m\u001b[0;34m,\u001b[0m \u001b[0mOUT_FOLDER\u001b[0m\u001b[0;34m+\u001b[0m\u001b[0mname\u001b[0m\u001b[0;34m)\u001b[0m\u001b[0;34m\u001b[0m\u001b[0m\n\u001b[0m\u001b[1;32m     20\u001b[0m \u001b[0;34m\u001b[0m\u001b[0m\n\u001b[1;32m     21\u001b[0m     \u001b[0mplt\u001b[0m\u001b[0;34m.\u001b[0m\u001b[0mplot\u001b[0m\u001b[0;34m(\u001b[0m\u001b[0mw\u001b[0m\u001b[0;34m,\u001b[0m \u001b[0;34m'go'\u001b[0m\u001b[0;34m)\u001b[0m\u001b[0;34m\u001b[0m\u001b[0m\n",
      "\u001b[0;32m/Users/matteociprian/Documents/GitHub/LMO_ML/project1/A_final/lib/proj1_helpers.py\u001b[0m in \u001b[0;36mcreate_csv_submission\u001b[0;34m(ids, y_pred, name)\u001b[0m\n\u001b[1;32m     46\u001b[0m         \u001b[0mwriter\u001b[0m\u001b[0;34m.\u001b[0m\u001b[0mwriteheader\u001b[0m\u001b[0;34m(\u001b[0m\u001b[0;34m)\u001b[0m\u001b[0;34m\u001b[0m\u001b[0m\n\u001b[1;32m     47\u001b[0m         \u001b[0;32mfor\u001b[0m \u001b[0mr1\u001b[0m\u001b[0;34m,\u001b[0m \u001b[0mr2\u001b[0m \u001b[0;32min\u001b[0m \u001b[0mzip\u001b[0m\u001b[0;34m(\u001b[0m\u001b[0mids\u001b[0m\u001b[0;34m,\u001b[0m \u001b[0my_pred\u001b[0m\u001b[0;34m)\u001b[0m\u001b[0;34m:\u001b[0m\u001b[0;34m\u001b[0m\u001b[0m\n\u001b[0;32m---> 48\u001b[0;31m             \u001b[0mwriter\u001b[0m\u001b[0;34m.\u001b[0m\u001b[0mwriterow\u001b[0m\u001b[0;34m(\u001b[0m\u001b[0;34m{\u001b[0m\u001b[0;34m'Id'\u001b[0m\u001b[0;34m:\u001b[0m\u001b[0mint\u001b[0m\u001b[0;34m(\u001b[0m\u001b[0mr1\u001b[0m\u001b[0;34m)\u001b[0m\u001b[0;34m,\u001b[0m\u001b[0;34m'Prediction'\u001b[0m\u001b[0;34m:\u001b[0m\u001b[0mint\u001b[0m\u001b[0;34m(\u001b[0m\u001b[0mr2\u001b[0m\u001b[0;34m)\u001b[0m\u001b[0;34m}\u001b[0m\u001b[0;34m)\u001b[0m\u001b[0;34m\u001b[0m\u001b[0m\n\u001b[0m",
      "\u001b[0;31mValueError\u001b[0m: cannot convert float NaN to integer"
     ]
    }
   ],
   "source": [
    "w, loss = func_GD (y=y_train, tx=tx_train, test_set=tx_test, max_iters=500,gamma=0.1, initial_w=initial_w);\n"
   ]
  },
  {
   "cell_type": "code",
   "execution_count": 19,
   "metadata": {},
   "outputs": [
    {
     "data": {
      "text/plain": [
       "(250000, 31)"
      ]
     },
     "execution_count": 19,
     "metadata": {},
     "output_type": "execute_result"
    }
   ],
   "source": [
    "w.shape\n",
    "tx_train.shape"
   ]
  },
  {
   "cell_type": "code",
   "execution_count": 20,
   "metadata": {},
   "outputs": [
    {
     "data": {
      "text/plain": [
       "74.495599999999996"
      ]
     },
     "execution_count": 20,
     "metadata": {},
     "output_type": "execute_result"
    }
   ],
   "source": [
    "y_pred_train = predict_labels(w, tx_train)\n",
    "right_train = np.sum(y_pred_train == y_train)/len(y_train)*100\n",
    "right_train"
   ]
  },
  {
   "cell_type": "markdown",
   "metadata": {},
   "source": [
    "## Ridge regression   "
   ]
  },
  {
   "cell_type": "code",
   "execution_count": 21,
   "metadata": {},
   "outputs": [
    {
     "data": {
      "image/png": "[encoded data removed]",
      "text/plain": [
       "<matplotlib.figure.Figure at 0x185502940>"
      ]
     },
     "metadata": {},
     "output_type": "display_data"
    }
   ],
   "source": [
    "[w,loss]=func_ridge_regression (y=y_train, tx=tx_train, test_set=tx_test, lambda_=lambda_);"
   ]
  },
  {
   "cell_type": "code",
   "execution_count": 22,
   "metadata": {},
   "outputs": [
    {
     "data": {
      "text/plain": [
       "85.280000000000001"
      ]
     },
     "execution_count": 22,
     "metadata": {},
     "output_type": "execute_result"
    }
   ],
   "source": [
    "y_pred_train = predict_labels(w, tx_train)\n",
    "right_train = np.sum(y_pred_train == y_train)/len(y_train)*100\n",
    "right_train"
   ]
  },
  {
   "cell_type": "markdown",
   "metadata": {
    "collapsed": true
   },
   "source": [
    "##  SGD"
   ]
  },
  {
   "cell_type": "code",
   "execution_count": 23,
   "metadata": {
    "collapsed": true
   },
   "outputs": [],
   "source": [
    "def func_SGD (y, tx, test_set, max_iters, gamma, initial_w, batch_size):\n",
    "    name = 'Stochastic_Gradient_descent'\n",
    "    \n",
    "    w,loss = least_squares_SGD(y, tx, initial_w, max_iters,\\\n",
    "                               gamma, batch_size)\n",
    "    \n",
    "    y_pred = predict_labels(w, test_set)\n",
    "    create_csv_submission(ids_test, y_pred, OUT_FOLDER+name)\n",
    "    \n",
    "    plt.plot(w, 'go')\n",
    "    plt.title('SGD: weights with loss:  '+str(loss),fontsize=15, fontweight='bold');\n",
    "    plt.show()\n",
    "    \n",
    "    return w, loss"
   ]
  },
  {
   "cell_type": "code",
   "execution_count": 24,
   "metadata": {},
   "outputs": [
    {
     "name": "stderr",
     "output_type": "stream",
     "text": [
      "/Users/matteociprian/Documents/GitHub/LMO_ML/project1/A_final/lib/proj1_helpers.py:30: RuntimeWarning: invalid value encountered in less_equal\n",
      "  y_pred[np.where(y_pred <= 0)] = -1\n",
      "/Users/matteociprian/Documents/GitHub/LMO_ML/project1/A_final/lib/proj1_helpers.py:31: RuntimeWarning: invalid value encountered in greater\n",
      "  y_pred[np.where(y_pred > 0)] = 1\n"
     ]
    },
    {
     "ename": "ValueError",
     "evalue": "cannot convert float NaN to integer",
     "output_type": "error",
     "traceback": [
      "\u001b[0;31m---------------------------------------------------------------------------\u001b[0m",
      "\u001b[0;31mValueError\u001b[0m                                Traceback (most recent call last)",
      "\u001b[0;32m<ipython-input-24-6dd1dfc24b5f>\u001b[0m in \u001b[0;36m<module>\u001b[0;34m()\u001b[0m\n\u001b[0;32m----> 1\u001b[0;31m \u001b[0mw\u001b[0m\u001b[0;34m,\u001b[0m \u001b[0mloss\u001b[0m \u001b[0;34m=\u001b[0m \u001b[0mfunc_SGD\u001b[0m \u001b[0;34m(\u001b[0m\u001b[0my\u001b[0m\u001b[0;34m=\u001b[0m\u001b[0my_train\u001b[0m\u001b[0;34m,\u001b[0m \u001b[0mtx\u001b[0m\u001b[0;34m=\u001b[0m\u001b[0mtx_train\u001b[0m\u001b[0;34m,\u001b[0m \u001b[0mtest_set\u001b[0m\u001b[0;34m=\u001b[0m\u001b[0mtx_test\u001b[0m\u001b[0;34m,\u001b[0m \u001b[0mmax_iters\u001b[0m\u001b[0;34m=\u001b[0m\u001b[0;36m10\u001b[0m\u001b[0;34m,\u001b[0m\u001b[0mgamma\u001b[0m\u001b[0;34m=\u001b[0m\u001b[0mgamma\u001b[0m\u001b[0;34m,\u001b[0m \u001b[0minitial_w\u001b[0m\u001b[0;34m=\u001b[0m\u001b[0minitial_w\u001b[0m\u001b[0;34m,\u001b[0m                   \u001b[0mbatch_size\u001b[0m\u001b[0;34m=\u001b[0m\u001b[0;36m5\u001b[0m\u001b[0;34m)\u001b[0m\u001b[0;34m;\u001b[0m\u001b[0;34m\u001b[0m\u001b[0m\n\u001b[0m",
      "\u001b[0;32m<ipython-input-23-edb198be44b4>\u001b[0m in \u001b[0;36mfunc_SGD\u001b[0;34m(y, tx, test_set, max_iters, gamma, initial_w, batch_size)\u001b[0m\n\u001b[1;32m      5\u001b[0m \u001b[0;34m\u001b[0m\u001b[0m\n\u001b[1;32m      6\u001b[0m     \u001b[0my_pred\u001b[0m \u001b[0;34m=\u001b[0m \u001b[0mpredict_labels\u001b[0m\u001b[0;34m(\u001b[0m\u001b[0mw\u001b[0m\u001b[0;34m,\u001b[0m \u001b[0mtest_set\u001b[0m\u001b[0;34m)\u001b[0m\u001b[0;34m\u001b[0m\u001b[0m\n\u001b[0;32m----> 7\u001b[0;31m     \u001b[0mcreate_csv_submission\u001b[0m\u001b[0;34m(\u001b[0m\u001b[0mids_test\u001b[0m\u001b[0;34m,\u001b[0m \u001b[0my_pred\u001b[0m\u001b[0;34m,\u001b[0m \u001b[0mOUT_FOLDER\u001b[0m\u001b[0;34m+\u001b[0m\u001b[0mname\u001b[0m\u001b[0;34m)\u001b[0m\u001b[0;34m\u001b[0m\u001b[0m\n\u001b[0m\u001b[1;32m      8\u001b[0m \u001b[0;34m\u001b[0m\u001b[0m\n\u001b[1;32m      9\u001b[0m     \u001b[0mplt\u001b[0m\u001b[0;34m.\u001b[0m\u001b[0mplot\u001b[0m\u001b[0;34m(\u001b[0m\u001b[0mw\u001b[0m\u001b[0;34m,\u001b[0m \u001b[0;34m'go'\u001b[0m\u001b[0;34m)\u001b[0m\u001b[0;34m\u001b[0m\u001b[0m\n",
      "\u001b[0;32m/Users/matteociprian/Documents/GitHub/LMO_ML/project1/A_final/lib/proj1_helpers.py\u001b[0m in \u001b[0;36mcreate_csv_submission\u001b[0;34m(ids, y_pred, name)\u001b[0m\n\u001b[1;32m     46\u001b[0m         \u001b[0mwriter\u001b[0m\u001b[0;34m.\u001b[0m\u001b[0mwriteheader\u001b[0m\u001b[0;34m(\u001b[0m\u001b[0;34m)\u001b[0m\u001b[0;34m\u001b[0m\u001b[0m\n\u001b[1;32m     47\u001b[0m         \u001b[0;32mfor\u001b[0m \u001b[0mr1\u001b[0m\u001b[0;34m,\u001b[0m \u001b[0mr2\u001b[0m \u001b[0;32min\u001b[0m \u001b[0mzip\u001b[0m\u001b[0;34m(\u001b[0m\u001b[0mids\u001b[0m\u001b[0;34m,\u001b[0m \u001b[0my_pred\u001b[0m\u001b[0;34m)\u001b[0m\u001b[0;34m:\u001b[0m\u001b[0;34m\u001b[0m\u001b[0m\n\u001b[0;32m---> 48\u001b[0;31m             \u001b[0mwriter\u001b[0m\u001b[0;34m.\u001b[0m\u001b[0mwriterow\u001b[0m\u001b[0;34m(\u001b[0m\u001b[0;34m{\u001b[0m\u001b[0;34m'Id'\u001b[0m\u001b[0;34m:\u001b[0m\u001b[0mint\u001b[0m\u001b[0;34m(\u001b[0m\u001b[0mr1\u001b[0m\u001b[0;34m)\u001b[0m\u001b[0;34m,\u001b[0m\u001b[0;34m'Prediction'\u001b[0m\u001b[0;34m:\u001b[0m\u001b[0mint\u001b[0m\u001b[0;34m(\u001b[0m\u001b[0mr2\u001b[0m\u001b[0;34m)\u001b[0m\u001b[0;34m}\u001b[0m\u001b[0;34m)\u001b[0m\u001b[0;34m\u001b[0m\u001b[0m\n\u001b[0m",
      "\u001b[0;31mValueError\u001b[0m: cannot convert float NaN to integer"
     ]
    }
   ],
   "source": [
    "w, loss = func_SGD (y=y_train, tx=tx_train, test_set=tx_test, max_iters=10,gamma=gamma, initial_w=initial_w,\\\n",
    "                   batch_size=5);"
   ]
  },
  {
   "cell_type": "markdown",
   "metadata": {},
   "source": [
    "## LOGISTIC REGRESSION"
   ]
  },
  {
   "cell_type": "code",
   "execution_count": 25,
   "metadata": {
    "collapsed": true
   },
   "outputs": [],
   "source": [
    "def build_k_indices(y, k_fold, seed):\n",
    "    \"\"\"build k indices for k-fold.\"\"\"\n",
    "    num_row = y.shape[0]\n",
    "    interval = int(num_row / k_fold)\n",
    "    np.random.seed(seed)\n",
    "    indices = np.random.permutation(num_row)\n",
    "    k_indices = [indices[k * interval: (k + 1) * interval]\n",
    "                 for k in range(k_fold)]\n",
    "    return np.array(k_indices)\n",
    "\n",
    "def cross_validation_logistic_regression(y,tx, k_fold, max_iters, gammas):\n",
    "    \n",
    "    accuracies=np.zeros(len(gammas))\n",
    "    acc_max=0;\n",
    "    gamma_best=0;\n",
    "    \n",
    "    for i, single_gamma in enumerate(gammas):\n",
    "        \n",
    "        seed=1;\n",
    "\n",
    "        # get k'th subgroup in test, others in train\n",
    "        k_indices = build_k_indices(y, k_fold, seed)\n",
    "        accuracy_train = np.zeros(k_fold)\n",
    "        accuracy_test = np.zeros(k_fold)\n",
    "\n",
    "\n",
    "        for k in range(k_fold):\n",
    "            #print('----- FOLD', k, '-----')\n",
    "            k_index = k_indices[k]\n",
    "            test_y = y[k_index]\n",
    "            test_tx = tx[k_index,:]\n",
    "\n",
    "            mask = np.ones(len(y), dtype=bool) # set all elements to True\n",
    "            mask[k_index] = False              # set test elements to False\n",
    "            train_tx = tx[mask,:]              # select only True elements (ie train elements)\n",
    "            train_y = y[mask]\n",
    "            weights,loss = logistic_regression(train_y, train_tx, initial_w, max_iters, single_gamma)\n",
    "            # Compute the predictions\n",
    "            y_pred_train = predict_labels(weights, train_tx)\n",
    "            y_pred_test = predict_labels(weights, test_tx)\n",
    "            predictions=True;\n",
    "            accuracy_train[k] = np.sum(y_pred_train == train_y)/len(train_y)\n",
    "            accuracy_test[k] = np.sum(y_pred_test == test_y)/len(test_y)\n",
    "        accuracies[i]=np.mean(accuracy_test);\n",
    "        \n",
    "        print('GAMMA:', single_gamma, '---','ACCURANCY:',accuracies[i])\n",
    "        if (accuracies[i]>acc_max):\n",
    "                gamma_best=gammas[i];\n",
    "                acc_max=accuracies[i];\n",
    "    \n",
    "    return gamma_best,acc_max\n",
    "               \n",
    "        # Compute accuracy of the predictions\n",
    "\n",
    "        "
   ]
  },
  {
   "cell_type": "code",
   "execution_count": 26,
   "metadata": {
    "scrolled": true
   },
   "outputs": [
    {
     "name": "stdout",
     "output_type": "stream",
     "text": [
      "GAMMA: 1e-05 --- ACCURANCY: 0.4644\n",
      "GAMMA: 0.100008888889 --- ACCURANCY: 0.4644\n",
      "GAMMA: 0.200007777778 --- ACCURANCY: 0.4644\n",
      "GAMMA: 0.300006666667 --- ACCURANCY: 0.4644\n",
      "GAMMA: 0.400005555556 --- ACCURANCY: 0.4644\n",
      "GAMMA: 0.500004444444 --- ACCURANCY: 0.4644\n",
      "GAMMA: 0.600003333333 --- ACCURANCY: 0.4644\n",
      "GAMMA: 0.700002222222 --- ACCURANCY: 0.4644\n",
      "GAMMA: 0.800001111111 --- ACCURANCY: 0.4644\n",
      "GAMMA: 0.9 --- ACCURANCY: 0.4644\n",
      "BEST GAMMA: 1e-05 --- ACCURANCY: 0.4644\n"
     ]
    }
   ],
   "source": [
    "gammas=np.linspace(0.00001,0.9,10);\n",
    "k_fold=2;\n",
    "max_iters=1000;\n",
    "\n",
    "best_gamma,acc_max=cross_validation_logistic_regression(y_train,tx_train, k_fold, max_iters, gammas)\n",
    "print('BEST GAMMA:', best_gamma, '---','ACCURANCY:',acc_max)"
   ]
  },
  {
   "cell_type": "code",
   "execution_count": 27,
   "metadata": {
    "collapsed": true
   },
   "outputs": [],
   "source": [
    "def func_logistic (y, tx, test_set, max_iters, gamma, initial_w):\n",
    "    name = 'Logistic regression'\n",
    "    \n",
    "    #w,loss = logistic_regression(y, tx, initial_w, max_iters, gamma)\n",
    "    w,loss = logistic_regression(y, tx, initial_w, max_iters, gamma)\n",
    "    \n",
    "    loss=loss/len(y);\n",
    "    y_pred = predict_labels(w, test_set)\n",
    "    create_csv_submission(ids_test, y_pred, OUT_FOLDER+name)  \n",
    "    \n",
    "    plt.plot(w, 'go')\n",
    "    plt.title('logistic reg: weights with loss:  '+str(loss),fontsize=15, fontweight='bold');\n",
    "    plt.show()\n",
    "    \n",
    "    return w, loss"
   ]
  },
  {
   "cell_type": "code",
   "execution_count": 30,
   "metadata": {
    "scrolled": true
   },
   "outputs": [
    {
     "data": {
      "image/png": "[encoded data removed]",
      "text/plain": [
       "<matplotlib.figure.Figure at 0x179b34c50>"
      ]
     },
     "metadata": {},
     "output_type": "display_data"
    }
   ],
   "source": [
    "w, loss = func_logistic (y=y_train, tx=tx_train, test_set=tx_test, max_iters=1000,\\\n",
    "                         gamma=best_gamma, initial_w=initial_w);"
   ]
  },
  {
   "cell_type": "code",
   "execution_count": 31,
   "metadata": {},
   "outputs": [
    {
     "data": {
      "text/plain": [
       "59.019999999999996"
      ]
     },
     "execution_count": 31,
     "metadata": {},
     "output_type": "execute_result"
    }
   ],
   "source": [
    "y_pred_train = predict_labels(w, tx_train)\n",
    "right_train = np.sum(y_pred_train == y_train)/len(y_train)*100\n",
    "right_train"
   ]
  },
  {
   "cell_type": "markdown",
   "metadata": {},
   "source": [
    "## LOGISTIC REGULARIZED"
   ]
  },
  {
   "cell_type": "code",
   "execution_count": 30,
   "metadata": {
    "collapsed": true
   },
   "outputs": [],
   "source": [
    "def build_k_indices(y, k_fold, seed):\n",
    "    \"\"\"build k indices for k-fold.\"\"\"\n",
    "    num_row = y.shape[0]\n",
    "    interval = int(num_row / k_fold)\n",
    "    np.random.seed(seed)\n",
    "    indices = np.random.permutation(num_row)\n",
    "    k_indices = [indices[k * interval: (k + 1) * interval]\n",
    "                 for k in range(k_fold)]\n",
    "    return np.array(k_indices)\n",
    "\n",
    "def cross_validation_logistic_regression_reg(y,tx, k_fold, max_iters, gammas,lambdas):\n",
    "    \n",
    "    acc_max=0;\n",
    "    accurancies=np.zeros([len(gammas),len(lambdas)]);\n",
    "    for i, single_gamma in enumerate(gammas):\n",
    "        for j, single_lambda in enumerate(lambdas):\n",
    "            seed=1;\n",
    "        \n",
    "            # get k'th subgroup in test, others in train\n",
    "            k_indices = build_k_indices(y, k_fold, seed)\n",
    "            accuracy_train = np.zeros(k_fold)\n",
    "            accuracy_test = np.zeros(k_fold)\n",
    "\n",
    "\n",
    "            for k in range(k_fold):\n",
    "                #print('----- FOLD', k, '-----')\n",
    "                k_index = k_indices[k]\n",
    "                test_y = y[k_index]\n",
    "                test_tx = tx[k_index,:]\n",
    "\n",
    "                mask = np.ones(len(y), dtype=bool) # set all elements to True\n",
    "                mask[k_index] = False              # set test elements to False\n",
    "                train_tx = tx[mask,:]              # select only True elements (ie train elements)\n",
    "                train_y = y[mask]\n",
    "                weights,loss = logistic_regression(train_y, train_tx, initial_w, max_iters, single_gamma)\n",
    "                # Compute the predictions\n",
    "                y_pred_train = predict_labels(weights, train_tx)\n",
    "                y_pred_test = predict_labels(weights, test_tx)\n",
    "                predictions=True;\n",
    "                accuracy_train[k] = np.sum(y_pred_train == train_y)/len(train_y)\n",
    "                accuracy_test[k] = np.sum(y_pred_test == test_y)/len(test_y)\n",
    "            accurancies[i,j]= np.mean(accuracy_test);\n",
    "            print('GAMMA', single_gamma, '---','LAMBDA', single_lambda, '---ACCURANCY:',accurancies[i,j])\n",
    "            \n",
    "            if (accurancies[i,j]>acc_max):\n",
    "                gamma_best=gammas[i];\n",
    "                lambda_best=lambdas[j];\n",
    "                acc_max=accurancies[i,j];\n",
    "            \n",
    "            \n",
    "    return [gamma_best,lambda_best,acc_max]\n",
    "     \n",
    "    \n",
    "    \n",
    "            # Compute accuracy of the predictions\n",
    "\n",
    "            "
   ]
  },
  {
   "cell_type": "code",
   "execution_count": 31,
   "metadata": {},
   "outputs": [
    {
     "name": "stdout",
     "output_type": "stream",
     "text": [
      "GAMMA 1e-06 --- LAMBDA 0.001 ---ACCURANCY: 0.7034\n",
      "GAMMA 1e-06 --- LAMBDA 0.3 ---ACCURANCY: 0.7034\n",
      "GAMMA 0.0001 --- LAMBDA 0.001 ---ACCURANCY: 0.713864\n",
      "GAMMA 0.0001 --- LAMBDA 0.3 ---ACCURANCY: 0.713864\n",
      "BEST GAMMA 0.0001 --- BEST LAMBDA 0.001 ---ACCURANCY: 0.713864\n"
     ]
    }
   ],
   "source": [
    "#test cross_validation\n",
    "\n",
    "gammas=np.linspace(0.000001,0.0001,2);\n",
    "lambdas=np.linspace(0.001,0.3,2);\n",
    "k_fold=2;\n",
    "max_iters=10;\n",
    "[gamma_best,lambda_best,acc_max]= cross_validation_logistic_regression_reg(y_train,tx_train, k_fold, max_iters, gammas,lambdas)\n",
    "\n",
    "print('BEST GAMMA', gamma_best, '---','BEST LAMBDA', lambda_best, '---ACCURANCY:',acc_max)"
   ]
  },
  {
   "cell_type": "code",
   "execution_count": 35,
   "metadata": {
    "collapsed": true
   },
   "outputs": [],
   "source": [
    "def func_logistic_reg (y, tx, lambda_, test_set, max_iters, gamma, initial_w):\n",
    "    name = 'Logistic regression regularized'\n",
    "    \n",
    "    #w,loss = logistic_regression(y, tx, initial_w, max_iters, gamma)\n",
    "    w,loss = reg_logistic_regression(y, tx, lambda_, initial_w, max_iters, gamma)\n",
    "    \n",
    "    loss=loss/len(y);\n",
    "    y_pred = predict_labels(w, test_set)\n",
    "    create_csv_submission(ids_test, y_pred, OUT_FOLDER+name)\n",
    "    \n",
    "    plt.plot(w, 'go')\n",
    "    plt.title('logistic reg: weights with the normalized log-like:  '+str(loss),fontsize=15, fontweight='bold');\n",
    "    plt.show()\n",
    "    \n",
    "    return w, loss"
   ]
  },
  {
   "cell_type": "code",
   "execution_count": 38,
   "metadata": {},
   "outputs": [
    {
     "data": {
      "image/png": "[encoded data removed]",
      "text/plain": [
       "<matplotlib.figure.Figure at 0x7f7cbf1e1080>"
      ]
     },
     "metadata": {},
     "output_type": "display_data"
    }
   ],
   "source": [
    "w, loss = func_logistic_reg (y=y_train, tx=tx_train, lambda_=lambda_best, test_set=tx_test, max_iters=50,\\\n",
    "                         gamma=gamma_best, initial_w=initial_w);\n",
    "\n"
   ]
  },
  {
   "cell_type": "code",
   "execution_count": 34,
   "metadata": {},
   "outputs": [
    {
     "data": {
      "text/plain": [
       "71.364399999999989"
      ]
     },
     "execution_count": 34,
     "metadata": {},
     "output_type": "execute_result"
    }
   ],
   "source": [
    "y_pred_train = predict_labels(w, tx_train)\n",
    "right_train = np.sum(y_pred_train == y_train)/len(y_train)*100\n",
    "right_train"
   ]
  },
  {
   "cell_type": "code",
   "execution_count": null,
   "metadata": {
    "collapsed": true
   },
   "outputs": [],
   "source": []
  },
  {
   "cell_type": "code",
   "execution_count": null,
   "metadata": {
    "collapsed": true
   },
   "outputs": [],
   "source": []
  }
 ],
 "metadata": {
  "kernelspec": {
   "display_name": "Python 3",
   "language": "python",
   "name": "python3"
  },
  "language_info": {
   "codemirror_mode": {
    "name": "ipython",
    "version": 3
   },
   "file_extension": ".py",
   "mimetype": "text/x-python",
   "name": "python",
   "nbconvert_exporter": "python",
   "pygments_lexer": "ipython3",
   "version": "3.6.1"
  }
 },
 "nbformat": 4,
 "nbformat_minor": 2
}
