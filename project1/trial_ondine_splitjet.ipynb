{
 "cells": [
  {
   "cell_type": "markdown",
   "metadata": {},
   "source": [
    "# **TODO**\n",
    "* phi features overfit?"
   ]
  },
  {
   "cell_type": "markdown",
   "metadata": {},
   "source": [
    "# Import libraries"
   ]
  },
  {
   "cell_type": "code",
   "execution_count": 1,
   "metadata": {
    "collapsed": true
   },
   "outputs": [],
   "source": [
    "%matplotlib inline \n",
    "import numpy as np \n",
    "import matplotlib.pyplot as plt\n",
    "\n",
    "from lib.proj1_helpers import * #the helper provided for the project\n",
    "\n",
    "from implementations import * #our implementations of the functions done by us\n",
    "from helpers import *\n",
    "import datetime\n",
    "import operator\n",
    "# Useful starting lines\n",
    "\n",
    "%load_ext autoreload\n",
    "%autoreload 2\n",
    "%reload_ext autoreload"
   ]
  },
  {
   "cell_type": "markdown",
   "metadata": {},
   "source": [
    "# Loading the training and the testing sets"
   ]
  },
  {
   "cell_type": "code",
   "execution_count": 2,
   "metadata": {
    "collapsed": true
   },
   "outputs": [],
   "source": [
    "DATA_FOLDER = 'data/'\n",
    "\n",
    "y_train, tx_train, ids_train = load_csv_data(DATA_FOLDER+'train.csv',sub_sample=False)\n",
    "\n",
    "y_test, tx_test, ids_test = load_csv_data(DATA_FOLDER+'test.csv',sub_sample=False)"
   ]
  },
  {
   "cell_type": "code",
   "execution_count": 3,
   "metadata": {},
   "outputs": [
    {
     "data": {
      "text/plain": [
       "array([ 1., -1., -1., ...,  1., -1., -1.])"
      ]
     },
     "execution_count": 3,
     "metadata": {},
     "output_type": "execute_result"
    }
   ],
   "source": [
    "y_train"
   ]
  },
  {
   "cell_type": "code",
   "execution_count": 4,
   "metadata": {},
   "outputs": [
    {
     "data": {
      "text/plain": [
       "array([[ 138.47 ,   51.655,   97.827, ...,    1.24 ,   -2.475,  113.497],\n",
       "       [ 160.937,   68.768,  103.235, ..., -999.   , -999.   ,   46.226],\n",
       "       [-999.   ,  162.172,  125.953, ..., -999.   , -999.   ,   44.251],\n",
       "       ..., \n",
       "       [ 105.457,   60.526,   75.839, ..., -999.   , -999.   ,   41.992],\n",
       "       [  94.951,   19.362,   68.812, ..., -999.   , -999.   ,    0.   ],\n",
       "       [-999.   ,   72.756,   70.831, ..., -999.   , -999.   ,    0.   ]])"
      ]
     },
     "execution_count": 4,
     "metadata": {},
     "output_type": "execute_result"
    }
   ],
   "source": [
    "tx_train"
   ]
  },
  {
   "cell_type": "code",
   "execution_count": 5,
   "metadata": {},
   "outputs": [
    {
     "data": {
      "text/plain": [
       "array([[-999.   ,   79.589,   23.916, ..., -999.   , -999.   ,    0.   ],\n",
       "       [ 106.398,   67.49 ,   87.949, ..., -999.   , -999.   ,   47.575],\n",
       "       [ 117.794,   56.226,   96.358, ..., -999.   , -999.   ,    0.   ],\n",
       "       ..., \n",
       "       [ 108.497,    9.837,   65.149, ..., -999.   , -999.   ,    0.   ],\n",
       "       [  96.711,   20.006,   66.942, ..., -999.   , -999.   ,   30.863],\n",
       "       [  92.373,   80.109,   77.619, ..., -999.   , -999.   ,    0.   ]])"
      ]
     },
     "execution_count": 5,
     "metadata": {},
     "output_type": "execute_result"
    }
   ],
   "source": [
    "tx_test"
   ]
  },
  {
   "cell_type": "code",
   "execution_count": 6,
   "metadata": {},
   "outputs": [
    {
     "data": {
      "text/plain": [
       "array([ 1.,  1.,  1., ...,  1.,  1.,  1.])"
      ]
     },
     "execution_count": 6,
     "metadata": {},
     "output_type": "execute_result"
    }
   ],
   "source": [
    "y_test"
   ]
  },
  {
   "cell_type": "code",
   "execution_count": 7,
   "metadata": {},
   "outputs": [
    {
     "name": "stdout",
     "output_type": "stream",
     "text": [
      "(250000, 30)\n",
      "(568238, 30)\n",
      "(250000,)\n",
      "(568238,)\n"
     ]
    }
   ],
   "source": [
    "print(tx_train.shape)\n",
    "print(tx_test.shape)\n",
    "print(y_train.shape)\n",
    "print(y_test.shape)"
   ]
  },
  {
   "cell_type": "markdown",
   "metadata": {},
   "source": [
    "# Split jets"
   ]
  },
  {
   "cell_type": "code",
   "execution_count": 8,
   "metadata": {
    "collapsed": true
   },
   "outputs": [],
   "source": [
    "def split_jets_mask(tx):\n",
    "    idx_cat = 22\n",
    "    return {\n",
    "        0: tx[:,idx_cat] == 0,\n",
    "        1: tx[:,idx_cat] == 1,\n",
    "        2: tx[:,idx_cat] == 2,\n",
    "        3: tx[:,idx_cat] == 3,\n",
    "    }"
   ]
  },
  {
   "cell_type": "markdown",
   "metadata": {},
   "source": [
    "# Handling missing values"
   ]
  },
  {
   "cell_type": "code",
   "execution_count": 9,
   "metadata": {
    "collapsed": true
   },
   "outputs": [],
   "source": [
    "def clean_missing_values(tx):\n",
    "    nan_values = (tx==-999)*1\n",
    "    for col in range(tx.shape[1]):\n",
    "        column = tx[:,col][tx[:,col]!=-999]\n",
    "        if len(column) == 0:\n",
    "            median = 0\n",
    "        else:\n",
    "            median = np.median(column)\n",
    "        tx[:,col][tx[:,col]==-999] = median\n",
    "    return tx, nan_values"
   ]
  },
  {
   "cell_type": "code",
   "execution_count": 10,
   "metadata": {
    "collapsed": true
   },
   "outputs": [],
   "source": [
    "def keep_unique_cols(tx):\n",
    "    # If two (or more) columns of tx are equal, keep only one of them\n",
    "    unique_cols_ids = [0]\n",
    "    for i in range(1,tx.shape[1]):\n",
    "        id_loop = unique_cols_ids\n",
    "        erase = False\n",
    "        equal_to = []\n",
    "        for j in id_loop:\n",
    "            if np.sum(tx[:,i]-tx[:,j])==0:\n",
    "                erase = True\n",
    "                equal_to.append(j)\n",
    "                break\n",
    "        if erase == False:\n",
    "            unique_cols_ids.append(i)\n",
    "        #else:\n",
    "        #    print('column', i, 'deleted because equal to column(s) ', equal_to)\n",
    "            \n",
    "    index = np.argwhere(unique_cols_ids==22)\n",
    "    unique_cols_ids = np.delete(unique_cols_ids, index)\n",
    "    \n",
    "    return unique_cols_ids"
   ]
  },
  {
   "cell_type": "markdown",
   "metadata": {},
   "source": [
    "# Add cross products between features"
   ]
  },
  {
   "cell_type": "code",
   "execution_count": 11,
   "metadata": {
    "collapsed": true
   },
   "outputs": [],
   "source": [
    "def add_cross_prod(tx, i, j):\n",
    "    return np.concatenate((tx, np.array([tx[:,i]*tx[:,j]]).T), axis=1)\n",
    "\n",
    "def add_all_cross_prod(tx):\n",
    "    sh = tx.shape[1]\n",
    "    for i in range(sh):\n",
    "        #print(i)\n",
    "        for j in range(i+1, sh):\n",
    "            if i != j:\n",
    "                tx = add_cross_prod(tx, i, j)\n",
    "    return tx"
   ]
  },
  {
   "cell_type": "markdown",
   "metadata": {},
   "source": [
    "# Build powers of features"
   ]
  },
  {
   "cell_type": "code",
   "execution_count": 12,
   "metadata": {
    "collapsed": true
   },
   "outputs": [],
   "source": [
    "def build_poly(x, degree):\n",
    "    \"\"\"polynomial basis functions for input data x, for j=1 up to j=degree.\"\"\"\n",
    "    return np.array([x**p for p in range(2,degree+1)]).T \n",
    "    # not range from 0 because we have already added a column of ones, \n",
    "    # not range from 1 because we already have the linear features."
   ]
  },
  {
   "cell_type": "code",
   "execution_count": 13,
   "metadata": {
    "collapsed": true
   },
   "outputs": [],
   "source": [
    "def add_powers(tx, degree, first_data_id, len_init_data, features='x'):\n",
    "    if features == 'x': # square roots of initial (kept) features\n",
    "        range_c = range(first_data_id, first_data_id+len_init_data)\n",
    "    elif features == 'cp': # square roots of cross products\n",
    "        range_c = range(first_data_id, first_data_id+(len_init_data*(len_init_data-1))/2)\n",
    "    else:\n",
    "        raise NameError('Need to specity x (features) of cp (cross products)')\n",
    "    for col in range_col: \n",
    "        tx = np.concatenate((tx, build_poly(tx[:,col], degree)), axis=1)\n",
    "    return tx"
   ]
  },
  {
   "cell_type": "markdown",
   "metadata": {},
   "source": [
    "# Add column of ones"
   ]
  },
  {
   "cell_type": "code",
   "execution_count": 14,
   "metadata": {
    "collapsed": true
   },
   "outputs": [],
   "source": [
    "def add_ones(tx):\n",
    "    return np.concatenate((tx, np.ones([tx.shape[0],1])), axis=1)"
   ]
  },
  {
   "cell_type": "markdown",
   "metadata": {},
   "source": [
    "# Build square roots of features"
   ]
  },
  {
   "cell_type": "code",
   "execution_count": 15,
   "metadata": {
    "collapsed": true
   },
   "outputs": [],
   "source": [
    "def add_square_root(tx, first_data_id, len_init_data, features='x'):\n",
    "    if features == 'x': # square roots of initial (kept) features\n",
    "        range_c = range(first_data_id, first_data_id+len_init_data)\n",
    "    elif features == 'cp': # square roots of cross products\n",
    "        range_c = range(first_data_id, first_data_id+(len_init_data*(len_init_data-1))/2)\n",
    "    else:\n",
    "        raise NameError('Need to specity x (features) of cp (cross products)')\n",
    "    sqrt_array = np.array([np.sqrt(tx[:,c]) for c in range_c].T)\n",
    "    return np.concatenate((tx, sqrt_array), axis=1)"
   ]
  },
  {
   "cell_type": "markdown",
   "metadata": {},
   "source": [
    "# Summarize the step of data preparation"
   ]
  },
  {
   "cell_type": "code",
   "execution_count": 16,
   "metadata": {
    "collapsed": true
   },
   "outputs": [],
   "source": [
    "def prepare_data(train_tx, test_tx, deg):\n",
    "    print('Cleaning')\n",
    "    train_tx = clean_missing_values(train_tx)[0]\n",
    "    test_tx = clean_missing_values(test_tx)[0]\n",
    "    print('Keep unique cols')\n",
    "    unique_cols = keep_unique_cols(train_tx)\n",
    "    train_tx = train_tx[:,unique_cols]\n",
    "    test_tx = test_tx[:,unique_cols]\n",
    "    len_kept_data = len(unique_cols)\n",
    "    print('Standardize')\n",
    "    train_tx = standardize(train_tx)[0]\n",
    "    test_tx = standardize(test_tx)[0]\n",
    "    print('Cross products')\n",
    "    train_tx = add_all_cross_prod(train_tx)\n",
    "    test_tx = add_all_cross_prod(test_tx)\n",
    "    print('Powers added')\n",
    "    train_tx = add_powers(train_tx, 0, len_kept_data, deg)\n",
    "    test_tx = add_powers(test_tx, 0, len_kept_data, deg)\n",
    "    print('Added ones')\n",
    "    train_tx = add_ones(train_tx)\n",
    "    test_tx = add_ones(test_tx)\n",
    "    \n",
    "    return train_tx, test_tx"
   ]
  },
  {
   "cell_type": "markdown",
   "metadata": {},
   "source": [
    "# Cross validation for ridge regression"
   ]
  },
  {
   "cell_type": "code",
   "execution_count": 17,
   "metadata": {
    "collapsed": true
   },
   "outputs": [],
   "source": [
    "def build_k_indices(y, k_fold, seed):\n",
    "    \"\"\"build k indices for k-fold.\"\"\"\n",
    "    num_row = y.shape[0]\n",
    "    interval = int(num_row / k_fold)\n",
    "    np.random.seed(seed)\n",
    "    indices = np.random.permutation(num_row)\n",
    "    k_indices = [indices[k * interval: (k + 1) * interval]\n",
    "                 for k in range(k_fold)]\n",
    "    return np.array(k_indices)"
   ]
  },
  {
   "cell_type": "code",
   "execution_count": 26,
   "metadata": {
    "collapsed": true
   },
   "outputs": [],
   "source": [
    "def cleaned_ridge_regression_pred(single_degree, single_lambda, single_train_tx, single_test_tx, \\\n",
    "                                  single_train_y, single_test_y=[], predictions=True):\n",
    "    # Clean and prepare data !!!!!!!!!TODO!!!!!!!!!! NOT HERE WOULD BE MORE EFFICIENT.......\n",
    "    single_train_tx, single_test_tx = prepare_data(single_train_tx, single_test_tx, single_degree)\n",
    "\n",
    "    # Compute the weights with ridge regression\n",
    "    print(np.linalg.eigvals(single_train_tx.T.dot(single_train_tx)))#\\\n",
    "#          +2*len(single_train_y)*single_lambda*np.matlib.identity(single_train_tx.shape[1])))\n",
    "    weights = ridge_regression(single_train_y, single_train_tx, single_lambda)\n",
    "\n",
    "    # Compute the predictions\n",
    "    y_pred_train = predict_labels(weights, single_train_tx)\n",
    "    y_pred_test = predict_labels(weights, single_test_tx)\n",
    "    \n",
    "    # Compute accuracy of the predictions\n",
    "    accuracy_train = np.sum(y_pred_train == single_train_y)/len(single_train_y)\n",
    "    if len(single_test_y) != 0:\n",
    "        accuracy_test = np.sum(y_pred_test == single_test_y)/len(single_test_y)\n",
    "        if predictions==True:\n",
    "            return y_pred_train, y_pred_test, accuracy_train, accuracy_test\n",
    "        else:\n",
    "            return accuracy_train, accuracy_test\n",
    "    else:\n",
    "        if predictions==True:\n",
    "            return y_pred_train, y_pred_test, accuracy_train\n",
    "        else:\n",
    "            return accuracy_train"
   ]
  },
  {
   "cell_type": "code",
   "execution_count": 19,
   "metadata": {
    "collapsed": true
   },
   "outputs": [],
   "source": [
    "def cross_validation_single_jet_single_param_ridge_regression(single_jet_y, single_jet_tx, k_fold, seed, \\\n",
    "                                                              single_degree, single_lambda):\n",
    "    # get k'th subgroup in test, others in train\n",
    "    k_indices = build_k_indices(single_jet_y, k_fold, seed)\n",
    "    accuracy_train = np.zeros(k_fold)\n",
    "    accuracy_test = np.zeros(k_fold)\n",
    "    \n",
    "    for k in range(k_fold):\n",
    "        print('----- FOLD', k, '-----')\n",
    "        k_index = k_indices[k]\n",
    "        test_y = single_jet_y[k_index]\n",
    "        test_tx = single_jet_tx[k_index,:]\n",
    "\n",
    "        mask = np.ones(len(single_jet_y), dtype=bool) # set all elements to True\n",
    "        mask[k_index] = False              # set test elements to False\n",
    "        train_tx = single_jet_tx[mask,:]              # select only True elements (ie train elements)\n",
    "        train_y = single_jet_y[mask]\n",
    "\n",
    "        accuracy_train[k], accuracy_test[k] = \\\n",
    "            cleaned_ridge_regression_pred(single_degree, single_lambda, train_tx, test_tx, train_y, test_y, \\\n",
    "                                          predictions=False)\n",
    "            \n",
    "    return np.mean(accuracy_train), np.mean(accuracy_test), np.var(accuracy_train), np.var(accuracy_test), \\\n",
    "           np.min(accuracy_train), np.min(accuracy_test), np.max(accuracy_train), np.max(accuracy_test)"
   ]
  },
  {
   "cell_type": "code",
   "execution_count": 20,
   "metadata": {
    "collapsed": true
   },
   "outputs": [],
   "source": [
    "def cross_validation_single_jet_ridge_regression(degrees, lambdas, y_single_jet_train, tx_single_jet_train, \\\n",
    "                                                 k_fold, seed, returnAll=False):\n",
    "    mean_acc_cv_train = np.zeros([len(degrees), len(lambdas)])\n",
    "    mean_acc_cv_test = np.zeros([len(degrees), len(lambdas)])\n",
    "    var_acc_cv_train = np.zeros([len(degrees), len(lambdas)])\n",
    "    var_acc_cv_test = np.zeros([len(degrees), len(lambdas)])\n",
    "    min_acc_cv_train = np.zeros([len(degrees), len(lambdas)])\n",
    "    min_acc_cv_test = np.zeros([len(degrees), len(lambdas)])\n",
    "    max_acc_cv_train = np.zeros([len(degrees), len(lambdas)])\n",
    "    max_acc_cv_test = np.zeros([len(degrees), len(lambdas)])\n",
    "    \n",
    "    for i, single_degree in enumerate(degrees):\n",
    "        print('--- DEGREE', single_degree, '---')\n",
    "        for j, single_lambda in enumerate(lambdas):\n",
    "            print('--- LAMBDA', single_lambda, '---')\n",
    "            mean_acc_cv_train[i,j], mean_acc_cv_test[i,j], var_acc_cv_train[i,j], var_acc_cv_test[i,j], \\\n",
    "                min_acc_cv_train[i,j], min_acc_cv_test[i,j], max_acc_cv_train[i,j], max_acc_cv_test[i,j] = \\\n",
    "                cross_validation_single_jet_single_param_ridge_regression(y_single_jet_train, tx_single_jet_train, \\\n",
    "                                                                          k_fold, seed, single_degree, single_lambda)\n",
    "\n",
    "    max_id_deg, max_id_lambda = np.unravel_index(mean_acc_cv_test.argmax(), mean_acc_cv_test.shape)\n",
    "    print('Best mean accuracy: ', mean_acc_cv_test[max_id_deg, max_id_lambda])\n",
    "    print('attained with degree =', degrees[max_id_deg], 'and lambda =', lambdas[max_id_lambda])\n",
    "\n",
    "    if returnAll == True:\n",
    "        return degrees[max_id_deg], lambdas[max_id_lambda], mean_acc_cv_train, mean_acc_cv_test, var_acc_cv_train, \\\n",
    "               var_acc_cv_test, min_acc_cv_train, min_acc_cv_test, max_acc_cv_train, max_acc_cv_test\n",
    "    else:\n",
    "        return degrees[max_id_deg], lambdas[max_id_lambda], mean_acc_cv_train[max_id_deg, max_id_lambda], \\\n",
    "               mean_acc_cv_test[max_id_deg, max_id_lambda]"
   ]
  },
  {
   "cell_type": "code",
   "execution_count": 21,
   "metadata": {
    "collapsed": true
   },
   "outputs": [],
   "source": [
    "def cross_validation_all_jets_ridge_regression(degrees, lambdas, k_fold, seed, full_y_train, full_tx_train, \\\n",
    "                                               full_tx_test):\n",
    "    mask_jets_train = split_jets_mask(full_tx_train)\n",
    "    mask_jets_test = split_jets_mask(full_tx_test)\n",
    "    \n",
    "    len_mask = len(mask_jets_train)\n",
    "    best_degree = np.zeros(len_mask)\n",
    "    best_lambda = np.zeros(len_mask)\n",
    "    best_acc_train = np.zeros(len_mask)\n",
    "    best_acc_test = np.zeros(len_mask)\n",
    "    len_jets_train = np.zeros(len_mask)\n",
    "    len_jets_test = np.zeros(len_mask)\n",
    "\n",
    "    for mask_jet_id in range(len_mask):\n",
    "        print('********** Jet ', mask_jet_id, '***********')\n",
    "        tx_single_jet_train = full_tx_train[mask_jets_train[mask_jet_id]]\n",
    "        tx_single_jet_test = full_tx_test[mask_jets_test[mask_jet_id]]\n",
    "        y_single_jet_train = full_y_train[mask_jets_train[mask_jet_id]]\n",
    "        len_jets_train[mask_jet_id] = len(y_single_jet_train)\n",
    "        len_jets_test[mask_jet_id] = tx_single_jet_test.shape[0]\n",
    "        \n",
    "        best_degree[mask_jet_id], best_lambda[mask_jet_id], best_acc_train[mask_jet_id], best_acc_test[mask_jet_id] = \\\n",
    "            cross_validation_single_jet_ridge_regression(degrees, lambdas, y_single_jet_train, tx_single_jet_train, \\\n",
    "                                                         k_fold, seed, returnAll=False)\n",
    "    best_degree = best_degree.astype(int)\n",
    "    best_full_accuracy_train = \\\n",
    "        np.sum([best_acc_train[id]*len_jets_train[id] for id in range(len_mask)])/len(full_y_train)\n",
    "    best_full_accuracy_test = \\\n",
    "        np.sum([best_acc_test[id]*len_jets_test[id] for id in range(len_mask)])/full_tx_test.shape[0]\n",
    "        \n",
    "    return best_degree, best_lambda, best_full_accuracy_train, best_full_accuracy_test"
   ]
  },
  {
   "cell_type": "code",
   "execution_count": 22,
   "metadata": {
    "collapsed": true
   },
   "outputs": [],
   "source": [
    "def ridge_regression_all_jets_pred(full_tx_train, full_tx_test, full_y_train, degrees, lambdas):\n",
    "    mask_jets_train = split_jets_mask(full_tx_train)\n",
    "    mask_jets_test = split_jets_mask(full_tx_test)\n",
    "    \n",
    "    len_mask = len(mask_jets_train)\n",
    "    y_pred_train = np.zeros(len(full_y_train))\n",
    "    y_pred_test = np.zeros(full_tx_test.shape[0])\n",
    "    accuracy_train = np.zeros(len_mask)\n",
    "    len_jets_train = np.zeros(len_mask)\n",
    "    \n",
    "    for mask_jet_id in range(len_mask):\n",
    "        print('********** Jet ', mask_jet_id, '***********')\n",
    "        tx_single_jet_train = full_tx_train[mask_jets_train[mask_jet_id]]\n",
    "        tx_single_jet_test = full_tx_test[mask_jets_test[mask_jet_id]]\n",
    "        y_single_jet_train = full_y_train[mask_jets_train[mask_jet_id]]\n",
    "        len_jets_train[mask_jet_id] = len(y_single_jet_train)\n",
    "        \n",
    "        y_pred_train[mask_jets_train[mask_jet_id]], y_pred_test[mask_jets_test[mask_jet_id]], \\\n",
    "            accuracy_train[mask_jet_id] = cleaned_ridge_regression_pred(degrees[mask_jet_id], lambdas[mask_jet_id], \\\n",
    "                                                                        tx_single_jet_train, tx_single_jet_test, \\\n",
    "                                                                        y_single_jet_train, [], predictions=True)\n",
    "    \n",
    "    full_accuracy_train = \\\n",
    "        np.sum([accuracy_train[id]*len_jets_train[id] for id in range(len_mask)])/len(full_y_train)\n",
    "        \n",
    "    return y_pred_train, y_pred_test, full_accuracy_train\n",
    "    "
   ]
  },
  {
   "cell_type": "markdown",
   "metadata": {},
   "source": [
    "# RIDGE REGRESSION"
   ]
  },
  {
   "cell_type": "code",
   "execution_count": 29,
   "metadata": {
    "scrolled": false
   },
   "outputs": [
    {
     "name": "stdout",
     "output_type": "stream",
     "text": [
      "********** Jet  0 ***********\n",
      "--- DEGREE 11 ---\n",
      "--- LAMBDA 1 ---\n",
      "----- FOLD 0 -----\n",
      "Cleaning\n",
      "Keep unique cols\n",
      "Standardize\n",
      "Cross products\n",
      "Powers added\n",
      "Added ones\n",
      "[  1.76743614e+51 +0.00000000e+00j   1.26657523e+47 +0.00000000e+00j\n",
      "   6.93977234e+43 +0.00000000e+00j   6.50912874e+40 +0.00000000e+00j\n",
      "   3.66081630e+40 +0.00000000e+00j   2.82860440e+38 +0.00000000e+00j\n",
      "   2.13634909e+37 +0.00000000e+00j   1.94516246e+36 +0.00000000e+00j\n",
      "   8.77098362e+32 +0.00000000e+00j   3.49640093e+32 +0.00000000e+00j\n",
      "   3.05249984e+32 +0.00000000e+00j   1.13608735e+31 +0.00000000e+00j\n",
      "   3.24855224e+30 +0.00000000e+00j   1.78584760e+28 +0.00000000e+00j\n",
      "   6.54456786e+26 +0.00000000e+00j   5.77038623e+26 +0.00000000e+00j\n",
      "   8.05467003e+25 +0.00000000e+00j  -5.23538031e+25 +0.00000000e+00j\n",
      "   4.75074726e+25 +7.88868555e+24j   4.75074726e+25 -7.88868555e+24j\n",
      "  -4.26903806e+24 +0.00000000e+00j  -1.56983625e+24 +0.00000000e+00j\n",
      "  -1.67127396e+23 +1.31270669e+24j  -1.67127396e+23 -1.31270669e+24j\n",
      "   1.46939942e+24 +0.00000000e+00j   1.51237612e+24 +0.00000000e+00j\n",
      "  -4.62312900e+23 +0.00000000e+00j   4.33395193e+23 +0.00000000e+00j\n",
      "   3.45097483e+23 +1.47824512e+23j   3.45097483e+23 -1.47824512e+23j\n",
      "  -2.01200387e+23 +0.00000000e+00j   1.05945947e+23 +0.00000000e+00j\n",
      "   6.24333748e+22 +0.00000000e+00j  -3.13161945e+22 +0.00000000e+00j\n",
      "   1.16730175e+22 +0.00000000e+00j   1.86025237e+21 +7.66191670e+20j\n",
      "   1.86025237e+21 -7.66191670e+20j  -1.33420637e+21 +0.00000000e+00j\n",
      "   3.04819655e+20 +0.00000000e+00j   2.26041997e+20 +0.00000000e+00j\n",
      "  -1.12997269e+20 +0.00000000e+00j   8.18746891e+19 +0.00000000e+00j\n",
      "  -4.71287430e+19 +3.21135211e+19j  -4.71287430e+19 -3.21135211e+19j\n",
      "  -9.52696537e+18 +4.33005752e+19j  -9.52696537e+18 -4.33005752e+19j\n",
      "   4.03048641e+19 +0.00000000e+00j   1.31153890e+19 +1.89543246e+19j\n",
      "   1.31153890e+19 -1.89543246e+19j  -1.81582332e+19 +0.00000000e+00j\n",
      "   1.19136184e+19 +9.34028456e+18j   1.19136184e+19 -9.34028456e+18j\n",
      "   1.55303393e+19 +0.00000000e+00j  -4.47147143e+18 +1.22330789e+19j\n",
      "  -4.47147143e+18 -1.22330789e+19j  -9.23782655e+18 +0.00000000e+00j\n",
      "   5.86228642e+18 +4.01278129e+18j   5.86228642e+18 -4.01278129e+18j\n",
      "  -1.22862970e+18 +3.01628214e+18j  -1.22862970e+18 -3.01628214e+18j\n",
      "  -2.68337617e+18 +0.00000000e+00j   2.53560334e+18 +0.00000000e+00j\n",
      "   1.21004924e+18 +1.20051195e+18j   1.21004924e+18 -1.20051195e+18j\n",
      "   1.53383789e+18 +0.00000000e+00j  -7.93517365e+17 +0.00000000e+00j\n",
      "   8.18678111e+17 +0.00000000e+00j  -1.25479315e+17 +3.09088103e+17j\n",
      "  -1.25479315e+17 -3.09088103e+17j   1.67515657e+17 +2.34602198e+17j\n",
      "   1.67515657e+17 -2.34602198e+17j  -2.62264830e+17 +0.00000000e+00j\n",
      "  -1.86185932e+17 +4.31663745e+16j  -1.86185932e+17 -4.31663745e+16j\n",
      "   1.44584879e+17 +1.02353483e+17j   1.44584879e+17 -1.02353483e+17j\n",
      "   1.65870415e+17 +0.00000000e+00j  -1.38679179e+17 +0.00000000e+00j\n",
      "   7.83785667e+16 +7.64422500e+15j   7.83785667e+16 -7.64422500e+15j\n",
      "   3.08875416e+16 +3.32424188e+16j   3.08875416e+16 -3.32424188e+16j\n",
      "  -6.68267575e+15 +2.50984152e+16j  -6.68267575e+15 -2.50984152e+16j\n",
      "   1.10203880e+16 +1.95650548e+16j   1.10203880e+16 -1.95650548e+16j\n",
      "  -9.32551433e+15 +7.52111795e+15j  -9.32551433e+15 -7.52111795e+15j\n",
      "   1.02244520e+16 +5.96960176e+15j   1.02244520e+16 -5.96960176e+15j\n",
      "   5.18719182e+15 +0.00000000e+00j  -1.39422333e+15 +0.00000000e+00j\n",
      "   1.03657294e+15 +1.37384370e+14j   1.03657294e+15 -1.37384370e+14j\n",
      "   8.16834672e+13 +4.03525629e+14j   8.16834672e+13 -4.03525629e+14j\n",
      "  -9.81970278e+13 +1.12008800e+14j  -9.81970278e+13 -1.12008800e+14j\n",
      "   1.35996689e+14 +0.00000000e+00j  -8.97606154e+13 +0.00000000e+00j\n",
      "   3.49357127e+13 +3.38512147e+13j   3.49357127e+13 -3.38512147e+13j\n",
      "  -4.54410011e+13 +0.00000000e+00j   4.04828727e+13 +0.00000000e+00j\n",
      "  -5.44480743e+12 +3.16949232e+13j  -5.44480743e+12 -3.16949232e+13j\n",
      "   1.47307676e+13 +1.19332369e+13j   1.47307676e+13 -1.19332369e+13j\n",
      "  -5.67193989e+12 +0.00000000e+00j   2.17037520e+12 +3.63536942e+12j\n",
      "   2.17037520e+12 -3.63536942e+12j   1.82446083e+12 +0.00000000e+00j\n",
      "  -8.00177515e+10 +9.48139093e+11j  -8.00177515e+10 -9.48139093e+11j\n",
      "   9.74349943e+11 +0.00000000e+00j   6.89299261e+11 +0.00000000e+00j\n",
      "  -3.82889003e+11 +0.00000000e+00j   2.43468876e+11 +3.05348747e+11j\n",
      "   2.43468876e+11 -3.05348747e+11j  -7.72446204e+10 +1.19071825e+11j\n",
      "  -7.72446204e+10 -1.19071825e+11j   5.14830165e+10 +4.07011342e+10j\n",
      "   5.14830165e+10 -4.07011342e+10j   3.38531790e+10 +0.00000000e+00j\n",
      "  -1.11685226e+10 +2.38225292e+10j  -1.11685226e+10 -2.38225292e+10j\n",
      "  -1.89345212e+09 +4.52984565e+09j  -1.89345212e+09 -4.52984565e+09j\n",
      "   4.24851674e+09 +1.70442664e+09j   4.24851674e+09 -1.70442664e+09j\n",
      "   4.03825271e+09 +0.00000000e+00j  -1.43821081e+09 +0.00000000e+00j\n",
      "   6.84658646e+08 +9.97732638e+08j   6.84658646e+08 -9.97732638e+08j\n",
      "   1.10954235e+09 +0.00000000e+00j   6.98741998e+08 +1.80130156e+08j\n",
      "   6.98741998e+08 -1.80130156e+08j  -1.01376041e+07 +4.62097351e+08j\n",
      "  -1.01376041e+07 -4.62097351e+08j   1.12093007e+08 +0.00000000e+00j\n",
      "  -4.93743405e+07 +6.55216928e+07j  -4.93743405e+07 -6.55216928e+07j\n",
      "  -1.68129828e+07 +2.93227193e+07j  -1.68129828e+07 -2.93227193e+07j\n",
      "  -1.84770220e+07 +0.00000000e+00j   1.15968583e+07 +1.24514883e+07j\n",
      "   1.15968583e+07 -1.24514883e+07j   1.08991262e+07 +7.21507597e+06j\n",
      "   1.08991262e+07 -7.21507597e+06j   9.94721217e+06 +0.00000000e+00j\n",
      "   8.87052770e+06 +0.00000000e+00j   5.32808746e+06 +8.12158776e+05j\n",
      "   5.32808746e+06 -8.12158776e+05j  -4.18489000e+06 +1.04061929e+05j\n",
      "  -4.18489000e+06 -1.04061929e+05j   2.79662324e+06 +2.60113448e+06j\n",
      "   2.79662324e+06 -2.60113448e+06j   1.00910950e+06 +2.75884673e+06j\n",
      "   1.00910950e+06 -2.75884673e+06j   2.99122823e+06 +0.00000000e+00j\n",
      "   2.43554658e+06 +1.41253280e+06j   2.43554658e+06 -1.41253280e+06j\n",
      "  -2.21395292e+06 +6.98772922e+05j  -2.21395292e+06 -6.98772922e+05j\n",
      "  -1.52129322e+06 +1.72940812e+06j  -1.52129322e+06 -1.72940812e+06j\n",
      "  -8.59765088e+05 +2.13492739e+06j  -8.59765088e+05 -2.13492739e+06j\n",
      "   1.07457302e+05 +2.13840312e+06j   1.07457302e+05 -2.13840312e+06j\n",
      "   2.09794477e+06 +0.00000000e+00j   1.29431697e+06 +1.45063519e+06j\n",
      "   1.29431697e+06 -1.45063519e+06j  -9.13639174e+05 +1.40649754e+06j\n",
      "  -9.13639174e+05 -1.40649754e+06j   8.79690417e+05 +1.18445835e+06j\n",
      "   8.79690417e+05 -1.18445835e+06j   1.23054932e+06 +2.69154931e+05j\n",
      "   1.23054932e+06 -2.69154931e+05j   1.13757035e+06 +0.00000000e+00j\n",
      "  -8.91046228e+05 +0.00000000e+00j   4.95567885e+05 +7.78593629e+05j\n",
      "   4.95567885e+05 -7.78593629e+05j   9.19388231e+05 +0.00000000e+00j\n",
      "  -2.28921611e+05 +7.86922817e+05j  -2.28921611e+05 -7.86922817e+05j\n",
      "   5.13842269e+05 +0.00000000e+00j   3.40053363e+05 +2.63727807e+05j\n",
      "   3.40053363e+05 -2.63727807e+05j  -4.43748543e+05 +0.00000000e+00j\n",
      "  -3.08782874e+05 +0.00000000e+00j   2.23783269e+05 +1.65402589e+05j\n",
      "   2.23783269e+05 -1.65402589e+05j  -2.53228266e+05 +0.00000000e+00j\n",
      "   1.28287823e+05 +1.32211152e+05j   1.28287823e+05 -1.32211152e+05j\n",
      "  -1.47052653e+05 +0.00000000e+00j   1.49957923e+05 +3.01670462e+04j\n",
      "   1.49957923e+05 -3.01670462e+04j   1.43971998e+05 +0.00000000e+00j\n",
      "   7.44655421e+04 +4.53809300e+04j   7.44655421e+04 -4.53809300e+04j\n",
      "   6.96444906e+04 +0.00000000e+00j  -7.94860612e+03 +4.68507020e+04j\n",
      "  -7.94860612e+03 -4.68507020e+04j   3.79468966e+04 +3.20508688e+04j\n",
      "   3.79468966e+04 -3.20508688e+04j   3.98650726e+04 +0.00000000e+00j\n",
      "   3.49268588e+04 +0.00000000e+00j   2.55837387e+04 +0.00000000e+00j\n",
      "  -4.75587758e+03 +2.09577301e+04j  -4.75587758e+03 -2.09577301e+04j\n",
      "   1.78023397e+04 +8.29892479e+03j   1.78023397e+04 -8.29892479e+03j\n",
      "   1.79197739e+04 +0.00000000e+00j  -1.02873623e+04 +1.35260686e+03j\n",
      "  -1.02873623e+04 -1.35260686e+03j   1.05205648e+04 +0.00000000e+00j\n",
      "   5.88426976e+03 +7.83524722e+03j   5.88426976e+03 -7.83524722e+03j\n",
      "   6.27556814e+03 +0.00000000e+00j   4.45085185e+03 +2.72520532e+03j\n",
      "   4.45085185e+03 -2.72520532e+03j   9.30081793e+02 +4.07766656e+03j\n",
      "   9.30081793e+02 -4.07766656e+03j   4.38441539e+03 +1.82646119e+02j\n",
      "   4.38441539e+03 -1.82646119e+02j   3.19469123e+03 +0.00000000e+00j\n",
      "  -1.53480265e+03 +2.50409726e+03j  -1.53480265e+03 -2.50409726e+03j\n",
      "   2.21493492e+03 +0.00000000e+00j   2.13869140e+03 +0.00000000e+00j\n",
      "   1.93141845e+03 +0.00000000e+00j  -1.36151950e+03 +7.68802686e+01j\n",
      "  -1.36151950e+03 -7.68802686e+01j   8.52140971e+02 +1.04939028e+03j\n",
      "   8.52140971e+02 -1.04939028e+03j   1.51593155e+03 +0.00000000e+00j\n",
      "   1.38628118e+03 +7.81958658e+01j   1.38628118e+03 -7.81958658e+01j\n",
      "  -9.39185407e+02 +0.00000000e+00j   9.56095832e+02 +2.40054172e+02j\n",
      "   9.56095832e+02 -2.40054172e+02j   8.08066967e+02 +1.03161253e+02j\n",
      "   8.08066967e+02 -1.03161253e+02j   1.44023278e+02 +6.80684157e+02j\n",
      "   1.44023278e+02 -6.80684157e+02j   6.20729514e+02 +1.61224256e+02j\n",
      "   6.20729514e+02 -1.61224256e+02j   5.96279561e+02 +0.00000000e+00j\n",
      "  -1.38190302e+02 +5.10610355e+02j  -1.38190302e+02 -5.10610355e+02j\n",
      "  -4.04798113e+02 +2.72474121e+02j  -4.04798113e+02 -2.72474121e+02j\n",
      "   4.15163981e+02 +2.42673379e+02j   4.15163981e+02 -2.42673379e+02j\n",
      "  -3.99946041e+02 +0.00000000e+00j  -3.85030182e+02 +0.00000000e+00j\n",
      "   1.10012296e+02 +3.86375756e+02j   1.10012296e+02 -3.86375756e+02j\n",
      "   4.36211634e+02 +0.00000000e+00j   2.22526441e+02 +2.40555118e+02j\n",
      "   2.22526441e+02 -2.40555118e+02j   3.19669853e+02 +1.05548210e+02j\n",
      "   3.19669853e+02 -1.05548210e+02j   3.35490235e+02 +4.37300127e+01j\n",
      "   3.35490235e+02 -4.37300127e+01j   2.61500355e+02 +0.00000000e+00j\n",
      "  -1.52552609e+02 +8.61305920e+01j  -1.52552609e+02 -8.61305920e+01j\n",
      "   2.03816609e+02 +0.00000000e+00j   1.67988259e+01 +1.68502023e+02j\n",
      "   1.67988259e+01 -1.68502023e+02j   1.06842786e+02 +9.43718723e+01j\n",
      "   1.06842786e+02 -9.43718723e+01j   1.54609103e+02 +0.00000000e+00j\n",
      "   7.96733963e+00 +1.27970067e+02j   7.96733963e+00 -1.27970067e+02j\n",
      "  -9.57530371e+01 +0.00000000e+00j   8.69620007e+01 +4.97447501e+01j\n",
      "   8.69620007e+01 -4.97447501e+01j   1.13798318e+02 +0.00000000e+00j\n",
      "   1.06381980e+02 +0.00000000e+00j   9.60317496e+01 +0.00000000e+00j\n",
      "   7.44384747e+01 +0.00000000e+00j  -5.18567709e+01 +8.18141211e+00j\n",
      "  -5.18567709e+01 -8.18141211e+00j   5.45561146e+01 +0.00000000e+00j\n",
      "   4.30695303e+01 +1.41231902e+01j   4.30695303e+01 -1.41231902e+01j\n",
      "   8.41711185e+00 +3.35554660e+01j   8.41711185e+00 -3.35554660e+01j\n",
      "   4.01508786e+01 +0.00000000e+00j  -1.45459112e+01 +2.49170667e+01j\n",
      "  -1.45459112e+01 -2.49170667e+01j   1.46703349e+01 +1.92012140e+01j\n",
      "   1.46703349e+01 -1.92012140e+01j   2.83710267e+01 +0.00000000e+00j\n",
      "   2.62537102e+01 +0.00000000e+00j   2.22930876e+01 +0.00000000e+00j\n",
      "   1.64119956e+01 +0.00000000e+00j   1.44321660e+01 +2.64800069e+00j\n",
      "   1.44321660e+01 -2.64800069e+00j   1.50581828e+01 +0.00000000e+00j\n",
      "   1.22350345e+01 +1.69904825e+00j   1.22350345e+01 -1.69904825e+00j\n",
      "  -9.50557272e+00 +0.00000000e+00j   9.20750518e+00 +0.00000000e+00j\n",
      "   8.12730824e+00 +0.00000000e+00j   7.51606432e+00 +0.00000000e+00j\n",
      "   6.78056721e+00 +7.54926206e-01j   6.78056721e+00 -7.54926206e-01j\n",
      "  -3.67726276e+00 +2.88007416e+00j  -3.67726276e+00 -2.88007416e+00j\n",
      "   6.13111994e+00 +0.00000000e+00j   5.35906936e+00 +0.00000000e+00j\n",
      "   4.65314657e+00 +0.00000000e+00j   4.28249790e+00 +0.00000000e+00j\n",
      "   4.09582599e+00 +0.00000000e+00j   1.59862262e+00 +2.46871776e+00j\n",
      "   1.59862262e+00 -2.46871776e+00j   3.39536713e+00 +3.83339623e-01j\n",
      "   3.39536713e+00 -3.83339623e-01j   3.48420919e+00 +0.00000000e+00j\n",
      "   3.18757162e+00 +0.00000000e+00j   2.84243037e+00 +0.00000000e+00j\n",
      "   2.39448206e+00 +0.00000000e+00j   1.90784727e+00 +0.00000000e+00j\n",
      "   1.65014239e+00 +3.05915994e-01j   1.65014239e+00 -3.05915994e-01j\n",
      "   1.53595792e+00 +0.00000000e+00j   1.18537541e+00 +0.00000000e+00j\n",
      "   1.04126824e+00 +0.00000000e+00j   9.55105477e-01 +0.00000000e+00j\n",
      "   8.99685407e-01 +0.00000000e+00j   8.86944927e-01 +0.00000000e+00j\n",
      "   8.53294234e-01 +0.00000000e+00j  -3.67911686e-01 +3.76514916e-01j\n",
      "  -3.67911686e-01 -3.76514916e-01j   6.78300405e-01 +0.00000000e+00j\n",
      "   5.93104094e-01 +1.83644928e-01j   5.93104094e-01 -1.83644928e-01j\n",
      "   5.79098115e-01 +0.00000000e+00j   5.40410776e-01 +0.00000000e+00j\n",
      "   4.52408877e-01 +0.00000000e+00j   2.57372292e-01 +2.48493336e-01j\n",
      "   2.57372292e-01 -2.48493336e-01j   2.47314714e-01 +0.00000000e+00j\n",
      "  -1.01840176e-01 +6.06161733e-02j  -1.01840176e-01 -6.06161733e-02j\n",
      "   1.33187163e-01 +0.00000000e+00j   1.15985297e-01 +0.00000000e+00j\n",
      "   8.66539544e-02 +0.00000000e+00j   7.74327234e-02 +5.26366150e-03j\n",
      "   7.74327234e-02 -5.26366150e-03j   5.36548452e-02 +0.00000000e+00j\n",
      "   3.65343418e-02 +2.32564493e-02j   3.65343418e-02 -2.32564493e-02j\n",
      "   3.39969869e-02 +1.23306710e-02j   3.39969869e-02 -1.23306710e-02j\n",
      "   3.51793171e-02 +2.04544226e-03j   3.51793171e-02 -2.04544226e-03j\n",
      "   3.33137090e-02 +6.94447432e-03j   3.33137090e-02 -6.94447432e-03j\n",
      "  -1.94395138e-03 +1.79838306e-02j  -1.94395138e-03 -1.79838306e-02j\n",
      "  -1.43718556e-02 +0.00000000e+00j   2.13845285e-02 +7.72112663e-04j\n",
      "   2.13845285e-02 -7.72112663e-04j   8.09360132e-03 +1.01536912e-02j\n",
      "   8.09360132e-03 -1.01536912e-02j   1.56783108e-02 +0.00000000e+00j\n",
      "   1.35899292e-02 +4.72420595e-03j   1.35899292e-02 -4.72420595e-03j\n",
      "   1.17098244e-02 +0.00000000e+00j   1.09250876e-02 +0.00000000e+00j\n",
      "   8.85075102e-03 +4.42220346e-03j   8.85075102e-03 -4.42220346e-03j\n",
      "  -1.06717097e-03 +6.11206124e-03j  -1.06717097e-03 -6.11206124e-03j\n",
      "   7.24660787e-03 +0.00000000e+00j   5.77812532e-03 +0.00000000e+00j\n",
      "  -3.34501022e-03 +2.14030554e-03j  -3.34501022e-03 -2.14030554e-03j\n",
      "   3.76586286e-03 +4.07740489e-04j   3.76586286e-03 -4.07740489e-04j\n",
      "  -2.90229336e-03 +0.00000000e+00j   2.56777426e-03 +1.09039554e-03j\n",
      "   2.56777426e-03 -1.09039554e-03j   1.15078003e-03 +1.56910605e-03j\n",
      "   1.15078003e-03 -1.56910605e-03j   1.41846411e-03 +0.00000000e+00j\n",
      "   1.11760577e-03 +0.00000000e+00j  -8.91622762e-04 +0.00000000e+00j\n",
      "   9.81972885e-04 +0.00000000e+00j   7.65629691e-04 +0.00000000e+00j\n",
      "   4.91104819e-04 +4.31966925e-04j   4.91104819e-04 -4.31966925e-04j\n",
      "  -6.14480582e-04 +0.00000000e+00j   1.81169167e-04 +5.23930998e-04j\n",
      "   1.81169167e-04 -5.23930998e-04j   5.64973352e-04 +0.00000000e+00j\n",
      "  -4.02718557e-04 +0.00000000e+00j   4.45882854e-04 +0.00000000e+00j\n",
      "   3.44836376e-04 +0.00000000e+00j   2.26369436e-04 +0.00000000e+00j\n",
      "  -8.96610806e-05 +5.44929219e-05j  -8.96610806e-05 -5.44929219e-05j\n",
      "  -5.83486307e-05 +6.67994549e-05j  -5.83486307e-05 -6.67994549e-05j\n",
      "   7.23981876e-05 +4.22550353e-05j   7.23981876e-05 -4.22550353e-05j\n",
      "   1.49995364e-05 +4.72451950e-05j   1.49995364e-05 -4.72451950e-05j\n",
      "   4.87746659e-05 +0.00000000e+00j  -3.18038420e-05 +0.00000000e+00j\n",
      "  -2.69650707e-05 +0.00000000e+00j   2.28070316e-05 +0.00000000e+00j\n",
      "   1.02302159e-05 +1.72588095e-05j   1.02302159e-05 -1.72588095e-05j\n",
      "  -1.58747142e-05 +5.81945889e-06j  -1.58747142e-05 -5.81945889e-06j\n",
      "   1.15397079e-05 +5.57523809e-06j   1.15397079e-05 -5.57523809e-06j\n",
      "   6.97684044e-06 +9.54333126e-06j   6.97684044e-06 -9.54333126e-06j\n",
      "   1.25453927e-06 +9.74378475e-06j   1.25453927e-06 -9.74378475e-06j\n",
      "   8.69310656e-06 +0.00000000e+00j  -6.03913623e-06 +0.00000000e+00j\n",
      "  -4.31055448e-06 +2.13654884e-07j  -4.31055448e-06 -2.13654884e-07j\n",
      "  -2.66063394e-06 +2.74383025e-06j  -2.66063394e-06 -2.74383025e-06j\n",
      "   1.02330421e-06 +3.54082112e-06j   1.02330421e-06 -3.54082112e-06j\n",
      "   2.54549612e-06 +4.35145448e-07j   2.54549612e-06 -4.35145448e-07j\n",
      "  -1.41796205e-06 +1.92518371e-06j  -1.41796205e-06 -1.92518371e-06j\n",
      "   1.24328303e-06 +1.61679976e-06j   1.24328303e-06 -1.61679976e-06j\n",
      "   6.13281673e-07 +1.50956983e-06j   6.13281673e-07 -1.50956983e-06j\n",
      "   1.51386579e-06 +0.00000000e+00j  -9.22247372e-07 +0.00000000e+00j\n",
      "  -4.88162222e-07 +7.58595363e-07j  -4.88162222e-07 -7.58595363e-07j\n",
      "   1.34245530e-07 +6.90283333e-07j   1.34245530e-07 -6.90283333e-07j\n",
      "   5.05345713e-07 +4.44870212e-07j   5.05345713e-07 -4.44870212e-07j\n",
      "  -5.23287273e-07 +2.53865577e-07j  -5.23287273e-07 -2.53865577e-07j\n",
      "   5.15252922e-07 +0.00000000e+00j   1.76689316e-07 +3.64788662e-07j\n",
      "   1.76689316e-07 -3.64788662e-07j   4.68801668e-08 +3.60322888e-07j\n",
      "   4.68801668e-08 -3.60322888e-07j   2.96913479e-07 +0.00000000e+00j\n",
      "  -1.59581789e-07 +9.83611907e-08j  -1.59581789e-07 -9.83611907e-08j\n",
      "   7.32327483e-08 +1.58313061e-07j   7.32327483e-08 -1.58313061e-07j\n",
      "   1.37344247e-07 +6.32005553e-08j   1.37344247e-07 -6.32005553e-08j\n",
      "  -3.28818443e-09 +1.36767683e-07j  -3.28818443e-09 -1.36767683e-07j\n",
      "   1.06975239e-07 +0.00000000e+00j   3.23796226e-08 +8.35425401e-08j\n",
      "   3.23796226e-08 -8.35425401e-08j  -9.44765454e-08 +5.42256306e-09j\n",
      "  -9.44765454e-08 -5.42256306e-09j  -2.16124603e-08 +1.96754151e-08j\n",
      "  -2.16124603e-08 -1.96754151e-08j   2.32369086e-08 +2.02859244e-08j\n",
      "   2.32369086e-08 -2.02859244e-08j  -1.19903683e-09 +1.80774816e-08j\n",
      "  -1.19903683e-09 -1.80774816e-08j  -1.88832189e-08 +0.00000000e+00j\n",
      "   4.96313248e-13 +0.00000000e+00j]\n"
     ]
    },
    {
     "ename": "LinAlgError",
     "evalue": "Singular matrix",
     "output_type": "error",
     "traceback": [
      "\u001b[0;31m---------------------------------------------------------------------------\u001b[0m",
      "\u001b[0;31mLinAlgError\u001b[0m                               Traceback (most recent call last)",
      "\u001b[0;32m<ipython-input-29-8bd10f11772d>\u001b[0m in \u001b[0;36m<module>\u001b[0;34m()\u001b[0m\n\u001b[1;32m      4\u001b[0m \u001b[0mseed\u001b[0m \u001b[0;34m=\u001b[0m \u001b[0;36m1\u001b[0m\u001b[0;34m\u001b[0m\u001b[0m\n\u001b[1;32m      5\u001b[0m \u001b[0;34m\u001b[0m\u001b[0m\n\u001b[0;32m----> 6\u001b[0;31m \u001b[0mbest_degree\u001b[0m\u001b[0;34m,\u001b[0m \u001b[0mbest_lambda\u001b[0m\u001b[0;34m,\u001b[0m \u001b[0mbest_mean_accuracy_train\u001b[0m\u001b[0;34m,\u001b[0m \u001b[0mbest_mean_accuracy_test\u001b[0m \u001b[0;34m=\u001b[0m     \u001b[0mcross_validation_all_jets_ridge_regression\u001b[0m\u001b[0;34m(\u001b[0m\u001b[0mdegrees\u001b[0m\u001b[0;34m,\u001b[0m \u001b[0mlambdas\u001b[0m\u001b[0;34m,\u001b[0m \u001b[0mk_fold\u001b[0m\u001b[0;34m,\u001b[0m \u001b[0mseed\u001b[0m\u001b[0;34m,\u001b[0m \u001b[0my_train\u001b[0m\u001b[0;34m,\u001b[0m \u001b[0mtx_train\u001b[0m\u001b[0;34m,\u001b[0m \u001b[0mtx_test\u001b[0m\u001b[0;34m)\u001b[0m\u001b[0;34m\u001b[0m\u001b[0m\n\u001b[0m",
      "\u001b[0;32m<ipython-input-21-bf2ab6a5e850>\u001b[0m in \u001b[0;36mcross_validation_all_jets_ridge_regression\u001b[0;34m(degrees, lambdas, k_fold, seed, full_y_train, full_tx_train, full_tx_test)\u001b[0m\n\u001b[1;32m     19\u001b[0m         \u001b[0mlen_jets_test\u001b[0m\u001b[0;34m[\u001b[0m\u001b[0mmask_jet_id\u001b[0m\u001b[0;34m]\u001b[0m \u001b[0;34m=\u001b[0m \u001b[0mtx_single_jet_test\u001b[0m\u001b[0;34m.\u001b[0m\u001b[0mshape\u001b[0m\u001b[0;34m[\u001b[0m\u001b[0;36m0\u001b[0m\u001b[0;34m]\u001b[0m\u001b[0;34m\u001b[0m\u001b[0m\n\u001b[1;32m     20\u001b[0m \u001b[0;34m\u001b[0m\u001b[0m\n\u001b[0;32m---> 21\u001b[0;31m         \u001b[0mbest_degree\u001b[0m\u001b[0;34m[\u001b[0m\u001b[0mmask_jet_id\u001b[0m\u001b[0;34m]\u001b[0m\u001b[0;34m,\u001b[0m \u001b[0mbest_lambda\u001b[0m\u001b[0;34m[\u001b[0m\u001b[0mmask_jet_id\u001b[0m\u001b[0;34m]\u001b[0m\u001b[0;34m,\u001b[0m \u001b[0mbest_acc_train\u001b[0m\u001b[0;34m[\u001b[0m\u001b[0mmask_jet_id\u001b[0m\u001b[0;34m]\u001b[0m\u001b[0;34m,\u001b[0m \u001b[0mbest_acc_test\u001b[0m\u001b[0;34m[\u001b[0m\u001b[0mmask_jet_id\u001b[0m\u001b[0;34m]\u001b[0m \u001b[0;34m=\u001b[0m             \u001b[0mcross_validation_single_jet_ridge_regression\u001b[0m\u001b[0;34m(\u001b[0m\u001b[0mdegrees\u001b[0m\u001b[0;34m,\u001b[0m \u001b[0mlambdas\u001b[0m\u001b[0;34m,\u001b[0m \u001b[0my_single_jet_train\u001b[0m\u001b[0;34m,\u001b[0m \u001b[0mtx_single_jet_train\u001b[0m\u001b[0;34m,\u001b[0m                                                          \u001b[0mk_fold\u001b[0m\u001b[0;34m,\u001b[0m \u001b[0mseed\u001b[0m\u001b[0;34m,\u001b[0m \u001b[0mreturnAll\u001b[0m\u001b[0;34m=\u001b[0m\u001b[0;32mFalse\u001b[0m\u001b[0;34m)\u001b[0m\u001b[0;34m\u001b[0m\u001b[0m\n\u001b[0m\u001b[1;32m     22\u001b[0m     \u001b[0mbest_degree\u001b[0m \u001b[0;34m=\u001b[0m \u001b[0mbest_degree\u001b[0m\u001b[0;34m.\u001b[0m\u001b[0mastype\u001b[0m\u001b[0;34m(\u001b[0m\u001b[0mint\u001b[0m\u001b[0;34m)\u001b[0m\u001b[0;34m\u001b[0m\u001b[0m\n\u001b[1;32m     23\u001b[0m     \u001b[0mbest_full_accuracy_train\u001b[0m \u001b[0;34m=\u001b[0m         \u001b[0mnp\u001b[0m\u001b[0;34m.\u001b[0m\u001b[0msum\u001b[0m\u001b[0;34m(\u001b[0m\u001b[0;34m[\u001b[0m\u001b[0mbest_acc_train\u001b[0m\u001b[0;34m[\u001b[0m\u001b[0mid\u001b[0m\u001b[0;34m]\u001b[0m\u001b[0;34m*\u001b[0m\u001b[0mlen_jets_train\u001b[0m\u001b[0;34m[\u001b[0m\u001b[0mid\u001b[0m\u001b[0;34m]\u001b[0m \u001b[0;32mfor\u001b[0m \u001b[0mid\u001b[0m \u001b[0;32min\u001b[0m \u001b[0mrange\u001b[0m\u001b[0;34m(\u001b[0m\u001b[0mlen_mask\u001b[0m\u001b[0;34m)\u001b[0m\u001b[0;34m]\u001b[0m\u001b[0;34m)\u001b[0m\u001b[0;34m/\u001b[0m\u001b[0mlen\u001b[0m\u001b[0;34m(\u001b[0m\u001b[0mfull_y_train\u001b[0m\u001b[0;34m)\u001b[0m\u001b[0;34m\u001b[0m\u001b[0m\n",
      "\u001b[0;32m<ipython-input-20-fe9b691642b6>\u001b[0m in \u001b[0;36mcross_validation_single_jet_ridge_regression\u001b[0;34m(degrees, lambdas, y_single_jet_train, tx_single_jet_train, k_fold, seed, returnAll)\u001b[0m\n\u001b[1;32m     13\u001b[0m         \u001b[0;32mfor\u001b[0m \u001b[0mj\u001b[0m\u001b[0;34m,\u001b[0m \u001b[0msingle_lambda\u001b[0m \u001b[0;32min\u001b[0m \u001b[0menumerate\u001b[0m\u001b[0;34m(\u001b[0m\u001b[0mlambdas\u001b[0m\u001b[0;34m)\u001b[0m\u001b[0;34m:\u001b[0m\u001b[0;34m\u001b[0m\u001b[0m\n\u001b[1;32m     14\u001b[0m             \u001b[0mprint\u001b[0m\u001b[0;34m(\u001b[0m\u001b[0;34m'--- LAMBDA'\u001b[0m\u001b[0;34m,\u001b[0m \u001b[0msingle_lambda\u001b[0m\u001b[0;34m,\u001b[0m \u001b[0;34m'---'\u001b[0m\u001b[0;34m)\u001b[0m\u001b[0;34m\u001b[0m\u001b[0m\n\u001b[0;32m---> 15\u001b[0;31m             \u001b[0mmean_acc_cv_train\u001b[0m\u001b[0;34m[\u001b[0m\u001b[0mi\u001b[0m\u001b[0;34m,\u001b[0m\u001b[0mj\u001b[0m\u001b[0;34m]\u001b[0m\u001b[0;34m,\u001b[0m \u001b[0mmean_acc_cv_test\u001b[0m\u001b[0;34m[\u001b[0m\u001b[0mi\u001b[0m\u001b[0;34m,\u001b[0m\u001b[0mj\u001b[0m\u001b[0;34m]\u001b[0m\u001b[0;34m,\u001b[0m \u001b[0mvar_acc_cv_train\u001b[0m\u001b[0;34m[\u001b[0m\u001b[0mi\u001b[0m\u001b[0;34m,\u001b[0m\u001b[0mj\u001b[0m\u001b[0;34m]\u001b[0m\u001b[0;34m,\u001b[0m \u001b[0mvar_acc_cv_test\u001b[0m\u001b[0;34m[\u001b[0m\u001b[0mi\u001b[0m\u001b[0;34m,\u001b[0m\u001b[0mj\u001b[0m\u001b[0;34m]\u001b[0m\u001b[0;34m,\u001b[0m                 \u001b[0mmin_acc_cv_train\u001b[0m\u001b[0;34m[\u001b[0m\u001b[0mi\u001b[0m\u001b[0;34m,\u001b[0m\u001b[0mj\u001b[0m\u001b[0;34m]\u001b[0m\u001b[0;34m,\u001b[0m \u001b[0mmin_acc_cv_test\u001b[0m\u001b[0;34m[\u001b[0m\u001b[0mi\u001b[0m\u001b[0;34m,\u001b[0m\u001b[0mj\u001b[0m\u001b[0;34m]\u001b[0m\u001b[0;34m,\u001b[0m \u001b[0mmax_acc_cv_train\u001b[0m\u001b[0;34m[\u001b[0m\u001b[0mi\u001b[0m\u001b[0;34m,\u001b[0m\u001b[0mj\u001b[0m\u001b[0;34m]\u001b[0m\u001b[0;34m,\u001b[0m \u001b[0mmax_acc_cv_test\u001b[0m\u001b[0;34m[\u001b[0m\u001b[0mi\u001b[0m\u001b[0;34m,\u001b[0m\u001b[0mj\u001b[0m\u001b[0;34m]\u001b[0m \u001b[0;34m=\u001b[0m                 \u001b[0mcross_validation_single_jet_single_param_ridge_regression\u001b[0m\u001b[0;34m(\u001b[0m\u001b[0my_single_jet_train\u001b[0m\u001b[0;34m,\u001b[0m \u001b[0mtx_single_jet_train\u001b[0m\u001b[0;34m,\u001b[0m                                                                           \u001b[0mk_fold\u001b[0m\u001b[0;34m,\u001b[0m \u001b[0mseed\u001b[0m\u001b[0;34m,\u001b[0m \u001b[0msingle_degree\u001b[0m\u001b[0;34m,\u001b[0m \u001b[0msingle_lambda\u001b[0m\u001b[0;34m)\u001b[0m\u001b[0;34m\u001b[0m\u001b[0m\n\u001b[0m\u001b[1;32m     16\u001b[0m \u001b[0;34m\u001b[0m\u001b[0m\n\u001b[1;32m     17\u001b[0m     \u001b[0mmax_id_deg\u001b[0m\u001b[0;34m,\u001b[0m \u001b[0mmax_id_lambda\u001b[0m \u001b[0;34m=\u001b[0m \u001b[0mnp\u001b[0m\u001b[0;34m.\u001b[0m\u001b[0munravel_index\u001b[0m\u001b[0;34m(\u001b[0m\u001b[0mmean_acc_cv_test\u001b[0m\u001b[0;34m.\u001b[0m\u001b[0margmax\u001b[0m\u001b[0;34m(\u001b[0m\u001b[0;34m)\u001b[0m\u001b[0;34m,\u001b[0m \u001b[0mmean_acc_cv_test\u001b[0m\u001b[0;34m.\u001b[0m\u001b[0mshape\u001b[0m\u001b[0;34m)\u001b[0m\u001b[0;34m\u001b[0m\u001b[0m\n",
      "\u001b[0;32m<ipython-input-19-ce7b2eaeb3ce>\u001b[0m in \u001b[0;36mcross_validation_single_jet_single_param_ridge_regression\u001b[0;34m(single_jet_y, single_jet_tx, k_fold, seed, single_degree, single_lambda)\u001b[0m\n\u001b[1;32m     16\u001b[0m         \u001b[0mtrain_y\u001b[0m \u001b[0;34m=\u001b[0m \u001b[0msingle_jet_y\u001b[0m\u001b[0;34m[\u001b[0m\u001b[0mmask\u001b[0m\u001b[0;34m]\u001b[0m\u001b[0;34m\u001b[0m\u001b[0m\n\u001b[1;32m     17\u001b[0m \u001b[0;34m\u001b[0m\u001b[0m\n\u001b[0;32m---> 18\u001b[0;31m         \u001b[0maccuracy_train\u001b[0m\u001b[0;34m[\u001b[0m\u001b[0mk\u001b[0m\u001b[0;34m]\u001b[0m\u001b[0;34m,\u001b[0m \u001b[0maccuracy_test\u001b[0m\u001b[0;34m[\u001b[0m\u001b[0mk\u001b[0m\u001b[0;34m]\u001b[0m \u001b[0;34m=\u001b[0m             \u001b[0mcleaned_ridge_regression_pred\u001b[0m\u001b[0;34m(\u001b[0m\u001b[0msingle_degree\u001b[0m\u001b[0;34m,\u001b[0m \u001b[0msingle_lambda\u001b[0m\u001b[0;34m,\u001b[0m \u001b[0mtrain_tx\u001b[0m\u001b[0;34m,\u001b[0m \u001b[0mtest_tx\u001b[0m\u001b[0;34m,\u001b[0m \u001b[0mtrain_y\u001b[0m\u001b[0;34m,\u001b[0m \u001b[0mtest_y\u001b[0m\u001b[0;34m,\u001b[0m                                           \u001b[0mpredictions\u001b[0m\u001b[0;34m=\u001b[0m\u001b[0;32mFalse\u001b[0m\u001b[0;34m)\u001b[0m\u001b[0;34m\u001b[0m\u001b[0m\n\u001b[0m\u001b[1;32m     19\u001b[0m \u001b[0;34m\u001b[0m\u001b[0m\n\u001b[1;32m     20\u001b[0m     \u001b[0;32mreturn\u001b[0m \u001b[0mnp\u001b[0m\u001b[0;34m.\u001b[0m\u001b[0mmean\u001b[0m\u001b[0;34m(\u001b[0m\u001b[0maccuracy_train\u001b[0m\u001b[0;34m)\u001b[0m\u001b[0;34m,\u001b[0m \u001b[0mnp\u001b[0m\u001b[0;34m.\u001b[0m\u001b[0mmean\u001b[0m\u001b[0;34m(\u001b[0m\u001b[0maccuracy_test\u001b[0m\u001b[0;34m)\u001b[0m\u001b[0;34m,\u001b[0m \u001b[0mnp\u001b[0m\u001b[0;34m.\u001b[0m\u001b[0mvar\u001b[0m\u001b[0;34m(\u001b[0m\u001b[0maccuracy_train\u001b[0m\u001b[0;34m)\u001b[0m\u001b[0;34m,\u001b[0m \u001b[0mnp\u001b[0m\u001b[0;34m.\u001b[0m\u001b[0mvar\u001b[0m\u001b[0;34m(\u001b[0m\u001b[0maccuracy_test\u001b[0m\u001b[0;34m)\u001b[0m\u001b[0;34m,\u001b[0m            \u001b[0mnp\u001b[0m\u001b[0;34m.\u001b[0m\u001b[0mmin\u001b[0m\u001b[0;34m(\u001b[0m\u001b[0maccuracy_train\u001b[0m\u001b[0;34m)\u001b[0m\u001b[0;34m,\u001b[0m \u001b[0mnp\u001b[0m\u001b[0;34m.\u001b[0m\u001b[0mmin\u001b[0m\u001b[0;34m(\u001b[0m\u001b[0maccuracy_test\u001b[0m\u001b[0;34m)\u001b[0m\u001b[0;34m,\u001b[0m \u001b[0mnp\u001b[0m\u001b[0;34m.\u001b[0m\u001b[0mmax\u001b[0m\u001b[0;34m(\u001b[0m\u001b[0maccuracy_train\u001b[0m\u001b[0;34m)\u001b[0m\u001b[0;34m,\u001b[0m \u001b[0mnp\u001b[0m\u001b[0;34m.\u001b[0m\u001b[0mmax\u001b[0m\u001b[0;34m(\u001b[0m\u001b[0maccuracy_test\u001b[0m\u001b[0;34m)\u001b[0m\u001b[0;34m\u001b[0m\u001b[0m\n",
      "\u001b[0;32m<ipython-input-26-6aeec6b71ca9>\u001b[0m in \u001b[0;36mcleaned_ridge_regression_pred\u001b[0;34m(single_degree, single_lambda, single_train_tx, single_test_tx, single_train_y, single_test_y, predictions)\u001b[0m\n\u001b[1;32m      6\u001b[0m     \u001b[0mprint\u001b[0m\u001b[0;34m(\u001b[0m\u001b[0mnp\u001b[0m\u001b[0;34m.\u001b[0m\u001b[0mlinalg\u001b[0m\u001b[0;34m.\u001b[0m\u001b[0meigvals\u001b[0m\u001b[0;34m(\u001b[0m\u001b[0msingle_train_tx\u001b[0m\u001b[0;34m.\u001b[0m\u001b[0mT\u001b[0m\u001b[0;34m.\u001b[0m\u001b[0mdot\u001b[0m\u001b[0;34m(\u001b[0m\u001b[0msingle_train_tx\u001b[0m\u001b[0;34m)\u001b[0m\u001b[0;34m)\u001b[0m\u001b[0;34m)\u001b[0m\u001b[0;31m#\\\u001b[0m\u001b[0;34m\u001b[0m\u001b[0m\n\u001b[1;32m      7\u001b[0m \u001b[0;31m#          +2*len(single_train_y)*single_lambda*np.matlib.identity(single_train_tx.shape[1])))\u001b[0m\u001b[0;34m\u001b[0m\u001b[0;34m\u001b[0m\u001b[0m\n\u001b[0;32m----> 8\u001b[0;31m     \u001b[0mweights\u001b[0m \u001b[0;34m=\u001b[0m \u001b[0mridge_regression\u001b[0m\u001b[0;34m(\u001b[0m\u001b[0msingle_train_y\u001b[0m\u001b[0;34m,\u001b[0m \u001b[0msingle_train_tx\u001b[0m\u001b[0;34m,\u001b[0m \u001b[0msingle_lambda\u001b[0m\u001b[0;34m)\u001b[0m\u001b[0;34m\u001b[0m\u001b[0m\n\u001b[0m\u001b[1;32m      9\u001b[0m \u001b[0;34m\u001b[0m\u001b[0m\n\u001b[1;32m     10\u001b[0m     \u001b[0;31m# Compute the predictions\u001b[0m\u001b[0;34m\u001b[0m\u001b[0;34m\u001b[0m\u001b[0m\n",
      "\u001b[0;32m/Users/ondine/Documents/phd/Cours/LMO_ML/project1/implementations.py\u001b[0m in \u001b[0;36mridge_regression\u001b[0;34m(y, tx, lambda_, fct)\u001b[0m\n\u001b[1;32m     57\u001b[0m \u001b[0;32mdef\u001b[0m \u001b[0mridge_regression\u001b[0m\u001b[0;34m(\u001b[0m\u001b[0my\u001b[0m\u001b[0;34m,\u001b[0m \u001b[0mtx\u001b[0m\u001b[0;34m,\u001b[0m \u001b[0mlambda_\u001b[0m\u001b[0;34m,\u001b[0m \u001b[0mfct\u001b[0m\u001b[0;34m=\u001b[0m\u001b[0;34m'none'\u001b[0m\u001b[0;34m)\u001b[0m\u001b[0;34m:\u001b[0m\u001b[0;34m\u001b[0m\u001b[0m\n\u001b[1;32m     58\u001b[0m     \u001b[0;34m\"\"\"Implement ridge regression.\"\"\"\u001b[0m\u001b[0;34m\u001b[0m\u001b[0m\n\u001b[0;32m---> 59\u001b[0;31m     \u001b[0mwstar\u001b[0m \u001b[0;34m=\u001b[0m \u001b[0mnp\u001b[0m\u001b[0;34m.\u001b[0m\u001b[0mlinalg\u001b[0m\u001b[0;34m.\u001b[0m\u001b[0msolve\u001b[0m\u001b[0;34m(\u001b[0m\u001b[0mtx\u001b[0m\u001b[0;34m.\u001b[0m\u001b[0mT\u001b[0m\u001b[0;34m.\u001b[0m\u001b[0mdot\u001b[0m\u001b[0;34m(\u001b[0m\u001b[0mtx\u001b[0m\u001b[0;34m)\u001b[0m\u001b[0;34m+\u001b[0m\u001b[0;36m2\u001b[0m\u001b[0;34m*\u001b[0m\u001b[0mlen\u001b[0m\u001b[0;34m(\u001b[0m\u001b[0my\u001b[0m\u001b[0;34m)\u001b[0m\u001b[0;34m*\u001b[0m\u001b[0mlambda_\u001b[0m\u001b[0;34m*\u001b[0m\u001b[0mnp\u001b[0m\u001b[0;34m.\u001b[0m\u001b[0mmatlib\u001b[0m\u001b[0;34m.\u001b[0m\u001b[0midentity\u001b[0m\u001b[0;34m(\u001b[0m\u001b[0mtx\u001b[0m\u001b[0;34m.\u001b[0m\u001b[0mshape\u001b[0m\u001b[0;34m[\u001b[0m\u001b[0;36m1\u001b[0m\u001b[0;34m]\u001b[0m\u001b[0;34m)\u001b[0m\u001b[0;34m,\u001b[0m\u001b[0;34m(\u001b[0m\u001b[0mtx\u001b[0m\u001b[0;34m.\u001b[0m\u001b[0mT\u001b[0m\u001b[0;34m)\u001b[0m\u001b[0;34m.\u001b[0m\u001b[0mdot\u001b[0m\u001b[0;34m(\u001b[0m\u001b[0my\u001b[0m\u001b[0;34m)\u001b[0m\u001b[0;34m)\u001b[0m\u001b[0;34m\u001b[0m\u001b[0m\n\u001b[0m\u001b[1;32m     60\u001b[0m     \u001b[0;32mif\u001b[0m \u001b[0;34m(\u001b[0m\u001b[0mfct\u001b[0m\u001b[0;34m==\u001b[0m\u001b[0;34m'mse'\u001b[0m \u001b[0;32mor\u001b[0m \u001b[0mfct\u001b[0m\u001b[0;34m==\u001b[0m\u001b[0;34m'rmse'\u001b[0m\u001b[0;34m)\u001b[0m\u001b[0;34m:\u001b[0m\u001b[0;34m\u001b[0m\u001b[0m\n\u001b[1;32m     61\u001b[0m         \u001b[0mridge\u001b[0m \u001b[0;34m=\u001b[0m \u001b[0mcosts\u001b[0m\u001b[0;34m.\u001b[0m\u001b[0mcompute_ridge_loss\u001b[0m\u001b[0;34m(\u001b[0m\u001b[0my\u001b[0m\u001b[0;34m,\u001b[0m\u001b[0mtx\u001b[0m\u001b[0;34m,\u001b[0m\u001b[0mwstar\u001b[0m\u001b[0;34m,\u001b[0m\u001b[0mlambda_\u001b[0m\u001b[0;34m,\u001b[0m\u001b[0mfct\u001b[0m\u001b[0;34m)\u001b[0m\u001b[0;34m\u001b[0m\u001b[0m\n",
      "\u001b[0;32m/Users/ondine/anaconda/lib/python3.6/site-packages/numpy/linalg/linalg.py\u001b[0m in \u001b[0;36msolve\u001b[0;34m(a, b)\u001b[0m\n\u001b[1;32m    382\u001b[0m     \u001b[0msignature\u001b[0m \u001b[0;34m=\u001b[0m \u001b[0;34m'DD->D'\u001b[0m \u001b[0;32mif\u001b[0m \u001b[0misComplexType\u001b[0m\u001b[0;34m(\u001b[0m\u001b[0mt\u001b[0m\u001b[0;34m)\u001b[0m \u001b[0;32melse\u001b[0m \u001b[0;34m'dd->d'\u001b[0m\u001b[0;34m\u001b[0m\u001b[0m\n\u001b[1;32m    383\u001b[0m     \u001b[0mextobj\u001b[0m \u001b[0;34m=\u001b[0m \u001b[0mget_linalg_error_extobj\u001b[0m\u001b[0;34m(\u001b[0m\u001b[0m_raise_linalgerror_singular\u001b[0m\u001b[0;34m)\u001b[0m\u001b[0;34m\u001b[0m\u001b[0m\n\u001b[0;32m--> 384\u001b[0;31m     \u001b[0mr\u001b[0m \u001b[0;34m=\u001b[0m \u001b[0mgufunc\u001b[0m\u001b[0;34m(\u001b[0m\u001b[0ma\u001b[0m\u001b[0;34m,\u001b[0m \u001b[0mb\u001b[0m\u001b[0;34m,\u001b[0m \u001b[0msignature\u001b[0m\u001b[0;34m=\u001b[0m\u001b[0msignature\u001b[0m\u001b[0;34m,\u001b[0m \u001b[0mextobj\u001b[0m\u001b[0;34m=\u001b[0m\u001b[0mextobj\u001b[0m\u001b[0;34m)\u001b[0m\u001b[0;34m\u001b[0m\u001b[0m\n\u001b[0m\u001b[1;32m    385\u001b[0m \u001b[0;34m\u001b[0m\u001b[0m\n\u001b[1;32m    386\u001b[0m     \u001b[0;32mreturn\u001b[0m \u001b[0mwrap\u001b[0m\u001b[0;34m(\u001b[0m\u001b[0mr\u001b[0m\u001b[0;34m.\u001b[0m\u001b[0mastype\u001b[0m\u001b[0;34m(\u001b[0m\u001b[0mresult_t\u001b[0m\u001b[0;34m,\u001b[0m \u001b[0mcopy\u001b[0m\u001b[0;34m=\u001b[0m\u001b[0;32mFalse\u001b[0m\u001b[0;34m)\u001b[0m\u001b[0;34m)\u001b[0m\u001b[0;34m\u001b[0m\u001b[0m\n",
      "\u001b[0;32m/Users/ondine/anaconda/lib/python3.6/site-packages/numpy/linalg/linalg.py\u001b[0m in \u001b[0;36m_raise_linalgerror_singular\u001b[0;34m(err, flag)\u001b[0m\n\u001b[1;32m     88\u001b[0m \u001b[0;34m\u001b[0m\u001b[0m\n\u001b[1;32m     89\u001b[0m \u001b[0;32mdef\u001b[0m \u001b[0m_raise_linalgerror_singular\u001b[0m\u001b[0;34m(\u001b[0m\u001b[0merr\u001b[0m\u001b[0;34m,\u001b[0m \u001b[0mflag\u001b[0m\u001b[0;34m)\u001b[0m\u001b[0;34m:\u001b[0m\u001b[0;34m\u001b[0m\u001b[0m\n\u001b[0;32m---> 90\u001b[0;31m     \u001b[0;32mraise\u001b[0m \u001b[0mLinAlgError\u001b[0m\u001b[0;34m(\u001b[0m\u001b[0;34m\"Singular matrix\"\u001b[0m\u001b[0;34m)\u001b[0m\u001b[0;34m\u001b[0m\u001b[0m\n\u001b[0m\u001b[1;32m     91\u001b[0m \u001b[0;34m\u001b[0m\u001b[0m\n\u001b[1;32m     92\u001b[0m \u001b[0;32mdef\u001b[0m \u001b[0m_raise_linalgerror_nonposdef\u001b[0m\u001b[0;34m(\u001b[0m\u001b[0merr\u001b[0m\u001b[0;34m,\u001b[0m \u001b[0mflag\u001b[0m\u001b[0;34m)\u001b[0m\u001b[0;34m:\u001b[0m\u001b[0;34m\u001b[0m\u001b[0m\n",
      "\u001b[0;31mLinAlgError\u001b[0m: Singular matrix"
     ]
    }
   ],
   "source": [
    "degrees = [11] #range(5,13)\n",
    "lambdas = [1] #np.logspace(-12,-3,10) #-13,-3,2\n",
    "k_fold = 2 #4\n",
    "seed = 1\n",
    "\n",
    "best_degree, best_lambda, best_mean_accuracy_train, best_mean_accuracy_test = \\\n",
    "    cross_validation_all_jets_ridge_regression(degrees, lambdas, k_fold, seed, y_train, tx_train, tx_test)"
   ]
  },
  {
   "cell_type": "code",
   "execution_count": null,
   "metadata": {
    "collapsed": true
   },
   "outputs": [],
   "source": [
    "print(best_mean_accuracy_train)\n",
    "print(best_mean_accuracy_test)\n",
    "print(best_degree)\n",
    "print(best_lambda)"
   ]
  },
  {
   "cell_type": "code",
   "execution_count": null,
   "metadata": {
    "collapsed": true,
    "scrolled": true
   },
   "outputs": [],
   "source": [
    "y_pred_train, y_pred_test, full_accuracy_train, = \\\n",
    "    ridge_regression_all_jets_pred(tx_train, tx_test, y_train, best_degree, best_lambda)"
   ]
  },
  {
   "cell_type": "code",
   "execution_count": null,
   "metadata": {
    "collapsed": true
   },
   "outputs": [],
   "source": [
    "print(full_accuracy_train)"
   ]
  },
  {
   "cell_type": "code",
   "execution_count": null,
   "metadata": {
    "collapsed": true
   },
   "outputs": [],
   "source": [
    "print(y_pred_test[0:200])"
   ]
  },
  {
   "cell_type": "code",
   "execution_count": null,
   "metadata": {
    "collapsed": true
   },
   "outputs": [],
   "source": [
    "y_pred_test.shape"
   ]
  },
  {
   "cell_type": "code",
   "execution_count": null,
   "metadata": {
    "collapsed": true
   },
   "outputs": [],
   "source": [
    "print(y_pred_test[y_pred_test==-1].shape)"
   ]
  },
  {
   "cell_type": "code",
   "execution_count": null,
   "metadata": {
    "collapsed": true
   },
   "outputs": [],
   "source": [
    "print(y_pred_test[y_pred_test==1].shape)"
   ]
  },
  {
   "cell_type": "code",
   "execution_count": null,
   "metadata": {
    "collapsed": true
   },
   "outputs": [],
   "source": [
    "name = 'output/ridge_regression_ondine_splitjet.csv'\n",
    "create_csv_submission(ids_test, y_pred_test, name)"
   ]
  },
  {
   "cell_type": "code",
   "execution_count": null,
   "metadata": {
    "collapsed": true
   },
   "outputs": [],
   "source": []
  },
  {
   "cell_type": "code",
   "execution_count": null,
   "metadata": {
    "collapsed": true
   },
   "outputs": [],
   "source": []
  },
  {
   "cell_type": "code",
   "execution_count": null,
   "metadata": {
    "collapsed": true
   },
   "outputs": [],
   "source": []
  },
  {
   "cell_type": "code",
   "execution_count": null,
   "metadata": {
    "collapsed": true
   },
   "outputs": [],
   "source": []
  },
  {
   "cell_type": "code",
   "execution_count": null,
   "metadata": {
    "collapsed": true
   },
   "outputs": [],
   "source": []
  },
  {
   "cell_type": "code",
   "execution_count": null,
   "metadata": {
    "collapsed": true
   },
   "outputs": [],
   "source": []
  },
  {
   "cell_type": "code",
   "execution_count": null,
   "metadata": {
    "collapsed": true
   },
   "outputs": [],
   "source": []
  },
  {
   "cell_type": "code",
   "execution_count": null,
   "metadata": {
    "collapsed": true
   },
   "outputs": [],
   "source": []
  },
  {
   "cell_type": "code",
   "execution_count": null,
   "metadata": {
    "collapsed": true
   },
   "outputs": [],
   "source": []
  },
  {
   "cell_type": "code",
   "execution_count": null,
   "metadata": {
    "collapsed": true
   },
   "outputs": [],
   "source": []
  },
  {
   "cell_type": "code",
   "execution_count": null,
   "metadata": {
    "collapsed": true
   },
   "outputs": [],
   "source": []
  },
  {
   "cell_type": "code",
   "execution_count": null,
   "metadata": {
    "collapsed": true
   },
   "outputs": [],
   "source": []
  },
  {
   "cell_type": "code",
   "execution_count": null,
   "metadata": {
    "collapsed": true
   },
   "outputs": [],
   "source": []
  },
  {
   "cell_type": "code",
   "execution_count": null,
   "metadata": {
    "collapsed": true
   },
   "outputs": [],
   "source": []
  },
  {
   "cell_type": "code",
   "execution_count": null,
   "metadata": {
    "collapsed": true
   },
   "outputs": [],
   "source": []
  }
 ],
 "metadata": {
  "kernelspec": {
   "display_name": "Python 3",
   "language": "python",
   "name": "python3"
  },
  "language_info": {
   "codemirror_mode": {
    "name": "ipython",
    "version": 3
   },
   "file_extension": ".py",
   "mimetype": "text/x-python",
   "name": "python",
   "nbconvert_exporter": "python",
   "pygments_lexer": "ipython3",
   "version": "3.6.1"
  }
 },
 "nbformat": 4,
 "nbformat_minor": 2
}
