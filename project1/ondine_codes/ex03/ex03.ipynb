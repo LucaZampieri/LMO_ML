{
 "cells": [
  {
   "cell_type": "code",
   "execution_count": 1,
   "metadata": {},
   "outputs": [],
   "source": [
    "# Useful starting lines\n",
    "%matplotlib inline\n",
    "import numpy as np\n",
    "import matplotlib.pyplot as plt\n",
    "%load_ext autoreload\n",
    "%autoreload 2"
   ]
  },
  {
   "cell_type": "markdown",
   "metadata": {},
   "source": [
    "# 1 Least squares and linear basis functions models\n",
    "## 1.1 Least squares"
   ]
  },
  {
   "cell_type": "code",
   "execution_count": 87,
   "metadata": {
    "collapsed": true
   },
   "outputs": [],
   "source": [
    "def compute_mse(y,tx,w):\n",
    "    e = y-tx.dot(w)\n",
    "    return 1./(2.*y.shape[0])*e.dot(e)"
   ]
  },
  {
   "cell_type": "code",
   "execution_count": 78,
   "metadata": {
    "collapsed": true
   },
   "outputs": [],
   "source": [
    "def compute_rmse(y,tx,w):\n",
    "    return np.sqrt(2*compute_mse(y,tx,w))"
   ]
  },
  {
   "cell_type": "code",
   "execution_count": 4,
   "metadata": {},
   "outputs": [],
   "source": [
    "def least_squares(y, tx, fct='none'):\n",
    "    \"\"\"calculate the least squares solution.\"\"\"\n",
    "    wstar = np.linalg.solve(tx.T.dot(tx),(tx.T).dot(y))\n",
    "    if fct=='mse':\n",
    "        mse = compute_mse(y,tx,wstar)\n",
    "        return mse, wstar\n",
    "    elif fct=='rmse':\n",
    "        rmse = compute_rmse(y,tx,wstar)\n",
    "        return rmse, wstar\n",
    "    else: #'none'\n",
    "        return wstar"
   ]
  },
  {
   "cell_type": "markdown",
   "metadata": {},
   "source": [
    "### Load the data\n",
    "Here we will reuse the dataset `height_weight_genders.csv` from previous exercise section to check the correctness of your implementation. Please compare it with your previous result."
   ]
  },
  {
   "cell_type": "code",
   "execution_count": 5,
   "metadata": {
    "collapsed": true
   },
   "outputs": [],
   "source": [
    "from helpers import *\n",
    "from grid_search import generate_w, grid_search, get_best_parameters\n",
    "from costs import compute_loss\n",
    "\n",
    "def test_your_least_squares():\n",
    "    height, weight, gender = load_data_from_ex02(sub_sample=False, add_outlier=False)\n",
    "    x, mean_x, std_x = standardize(height)\n",
    "    y, tx = build_model_data(x, weight)\n",
    "\n",
    "    grid_w0, grid_w1 = generate_w(num_intervals=300)\n",
    "    grid_losses = grid_search(y, tx, grid_w0, grid_w1)\n",
    "    loss_star, w0_star, w1_star = get_best_parameters(grid_w0, grid_w1, grid_losses)\n",
    "    gswstar = np.array([w0_star, w1_star])\n",
    "    \n",
    "    lswstar = least_squares(y,tx,'none')\n",
    "    return lswstar-gswstar"
   ]
  },
  {
   "cell_type": "markdown",
   "metadata": {},
   "source": [
    "Test it here"
   ]
  },
  {
   "cell_type": "code",
   "execution_count": 6,
   "metadata": {},
   "outputs": [
    {
     "data": {
      "text/plain": [
       "array([-0.28467332, -0.06543807])"
      ]
     },
     "execution_count": 6,
     "metadata": {},
     "output_type": "execute_result"
    }
   ],
   "source": [
    "test_your_least_squares()"
   ]
  },
  {
   "cell_type": "markdown",
   "metadata": {},
   "source": [
    "## 1.2 Least squares with a linear basis function model\n",
    "Start from this section, we will use the dataset `dataEx3.csv`.\n",
    "\n",
    "### Implement polynomial basis functions"
   ]
  },
  {
   "cell_type": "code",
   "execution_count": 53,
   "metadata": {
    "scrolled": false
   },
   "outputs": [
    {
     "name": "stdout",
     "output_type": "stream",
     "text": [
      "shape of x (50,)\n",
      "shape of y (50,)\n"
     ]
    }
   ],
   "source": [
    "# load dataset\n",
    "x, y = load_data()\n",
    "print(\"shape of x {}\".format(x.shape))\n",
    "print(\"shape of y {}\".format(y.shape))"
   ]
  },
  {
   "cell_type": "code",
   "execution_count": 54,
   "metadata": {},
   "outputs": [],
   "source": [
    "def build_poly(x, degree):\n",
    "    \"\"\"polynomial basis functions for input data x, for j=0 up to j=degree.\"\"\"\n",
    "    return np.array([x**p for p in range(degree+1)]).T"
   ]
  },
  {
   "cell_type": "markdown",
   "metadata": {},
   "source": [
    "Let us play with polynomial regression. Note that we will use your implemented function `compute_mse`. Please copy and paste your implementation from exercise02."
   ]
  },
  {
   "cell_type": "code",
   "execution_count": 9,
   "metadata": {},
   "outputs": [],
   "source": [
    "from costs import compute_loss\n",
    "from plots import *\n",
    "\n",
    "def polynomial_regression():\n",
    "    \"\"\"Constructing the polynomial basis function expansion of the data,\n",
    "       and then running least squares regression.\"\"\"\n",
    "    # define parameters\n",
    "    degrees = [1, 3, 7, 12]\n",
    "    \n",
    "    # define the structure of the figure\n",
    "    num_row = 2\n",
    "    num_col = 2\n",
    "    f, axs = plt.subplots(num_row, num_col)\n",
    "\n",
    "    for ind, degree in enumerate(degrees):\n",
    "        phix = build_poly(x, degree)\n",
    "        rmse, weights = least_squares(y, phix,'rmse')\n",
    "\n",
    "        print(\"Processing {i}th experiment, degree={d}, rmse={loss}\".format(\n",
    "              i=ind + 1, d=degree, loss=rmse))\n",
    "        # plot fit\n",
    "        plot_fitted_curve(\n",
    "            y, x, weights, degree, axs[ind // num_col][ind % num_col])\n",
    "    plt.tight_layout()\n",
    "    plt.savefig(\"visualize_polynomial_regression\")\n",
    "    plt.show()"
   ]
  },
  {
   "cell_type": "markdown",
   "metadata": {},
   "source": [
    "Run polynomial regression"
   ]
  },
  {
   "cell_type": "code",
   "execution_count": 10,
   "metadata": {},
   "outputs": [
    {
     "name": "stdout",
     "output_type": "stream",
     "text": [
      "Processing 1th experiment, degree=1, rmse=0.47187607963421874\n",
      "Processing 2th experiment, degree=3, rmse=0.25858277667737495\n",
      "Processing 3th experiment, degree=7, rmse=0.2496587036090732\n",
      "Processing 4th experiment, degree=12, rmse=0.2408825776919281\n"
     ]
    },
    {
     "data": {
      "image/png": "[encoded data removed]",
      "text/plain": [
       "<matplotlib.figure.Figure at 0x7efd2b9dc160>"
      ]
     },
     "metadata": {},
     "output_type": "display_data"
    }
   ],
   "source": [
    "polynomial_regression()"
   ]
  },
  {
   "cell_type": "markdown",
   "metadata": {},
   "source": [
    "# 2 Evaluating model predication performance\n",
    "\n",
    "\n",
    "Let us show the train and test splits for various polynomial degrees. First of all, please fill in the function `split_data()`"
   ]
  },
  {
   "cell_type": "markdown",
   "metadata": {},
   "source": [
    "** TODOOOOOOOOOOOOOO **"
   ]
  },
  {
   "cell_type": "code",
   "execution_count": 23,
   "metadata": {},
   "outputs": [],
   "source": [
    "def split_data(x, y, ratio, seed=1):\n",
    "    \"\"\"\n",
    "    split the dataset based on the split ratio. If ratio is 0.8 \n",
    "    you will have 80% of your data set dedicated to training \n",
    "    and the rest dedicated to testing\n",
    "    \"\"\"\n",
    "    # set seed\n",
    "    np.random.seed(seed)\n",
    "    # ***************************************************\n",
    "    # INSERT YOUR CODE HERE\n",
    "    # split the data based on the given ratio: TODO\n",
    "    # ***************************************************\n",
    "    if(len(y.shape)==1):\n",
    "        y=y.reshape(len(y),1);\n",
    "    if(len(x.shape)==1):\n",
    "        x=x.reshape(len(x),1);\n",
    "    y_1=np.copy(y);\n",
    "    x_1=np.copy(x);\n",
    "    i=0;\n",
    "   \n",
    "    y_new_dim=list(y.shape);\n",
    "    x_new_dim=list(x.shape); \n",
    "    \n",
    "    train_dim=np.int(x_new_dim[0]*ratio);\n",
    "    val_dim=x_new_dim[0]-train_dim;\n",
    "   \n",
    "    y_new_dim[0]=train_dim;\n",
    "    x_new_dim[0]=train_dim;\n",
    "    y_train=np.ndarray(y_new_dim);\n",
    "    x_train=np.ndarray(x_new_dim);\n",
    "    \n",
    "    y_new_dim[0]=val_dim;\n",
    "    x_new_dim[0]=val_dim;\n",
    "    y_val=np.ndarray(x_new_dim);\n",
    "    x_val=np.ndarray(x_new_dim);\n",
    "  \n",
    "    i=0;\n",
    "    while i<train_dim:\n",
    "            y_train[i,:]=y_1[i,:];\n",
    "            x_train[i,:]=x_1[i,:];\n",
    "            i=i+1;   \n",
    "    cont=0;\n",
    "    while i<x.shape[0]:       \n",
    "            y_val[cont,:]=y[i,:];\n",
    "            x_val[cont,:]=x[i,:];\n",
    "            cont=cont+1;\n",
    "            i=i+1;\n",
    "            \n",
    "        \n",
    "        \n",
    "    \n",
    "    return y_train,x_train,y_val,x_val\n",
    "\n",
    "\n",
    "\n",
    "\n",
    "\n",
    "\n",
    "    raise NotImplementedError"
   ]
  },
  {
   "cell_type": "markdown",
   "metadata": {},
   "source": [
    "Then, test your `split_data` function below."
   ]
  },
  {
   "cell_type": "code",
   "execution_count": 15,
   "metadata": {},
   "outputs": [],
   "source": [
    "def train_test_split_demo(x, y, degree, ratio, seed):\n",
    "    \"\"\"polynomial regression with different split ratios and different degrees.\"\"\"\n",
    "    # ***************************************************\n",
    "    # INSERT YOUR CODE HERE\n",
    "    # split the data, and return train and test data: TODO\n",
    "    # ***************************************************\n",
    "    raise NotImplementedError\n",
    "    # ***************************************************\n",
    "    # INSERT YOUR CODE HERE\n",
    "    # form train and test data with polynomial basis function: TODO\n",
    "    # ***************************************************\n",
    "    raise NotImplementedError\n",
    "    # ***************************************************\n",
    "    # INSERT YOUR CODE HERE\n",
    "    # calcualte weight through least square.: TODO\n",
    "    # ***************************************************\n",
    "    raise NotImplementedError\n",
    "    # ***************************************************\n",
    "    # INSERT YOUR CODE HERE\n",
    "    # calculate RMSE for train and test data,\n",
    "    # and store them in rmse_tr and rmse_te respectively: TODO\n",
    "    # ***************************************************\n",
    "    raise NotImplementedError\n",
    "    print(\"proportion={p}, degree={d}, Training RMSE={tr:.3f}, Testing RMSE={te:.3f}\".format(\n",
    "          p=ratio, d=degree, tr=rmse_tr, te=rmse_te))\n"
   ]
  },
  {
   "cell_type": "code",
   "execution_count": 16,
   "metadata": {},
   "outputs": [],
   "source": [
    "seed = 6\n",
    "degrees = [1, 3, 7, 12]\n",
    "split_ratios = [0.9, 0.5, 0.1]\n",
    "\n",
    "for split_ratio in split_ratios:\n",
    "    for degree in degrees:\n",
    "        train_test_split_demo(x, y, degree, split_ratio, seed)"
   ]
  },
  {
   "cell_type": "markdown",
   "metadata": {},
   "source": [
    "# 3 Ridge Regression\n",
    "Please fill in the function below."
   ]
  },
  {
   "cell_type": "code",
   "execution_count": 46,
   "metadata": {
    "collapsed": true
   },
   "outputs": [],
   "source": [
    "def compute_ridge_mse(y,tx,w,lambda_):\n",
    "    mse = compute_mse(y,tx,w)\n",
    "    return mse + lambda_*np.linalg.norm(w)**2"
   ]
  },
  {
   "cell_type": "code",
   "execution_count": 70,
   "metadata": {
    "collapsed": true
   },
   "outputs": [],
   "source": [
    "def compute_ridge_rmse(y,tx,w,lambda_):\n",
    "    return np.sqrt(2*compute_ridge_mse(y,tx,w,lambda_))"
   ]
  },
  {
   "cell_type": "code",
   "execution_count": 82,
   "metadata": {
    "collapsed": true
   },
   "outputs": [],
   "source": [
    "from numpy import matlib\n",
    "\n",
    "def ridge_regression(y, tx, lambda_, fct='none'):\n",
    "    \"\"\"implement ridge regression.\"\"\"\n",
    "    wstar = np.linalg.solve(tx.T.dot(tx)+lambda_*np.matlib.identity(tx.shape[1]),(tx.T).dot(y))\n",
    "    if fct=='mse':\n",
    "        ridge = compute_ridge_mse(y,tx,wstar,lambda_)\n",
    "        return ridge, wstar\n",
    "    elif fct=='rmse':\n",
    "        ridge = compute_ridge_rmse(y,tx,wstar,lambda_)\n",
    "        return ridge, wstar\n",
    "    else: #'none'\n",
    "        return wstar"
   ]
  },
  {
   "cell_type": "code",
   "execution_count": 91,
   "metadata": {
    "collapsed": true
   },
   "outputs": [],
   "source": [
    "def ridge_regression_demo(x, y, degree, ratio, seed):\n",
    "    \"\"\"ridge regression demo.\"\"\"\n",
    "    # define parameter\n",
    "    lambdas = np.logspace(-5, 0, 15)\n",
    "    \n",
    "    train_y, train_x, test_y, test_x = split_data(x, y, ratio, seed) ## --> do not return vectors of good dimension for now...\n",
    "    train_tx = build_poly(train_x[:,0],degree)\n",
    "    test_tx = build_poly(test_x[:,0],degree)\n",
    "    test_y = test_y[:,0]\n",
    "    train_y = train_y[:,0]\n",
    "    \n",
    "    rmse_tr = np.zeros(len(lambdas))\n",
    "    rmse_te = np.zeros(len(lambdas))\n",
    "    for ind, lambda_ in enumerate(lambdas):\n",
    "        rmse_train, wstar = ridge_regression(train_y, train_tx, lambda_, 'rmse')\n",
    "        rmse_tr[ind] = rmse_train\n",
    "        rmse_test = compute_ridge_rmse(test_y, test_tx, wstar, lambda_)\n",
    "        rmse_te[ind] = rmse_test\n",
    "        print(\"proportion={p}, degree={d}, lambda={l:.3f}, Training RMSE={tr:.3f}, Testing RMSE={te:.3f}\".format(\n",
    "               p=ratio, d=degree, l=lambda_, tr=rmse_tr[ind], te=rmse_te[ind]))\n",
    "        \n",
    "    # Plot the obtained results\n",
    "    plot_train_test(rmse_tr, rmse_te, lambdas, degree)\n"
   ]
  },
  {
   "cell_type": "code",
   "execution_count": 97,
   "metadata": {},
   "outputs": [
    {
     "name": "stdout",
     "output_type": "stream",
     "text": [
      "proportion=0.5, degree=7, lambda=0.000, Training RMSE=0.237, Testing RMSE=0.316\n",
      "proportion=0.5, degree=7, lambda=0.000, Training RMSE=0.243, Testing RMSE=0.321\n",
      "proportion=0.5, degree=7, lambda=0.000, Training RMSE=0.256, Testing RMSE=0.330\n",
      "proportion=0.5, degree=7, lambda=0.000, Training RMSE=0.281, Testing RMSE=0.348\n",
      "proportion=0.5, degree=7, lambda=0.000, Training RMSE=0.320, Testing RMSE=0.377\n",
      "proportion=0.5, degree=7, lambda=0.001, Training RMSE=0.366, Testing RMSE=0.413\n",
      "proportion=0.5, degree=7, lambda=0.001, Training RMSE=0.395, Testing RMSE=0.432\n",
      "proportion=0.5, degree=7, lambda=0.003, Training RMSE=0.388, Testing RMSE=0.419\n",
      "proportion=0.5, degree=7, lambda=0.007, Training RMSE=0.356, Testing RMSE=0.383\n",
      "proportion=0.5, degree=7, lambda=0.016, Training RMSE=0.330, Testing RMSE=0.355\n",
      "proportion=0.5, degree=7, lambda=0.037, Training RMSE=0.330, Testing RMSE=0.352\n",
      "proportion=0.5, degree=7, lambda=0.085, Training RMSE=0.360, Testing RMSE=0.379\n",
      "proportion=0.5, degree=7, lambda=0.193, Training RMSE=0.429, Testing RMSE=0.444\n",
      "proportion=0.5, degree=7, lambda=0.439, Training RMSE=0.550, Testing RMSE=0.560\n",
      "proportion=0.5, degree=7, lambda=1.000, Training RMSE=0.733, Testing RMSE=0.738\n"
     ]
    },
    {
     "data": {
      "image/png": "[encoded data removed]",
      "text/plain": [
       "<matplotlib.figure.Figure at 0x7efd2150c588>"
      ]
     },
     "metadata": {},
     "output_type": "display_data"
    }
   ],
   "source": [
    "seed = 56\n",
    "degree = 7\n",
    "split_ratio = 0.5\n",
    "ridge_regression_demo(x, y, degree, split_ratio, seed)"
   ]
  },
  {
   "cell_type": "code",
   "execution_count": null,
   "metadata": {
    "collapsed": true
   },
   "outputs": [],
   "source": []
  }
 ],
 "metadata": {
  "anaconda-cloud": {},
  "kernelspec": {
   "display_name": "Python 3",
   "language": "python",
   "name": "python3"
  },
  "language_info": {
   "codemirror_mode": {
    "name": "ipython",
    "version": 3
   },
   "file_extension": ".py",
   "mimetype": "text/x-python",
   "name": "python",
   "nbconvert_exporter": "python",
   "pygments_lexer": "ipython3",
   "version": "3.6.2"
  }
 },
 "nbformat": 4,
 "nbformat_minor": 1
}
