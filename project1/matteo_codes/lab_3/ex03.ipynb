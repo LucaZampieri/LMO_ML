{
 "cells": [
  {
   "cell_type": "code",
   "execution_count": 694,
   "metadata": {},
   "outputs": [
    {
     "name": "stdout",
     "output_type": "stream",
     "text": [
      "The autoreload extension is already loaded. To reload it, use:\n",
      "  %reload_ext autoreload\n"
     ]
    }
   ],
   "source": [
    "# Useful starting lines\n",
    "%matplotlib inline\n",
    "import numpy as np\n",
    "import matplotlib.pyplot as plt\n",
    "%load_ext autoreload\n",
    "%autoreload 2"
   ]
  },
  {
   "cell_type": "markdown",
   "metadata": {},
   "source": [
    "# 1 Least squares and linear basis functions models\n",
    "## 1.1 Least squares"
   ]
  },
  {
   "cell_type": "code",
   "execution_count": 695,
   "metadata": {
    "collapsed": true
   },
   "outputs": [],
   "source": [
    "def compute_mse(y, tx, w, fct='mse'):\n",
    "    \"\"\"Calculate the loss.\n",
    "    You can calculate the loss using mse or mae.\n",
    "    \"\"\"\n",
    "    if(len(y.shape)==1):\n",
    "        y=y.reshape(len(y),1);\n",
    "    e = y-tx.dot(w);\n",
    "    print(e.shape);\n",
    "    if fct=='mse':\n",
    "        return 1./(2.*y.shape[0])*e.T@e\n",
    "    elif fct=='mae':\n",
    "        return 1./(2*y.shape[0])*np.sum(np.abs(e))\n",
    "    else:\n",
    "        raise NotImplementedError"
   ]
  },
  {
   "cell_type": "code",
   "execution_count": 696,
   "metadata": {},
   "outputs": [],
   "source": [
    "def least_squares(y, tx):\n",
    "    \"\"\"calculate the least squares solution.\"\"\"\n",
    "    # ***************************************************\n",
    "    \n",
    "    w_opt=(np.linalg.inv((tx.T.dot(tx))).dot(tx.T)).dot(y);\n",
    "    if(len(w_opt.shape)==1):\n",
    "        w_opt=w_opt.reshape(len(w_opt),1);\n",
    "    # INSERT YOUR CODE HERE\n",
    "    # least squares: TODO\n",
    "    # returns mse, and optimal weights\n",
    "    # ***************************************************\n",
    "    \n",
    "    return w_opt"
   ]
  },
  {
   "cell_type": "markdown",
   "metadata": {},
   "source": [
    "### Load the data\n",
    "Here we will reuse the dataset `height_weight_genders.csv` from previous exercise section to check the correctness of your implementation. Please compare it with your previous result."
   ]
  },
  {
   "cell_type": "code",
   "execution_count": 697,
   "metadata": {
    "collapsed": true
   },
   "outputs": [],
   "source": [
    "from helpers import *\n",
    "def test_your_least_squares():\n",
    "    height, weight, gender = load_data_from_ex02(sub_sample=False, add_outlier=False)\n",
    "    x, mean_x, std_x = standardize(height)\n",
    "    y, tx = build_model_data(x, weight)\n",
    "    w_opt=least_squares(y, tx)\n",
    "    return w_opt\n",
    "    # ***************************************************\n",
    "    # INSERT YOUR CODE HERE\n",
    "    # least square or grid search: TODO\n",
    "    # this code should compare the optimal weights obtained \n",
    "    # by least squares vs. grid search\n",
    "    # ***************************************************\n"
   ]
  },
  {
   "cell_type": "markdown",
   "metadata": {},
   "source": [
    "Test it here"
   ]
  },
  {
   "cell_type": "code",
   "execution_count": 698,
   "metadata": {},
   "outputs": [
    {
     "name": "stdout",
     "output_type": "stream",
     "text": [
      "[[ 73.293922  ]\n",
      " [ 13.47971243]]\n"
     ]
    }
   ],
   "source": [
    "w_opt=test_your_least_squares()\n",
    "print(w_opt);"
   ]
  },
  {
   "cell_type": "markdown",
   "metadata": {},
   "source": [
    "## 1.2 Least squares with a linear basis function model\n",
    "Start from this section, we will use the dataset `dataEx3.csv`.\n",
    "\n",
    "### Implement polynomial basis functions"
   ]
  },
  {
   "cell_type": "code",
   "execution_count": 699,
   "metadata": {
    "scrolled": true
   },
   "outputs": [
    {
     "name": "stdout",
     "output_type": "stream",
     "text": [
      "shape of x (50,)\n",
      "shape of y (50,)\n"
     ]
    },
    {
     "data": {
      "text/plain": [
       "array([ 0.35237491,  4.8951233 ,  1.86662437,  3.50706129,  3.38087384,\n",
       "        0.73093728,  3.88562366,  5.65224803,  6.28318531,  2.37137419,\n",
       "        0.60474982,  3.63324875,  0.85712473,  2.49756165,  1.61424946,\n",
       "        5.39987312,  6.15699785,  6.0308104 ,  0.47856237,  2.87612401,\n",
       "        4.51656093,  0.98331219,  1.10949964,  0.1       ,  2.11899928,\n",
       "        1.36187455,  4.01181111,  5.77843549,  4.26418602,  1.2356871 ,\n",
       "        2.24518674,  1.99281183,  1.48806201,  4.64274839,  4.39037348,\n",
       "        3.00231147,  0.22618746,  5.27368567,  5.02131076,  5.52606058,\n",
       "        2.6237491 ,  4.76893584,  3.12849893,  1.74043692,  3.7594362 ,\n",
       "        3.25468638,  5.90462294,  4.13799857,  2.74993656,  5.14749821])"
      ]
     },
     "execution_count": 699,
     "metadata": {},
     "output_type": "execute_result"
    }
   ],
   "source": [
    "# load dataset\n",
    "x, y = load_data()\n",
    "print(\"shape of x {}\".format(x.shape))\n",
    "print(\"shape of y {}\".format(y.shape))\n",
    "\n",
    "x\n"
   ]
  },
  {
   "cell_type": "markdown",
   "metadata": {},
   "source": [
    "Let us play with polynomial regression. Note that we will use your implemented function `compute_mse`. Please copy and paste your implementation from exercise02."
   ]
  },
  {
   "cell_type": "code",
   "execution_count": 704,
   "metadata": {},
   "outputs": [],
   "source": [
    "def compute_rmse(y,weights,phi_tilde):\n",
    "    ''' e=y.reshape((len(y),1))-phi_tilde.dot(weights); \n",
    "        MSE=((e.T).dot(e))/(2*len(y));'''\n",
    "    MSE=compute_mse(y,phi_tilde,weights);\n",
    "    rmse=np.sqrt(2*MSE);\n",
    "    return rmse"
   ]
  },
  {
   "cell_type": "code",
   "execution_count": 705,
   "metadata": {},
   "outputs": [
    {
     "data": {
      "text/plain": [
       "array([[  1.00000000e+00,   1.00000000e+00,   1.00000000e+00,\n",
       "          1.00000000e+00,   1.00000000e+00,   1.00000000e+00,\n",
       "          1.00000000e+00,   1.00000000e+00,   1.00000000e+00,\n",
       "          1.00000000e+00,   1.00000000e+00,   1.00000000e+00],\n",
       "       [  1.00000000e+00,   2.00000000e+00,   4.00000000e+00,\n",
       "          8.00000000e+00,   1.60000000e+01,   3.20000000e+01,\n",
       "          6.40000000e+01,   1.28000000e+02,   2.56000000e+02,\n",
       "          5.12000000e+02,   1.02400000e+03,   2.04800000e+03],\n",
       "       [  1.00000000e+00,   3.00000000e+00,   9.00000000e+00,\n",
       "          2.70000000e+01,   8.10000000e+01,   2.43000000e+02,\n",
       "          7.29000000e+02,   2.18700000e+03,   6.56100000e+03,\n",
       "          1.96830000e+04,   5.90490000e+04,   1.77147000e+05]])"
      ]
     },
     "execution_count": 705,
     "metadata": {},
     "output_type": "execute_result"
    }
   ],
   "source": [
    "g=[1,2,3];\n",
    "build_poly(g, 11)"
   ]
  },
  {
   "cell_type": "code",
   "execution_count": 706,
   "metadata": {},
   "outputs": [],
   "source": [
    "from plots import *\n",
    "def polynomial_regression(x):\n",
    "    \"\"\"Constructing the polynomial basis function expansion of the data,\n",
    "       and then running least squares regression.\"\"\"\n",
    "    # define parameters\n",
    "    degrees = [1, 3, 7, 15]\n",
    "    \n",
    "    # define the structure of the figure\n",
    "    num_row = 2\n",
    "    num_col = 2\n",
    "    f, axs = plt.subplots(num_row, num_col)\n",
    "    \n",
    "    for ind, degree in enumerate(degrees):\n",
    "        # ***************************************************\n",
    "        # INSERT YOUR CODE HERE\n",
    "        # form the data to do polynomial regression.: TODO\n",
    "        phi_tilde=build_poly(x, degree);\n",
    "        weights=least_squares(y, phi_tilde);\n",
    "            \n",
    "            \n",
    "        \n",
    "        # ***************************************************\n",
    "          \n",
    "        # ***************************************************\n",
    "        # INSERT YOUR CODE HERE\n",
    "        # least square and calculate RMSE: TODO\n",
    "        rmse=compute_rmse(y,weights,phi_tilde);\n",
    "        # ***************************************************\n",
    "        \n",
    "\n",
    "        print(\"Processing {i}th experiment, degree={d}, rmse={loss}\".format(\n",
    "            i=ind + 1, d=degree, loss=rmse))\n",
    "        # plot fit\n",
    "        plot_fitted_curve(\n",
    "            y, x, weights, degree, axs[ind // num_col][ind % num_col])\n",
    "    plt.tight_layout()\n",
    "    plt.savefig(\"visualize_polynomial_regression\")\n",
    "    plt.show()"
   ]
  },
  {
   "cell_type": "markdown",
   "metadata": {},
   "source": [
    "Run polynomial regression"
   ]
  },
  {
   "cell_type": "code",
   "execution_count": 707,
   "metadata": {},
   "outputs": [
    {
     "name": "stdout",
     "output_type": "stream",
     "text": [
      "(50, 1)\n",
      "Processing 1th experiment, degree=1, rmse=[[ 0.47187608]]\n",
      "(50, 1)\n",
      "Processing 2th experiment, degree=3, rmse=[[ 0.25858278]]\n",
      "(50, 1)\n",
      "Processing 3th experiment, degree=7, rmse=[[ 0.2496587]]\n",
      "(50, 1)\n",
      "Processing 4th experiment, degree=15, rmse=[[ 1.2708949]]\n"
     ]
    },
    {
     "data": {
      "image/png": "[encoded data removed]",
      "text/plain": [
       "<matplotlib.figure.Figure at 0x11a001518>"
      ]
     },
     "metadata": {},
     "output_type": "display_data"
    }
   ],
   "source": [
    "polynomial_regression(x)"
   ]
  },
  {
   "cell_type": "markdown",
   "metadata": {},
   "source": [
    "# 2 Evaluating model predication performance\n",
    "\n",
    "\n",
    "Let us show the train and test splits for various polynomial degrees. First of all, please fill in the function `split_data()`"
   ]
  },
  {
   "cell_type": "code",
   "execution_count": 708,
   "metadata": {},
   "outputs": [],
   "source": [
    "def split_random_data(x, y, ratio, seed=1):\n",
    "    \"\"\"\n",
    "    split the dataset based on the split ratio. If ratio is 0.8 \n",
    "    you will have 80% of your data set dedicated to training \n",
    "    and the rest dedicated to testing\n",
    "    \"\"\"\n",
    "    # set seed\n",
    "    np.random.seed(seed)\n",
    "    # ***************************************************\n",
    "    # INSERT YOUR CODE HERE\n",
    "    # split the data based on the given ratio: TODO\n",
    "    if(len(y.shape)==1):\n",
    "        y=y.reshape(len(y),1);\n",
    "    if(len(x.shape)==1):\n",
    "        x=x.reshape(len(x),1);\n",
    "    y_1=np.copy(y);\n",
    "    x_1=np.copy(x);\n",
    "    i=0;\n",
    "   \n",
    "    y_new_dim=list(y.shape);\n",
    "    x_new_dim=list(x.shape); \n",
    "    \n",
    "    train_dim=np.int(x_new_dim[0]*ratio);\n",
    "    val_dim=x_new_dim[0]-train_dim;\n",
    "   \n",
    "    y_new_dim[0]=train_dim;\n",
    "    x_new_dim[0]=train_dim;\n",
    "    y_train=np.ndarray(y_new_dim);\n",
    "    x_train=np.ndarray(x_new_dim);\n",
    "    \n",
    "    y_new_dim[0]=val_dim;\n",
    "    x_new_dim[0]=val_dim;\n",
    "    y_val=np.ndarray(x_new_dim);\n",
    "    x_val=np.ndarray(x_new_dim);\n",
    "  \n",
    "    \n",
    "    while i<train_dim:\n",
    "        rand=int(np.random.rand(1,1)*len(y));\n",
    "        \n",
    "        if y_1[rand]!=0:\n",
    "            y_train[i,:]=y_1[rand,:];\n",
    "            x_train[i,:]=x_1[rand,:];\n",
    "            y_1[rand]=0;\n",
    "            i=i+1;\n",
    "        \n",
    "            \n",
    "    cont=0;\n",
    "    i=1;\n",
    "    for i in range(1,len(y)):\n",
    "        if y_1[i]!=0:\n",
    "            y_val[cont,:]=y[i,:];\n",
    "            x_val[cont,:]=x[i,:];\n",
    "            cont=cont+1;\n",
    "            \n",
    "        \n",
    "        \n",
    "    \n",
    "    return y_train,x_train,y_val,x_val\n",
    "    \n",
    "    \n",
    "     \n",
    "    \n",
    "    # ***************************************************"
   ]
  },
  {
   "cell_type": "code",
   "execution_count": 709,
   "metadata": {},
   "outputs": [],
   "source": [
    "def split_data(x, y, ratio, seed=1):\n",
    "    \"\"\"\n",
    "    split the dataset based on the split ratio. If ratio is 0.8 \n",
    "    you will have 80% of your data set dedicated to training \n",
    "    and the rest dedicated to testing\n",
    "    \"\"\"\n",
    "    # set seed\n",
    "    np.random.seed(seed)\n",
    "    # ***************************************************\n",
    "    # INSERT YOUR CODE HERE\n",
    "    # split the data based on the given ratio: TODO\n",
    "    if(len(y.shape)==1):\n",
    "        y=y.reshape(len(y),1);\n",
    "    if(len(x.shape)==1):\n",
    "        x=x.reshape(len(x),1);\n",
    "    y_1=np.copy(y);\n",
    "    x_1=np.copy(x);\n",
    "    i=0;\n",
    "   \n",
    "    y_new_dim=list(y.shape);\n",
    "    x_new_dim=list(x.shape); \n",
    "    \n",
    "    train_dim=np.int(x_new_dim[0]*ratio);\n",
    "    val_dim=x_new_dim[0]-train_dim;\n",
    "   \n",
    "    y_new_dim[0]=train_dim;\n",
    "    x_new_dim[0]=train_dim;\n",
    "    y_train=np.ndarray(y_new_dim);\n",
    "    x_train=np.ndarray(x_new_dim);\n",
    "    \n",
    "    y_new_dim[0]=val_dim;\n",
    "    x_new_dim[0]=val_dim;\n",
    "    y_val=np.ndarray(x_new_dim);\n",
    "    x_val=np.ndarray(x_new_dim);\n",
    "  \n",
    "    i=0;\n",
    "    while i<train_dim:\n",
    "            y_train[i,:]=y_1[i,:];\n",
    "            x_train[i,:]=x_1[i,:];\n",
    "            i=i+1;   \n",
    "    cont=0;\n",
    "    while i<x.shape[0]:       \n",
    "            y_val[cont,:]=y[i,:];\n",
    "            x_val[cont,:]=x[i,:];\n",
    "            cont=cont+1;\n",
    "            i=i+1;\n",
    "            \n",
    "        \n",
    "        \n",
    "    \n",
    "    return y_train,x_train,y_val,x_val\n",
    "    \n",
    "    \n",
    "     \n",
    "    \n",
    "    # ***************************************************"
   ]
  },
  {
   "cell_type": "code",
   "execution_count": 710,
   "metadata": {},
   "outputs": [
    {
     "name": "stdout",
     "output_type": "stream",
     "text": [
      "[[ 1.]]\n",
      "[[ 1.]]\n",
      "[[  2.]\n",
      " [  3.]\n",
      " [  4.]\n",
      " [  5.]\n",
      " [ 10.]\n",
      " [ 11.]\n",
      " [ 12.]]\n",
      "[[  2.]\n",
      " [  3.]\n",
      " [  4.]\n",
      " [  5.]\n",
      " [ 10.]\n",
      " [ 11.]\n",
      " [ 12.]]\n"
     ]
    }
   ],
   "source": [
    "y_2=np.array((1,2,3,4,5,10,11,12));\n",
    "x_2=np.array((1,2,3,4,5,10,11,12));\n",
    "[y_train,x_train,y_val,x_val]=split_data(y_2,x_2,0.2,6);\n",
    "print(y_train)\n",
    "print(x_train)\n",
    "print(y_val)\n",
    "print(x_val)"
   ]
  },
  {
   "cell_type": "code",
   "execution_count": 711,
   "metadata": {},
   "outputs": [],
   "source": [
    "def train_test_split_demo(x, y, degree, ratio, seed):\n",
    "    \"\"\"polynomial regression with different split ratios and different degrees.\"\"\"\n",
    "    # ***************************************************\n",
    "    # INSERT YOUR CODE HERE\n",
    "    # split the data, and return train and test data: TODO\n",
    "    [y_train,x_train,y_val,x_val]=split_random_data(x, y, ratio, seed);\n",
    "    # ***************************************************\n",
    "    \n",
    "    # ***************************************************\n",
    "    # INSERT YOUR CODE HERE\n",
    "    \n",
    "    # form train and test data with polynomial basis function: TODO\n",
    "    phi_tilde_train=build_poly(x_train, degree); \n",
    "    if x_val.shape[0]!=0 :\n",
    "        phi_tilde_val=build_poly(x_val, degree); \n",
    "    \n",
    "    # *************************************************** \n",
    "     \n",
    "    # ***************************************************\n",
    "    # INSERT YOUR CODE HERE\n",
    "    # calcualte weight through least square.: TODO\n",
    "    \n",
    "    \n",
    "    weights_train=least_squares(y_train, phi_tilde_train);\n",
    "\n",
    "    \n",
    "    \n",
    "    # ***************************************************\n",
    "    \n",
    "    # ***************************************************\n",
    "    # INSERT YOUR CODE HERE\n",
    "    # calculate RMSE for train and test data,\n",
    "    # and store them in rmse_tr and rmse_te respectively: TODO\n",
    "    \n",
    "    rmse_tr=np.asscalar(compute_rmse(y_train,weights_train,phi_tilde_train));\n",
    "    if x_val.shape[0]!=0 :\n",
    "        rmse_te=np.asscalar(compute_rmse(y_val,weights_train,phi_tilde_val));\n",
    "    else:\n",
    "        rmse_te=1;\n",
    "    \n",
    "    \n",
    "    # ***************************************************\n",
    "    \n",
    "    print(\"proportion={p}, degree={d}, Training RMSE={tr:.3f}, Testing RMSE={te:.3f}\".format(\n",
    "      p=ratio, d=degree, tr=rmse_tr, te=rmse_te))"
   ]
  },
  {
   "cell_type": "code",
   "execution_count": 712,
   "metadata": {},
   "outputs": [
    {
     "name": "stdout",
     "output_type": "stream",
     "text": [
      "(50, 1)\n",
      "proportion=1, degree=1, Training RMSE=0.472, Testing RMSE=1.000\n",
      "(50, 1)\n",
      "proportion=1, degree=3, Training RMSE=0.259, Testing RMSE=1.000\n",
      "(50, 1)\n",
      "proportion=1, degree=7, Training RMSE=0.250, Testing RMSE=1.000\n",
      "(50, 1)\n",
      "proportion=1, degree=10, Training RMSE=0.248, Testing RMSE=1.000\n",
      "(25, 1)\n",
      "(25, 1)\n",
      "proportion=0.5, degree=1, Training RMSE=0.474, Testing RMSE=0.523\n",
      "(25, 1)\n",
      "(25, 1)\n",
      "proportion=0.5, degree=3, Training RMSE=0.264, Testing RMSE=1.630\n",
      "(25, 1)\n",
      "(25, 1)\n",
      "proportion=0.5, degree=7, Training RMSE=0.228, Testing RMSE=2.874\n",
      "(25, 1)\n",
      "(25, 1)\n",
      "proportion=0.5, degree=10, Training RMSE=0.216, Testing RMSE=40.721\n",
      "(5, 1)\n",
      "(45, 1)\n",
      "proportion=0.1, degree=1, Training RMSE=0.679, Testing RMSE=0.819\n",
      "(5, 1)\n",
      "(45, 1)\n",
      "proportion=0.1, degree=3, Training RMSE=0.360, Testing RMSE=0.322\n",
      "(5, 1)\n",
      "(45, 1)\n",
      "proportion=0.1, degree=7, Training RMSE=5.406, Testing RMSE=11.282\n",
      "(5, 1)\n",
      "(45, 1)\n",
      "proportion=0.1, degree=10, Training RMSE=0.122, Testing RMSE=0.767\n"
     ]
    }
   ],
   "source": [
    "seed = 6\n",
    "degrees = [1, 3, 7, 10]\n",
    "split_ratios = [1, 0.5, 0.1]\n",
    "\n",
    "for split_ratio in split_ratios:\n",
    "    for degree in degrees:\n",
    "\n",
    "        train_test_split_demo(x, y, degree, split_ratio, seed);"
   ]
  },
  {
   "cell_type": "markdown",
   "metadata": {},
   "source": [
    "# 3 Ridge Regression\n",
    "Please fill in the function below."
   ]
  },
  {
   "cell_type": "code",
   "execution_count": 713,
   "metadata": {},
   "outputs": [],
   "source": [
    "def ridge_regression(y, tx, lambda_):\n",
    "    \"\"\"implement ridge regression.\"\"\"\n",
    "    # ***************************************************\n",
    "    # INSERT YOUR CODE HERE\n",
    "    A=tx.T.dot(tx);\n",
    "    lambda_=lambda_*(2*y.shape[0]);\n",
    "    w_opt=(np.linalg.inv(A+lambda_*np.identity(A.shape[0])).dot(tx.T)).dot(y); \n",
    "    \n",
    "    if(len(w_opt.shape)==1):\n",
    "        w_opt=w_opt.reshape(len(w_opt),1);\n",
    "    return w_opt;\n",
    "    # ridge regression: TODO\n",
    "    # ***************************************************\n"
   ]
  },
  {
   "cell_type": "code",
   "execution_count": 717,
   "metadata": {
    "collapsed": true
   },
   "outputs": [],
   "source": [
    "def ridge_regression_demo(x, y, degree, ratio, seed):\n",
    "    \"\"\"ridge regression demo.\"\"\"\n",
    "    # define parameter\n",
    "    lambdas = np.logspace(-5, 0, 15)\n",
    "    # ***************************************************\n",
    "    # INSERT YOUR CODE HERE\n",
    "    # split the data, and return train and test data: TODO\n",
    "    # ***************************************************\n",
    "    [y_train,x_train,y_val,x_val]=split_data(x, y, ratio, seed);\n",
    "    print(x_train.shape);\n",
    "    print(x_val.shape);\n",
    "# ***************************************************\n",
    "    # INSERT YOUR CODE HERE\n",
    "    # form train and test data with polynomial basis function: TODO\n",
    "    phi_tilde_train=build_poly(x_train, degree); \n",
    "    phi_tilde_val=build_poly(x_val, degree); \n",
    "    # ***************************************************\n",
    "    rmse_tr = np.zeros(len(lambdas));\n",
    "    rmse_te = np.zeros(len(lambdas));\n",
    "    for ind, lambda_ in enumerate(lambdas):\n",
    "        # ***************************************************\n",
    "        # INSERT YOUR CODE HERE\n",
    "        # ridge regression with a given lambda\n",
    "        weights_train=ridge_regression(y_train,phi_tilde_train , lambda_);\n",
    "    \n",
    "        rmse_tr[ind]=np.asscalar(compute_rmse(y_train,weights_train,phi_tilde_train));\n",
    "        rmse_te[ind]=np.asscalar(compute_rmse(y_val,weights_train,phi_tilde_val));\n",
    "        # ***************************************************\n",
    "        print(\"proportion={p}, degree={d}, lambda={l:.3f}, Training RMSE={tr:.3f}, Testing RMSE={te:.3f}\".format(\n",
    "               p=ratio, d=degree, l=lambda_, tr=rmse_tr[ind], te=rmse_te[ind]))\n",
    "        \n",
    "    # Plot the obtained results\n",
    "    plot_train_test(rmse_tr, rmse_te, lambdas, degree)\n",
    "\n",
    "  \n"
   ]
  },
  {
   "cell_type": "code",
   "execution_count": 718,
   "metadata": {},
   "outputs": [
    {
     "name": "stdout",
     "output_type": "stream",
     "text": [
      "(25, 1)\n",
      "(25, 1)\n",
      "(25, 1)\n",
      "(25, 1)\n",
      "proportion=0.5, degree=7, lambda=0.000, Training RMSE=0.233, Testing RMSE=0.303\n",
      "(25, 1)\n",
      "(25, 1)\n",
      "proportion=0.5, degree=7, lambda=0.000, Training RMSE=0.235, Testing RMSE=0.296\n",
      "(25, 1)\n",
      "(25, 1)\n",
      "proportion=0.5, degree=7, lambda=0.000, Training RMSE=0.238, Testing RMSE=0.288\n",
      "(25, 1)\n",
      "(25, 1)\n",
      "proportion=0.5, degree=7, lambda=0.000, Training RMSE=0.242, Testing RMSE=0.282\n",
      "(25, 1)\n",
      "(25, 1)\n",
      "proportion=0.5, degree=7, lambda=0.000, Training RMSE=0.245, Testing RMSE=0.279\n",
      "(25, 1)\n",
      "(25, 1)\n",
      "proportion=0.5, degree=7, lambda=0.001, Training RMSE=0.247, Testing RMSE=0.277\n",
      "(25, 1)\n",
      "(25, 1)\n",
      "proportion=0.5, degree=7, lambda=0.001, Training RMSE=0.248, Testing RMSE=0.275\n",
      "(25, 1)\n",
      "(25, 1)\n",
      "proportion=0.5, degree=7, lambda=0.003, Training RMSE=0.249, Testing RMSE=0.274\n",
      "(25, 1)\n",
      "(25, 1)\n",
      "proportion=0.5, degree=7, lambda=0.007, Training RMSE=0.250, Testing RMSE=0.272\n",
      "(25, 1)\n",
      "(25, 1)\n",
      "proportion=0.5, degree=7, lambda=0.016, Training RMSE=0.251, Testing RMSE=0.269\n",
      "(25, 1)\n",
      "(25, 1)\n",
      "proportion=0.5, degree=7, lambda=0.037, Training RMSE=0.256, Testing RMSE=0.266\n",
      "(25, 1)\n",
      "(25, 1)\n",
      "proportion=0.5, degree=7, lambda=0.085, Training RMSE=0.268, Testing RMSE=0.268\n",
      "(25, 1)\n",
      "(25, 1)\n",
      "proportion=0.5, degree=7, lambda=0.193, Training RMSE=0.297, Testing RMSE=0.280\n",
      "(25, 1)\n",
      "(25, 1)\n",
      "proportion=0.5, degree=7, lambda=0.439, Training RMSE=0.340, Testing RMSE=0.305\n",
      "(25, 1)\n",
      "(25, 1)\n",
      "proportion=0.5, degree=7, lambda=1.000, Training RMSE=0.381, Testing RMSE=0.335\n"
     ]
    },
    {
     "data": {
      "image/png": "[encoded data removed]",
      "text/plain": [
       "<matplotlib.figure.Figure at 0x11a0d4550>"
      ]
     },
     "metadata": {},
     "output_type": "display_data"
    }
   ],
   "source": [
    "seed = 56\n",
    "degree = 7\n",
    "split_ratio = 0.5\n",
    "ridge_regression_demo(x, y, degree, split_ratio, seed)"
   ]
  },
  {
   "cell_type": "code",
   "execution_count": null,
   "metadata": {
    "collapsed": true
   },
   "outputs": [],
   "source": []
  },
  {
   "cell_type": "code",
   "execution_count": null,
   "metadata": {
    "collapsed": true
   },
   "outputs": [],
   "source": []
  }
 ],
 "metadata": {
  "anaconda-cloud": {},
  "kernelspec": {
   "display_name": "Python 3",
   "language": "python",
   "name": "python3"
  },
  "language_info": {
   "codemirror_mode": {
    "name": "ipython",
    "version": 3
   },
   "file_extension": ".py",
   "mimetype": "text/x-python",
   "name": "python",
   "nbconvert_exporter": "python",
   "pygments_lexer": "ipython3",
   "version": "3.6.1"
  }
 },
 "nbformat": 4,
 "nbformat_minor": 1
}
