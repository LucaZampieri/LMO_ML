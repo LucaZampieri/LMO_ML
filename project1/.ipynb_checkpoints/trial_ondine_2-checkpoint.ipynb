{
 "cells": [
  {
   "cell_type": "markdown",
   "metadata": {},
   "source": [
    "# **TODO**\n",
    "* Features cross products\n",
    "* Square and cube roots\n",
    "* phi features overfit?"
   ]
  },
  {
   "cell_type": "markdown",
   "metadata": {},
   "source": [
    "# Import libraries"
   ]
  },
  {
   "cell_type": "code",
   "execution_count": 1,
   "metadata": {
    "collapsed": true
   },
   "outputs": [],
   "source": [
    "%matplotlib inline \n",
    "import numpy as np   # generic stuff\n",
    "import matplotlib.pyplot as plt\n",
    "\n",
    "from lib.proj1_helpers import * #the helper provided for the project\n",
    "\n",
    "from implementations import * #our implementations of the functions done by us\n",
    "from helpers import *\n",
    "import datetime\n",
    "import operator\n",
    "# Useful starting lines\n",
    "\n",
    "%load_ext autoreload\n",
    "%autoreload 2\n",
    "%reload_ext autoreload"
   ]
  },
  {
   "cell_type": "markdown",
   "metadata": {},
   "source": [
    "# Loading the training and the testing sets"
   ]
  },
  {
   "cell_type": "code",
   "execution_count": 2,
   "metadata": {
    "collapsed": true
   },
   "outputs": [],
   "source": [
    "DATA_FOLDER = 'data/'\n",
    "\n",
    "y_train, tx_train, ids_train = load_csv_data(DATA_FOLDER+'train.csv',sub_sample=False)\n",
    "\n",
    "y_test, tx_test, ids_test = load_csv_data(DATA_FOLDER+'test.csv',sub_sample=False)"
   ]
  },
  {
   "cell_type": "code",
   "execution_count": 3,
   "metadata": {},
   "outputs": [
    {
     "data": {
      "text/plain": [
       "array([ 1., -1., -1., ...,  1., -1., -1.])"
      ]
     },
     "execution_count": 3,
     "metadata": {},
     "output_type": "execute_result"
    }
   ],
   "source": [
    "y_train"
   ]
  },
  {
   "cell_type": "code",
   "execution_count": 4,
   "metadata": {},
   "outputs": [
    {
     "data": {
      "text/plain": [
       "array([[ 138.47 ,   51.655,   97.827, ...,    1.24 ,   -2.475,  113.497],\n",
       "       [ 160.937,   68.768,  103.235, ..., -999.   , -999.   ,   46.226],\n",
       "       [-999.   ,  162.172,  125.953, ..., -999.   , -999.   ,   44.251],\n",
       "       ..., \n",
       "       [ 105.457,   60.526,   75.839, ..., -999.   , -999.   ,   41.992],\n",
       "       [  94.951,   19.362,   68.812, ..., -999.   , -999.   ,    0.   ],\n",
       "       [-999.   ,   72.756,   70.831, ..., -999.   , -999.   ,    0.   ]])"
      ]
     },
     "execution_count": 4,
     "metadata": {},
     "output_type": "execute_result"
    }
   ],
   "source": [
    "tx_train"
   ]
  },
  {
   "cell_type": "code",
   "execution_count": 5,
   "metadata": {},
   "outputs": [
    {
     "data": {
      "text/plain": [
       "array([[-999.   ,   79.589,   23.916, ..., -999.   , -999.   ,    0.   ],\n",
       "       [ 106.398,   67.49 ,   87.949, ..., -999.   , -999.   ,   47.575],\n",
       "       [ 117.794,   56.226,   96.358, ..., -999.   , -999.   ,    0.   ],\n",
       "       ..., \n",
       "       [ 108.497,    9.837,   65.149, ..., -999.   , -999.   ,    0.   ],\n",
       "       [  96.711,   20.006,   66.942, ..., -999.   , -999.   ,   30.863],\n",
       "       [  92.373,   80.109,   77.619, ..., -999.   , -999.   ,    0.   ]])"
      ]
     },
     "execution_count": 5,
     "metadata": {},
     "output_type": "execute_result"
    }
   ],
   "source": [
    "tx_test"
   ]
  },
  {
   "cell_type": "code",
   "execution_count": 7,
   "metadata": {},
   "outputs": [
    {
     "data": {
      "text/plain": [
       "array([ 1.,  1.,  1., ...,  1.,  1.,  1.])"
      ]
     },
     "execution_count": 7,
     "metadata": {},
     "output_type": "execute_result"
    }
   ],
   "source": [
    "y_test"
   ]
  },
  {
   "cell_type": "markdown",
   "metadata": {},
   "source": [
    "# Handling missing values (-999)"
   ]
  },
  {
   "cell_type": "code",
   "execution_count": 8,
   "metadata": {
    "collapsed": true
   },
   "outputs": [],
   "source": [
    "def clean_missing_values(tx):\n",
    "    nan_values = (tx==-999)*1\n",
    "    for col in range(tx.shape[1]):\n",
    "        column = tx[:,col][tx[:,col]!=-999]\n",
    "        median = np.median(column)\n",
    "        tx[:,col][tx[:,col]==-999] = median\n",
    "    return tx, nan_values"
   ]
  },
  {
   "cell_type": "code",
   "execution_count": 9,
   "metadata": {
    "collapsed": true
   },
   "outputs": [],
   "source": [
    "tx_train, nan_values_train = clean_missing_values(tx_train)\n",
    "tx_test, nan_values_test = clean_missing_values(tx_test)"
   ]
  },
  {
   "cell_type": "code",
   "execution_count": 10,
   "metadata": {
    "collapsed": true
   },
   "outputs": [],
   "source": [
    "def add_nan_feature(tx, nan_values):\n",
    "    # Keep in nan_values only the columns containing ones (i.e. keep only columns that used to contain -999)\n",
    "    cols_wo_nan_ids = [i for i in range(nan_values.shape[1]) if np.prod((nan_values.T[i]==0)*1)==1]\n",
    "    nan_values = np.delete(nan_values, cols_wo_nan_ids, axis=1)\n",
    "\n",
    "    # If two (or more) columns of nan_values are equal, keep only one of them\n",
    "    unique_nan_cols_ids = [0]\n",
    "    #erase_cols_ids = []\n",
    "    for i in range(1,nan_values.shape[1]):\n",
    "        id_loop = unique_nan_cols_ids\n",
    "        erase = False\n",
    "        for j in id_loop:\n",
    "            if np.sum(nan_values.T[i]-nan_values.T[j])==0:\n",
    "                #erase_cols_ids.append(i)\n",
    "                erase = True\n",
    "                break\n",
    "        if erase == False:\n",
    "            unique_nan_cols_ids.append(i)\n",
    "    nan_values = nan_values[:,unique_nan_cols_ids]\n",
    "    \n",
    "    # Concatenate nan_values with the original data matrix tx\n",
    "    return np.concatenate((tx, nan_values), axis=1)"
   ]
  },
  {
   "cell_type": "code",
   "execution_count": 11,
   "metadata": {},
   "outputs": [
    {
     "name": "stdout",
     "output_type": "stream",
     "text": [
      "(250000, 30)\n",
      "(250000, 33)\n"
     ]
    }
   ],
   "source": [
    "print(tx_train.shape)\n",
    "tx_train = add_nan_feature(tx_train, nan_values_train)\n",
    "print(tx_train.shape)"
   ]
  },
  {
   "cell_type": "code",
   "execution_count": 12,
   "metadata": {},
   "outputs": [
    {
     "name": "stdout",
     "output_type": "stream",
     "text": [
      "(568238, 30)\n",
      "(568238, 33)\n"
     ]
    }
   ],
   "source": [
    "print(tx_test.shape)\n",
    "tx_test = add_nan_feature(tx_test, nan_values_test)\n",
    "print(tx_test.shape)"
   ]
  },
  {
   "cell_type": "markdown",
   "metadata": {},
   "source": [
    "# Manage categorical data (feature 22)"
   ]
  },
  {
   "cell_type": "code",
   "execution_count": 13,
   "metadata": {},
   "outputs": [
    {
     "data": {
      "text/plain": [
       "array([ 2.,  1.,  1., ...,  1.,  0.,  0.])"
      ]
     },
     "execution_count": 13,
     "metadata": {},
     "output_type": "execute_result"
    }
   ],
   "source": [
    "tx_train[:,22]"
   ]
  },
  {
   "cell_type": "code",
   "execution_count": 25,
   "metadata": {
    "collapsed": true
   },
   "outputs": [],
   "source": [
    "def manage_categorical_data(tx):\n",
    "    idx_cat = 22\n",
    "    larger_tx = np.zeros([tx.shape[0],3])\n",
    "    # larger_tx[:,0] = (tx[:,idx_cat]==0)*1 ---> not done, because it is equivalent to a dummy variable due to -999\n",
    "    larger_tx[:,0] = (tx[:,idx_cat]==1)*1\n",
    "    larger_tx[:,1] = (tx[:,idx_cat]==2)*1\n",
    "    larger_tx[:,2] = (tx[:,idx_cat]==3)*1\n",
    "    tx = np.delete(tx, idx_cat, axis=1)\n",
    "    tx = np.concatenate((tx, larger_tx), axis=1)\n",
    "    return tx"
   ]
  },
  {
   "cell_type": "code",
   "execution_count": 26,
   "metadata": {},
   "outputs": [
    {
     "name": "stdout",
     "output_type": "stream",
     "text": [
      "(250000, 33)\n",
      "(250000, 35)\n"
     ]
    }
   ],
   "source": [
    "print(tx_train.shape)\n",
    "tx_train = manage_categorical_data(tx_train)\n",
    "print(tx_train.shape)"
   ]
  },
  {
   "cell_type": "code",
   "execution_count": 27,
   "metadata": {},
   "outputs": [
    {
     "name": "stdout",
     "output_type": "stream",
     "text": [
      "(568238, 33)\n",
      "(568238, 35)\n"
     ]
    }
   ],
   "source": [
    "print(tx_test.shape)\n",
    "tx_test = manage_categorical_data(tx_test)\n",
    "print(tx_test.shape)"
   ]
  },
  {
   "cell_type": "markdown",
   "metadata": {},
   "source": [
    "# Standardization of data"
   ]
  },
  {
   "cell_type": "code",
   "execution_count": 28,
   "metadata": {
    "collapsed": true
   },
   "outputs": [],
   "source": [
    "tx_train = standardize(tx_train)\n",
    "tx_train = tx_train[0]\n",
    "tx_test = standardize(tx_test)\n",
    "tx_test = tx_test[0]"
   ]
  },
  {
   "cell_type": "markdown",
   "metadata": {},
   "source": [
    "# Add a column of all ones"
   ]
  },
  {
   "cell_type": "code",
   "execution_count": 32,
   "metadata": {
    "collapsed": true
   },
   "outputs": [],
   "source": [
    "def add_ones(tx):\n",
    "    return np.concatenate((tx, np.ones([tx.shape[0],1])), axis=1)"
   ]
  },
  {
   "cell_type": "code",
   "execution_count": 33,
   "metadata": {
    "collapsed": true
   },
   "outputs": [],
   "source": [
    "tx_train = add_ones(tx_train)\n",
    "tx_test = add_ones(tx_test)"
   ]
  },
  {
   "cell_type": "markdown",
   "metadata": {},
   "source": [
    "# Add powers of the columns"
   ]
  },
  {
   "cell_type": "code",
   "execution_count": 36,
   "metadata": {
    "collapsed": true
   },
   "outputs": [],
   "source": [
    "def build_poly(x, degree):\n",
    "    \"\"\"polynomial basis functions for input data x, for j=1 up to j=degree.\"\"\"\n",
    "    return np.array([x**p for p in range(2,degree+1)]).T \n",
    "    # not range from 0 because we have already added a column of ones, \n",
    "    # not range from 1 because we already have the linear features."
   ]
  },
  {
   "cell_type": "code",
   "execution_count": 37,
   "metadata": {
    "collapsed": true
   },
   "outputs": [],
   "source": [
    "def add_powers(tx, degree):\n",
    "    for col in range(29): #range(tx.shape[1]):\n",
    "        tx = np.concatenate((tx, build_poly(tx[:,col], degree)), axis=1)\n",
    "    return tx"
   ]
  },
  {
   "cell_type": "code",
   "execution_count": null,
   "metadata": {
    "collapsed": true
   },
   "outputs": [],
   "source": [
    "# DONE IN CROSS VALIDATION\n",
    "# deg = 11\n",
    "# tx_train = add_powers(tx_train, deg)\n",
    "# tx_test = add_powers(tx_test, deg)"
   ]
  },
  {
   "cell_type": "code",
   "execution_count": 38,
   "metadata": {},
   "outputs": [
    {
     "name": "stdout",
     "output_type": "stream",
     "text": [
      "(250000, 36)\n",
      "(568238, 36)\n"
     ]
    }
   ],
   "source": [
    "print(tx_train.shape)\n",
    "print(tx_test.shape)"
   ]
  },
  {
   "cell_type": "markdown",
   "metadata": {},
   "source": [
    "# Cross-validation"
   ]
  },
  {
   "cell_type": "code",
   "execution_count": 39,
   "metadata": {
    "collapsed": true
   },
   "outputs": [],
   "source": [
    "def build_k_indices(y, k_fold, seed):\n",
    "    \"\"\"build k indices for k-fold.\"\"\"\n",
    "    num_row = y.shape[0]\n",
    "    interval = int(num_row / k_fold)\n",
    "    np.random.seed(seed)\n",
    "    indices = np.random.permutation(num_row)\n",
    "    k_indices = [indices[k * interval: (k + 1) * interval]\n",
    "                 for k in range(k_fold)]\n",
    "    return np.array(k_indices)"
   ]
  },
  {
   "cell_type": "markdown",
   "metadata": {},
   "source": [
    "# Submission trials"
   ]
  },
  {
   "cell_type": "markdown",
   "metadata": {},
   "source": [
    "## Least squares"
   ]
  },
  {
   "cell_type": "code",
   "execution_count": null,
   "metadata": {
    "collapsed": true
   },
   "outputs": [],
   "source": []
  },
  {
   "cell_type": "markdown",
   "metadata": {},
   "source": [
    "## Gradient descent"
   ]
  },
  {
   "cell_type": "code",
   "execution_count": null,
   "metadata": {
    "collapsed": true
   },
   "outputs": [],
   "source": []
  },
  {
   "cell_type": "markdown",
   "metadata": {},
   "source": [
    "## Stochastic gradient descent"
   ]
  },
  {
   "cell_type": "code",
   "execution_count": null,
   "metadata": {
    "collapsed": true
   },
   "outputs": [],
   "source": []
  },
  {
   "cell_type": "markdown",
   "metadata": {},
   "source": [
    "## Ridge regression"
   ]
  },
  {
   "cell_type": "code",
   "execution_count": 123,
   "metadata": {},
   "outputs": [],
   "source": [
    "def cross_validation_ridge_regression(y, tx, k_indices, k, lambda_, degree, fct='rmse'):\n",
    "    \"\"\"return the loss of ridge regression.\"\"\"\n",
    "    # get k'th subgroup in test, others in train\n",
    "    k_index = k_indices[k]\n",
    "    test_y = y[k_index]\n",
    "    test_tx = tx[k_index,:]\n",
    "\n",
    "    mask = np.ones(len(y), dtype=bool) # set all elements to True\n",
    "    mask[k_index] = False              # set test elements to False\n",
    "    train_tx = tx[mask,:]              # select only True elements (ie train elements)\n",
    "    train_y = y[mask]\n",
    "    \n",
    "    # ridge regression and\n",
    "    # calculate the loss for train and test data\n",
    "    weights = ridge_regression(train_y, train_tx, lambda_)\n",
    "\n",
    "    y_pred_train = predict_labels(weights, train_tx)\n",
    "    y_pred_test = predict_labels(weights, test_tx)\n",
    "    right_train = np.sum(y_pred_train == train_y)/len(train_y)*100\n",
    "    right_test = np.sum(y_pred_test == test_y)/len(test_y)*100\n",
    "    \n",
    "    return right_train, right_test"
   ]
  },
  {
   "cell_type": "code",
   "execution_count": 124,
   "metadata": {
    "scrolled": true
   },
   "outputs": [
    {
     "name": "stdout",
     "output_type": "stream",
     "text": [
      "j =  1  over  11  ; Degree =  5\n",
      "i =  1  over  10  ; Lambda_ =  1e-15\n",
      "i =  2  over  10  ; Lambda_ =  2.15443469003e-14\n",
      "i =  3  over  10  ; Lambda_ =  4.64158883361e-13\n",
      "i =  4  over  10  ; Lambda_ =  1e-11\n",
      "i =  5  over  10  ; Lambda_ =  2.15443469003e-10\n",
      "i =  6  over  10  ; Lambda_ =  4.64158883361e-09\n",
      "i =  7  over  10  ; Lambda_ =  1e-07\n",
      "i =  8  over  10  ; Lambda_ =  2.15443469003e-06\n",
      "i =  9  over  10  ; Lambda_ =  4.64158883361e-05\n",
      "i =  10  over  10  ; Lambda_ =  0.001\n",
      "j =  2  over  11  ; Degree =  6\n",
      "i =  1  over  10  ; Lambda_ =  1e-15\n",
      "i =  2  over  10  ; Lambda_ =  2.15443469003e-14\n",
      "i =  3  over  10  ; Lambda_ =  4.64158883361e-13\n",
      "i =  4  over  10  ; Lambda_ =  1e-11\n",
      "i =  5  over  10  ; Lambda_ =  2.15443469003e-10\n",
      "i =  6  over  10  ; Lambda_ =  4.64158883361e-09\n",
      "i =  7  over  10  ; Lambda_ =  1e-07\n",
      "i =  8  over  10  ; Lambda_ =  2.15443469003e-06\n",
      "i =  9  over  10  ; Lambda_ =  4.64158883361e-05\n",
      "i =  10  over  10  ; Lambda_ =  0.001\n",
      "j =  3  over  11  ; Degree =  7\n",
      "i =  1  over  10  ; Lambda_ =  1e-15\n",
      "i =  2  over  10  ; Lambda_ =  2.15443469003e-14\n",
      "i =  3  over  10  ; Lambda_ =  4.64158883361e-13\n",
      "i =  4  over  10  ; Lambda_ =  1e-11\n",
      "i =  5  over  10  ; Lambda_ =  2.15443469003e-10\n",
      "i =  6  over  10  ; Lambda_ =  4.64158883361e-09\n",
      "i =  7  over  10  ; Lambda_ =  1e-07\n",
      "i =  8  over  10  ; Lambda_ =  2.15443469003e-06\n",
      "i =  9  over  10  ; Lambda_ =  4.64158883361e-05\n",
      "i =  10  over  10  ; Lambda_ =  0.001\n",
      "j =  4  over  11  ; Degree =  8\n",
      "i =  1  over  10  ; Lambda_ =  1e-15\n",
      "i =  2  over  10  ; Lambda_ =  2.15443469003e-14\n",
      "i =  3  over  10  ; Lambda_ =  4.64158883361e-13\n",
      "i =  4  over  10  ; Lambda_ =  1e-11\n",
      "i =  5  over  10  ; Lambda_ =  2.15443469003e-10\n",
      "i =  6  over  10  ; Lambda_ =  4.64158883361e-09\n",
      "i =  7  over  10  ; Lambda_ =  1e-07\n",
      "i =  8  over  10  ; Lambda_ =  2.15443469003e-06\n",
      "i =  9  over  10  ; Lambda_ =  4.64158883361e-05\n",
      "i =  10  over  10  ; Lambda_ =  0.001\n",
      "j =  5  over  11  ; Degree =  9\n",
      "i =  1  over  10  ; Lambda_ =  1e-15\n",
      "i =  2  over  10  ; Lambda_ =  2.15443469003e-14\n",
      "i =  3  over  10  ; Lambda_ =  4.64158883361e-13\n",
      "i =  4  over  10  ; Lambda_ =  1e-11\n",
      "i =  5  over  10  ; Lambda_ =  2.15443469003e-10\n",
      "i =  6  over  10  ; Lambda_ =  4.64158883361e-09\n",
      "i =  7  over  10  ; Lambda_ =  1e-07\n",
      "i =  8  over  10  ; Lambda_ =  2.15443469003e-06\n",
      "i =  9  over  10  ; Lambda_ =  4.64158883361e-05\n",
      "i =  10  over  10  ; Lambda_ =  0.001\n",
      "j =  6  over  11  ; Degree =  10\n",
      "i =  1  over  10  ; Lambda_ =  1e-15\n",
      "i =  2  over  10  ; Lambda_ =  2.15443469003e-14\n",
      "i =  3  over  10  ; Lambda_ =  4.64158883361e-13\n",
      "i =  4  over  10  ; Lambda_ =  1e-11\n",
      "i =  5  over  10  ; Lambda_ =  2.15443469003e-10\n",
      "i =  6  over  10  ; Lambda_ =  4.64158883361e-09\n",
      "i =  7  over  10  ; Lambda_ =  1e-07\n",
      "i =  8  over  10  ; Lambda_ =  2.15443469003e-06\n",
      "i =  9  over  10  ; Lambda_ =  4.64158883361e-05\n",
      "i =  10  over  10  ; Lambda_ =  0.001\n",
      "j =  7  over  11  ; Degree =  11\n",
      "i =  1  over  10  ; Lambda_ =  1e-15\n",
      "i =  2  over  10  ; Lambda_ =  2.15443469003e-14\n",
      "i =  3  over  10  ; Lambda_ =  4.64158883361e-13\n",
      "i =  4  over  10  ; Lambda_ =  1e-11\n",
      "i =  5  over  10  ; Lambda_ =  2.15443469003e-10\n",
      "i =  6  over  10  ; Lambda_ =  4.64158883361e-09\n",
      "i =  7  over  10  ; Lambda_ =  1e-07\n",
      "i =  8  over  10  ; Lambda_ =  2.15443469003e-06\n",
      "i =  9  over  10  ; Lambda_ =  4.64158883361e-05\n",
      "i =  10  over  10  ; Lambda_ =  0.001\n",
      "j =  8  over  11  ; Degree =  12\n",
      "i =  1  over  10  ; Lambda_ =  1e-15\n",
      "i =  2  over  10  ; Lambda_ =  2.15443469003e-14\n",
      "i =  3  over  10  ; Lambda_ =  4.64158883361e-13\n",
      "i =  4  over  10  ; Lambda_ =  1e-11\n",
      "i =  5  over  10  ; Lambda_ =  2.15443469003e-10\n",
      "i =  6  over  10  ; Lambda_ =  4.64158883361e-09\n",
      "i =  7  over  10  ; Lambda_ =  1e-07\n",
      "i =  8  over  10  ; Lambda_ =  2.15443469003e-06\n",
      "i =  9  over  10  ; Lambda_ =  4.64158883361e-05\n",
      "i =  10  over  10  ; Lambda_ =  0.001\n",
      "j =  9  over  11  ; Degree =  13\n",
      "i =  1  over  10  ; Lambda_ =  1e-15\n",
      "i =  2  over  10  ; Lambda_ =  2.15443469003e-14\n",
      "i =  3  over  10  ; Lambda_ =  4.64158883361e-13\n",
      "i =  4  over  10  ; Lambda_ =  1e-11\n",
      "i =  5  over  10  ; Lambda_ =  2.15443469003e-10\n",
      "i =  6  over  10  ; Lambda_ =  4.64158883361e-09\n",
      "i =  7  over  10  ; Lambda_ =  1e-07\n",
      "i =  8  over  10  ; Lambda_ =  2.15443469003e-06\n",
      "i =  9  over  10  ; Lambda_ =  4.64158883361e-05\n",
      "i =  10  over  10  ; Lambda_ =  0.001\n",
      "j =  10  over  11  ; Degree =  14\n",
      "i =  1  over  10  ; Lambda_ =  1e-15\n",
      "i =  2  over  10  ; Lambda_ =  2.15443469003e-14\n",
      "i =  3  over  10  ; Lambda_ =  4.64158883361e-13\n",
      "i =  4  over  10  ; Lambda_ =  1e-11\n",
      "i =  5  over  10  ; Lambda_ =  2.15443469003e-10\n",
      "i =  6  over  10  ; Lambda_ =  4.64158883361e-09\n",
      "i =  7  over  10  ; Lambda_ =  1e-07\n",
      "i =  8  over  10  ; Lambda_ =  2.15443469003e-06\n",
      "i =  9  over  10  ; Lambda_ =  4.64158883361e-05\n",
      "i =  10  over  10  ; Lambda_ =  0.001\n",
      "j =  11  over  11  ; Degree =  15\n",
      "i =  1  over  10  ; Lambda_ =  1e-15\n",
      "i =  2  over  10  ; Lambda_ =  2.15443469003e-14\n",
      "i =  3  over  10  ; Lambda_ =  4.64158883361e-13\n",
      "i =  4  over  10  ; Lambda_ =  1e-11\n",
      "i =  5  over  10  ; Lambda_ =  2.15443469003e-10\n",
      "i =  6  over  10  ; Lambda_ =  4.64158883361e-09\n",
      "i =  7  over  10  ; Lambda_ =  1e-07\n",
      "i =  8  over  10  ; Lambda_ =  2.15443469003e-06\n",
      "i =  9  over  10  ; Lambda_ =  4.64158883361e-05\n",
      "i =  10  over  10  ; Lambda_ =  0.001\n"
     ]
    }
   ],
   "source": [
    "seed = 1\n",
    "k_fold = 4\n",
    "k_indices = build_k_indices(y_train, k_fold, seed)\n",
    "\n",
    "lambdas = np.logspace(-15,-3,10)\n",
    "degrees = range(5,16)\n",
    "\n",
    "right_train_l = np.zeros([len(lambdas), len(degrees)])\n",
    "right_test_l = np.zeros([len(lambdas), len(degrees)])\n",
    "\n",
    "for j,degree in enumerate(degrees):\n",
    "    print('j = ', j+1, ' over ', len(degrees), ' ; Degree = ', degree)\n",
    "    tx_train_pow = add_powers(tx_train, degree)\n",
    "    for i,lambda_ in enumerate(lambdas):\n",
    "        print('i = ', i+1, ' over ', len(lambdas), ' ; Lambda_ = ', lambda_)\n",
    "        right_train = 0\n",
    "        right_test = 0\n",
    "        for k in range(k_fold):\n",
    "            right_train_temp, right_test_temp = cross_validation_ridge_regression(y_train, tx_train_pow, k_indices, k, lambda_, degree)\n",
    "            right_train += right_train_temp\n",
    "            right_test += right_test_temp\n",
    "        right_train_l[i,j] = right_train/k_fold\n",
    "        right_test_l[i,j] = right_test/k_fold\n",
    "    "
   ]
  },
  {
   "cell_type": "code",
   "execution_count": 125,
   "metadata": {},
   "outputs": [
    {
     "data": {
      "text/plain": [
       "<matplotlib.legend.Legend at 0x7f16514f5a20>"
      ]
     },
     "execution_count": 125,
     "metadata": {},
     "output_type": "execute_result"
    },
    {
     "data": {
      "image/png": "[encoded data removed]",
      "text/plain": [
       "<matplotlib.figure.Figure at 0x7f16483d74a8>"
      ]
     },
     "metadata": {},
     "output_type": "display_data"
    }
   ],
   "source": [
    "plt.semilogx(lambdas, right_train_l[:,0], label='train', color='r')\n",
    "plt.semilogx(lambdas, right_test_l[:,0], label='test')\n",
    "plt.legend()"
   ]
  },
  {
   "cell_type": "code",
   "execution_count": 126,
   "metadata": {},
   "outputs": [
    {
     "data": {
      "text/plain": [
       "<matplotlib.legend.Legend at 0x7f16514fe400>"
      ]
     },
     "execution_count": 126,
     "metadata": {},
     "output_type": "execute_result"
    },
    {
     "data": {
      "image/png": "[encoded data removed]",
      "text/plain": [
       "<matplotlib.figure.Figure at 0x7f164ab5b4e0>"
      ]
     },
     "metadata": {},
     "output_type": "display_data"
    }
   ],
   "source": [
    "plt.plot(degrees, right_train_l[0,:], label='train', color='r')\n",
    "plt.plot(degrees, right_test_l[0,:], label='test')\n",
    "plt.legend()"
   ]
  },
  {
   "cell_type": "code",
   "execution_count": 145,
   "metadata": {},
   "outputs": [
    {
     "ename": "ValueError",
     "evalue": "shape mismatch: objects cannot be broadcast to a single shape",
     "output_type": "error",
     "traceback": [
      "\u001b[0;31m---------------------------------------------------------------------------\u001b[0m",
      "\u001b[0;31mValueError\u001b[0m                                Traceback (most recent call last)",
      "\u001b[0;32m<ipython-input-145-d81b6ddccd2f>\u001b[0m in \u001b[0;36m<module>\u001b[0;34m()\u001b[0m\n\u001b[1;32m      6\u001b[0m \u001b[0max\u001b[0m \u001b[0;34m=\u001b[0m \u001b[0mfig\u001b[0m\u001b[0;34m.\u001b[0m\u001b[0mgca\u001b[0m\u001b[0;34m(\u001b[0m\u001b[0mprojection\u001b[0m\u001b[0;34m=\u001b[0m\u001b[0;34m'3d'\u001b[0m\u001b[0;34m)\u001b[0m\u001b[0;34m\u001b[0m\u001b[0m\n\u001b[1;32m      7\u001b[0m surf = ax.plot_surface(np.array(degrees), lambdas, right_test_l, rstride=1, cstride=1, cmap=cm.coolwarm,\n\u001b[0;32m----> 8\u001b[0;31m         linewidth=0, antialiased=False)\n\u001b[0m\u001b[1;32m      9\u001b[0m \u001b[0;34m\u001b[0m\u001b[0m\n\u001b[1;32m     10\u001b[0m \u001b[0;31m#ax.zaxis.set_major_locator(LinearLocator(10))\u001b[0m\u001b[0;34m\u001b[0m\u001b[0;34m\u001b[0m\u001b[0m\n",
      "\u001b[0;32m~/anaconda3/lib/python3.6/site-packages/mpl_toolkits/mplot3d/axes3d.py\u001b[0m in \u001b[0;36mplot_surface\u001b[0;34m(self, X, Y, Z, *args, **kwargs)\u001b[0m\n\u001b[1;32m   1593\u001b[0m         \u001b[0mZ\u001b[0m \u001b[0;34m=\u001b[0m \u001b[0mnp\u001b[0m\u001b[0;34m.\u001b[0m\u001b[0matleast_2d\u001b[0m\u001b[0;34m(\u001b[0m\u001b[0mZ\u001b[0m\u001b[0;34m)\u001b[0m\u001b[0;34m\u001b[0m\u001b[0m\n\u001b[1;32m   1594\u001b[0m         \u001b[0;31m# TODO: Support masked arrays\u001b[0m\u001b[0;34m\u001b[0m\u001b[0;34m\u001b[0m\u001b[0m\n\u001b[0;32m-> 1595\u001b[0;31m         \u001b[0mX\u001b[0m\u001b[0;34m,\u001b[0m \u001b[0mY\u001b[0m\u001b[0;34m,\u001b[0m \u001b[0mZ\u001b[0m \u001b[0;34m=\u001b[0m \u001b[0mnp\u001b[0m\u001b[0;34m.\u001b[0m\u001b[0mbroadcast_arrays\u001b[0m\u001b[0;34m(\u001b[0m\u001b[0mX\u001b[0m\u001b[0;34m,\u001b[0m \u001b[0mY\u001b[0m\u001b[0;34m,\u001b[0m \u001b[0mZ\u001b[0m\u001b[0;34m)\u001b[0m\u001b[0;34m\u001b[0m\u001b[0m\n\u001b[0m\u001b[1;32m   1596\u001b[0m         \u001b[0mrows\u001b[0m\u001b[0;34m,\u001b[0m \u001b[0mcols\u001b[0m \u001b[0;34m=\u001b[0m \u001b[0mZ\u001b[0m\u001b[0;34m.\u001b[0m\u001b[0mshape\u001b[0m\u001b[0;34m\u001b[0m\u001b[0m\n\u001b[1;32m   1597\u001b[0m \u001b[0;34m\u001b[0m\u001b[0m\n",
      "\u001b[0;32m~/anaconda3/lib/python3.6/site-packages/numpy/lib/stride_tricks.py\u001b[0m in \u001b[0;36mbroadcast_arrays\u001b[0;34m(*args, **kwargs)\u001b[0m\n\u001b[1;32m    247\u001b[0m     \u001b[0margs\u001b[0m \u001b[0;34m=\u001b[0m \u001b[0;34m[\u001b[0m\u001b[0mnp\u001b[0m\u001b[0;34m.\u001b[0m\u001b[0marray\u001b[0m\u001b[0;34m(\u001b[0m\u001b[0m_m\u001b[0m\u001b[0;34m,\u001b[0m \u001b[0mcopy\u001b[0m\u001b[0;34m=\u001b[0m\u001b[0;32mFalse\u001b[0m\u001b[0;34m,\u001b[0m \u001b[0msubok\u001b[0m\u001b[0;34m=\u001b[0m\u001b[0msubok\u001b[0m\u001b[0;34m)\u001b[0m \u001b[0;32mfor\u001b[0m \u001b[0m_m\u001b[0m \u001b[0;32min\u001b[0m \u001b[0margs\u001b[0m\u001b[0;34m]\u001b[0m\u001b[0;34m\u001b[0m\u001b[0m\n\u001b[1;32m    248\u001b[0m \u001b[0;34m\u001b[0m\u001b[0m\n\u001b[0;32m--> 249\u001b[0;31m     \u001b[0mshape\u001b[0m \u001b[0;34m=\u001b[0m \u001b[0m_broadcast_shape\u001b[0m\u001b[0;34m(\u001b[0m\u001b[0;34m*\u001b[0m\u001b[0margs\u001b[0m\u001b[0;34m)\u001b[0m\u001b[0;34m\u001b[0m\u001b[0m\n\u001b[0m\u001b[1;32m    250\u001b[0m \u001b[0;34m\u001b[0m\u001b[0m\n\u001b[1;32m    251\u001b[0m     \u001b[0;32mif\u001b[0m \u001b[0mall\u001b[0m\u001b[0;34m(\u001b[0m\u001b[0marray\u001b[0m\u001b[0;34m.\u001b[0m\u001b[0mshape\u001b[0m \u001b[0;34m==\u001b[0m \u001b[0mshape\u001b[0m \u001b[0;32mfor\u001b[0m \u001b[0marray\u001b[0m \u001b[0;32min\u001b[0m \u001b[0margs\u001b[0m\u001b[0;34m)\u001b[0m\u001b[0;34m:\u001b[0m\u001b[0;34m\u001b[0m\u001b[0m\n",
      "\u001b[0;32m~/anaconda3/lib/python3.6/site-packages/numpy/lib/stride_tricks.py\u001b[0m in \u001b[0;36m_broadcast_shape\u001b[0;34m(*args)\u001b[0m\n\u001b[1;32m    182\u001b[0m     \u001b[0;31m# use the old-iterator because np.nditer does not handle size 0 arrays\u001b[0m\u001b[0;34m\u001b[0m\u001b[0;34m\u001b[0m\u001b[0m\n\u001b[1;32m    183\u001b[0m     \u001b[0;31m# consistently\u001b[0m\u001b[0;34m\u001b[0m\u001b[0;34m\u001b[0m\u001b[0m\n\u001b[0;32m--> 184\u001b[0;31m     \u001b[0mb\u001b[0m \u001b[0;34m=\u001b[0m \u001b[0mnp\u001b[0m\u001b[0;34m.\u001b[0m\u001b[0mbroadcast\u001b[0m\u001b[0;34m(\u001b[0m\u001b[0;34m*\u001b[0m\u001b[0margs\u001b[0m\u001b[0;34m[\u001b[0m\u001b[0;34m:\u001b[0m\u001b[0;36m32\u001b[0m\u001b[0;34m]\u001b[0m\u001b[0;34m)\u001b[0m\u001b[0;34m\u001b[0m\u001b[0m\n\u001b[0m\u001b[1;32m    185\u001b[0m     \u001b[0;31m# unfortunately, it cannot handle 32 or more arguments directly\u001b[0m\u001b[0;34m\u001b[0m\u001b[0;34m\u001b[0m\u001b[0m\n\u001b[1;32m    186\u001b[0m     \u001b[0;32mfor\u001b[0m \u001b[0mpos\u001b[0m \u001b[0;32min\u001b[0m \u001b[0mrange\u001b[0m\u001b[0;34m(\u001b[0m\u001b[0;36m32\u001b[0m\u001b[0;34m,\u001b[0m \u001b[0mlen\u001b[0m\u001b[0;34m(\u001b[0m\u001b[0margs\u001b[0m\u001b[0;34m)\u001b[0m\u001b[0;34m,\u001b[0m \u001b[0;36m31\u001b[0m\u001b[0;34m)\u001b[0m\u001b[0;34m:\u001b[0m\u001b[0;34m\u001b[0m\u001b[0m\n",
      "\u001b[0;31mValueError\u001b[0m: shape mismatch: objects cannot be broadcast to a single shape"
     ]
    },
    {
     "data": {
      "image/png": "[encoded data removed]",
      "text/plain": [
       "<matplotlib.figure.Figure at 0x7f165f57d630>"
      ]
     },
     "metadata": {},
     "output_type": "display_data"
    }
   ],
   "source": [
    "from mpl_toolkits.mplot3d import Axes3D\n",
    "from matplotlib import cm\n",
    "from matplotlib.ticker import LinearLocator, FormatStrFormatter\n",
    "\n",
    "fig = plt.figure()\n",
    "ax = fig.gca(projection='3d')\n",
    "surf = ax.plot_surface(lambdas, np.array(degrees), right_test_l) #, rstride=1, cstride=1, cmap=cm.coolwarm,\n",
    "        #linewidth=0, antialiased=False)\n",
    "\n",
    "#ax.zaxis.set_major_locator(LinearLocator(10))\n",
    "#ax.zaxis.set_major_formatter(FormatStrFormatter('%.02f'))\n",
    "\n",
    "#fig.colorbar(surf, shrink=0.5, aspect=5)\n",
    "\n",
    "plt.show()"
   ]
  },
  {
   "cell_type": "markdown",
   "metadata": {},
   "source": [
    "And now, let us compute the results on the validation set."
   ]
  },
  {
   "cell_type": "code",
   "execution_count": 161,
   "metadata": {
    "scrolled": true
   },
   "outputs": [
    {
     "name": "stdout",
     "output_type": "stream",
     "text": [
      "81.898\n",
      "81.9130666667\n",
      "Lambda = 5e-12 ; degree = 11\n"
     ]
    }
   ],
   "source": [
    "max_id_i, max_id_j = np.unravel_index(right_test_l.argmax(), right_test_l.shape)\n",
    "print(right_test_l[max_id_i, max_id_j])\n",
    "print(right_train_l[max_id_i, max_id_j])\n",
    "lambda_ = 5e-12 #lambdas[max_id_i]\n",
    "deg = degrees[max_id_j]\n",
    "print('Lambda =', lambda_, '; degree =', deg)"
   ]
  },
  {
   "cell_type": "code",
   "execution_count": 129,
   "metadata": {},
   "outputs": [],
   "source": [
    "tx_train_final = add_powers(tx_train, deg)\n",
    "tx_test_final = add_powers(tx_test, deg)"
   ]
  },
  {
   "cell_type": "code",
   "execution_count": 162,
   "metadata": {
    "collapsed": true
   },
   "outputs": [],
   "source": [
    "weights = ridge_regression(y_train, tx_train_final, lambda_);"
   ]
  },
  {
   "cell_type": "code",
   "execution_count": 106,
   "metadata": {
    "scrolled": true
   },
   "outputs": [
    {
     "name": "stdout",
     "output_type": "stream",
     "text": [
      "losses: \n",
      " \n",
      "\n",
      " weights: \n",
      " [ -2.65573786e+00  -6.96523674e-01   2.55775518e-01  -4.99643772e-02\n",
      "  -2.55937670e+02  -3.94581722e-01  -7.60143265e-01   3.61411780e+02\n",
      "  -5.32517539e-02   2.15046389e+01   1.17571321e+01   1.86354322e+02\n",
      "   3.47966808e+02  -2.13512755e+01  -4.58340392e+01   1.49708934e+01\n",
      "  -2.29308368e+01  -1.20885065e+02  -4.82228590e+01   1.81303509e-01\n",
      "  -2.11382851e+01   1.33043107e-01   6.98584928e-01   1.91885313e+02\n",
      "   2.72035431e+01   7.08588107e-01   1.26040446e+02  -3.96397433e+00\n",
      "  -2.29621170e+01  -2.90102653e+01   1.90659841e+01  -8.51113625e+01\n",
      "  -7.52734916e+01  -6.82290061e+01  -7.89463467e+01   5.14151371e+01\n",
      "   7.95947373e+00  -6.43476032e+00   1.67567039e+00   2.65718652e-01\n",
      "  -2.62084389e-01   6.80760110e-02  -9.21369809e-03   7.02579996e-04\n",
      "  -2.85853182e-05   4.83032164e-07  -1.14147221e+00   1.57003824e+00\n",
      "   1.92397879e+00  -3.80020552e+00   2.48428261e+00  -8.60808899e-01\n",
      "   1.74615492e-01  -2.08417192e-02   1.35792252e-03  -3.72976373e-05\n",
      "   3.17666439e-01  -2.57315026e+00   2.80443245e+00  -1.38196025e+00\n",
      "   3.79476216e-01  -6.27182409e-02   6.37520521e-03  -3.89654745e-04\n",
      "   1.31221028e-05  -1.86885050e-07   2.14984788e-01  -3.66835226e-01\n",
      "   2.56836694e-01  -8.39237607e-02   1.30604350e-02  -8.03024099e-04\n",
      "  -3.22431300e-06   1.01735049e-06   2.13766149e-08   3.02188624e-09\n",
      "  -3.42083428e+02   2.07989610e+02   1.53411986e+02  -3.33562719e+02\n",
      "   3.49306026e+02  -2.90123684e+02   2.06287763e+02  -1.34389252e+02\n",
      "   8.33671056e+01  -4.87557655e+01   1.19019359e-01  -1.93937097e-02\n",
      "   1.84960486e-03  -1.08103845e-04   3.92645355e-06  -8.68225827e-08\n",
      "   1.07142938e-09  -5.18122845e-12  -2.12488899e-14   2.43510311e-16\n",
      "  -3.16324025e+01  -8.27019194e+01   1.23189944e+01   6.67513857e+01\n",
      "  -8.38005713e+01   4.21067797e+01   1.80512879e+01  -6.88825436e+01\n",
      "   9.74094275e+01  -1.05060031e+02   5.20349356e+02  -2.33984082e+02\n",
      "  -2.30057789e+02   4.91464490e+02  -5.13997827e+02   4.21066580e+02\n",
      "  -3.02115362e+02   1.98424526e+02  -1.22475803e+02   7.21916203e+01\n",
      "   1.09506725e-01   2.73755786e-01  -2.32772059e-01   5.98581439e-02\n",
      "  -8.15091535e-03   1.21773441e-03  -1.05482479e-04  -1.22141956e-06\n",
      "  -1.84790734e-08  -8.24812752e-11   1.88546020e+00  -1.33932475e+00\n",
      "   5.37119854e-01  -1.31608782e-01   2.05857015e-02  -2.09272726e-03\n",
      "   1.37438076e-04  -5.61673300e-06   1.29737059e-07  -1.29277260e-09\n",
      "   4.04483887e+01   3.31648288e+01  -4.08657515e+01   8.58596091e+00\n",
      "   1.73623484e+01  -2.62061354e+01   2.48035047e+01  -1.90545046e+01\n",
      "   1.28577167e+01  -8.06958748e+00   1.30515297e+02  -1.07180998e+02\n",
      "   4.12403842e+01   1.64086039e+01  -4.10263739e+01   4.67366723e+01\n",
      "  -4.08045809e+01   3.10771638e+01  -2.16702198e+01   1.42253389e+01\n",
      "  -8.76651833e+00  -2.57442455e+02   3.16381017e+02  -2.57323314e+02\n",
      "   1.79984347e+02  -1.16630694e+02   7.11398741e+01  -4.09016922e+01\n",
      "   2.29256426e+01  -1.25141879e+01  -1.39151138e+00  -2.11685687e+00\n",
      "   6.38396887e+00  -6.56058599e+00   3.64168786e+00  -1.20735272e+00\n",
      "   2.44652506e-01  -2.95654351e-02   1.94771564e-03  -5.35555744e-05\n",
      "  -1.27230992e+00   4.26573540e+01  -3.69307489e+01   2.05547277e+01\n",
      "  -1.32686687e+01   9.26604564e+00  -5.17760433e+00   3.43018921e+00\n",
      "  -2.29548116e+00   1.44910080e+00   3.41231716e+01   2.27036487e+01\n",
      "  -5.56826990e+00   1.90632180e+00   1.73474878e+00  -2.36511523e+00\n",
      "   2.78336647e+00  -2.62264798e+00   2.31326731e+00  -1.69899786e+00\n",
      "  -2.17110135e+00   9.74439808e+00  -1.60496232e+01   1.33271188e+01\n",
      "  -6.03677924e+00   1.41506790e+00  -1.02455788e-01  -2.39729719e-02\n",
      "   5.55097314e-03  -3.35279847e-04  -7.05326853e+01   6.75575897e+01\n",
      "  -4.70169231e+01   1.35805600e+01   3.24854852e+00  -1.14066210e+01\n",
      "   1.25045439e+01  -1.04576206e+01   7.73084593e+00  -5.33498106e+00\n",
      "  -6.03788129e+01   1.57788580e+01   2.73517847e-01  -3.25348991e+01\n",
      "   4.50999300e+01  -3.94102781e+01   3.07311188e+01  -2.15700705e+01\n",
      "   1.45137331e+01  -9.19223076e+00   5.52012121e-01  -8.80697506e-01\n",
      "   4.96113351e-01  -1.24714987e-01   1.38928896e-02  -5.36183142e-04\n",
      "   4.87871402e-06  -6.06494151e-07  -6.33928174e-08   2.08682778e-09\n",
      "  -3.66799559e+01  -9.38441899e+00   8.94015289e+00  -7.33293328e+00\n",
      "   9.71534332e+00  -4.39609099e+00   9.02587450e-01   2.50564509e-01\n",
      "  -1.12361195e+00   1.08683405e+00  -1.49044336e-02  -1.75841952e-02\n",
      "   2.08153410e-03   1.40611868e-03  -4.96109244e-04   7.38619921e-05\n",
      "  -6.11931885e-06   2.93562078e-07  -7.65189191e-09   8.41104940e-11\n",
      "  -1.00635054e+00   1.18397904e+00  -9.41952165e-01   4.85490262e-01\n",
      "  -1.62083157e-01   3.51069834e-02  -4.86739227e-03   4.14159382e-04\n",
      "  -1.95629173e-05   3.89672782e-07   1.11643548e+02  -1.47496403e+02\n",
      "   7.67021828e+01   1.16423765e+01  -8.31331962e+01   1.11751162e+02\n",
      "  -1.09050324e+02   9.09631476e+01  -6.92425130e+01   4.91362900e+01\n",
      "   2.32995412e+01  -2.88037096e+01   1.62294840e-01   2.58403966e+01\n",
      "  -2.92617726e+01   2.69477543e+01  -2.29882868e+01   1.74126399e+01\n",
      "  -1.20865557e+01   7.94913627e+00  -8.09733173e-01   7.59805438e-01\n",
      "  -2.62488189e-01  -3.40509114e-01   4.40494385e-01  -2.20237956e-01\n",
      "   5.86780915e-02  -8.72617177e-03   6.81961376e-04  -2.17854599e-05\n",
      "   3.59471846e+01  -1.23811630e+02   8.74853071e+01  -9.22043268e+00\n",
      "  -4.78827923e+01   7.28018550e+01  -7.32965220e+01   6.19188800e+01\n",
      "  -4.75587125e+01   3.39479746e+01  -1.59961662e+01  -2.30372882e+01\n",
      "   2.94966597e+00   8.86505477e+00  -1.46864645e+01   1.31802645e+01\n",
      "  -1.00765962e+01   6.71020713e+00  -4.20573004e+00   2.52630959e+00\n",
      "   8.18613458e-02   4.89255857e-02  -8.04665992e-02   3.70551695e-02\n",
      "  -8.77826938e-03   1.21814332e-03  -1.02690451e-04   5.16888062e-06\n",
      "  -1.42595470e-07   1.65509972e-09]\n"
     ]
    }
   ],
   "source": [
    "print('losses: \\n','\\n\\n','weights: \\n',weights)"
   ]
  },
  {
   "cell_type": "code",
   "execution_count": 163,
   "metadata": {
    "scrolled": true
   },
   "outputs": [
    {
     "data": {
      "text/plain": [
       "array([-0.69719465, -0.03344625,  0.41201978, -2.00503486, -0.86916066,\n",
       "       -0.56330099, -1.08351847, -1.07751188,  0.62503105, -0.95274039,\n",
       "       -0.51141295, -0.15197072, -1.11031551, -1.14467488, -0.79965135,\n",
       "       -0.46776751, -1.67666221, -0.80542156,  0.22187008, -0.59074771,\n",
       "       -1.07818424, -1.10120018, -0.81134094, -0.78136854, -0.17139592,\n",
       "        0.14488543, -0.59425038, -0.54023045, -0.52604577, -0.78939605,\n",
       "       -0.35139176, -0.00233479,  0.0371232 , -1.07404268, -0.7217746 ,\n",
       "       -1.23088769, -0.69426779, -0.03268061, -0.75368227, -0.76090279,\n",
       "       -0.87088428, -1.13092547, -0.63908296, -0.1046833 , -0.1496936 ,\n",
       "       -0.83808904,  0.5617004 , -0.09870521, -0.87866942,  0.05546158,\n",
       "        0.29637733,  0.29399095,  0.04990076,  0.97235839, -1.34449748,\n",
       "       -0.59720408, -0.8840654 ,  0.25456029, -0.36189517, -0.64018967,\n",
       "       -0.15069274,  0.55676182, -0.65468522,  0.78227211, -0.23375266,\n",
       "       -0.74838648, -0.60835063,  0.34280821,  0.51743188,  0.53469517,\n",
       "       -1.53713996, -0.49734285, -0.23136289, -1.38278521,  0.05047509,\n",
       "       -1.12241344, -0.18219098, -0.13327724,  0.49308603, -0.41247964,\n",
       "        0.3392206 , -0.65672088,  0.482185  , -0.23979115,  0.45750918,\n",
       "       -0.88890172, -0.3256589 ,  0.18976886, -0.28374202, -0.99800189,\n",
       "        0.00994962, -0.71229792, -0.58512219, -0.39932816, -0.57648465,\n",
       "       -0.46401326, -0.33070248, -0.54295047, -0.85121521, -0.72659895,\n",
       "       -1.481768  , -0.31072923, -0.78986348, -0.95788038, -1.34520332,\n",
       "        0.5517517 ,  0.09936204, -0.39563665,  0.22387808, -0.34108349,\n",
       "       -0.05420825, -1.18357178, -0.91687393,  1.16018665, -0.52881924,\n",
       "        0.27845133,  0.56542529, -0.2079975 , -0.39955842,  0.11348567,\n",
       "       -1.55298343, -0.40523465, -0.73652561, -0.20525728, -0.44538266,\n",
       "       -0.99478964, -0.48289929, -0.10247789,  1.47483764, -0.97001845,\n",
       "        0.10134965,  0.48397814, -0.52153598, -1.08899703, -1.31227373,\n",
       "        0.01640506, -0.9443299 , -0.33764623,  0.11490984, -0.49581047,\n",
       "        0.26870706, -1.11438229, -1.08087244, -0.38549333,  0.18355933,\n",
       "       -1.09650455, -0.89489057,  0.33826056, -0.20238861,  0.049235  ,\n",
       "       -0.44320786,  0.50631968, -0.87530628,  0.12368631, -0.37490661,\n",
       "       -1.08076805,  0.28439857,  0.47834854, -0.4382288 , -1.03021311,\n",
       "        0.51285965, -1.24965566,  0.22598762, -0.54273913, -1.18049868,\n",
       "       -1.11475077, -0.82335445, -0.30984813, -0.68049317, -0.98047024,\n",
       "       -1.0277744 ,  1.18287454, -1.06948989, -0.25428179, -0.83295437,\n",
       "        0.12349949, -1.22438042, -0.11378925, -0.35031986,  0.52353011,\n",
       "       -1.34429356, -0.51511502, -1.29677749, -0.76900396, -1.20584858,\n",
       "        0.16841335, -0.3323189 , -0.8138419 ,  0.53469595, -0.73431441,\n",
       "       -0.7583487 , -0.79324381, -0.72969956, -1.2576811 , -1.15340324,\n",
       "       -1.44117495, -0.22006395,  0.23694626,  0.22126449])"
      ]
     },
     "execution_count": 163,
     "metadata": {},
     "output_type": "execute_result"
    }
   ],
   "source": [
    "np.dot(tx_test_final, weights)[1:200]"
   ]
  },
  {
   "cell_type": "code",
   "execution_count": 164,
   "metadata": {
    "collapsed": true
   },
   "outputs": [],
   "source": [
    "y_pred = predict_labels(weights, tx_test_final)"
   ]
  },
  {
   "cell_type": "code",
   "execution_count": 165,
   "metadata": {},
   "outputs": [
    {
     "data": {
      "text/plain": [
       "(397038,)"
      ]
     },
     "execution_count": 165,
     "metadata": {},
     "output_type": "execute_result"
    }
   ],
   "source": [
    "y_pred[y_pred==-1].shape"
   ]
  },
  {
   "cell_type": "code",
   "execution_count": 166,
   "metadata": {},
   "outputs": [
    {
     "data": {
      "text/plain": [
       "(171200,)"
      ]
     },
     "execution_count": 166,
     "metadata": {},
     "output_type": "execute_result"
    }
   ],
   "source": [
    "y_pred[y_pred==1].shape"
   ]
  },
  {
   "cell_type": "code",
   "execution_count": 135,
   "metadata": {
    "collapsed": true
   },
   "outputs": [],
   "source": [
    "name = 'output/ridge_regression_ondine_3'\n",
    "create_csv_submission(ids_test, y_pred, name)"
   ]
  },
  {
   "cell_type": "markdown",
   "metadata": {},
   "source": [
    "## Logistic regression"
   ]
  },
  {
   "cell_type": "code",
   "execution_count": null,
   "metadata": {
    "collapsed": true
   },
   "outputs": [],
   "source": []
  },
  {
   "cell_type": "markdown",
   "metadata": {},
   "source": [
    "## Regularized logistic regression"
   ]
  },
  {
   "cell_type": "code",
   "execution_count": null,
   "metadata": {
    "collapsed": true
   },
   "outputs": [],
   "source": []
  },
  {
   "cell_type": "markdown",
   "metadata": {},
   "source": [
    "## Newton regularized logistic regression"
   ]
  },
  {
   "cell_type": "code",
   "execution_count": null,
   "metadata": {
    "collapsed": true
   },
   "outputs": [],
   "source": []
  }
 ],
 "metadata": {
  "kernelspec": {
   "display_name": "Python 3",
   "language": "python",
   "name": "python3"
  },
  "language_info": {
   "codemirror_mode": {
    "name": "ipython",
    "version": 3
   },
   "file_extension": ".py",
   "mimetype": "text/x-python",
   "name": "python",
   "nbconvert_exporter": "python",
   "pygments_lexer": "ipython3",
   "version": "3.6.2"
  }
 },
 "nbformat": 4,
 "nbformat_minor": 2
}
