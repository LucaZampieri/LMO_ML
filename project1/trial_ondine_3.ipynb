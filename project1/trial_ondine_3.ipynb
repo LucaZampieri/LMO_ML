{
 "cells": [
  {
   "cell_type": "markdown",
   "metadata": {},
   "source": [
    "# **TODO**\n",
    "* Features cross products\n",
    "* Square and cube roots\n",
    "* phi features overfit?"
   ]
  },
  {
   "cell_type": "markdown",
   "metadata": {},
   "source": [
    "# Import libraries"
   ]
  },
  {
   "cell_type": "code",
   "execution_count": 1,
   "metadata": {
    "collapsed": true
   },
   "outputs": [],
   "source": [
    "%matplotlib inline \n",
    "import numpy as np   # generic stuff\n",
    "import matplotlib.pyplot as plt\n",
    "\n",
    "from lib.proj1_helpers import * #the helper provided for the project\n",
    "\n",
    "from implementations import * #our implementations of the functions done by us\n",
    "from helpers import *\n",
    "import datetime\n",
    "import operator\n",
    "# Useful starting lines\n",
    "\n",
    "%load_ext autoreload\n",
    "%autoreload 2\n",
    "%reload_ext autoreload"
   ]
  },
  {
   "cell_type": "markdown",
   "metadata": {},
   "source": [
    "# Loading the training and the testing sets"
   ]
  },
  {
   "cell_type": "code",
   "execution_count": 3,
   "metadata": {},
   "outputs": [],
   "source": [
    "DATA_FOLDER = 'data/'\n",
    "\n",
    "y_train, tx_train, ids_train = load_csv_data(DATA_FOLDER+'train.csv',sub_sample=False)\n",
    "\n",
    "y_test, tx_test, ids_test = load_csv_data(DATA_FOLDER+'test.csv',sub_sample=False)"
   ]
  },
  {
   "cell_type": "code",
   "execution_count": 4,
   "metadata": {},
   "outputs": [
    {
     "data": {
      "text/plain": [
       "array([ 1., -1., -1., ...,  1., -1., -1.])"
      ]
     },
     "execution_count": 4,
     "metadata": {},
     "output_type": "execute_result"
    }
   ],
   "source": [
    "y_train"
   ]
  },
  {
   "cell_type": "code",
   "execution_count": 5,
   "metadata": {},
   "outputs": [
    {
     "data": {
      "text/plain": [
       "array([[ 138.47 ,   51.655,   97.827, ...,    1.24 ,   -2.475,  113.497],\n",
       "       [ 160.937,   68.768,  103.235, ..., -999.   , -999.   ,   46.226],\n",
       "       [-999.   ,  162.172,  125.953, ..., -999.   , -999.   ,   44.251],\n",
       "       ..., \n",
       "       [ 105.457,   60.526,   75.839, ..., -999.   , -999.   ,   41.992],\n",
       "       [  94.951,   19.362,   68.812, ..., -999.   , -999.   ,    0.   ],\n",
       "       [-999.   ,   72.756,   70.831, ..., -999.   , -999.   ,    0.   ]])"
      ]
     },
     "execution_count": 5,
     "metadata": {},
     "output_type": "execute_result"
    }
   ],
   "source": [
    "tx_train"
   ]
  },
  {
   "cell_type": "code",
   "execution_count": 6,
   "metadata": {},
   "outputs": [
    {
     "data": {
      "text/plain": [
       "array([[-999.   ,   79.589,   23.916, ..., -999.   , -999.   ,    0.   ],\n",
       "       [ 106.398,   67.49 ,   87.949, ..., -999.   , -999.   ,   47.575],\n",
       "       [ 117.794,   56.226,   96.358, ..., -999.   , -999.   ,    0.   ],\n",
       "       ..., \n",
       "       [ 108.497,    9.837,   65.149, ..., -999.   , -999.   ,    0.   ],\n",
       "       [  96.711,   20.006,   66.942, ..., -999.   , -999.   ,   30.863],\n",
       "       [  92.373,   80.109,   77.619, ..., -999.   , -999.   ,    0.   ]])"
      ]
     },
     "execution_count": 6,
     "metadata": {},
     "output_type": "execute_result"
    }
   ],
   "source": [
    "tx_test"
   ]
  },
  {
   "cell_type": "code",
   "execution_count": 7,
   "metadata": {},
   "outputs": [
    {
     "data": {
      "text/plain": [
       "array([ 1.,  1.,  1., ...,  1.,  1.,  1.])"
      ]
     },
     "execution_count": 7,
     "metadata": {},
     "output_type": "execute_result"
    }
   ],
   "source": [
    "y_test"
   ]
  },
  {
   "cell_type": "markdown",
   "metadata": {},
   "source": [
    "# Handling missing values (-999)"
   ]
  },
  {
   "cell_type": "code",
   "execution_count": 8,
   "metadata": {
    "collapsed": true
   },
   "outputs": [],
   "source": [
    "def clean_missing_values(tx):\n",
    "    nan_values = (tx==-999)*1\n",
    "    for col in range(tx.shape[1]):\n",
    "        column = tx[:,col][tx[:,col]!=-999]\n",
    "        median = np.median(column)\n",
    "        tx[:,col][tx[:,col]==-999] = median\n",
    "    return tx, nan_values"
   ]
  },
  {
   "cell_type": "code",
   "execution_count": 9,
   "metadata": {
    "collapsed": true
   },
   "outputs": [],
   "source": [
    "tx_train, nan_values_train = clean_missing_values(tx_train)\n",
    "tx_test, nan_values_test = clean_missing_values(tx_test)"
   ]
  },
  {
   "cell_type": "code",
   "execution_count": 10,
   "metadata": {
    "collapsed": true
   },
   "outputs": [],
   "source": [
    "def add_nan_feature(tx, nan_values):\n",
    "    # Keep in nan_values only the columns containing ones (i.e. keep only columns that used to contain -999)\n",
    "    cols_wo_nan_ids = [i for i in range(nan_values.shape[1]) if np.prod((nan_values.T[i]==0)*1)==1]\n",
    "    nan_values = np.delete(nan_values, cols_wo_nan_ids, axis=1)\n",
    "\n",
    "    # If two (or more) columns of nan_values are equal, keep only one of them\n",
    "    unique_nan_cols_ids = [0]\n",
    "    #erase_cols_ids = []\n",
    "    for i in range(1,nan_values.shape[1]):\n",
    "        id_loop = unique_nan_cols_ids\n",
    "        erase = False\n",
    "        for j in id_loop:\n",
    "            if np.sum(nan_values.T[i]-nan_values.T[j])==0:\n",
    "                #erase_cols_ids.append(i)\n",
    "                erase = True\n",
    "                break\n",
    "        if erase == False:\n",
    "            unique_nan_cols_ids.append(i)\n",
    "    nan_values = nan_values[:,unique_nan_cols_ids]\n",
    "    \n",
    "    # Concatenate nan_values with the original data matrix tx\n",
    "    return np.concatenate((tx, nan_values), axis=1)"
   ]
  },
  {
   "cell_type": "code",
   "execution_count": 11,
   "metadata": {},
   "outputs": [
    {
     "name": "stdout",
     "output_type": "stream",
     "text": [
      "(250000, 30)\n",
      "(250000, 33)\n"
     ]
    }
   ],
   "source": [
    "print(tx_train.shape)\n",
    "tx_train = add_nan_feature(tx_train, nan_values_train)\n",
    "print(tx_train.shape)\n",
    "del nan_values_train"
   ]
  },
  {
   "cell_type": "code",
   "execution_count": 12,
   "metadata": {},
   "outputs": [
    {
     "name": "stdout",
     "output_type": "stream",
     "text": [
      "(568238, 30)\n",
      "(568238, 33)\n"
     ]
    }
   ],
   "source": [
    "print(tx_test.shape)\n",
    "tx_test = add_nan_feature(tx_test, nan_values_test)\n",
    "print(tx_test.shape)\n",
    "del nan_values_test"
   ]
  },
  {
   "cell_type": "markdown",
   "metadata": {},
   "source": [
    "# Manage categorical data (feature 22)"
   ]
  },
  {
   "cell_type": "code",
   "execution_count": 13,
   "metadata": {},
   "outputs": [
    {
     "data": {
      "text/plain": [
       "array([ 2.,  1.,  1., ...,  1.,  0.,  0.])"
      ]
     },
     "execution_count": 13,
     "metadata": {},
     "output_type": "execute_result"
    }
   ],
   "source": [
    "tx_train[:,22]"
   ]
  },
  {
   "cell_type": "code",
   "execution_count": 14,
   "metadata": {
    "collapsed": true
   },
   "outputs": [],
   "source": [
    "def manage_categorical_data(tx):\n",
    "    idx_cat = 22\n",
    "    larger_tx = np.zeros([tx.shape[0],3])\n",
    "    # larger_tx[:,0] = (tx[:,idx_cat]==0)*1 ---> not done, because it is equivalent to a dummy variable due to -999\n",
    "    larger_tx[:,0] = (tx[:,idx_cat]==1)*1\n",
    "    larger_tx[:,1] = (tx[:,idx_cat]==2)*1\n",
    "    larger_tx[:,2] = (tx[:,idx_cat]==3)*1\n",
    "    tx = np.delete(tx, idx_cat, axis=1)\n",
    "    tx = np.concatenate((tx, larger_tx), axis=1)\n",
    "    return tx"
   ]
  },
  {
   "cell_type": "code",
   "execution_count": 15,
   "metadata": {},
   "outputs": [
    {
     "name": "stdout",
     "output_type": "stream",
     "text": [
      "(250000, 33)\n",
      "(250000, 35)\n"
     ]
    }
   ],
   "source": [
    "print(tx_train.shape)\n",
    "tx_train = manage_categorical_data(tx_train)\n",
    "print(tx_train.shape)"
   ]
  },
  {
   "cell_type": "code",
   "execution_count": 16,
   "metadata": {},
   "outputs": [
    {
     "name": "stdout",
     "output_type": "stream",
     "text": [
      "(568238, 33)\n",
      "(568238, 35)\n"
     ]
    }
   ],
   "source": [
    "print(tx_test.shape)\n",
    "tx_test = manage_categorical_data(tx_test)\n",
    "print(tx_test.shape)"
   ]
  },
  {
   "cell_type": "markdown",
   "metadata": {},
   "source": [
    "# Standardization of data"
   ]
  },
  {
   "cell_type": "code",
   "execution_count": 17,
   "metadata": {
    "collapsed": true
   },
   "outputs": [],
   "source": [
    "tx_train = standardize(tx_train)\n",
    "tx_train = tx_train[0]\n",
    "tx_test = standardize(tx_test)\n",
    "tx_test = tx_test[0]"
   ]
  },
  {
   "cell_type": "markdown",
   "metadata": {},
   "source": [
    "# Add cross-products"
   ]
  },
  {
   "cell_type": "code",
   "execution_count": 18,
   "metadata": {
    "collapsed": true
   },
   "outputs": [],
   "source": [
    "def add_cross_prod(tx, i, j):\n",
    "    return np.concatenate((tx, np.array([tx[:,i]*tx[:,j]]).T), axis=1)"
   ]
  },
  {
   "cell_type": "code",
   "execution_count": 19,
   "metadata": {
    "collapsed": true
   },
   "outputs": [],
   "source": [
    "def add_all_cross_prod(tx):\n",
    "    sh = tx.shape[1]\n",
    "    for i in range(sh):\n",
    "        print(i)\n",
    "        for j in range(i+1, sh):\n",
    "            if i != j:\n",
    "                tx = add_cross_prod(tx, i, j)\n",
    "    return tx"
   ]
  },
  {
   "cell_type": "code",
   "execution_count": 20,
   "metadata": {
    "scrolled": true
   },
   "outputs": [
    {
     "name": "stdout",
     "output_type": "stream",
     "text": [
      "0\n",
      "1\n",
      "2\n",
      "3\n",
      "4\n",
      "5\n",
      "6\n",
      "7\n",
      "8\n",
      "9\n",
      "10\n",
      "11\n",
      "12\n",
      "13\n",
      "14\n",
      "15\n",
      "16\n",
      "17\n",
      "18\n",
      "19\n",
      "20\n",
      "21\n",
      "22\n",
      "23\n",
      "24\n",
      "25\n",
      "26\n",
      "27\n",
      "28\n",
      "29\n",
      "30\n",
      "31\n",
      "32\n",
      "33\n",
      "34\n",
      "0\n",
      "1\n",
      "2\n",
      "3\n",
      "4\n",
      "5\n",
      "6\n",
      "7\n",
      "8\n",
      "9\n",
      "10\n",
      "11\n",
      "12\n",
      "13\n",
      "14\n",
      "15\n",
      "16\n",
      "17\n",
      "18\n",
      "19\n",
      "20\n",
      "21\n",
      "22\n",
      "23\n",
      "24\n",
      "25\n",
      "26\n",
      "27\n",
      "28\n",
      "29\n",
      "30\n",
      "31\n",
      "32\n",
      "33\n",
      "34\n"
     ]
    }
   ],
   "source": [
    "tx_train = add_all_cross_prod(tx_train)\n",
    "tx_test = add_all_cross_prod(tx_test)"
   ]
  },
  {
   "cell_type": "code",
   "execution_count": 21,
   "metadata": {},
   "outputs": [
    {
     "name": "stdout",
     "output_type": "stream",
     "text": [
      "(250000, 630)\n",
      "(568238, 630)\n"
     ]
    }
   ],
   "source": [
    "print(tx_train.shape)\n",
    "print(tx_test.shape)"
   ]
  },
  {
   "cell_type": "markdown",
   "metadata": {},
   "source": [
    "# Add a column of all ones"
   ]
  },
  {
   "cell_type": "code",
   "execution_count": 22,
   "metadata": {
    "collapsed": true
   },
   "outputs": [],
   "source": [
    "def add_ones(tx):\n",
    "    return np.concatenate((tx, np.ones([tx.shape[0],1])), axis=1)"
   ]
  },
  {
   "cell_type": "code",
   "execution_count": 23,
   "metadata": {
    "collapsed": true
   },
   "outputs": [],
   "source": [
    "tx_train = add_ones(tx_train)\n",
    "tx_test = add_ones(tx_test)"
   ]
  },
  {
   "cell_type": "markdown",
   "metadata": {},
   "source": [
    "# Not to have to compute it each time:"
   ]
  },
  {
   "cell_type": "code",
   "execution_count": null,
   "metadata": {
    "collapsed": true
   },
   "outputs": [],
   "source": [
    "# np.savetxt(\"data/tx_train_uptoones.csv\", tx_train, delimiter=\",\")\n",
    "# np.savetxt(\"data/tx_test_uptoones.csv\", tx_test, delimiter=\",\")"
   ]
  },
  {
   "cell_type": "markdown",
   "metadata": {},
   "source": [
    "# !!!!!!!!!!!!! one can begin directly here, after loading y_train and y_test"
   ]
  },
  {
   "cell_type": "code",
   "execution_count": null,
   "metadata": {
    "collapsed": true
   },
   "outputs": [],
   "source": [
    "#from numpy import genfromtxt"
   ]
  },
  {
   "cell_type": "code",
   "execution_count": null,
   "metadata": {
    "collapsed": true
   },
   "outputs": [],
   "source": [
    "#tx_train = genfromtxt('data/tx_train_uptoones.csv', delimiter=',')\n",
    "#tx_test = genfromtxt('data/tx_test_uptoones.csv', delimiter=',')"
   ]
  },
  {
   "cell_type": "markdown",
   "metadata": {},
   "source": [
    "# Add powers of the columns"
   ]
  },
  {
   "cell_type": "code",
   "execution_count": 24,
   "metadata": {
    "collapsed": true
   },
   "outputs": [],
   "source": [
    "def build_poly(x, degree):\n",
    "    \"\"\"polynomial basis functions for input data x, for j=1 up to j=degree.\"\"\"\n",
    "    return np.array([x**p for p in range(2,degree+1)]).T \n",
    "    # not range from 0 because we have already added a column of ones, \n",
    "    # not range from 1 because we already have the linear features."
   ]
  },
  {
   "cell_type": "code",
   "execution_count": 25,
   "metadata": {
    "collapsed": true
   },
   "outputs": [],
   "source": [
    "def add_powers(tx, degree):\n",
    "    for col in range(29): #range(tx.shape[1]):\n",
    "        tx = np.concatenate((tx, build_poly(tx[:,col], degree)), axis=1)\n",
    "    return tx"
   ]
  },
  {
   "cell_type": "code",
   "execution_count": 26,
   "metadata": {
    "collapsed": true
   },
   "outputs": [],
   "source": [
    "# DONE IN CROSS VALIDATION\n",
    "# deg = 11\n",
    "# tx_train = add_powers(tx_train, deg)\n",
    "# tx_test = add_powers(tx_test, deg)"
   ]
  },
  {
   "cell_type": "code",
   "execution_count": 27,
   "metadata": {},
   "outputs": [
    {
     "name": "stdout",
     "output_type": "stream",
     "text": [
      "(250000, 631)\n",
      "(568238, 631)\n"
     ]
    }
   ],
   "source": [
    "print(tx_train.shape)\n",
    "print(tx_test.shape)"
   ]
  },
  {
   "cell_type": "markdown",
   "metadata": {},
   "source": [
    "# Cross-validation"
   ]
  },
  {
   "cell_type": "code",
   "execution_count": 28,
   "metadata": {
    "collapsed": true
   },
   "outputs": [],
   "source": [
    "def build_k_indices(y, k_fold, seed):\n",
    "    \"\"\"build k indices for k-fold.\"\"\"\n",
    "    num_row = y.shape[0]\n",
    "    interval = int(num_row / k_fold)\n",
    "    np.random.seed(seed)\n",
    "    indices = np.random.permutation(num_row)\n",
    "    k_indices = [indices[k * interval: (k + 1) * interval]\n",
    "                 for k in range(k_fold)]\n",
    "    return np.array(k_indices)"
   ]
  },
  {
   "cell_type": "markdown",
   "metadata": {},
   "source": [
    "# Submission trials"
   ]
  },
  {
   "cell_type": "markdown",
   "metadata": {},
   "source": [
    "## Least squares"
   ]
  },
  {
   "cell_type": "code",
   "execution_count": null,
   "metadata": {
    "collapsed": true
   },
   "outputs": [],
   "source": []
  },
  {
   "cell_type": "markdown",
   "metadata": {},
   "source": [
    "## Gradient descent"
   ]
  },
  {
   "cell_type": "code",
   "execution_count": null,
   "metadata": {
    "collapsed": true
   },
   "outputs": [],
   "source": []
  },
  {
   "cell_type": "markdown",
   "metadata": {},
   "source": [
    "## Stochastic gradient descent"
   ]
  },
  {
   "cell_type": "code",
   "execution_count": null,
   "metadata": {
    "collapsed": true
   },
   "outputs": [],
   "source": []
  },
  {
   "cell_type": "markdown",
   "metadata": {},
   "source": [
    "## Ridge regression"
   ]
  },
  {
   "cell_type": "code",
   "execution_count": 29,
   "metadata": {
    "collapsed": true
   },
   "outputs": [],
   "source": [
    "def cross_validation_ridge_regression(y, tx, k_indices, k, lambda_, degree, fct='rmse'):\n",
    "    \"\"\"return the loss of ridge regression.\"\"\"\n",
    "    # get k'th subgroup in test, others in train\n",
    "    k_index = k_indices[k]\n",
    "    test_y = y[k_index]\n",
    "    test_tx = tx[k_index,:]\n",
    "\n",
    "    mask = np.ones(len(y), dtype=bool) # set all elements to True\n",
    "    mask[k_index] = False              # set test elements to False\n",
    "    train_tx = tx[mask,:]              # select only True elements (ie train elements)\n",
    "    train_y = y[mask]\n",
    "    \n",
    "    # ridge regression and\n",
    "    # calculate the loss for train and test data\n",
    "    weights = ridge_regression(train_y, train_tx, lambda_)\n",
    "\n",
    "    y_pred_train = predict_labels(weights, train_tx)\n",
    "    y_pred_test = predict_labels(weights, test_tx)\n",
    "    right_train = np.sum(y_pred_train == train_y)/len(train_y)*100\n",
    "    right_test = np.sum(y_pred_test == test_y)/len(test_y)*100\n",
    "    \n",
    "    return right_train, right_test"
   ]
  },
  {
   "cell_type": "code",
   "execution_count": 30,
   "metadata": {
    "scrolled": true
   },
   "outputs": [
    {
     "name": "stdout",
     "output_type": "stream",
     "text": [
      "j =  1  over  11  ; Degree =  5\n",
      "i =  1  over  10  ; Lambda_ =  1e-15\n",
      "i =  2  over  10  ; Lambda_ =  2.15443469003e-14\n",
      "i =  3  over  10  ; Lambda_ =  4.64158883361e-13\n",
      "i =  4  over  10  ; Lambda_ =  1e-11\n",
      "i =  5  over  10  ; Lambda_ =  2.15443469003e-10\n",
      "i =  6  over  10  ; Lambda_ =  4.64158883361e-09\n",
      "i =  7  over  10  ; Lambda_ =  1e-07\n",
      "i =  8  over  10  ; Lambda_ =  2.15443469003e-06\n",
      "i =  9  over  10  ; Lambda_ =  4.64158883361e-05\n",
      "i =  10  over  10  ; Lambda_ =  0.001\n",
      "j =  2  over  11  ; Degree =  6\n",
      "i =  1  over  10  ; Lambda_ =  1e-15\n",
      "i =  2  over  10  ; Lambda_ =  2.15443469003e-14\n",
      "i =  3  over  10  ; Lambda_ =  4.64158883361e-13\n",
      "i =  4  over  10  ; Lambda_ =  1e-11\n",
      "i =  5  over  10  ; Lambda_ =  2.15443469003e-10\n",
      "i =  6  over  10  ; Lambda_ =  4.64158883361e-09\n",
      "i =  7  over  10  ; Lambda_ =  1e-07\n",
      "i =  8  over  10  ; Lambda_ =  2.15443469003e-06\n",
      "i =  9  over  10  ; Lambda_ =  4.64158883361e-05\n",
      "i =  10  over  10  ; Lambda_ =  0.001\n",
      "j =  3  over  11  ; Degree =  7\n",
      "i =  1  over  10  ; Lambda_ =  1e-15\n",
      "i =  2  over  10  ; Lambda_ =  2.15443469003e-14\n",
      "i =  3  over  10  ; Lambda_ =  4.64158883361e-13\n",
      "i =  4  over  10  ; Lambda_ =  1e-11\n",
      "i =  5  over  10  ; Lambda_ =  2.15443469003e-10\n",
      "i =  6  over  10  ; Lambda_ =  4.64158883361e-09\n",
      "i =  7  over  10  ; Lambda_ =  1e-07\n",
      "i =  8  over  10  ; Lambda_ =  2.15443469003e-06\n",
      "i =  9  over  10  ; Lambda_ =  4.64158883361e-05\n",
      "i =  10  over  10  ; Lambda_ =  0.001\n",
      "j =  4  over  11  ; Degree =  8\n",
      "i =  1  over  10  ; Lambda_ =  1e-15\n",
      "i =  2  over  10  ; Lambda_ =  2.15443469003e-14\n",
      "i =  3  over  10  ; Lambda_ =  4.64158883361e-13\n",
      "i =  4  over  10  ; Lambda_ =  1e-11\n",
      "i =  5  over  10  ; Lambda_ =  2.15443469003e-10\n",
      "i =  6  over  10  ; Lambda_ =  4.64158883361e-09\n",
      "i =  7  over  10  ; Lambda_ =  1e-07\n",
      "i =  8  over  10  ; Lambda_ =  2.15443469003e-06\n",
      "i =  9  over  10  ; Lambda_ =  4.64158883361e-05\n",
      "i =  10  over  10  ; Lambda_ =  0.001\n",
      "j =  5  over  11  ; Degree =  9\n",
      "i =  1  over  10  ; Lambda_ =  1e-15\n",
      "i =  2  over  10  ; Lambda_ =  2.15443469003e-14\n",
      "i =  3  over  10  ; Lambda_ =  4.64158883361e-13\n",
      "i =  4  over  10  ; Lambda_ =  1e-11\n",
      "i =  5  over  10  ; Lambda_ =  2.15443469003e-10\n",
      "i =  6  over  10  ; Lambda_ =  4.64158883361e-09\n",
      "i =  7  over  10  ; Lambda_ =  1e-07\n",
      "i =  8  over  10  ; Lambda_ =  2.15443469003e-06\n",
      "i =  9  over  10  ; Lambda_ =  4.64158883361e-05\n",
      "i =  10  over  10  ; Lambda_ =  0.001\n",
      "j =  6  over  11  ; Degree =  10\n",
      "i =  1  over  10  ; Lambda_ =  1e-15\n",
      "i =  2  over  10  ; Lambda_ =  2.15443469003e-14\n",
      "i =  3  over  10  ; Lambda_ =  4.64158883361e-13\n",
      "i =  4  over  10  ; Lambda_ =  1e-11\n",
      "i =  5  over  10  ; Lambda_ =  2.15443469003e-10\n",
      "i =  6  over  10  ; Lambda_ =  4.64158883361e-09\n",
      "i =  7  over  10  ; Lambda_ =  1e-07\n",
      "i =  8  over  10  ; Lambda_ =  2.15443469003e-06\n",
      "i =  9  over  10  ; Lambda_ =  4.64158883361e-05\n",
      "i =  10  over  10  ; Lambda_ =  0.001\n",
      "j =  7  over  11  ; Degree =  11\n",
      "i =  1  over  10  ; Lambda_ =  1e-15\n",
      "i =  2  over  10  ; Lambda_ =  2.15443469003e-14\n",
      "i =  3  over  10  ; Lambda_ =  4.64158883361e-13\n",
      "i =  4  over  10  ; Lambda_ =  1e-11\n",
      "i =  5  over  10  ; Lambda_ =  2.15443469003e-10\n",
      "i =  6  over  10  ; Lambda_ =  4.64158883361e-09\n",
      "i =  7  over  10  ; Lambda_ =  1e-07\n",
      "i =  8  over  10  ; Lambda_ =  2.15443469003e-06\n",
      "i =  9  over  10  ; Lambda_ =  4.64158883361e-05\n",
      "i =  10  over  10  ; Lambda_ =  0.001\n",
      "j =  8  over  11  ; Degree =  12\n",
      "i =  1  over  10  ; Lambda_ =  1e-15\n",
      "i =  2  over  10  ; Lambda_ =  2.15443469003e-14\n",
      "i =  3  over  10  ; Lambda_ =  4.64158883361e-13\n",
      "i =  4  over  10  ; Lambda_ =  1e-11\n",
      "i =  5  over  10  ; Lambda_ =  2.15443469003e-10\n",
      "i =  6  over  10  ; Lambda_ =  4.64158883361e-09\n",
      "i =  7  over  10  ; Lambda_ =  1e-07\n",
      "i =  8  over  10  ; Lambda_ =  2.15443469003e-06\n",
      "i =  9  over  10  ; Lambda_ =  4.64158883361e-05\n",
      "i =  10  over  10  ; Lambda_ =  0.001\n",
      "j =  9  over  11  ; Degree =  13\n",
      "i =  1  over  10  ; Lambda_ =  1e-15\n",
      "i =  2  over  10  ; Lambda_ =  2.15443469003e-14\n",
      "i =  3  over  10  ; Lambda_ =  4.64158883361e-13\n",
      "i =  4  over  10  ; Lambda_ =  1e-11\n",
      "i =  5  over  10  ; Lambda_ =  2.15443469003e-10\n",
      "i =  6  over  10  ; Lambda_ =  4.64158883361e-09\n",
      "i =  7  over  10  ; Lambda_ =  1e-07\n",
      "i =  8  over  10  ; Lambda_ =  2.15443469003e-06\n",
      "i =  9  over  10  ; Lambda_ =  4.64158883361e-05\n",
      "i =  10  over  10  ; Lambda_ =  0.001\n",
      "j =  10  over  11  ; Degree =  14\n",
      "i =  1  over  10  ; Lambda_ =  1e-15\n",
      "i =  2  over  10  ; Lambda_ =  2.15443469003e-14\n",
      "i =  3  over  10  ; Lambda_ =  4.64158883361e-13\n",
      "i =  4  over  10  ; Lambda_ =  1e-11\n",
      "i =  5  over  10  ; Lambda_ =  2.15443469003e-10\n",
      "i =  6  over  10  ; Lambda_ =  4.64158883361e-09\n",
      "i =  7  over  10  ; Lambda_ =  1e-07\n",
      "i =  8  over  10  ; Lambda_ =  2.15443469003e-06\n",
      "i =  9  over  10  ; Lambda_ =  4.64158883361e-05\n",
      "i =  10  over  10  ; Lambda_ =  0.001\n",
      "j =  11  over  11  ; Degree =  15\n",
      "i =  1  over  10  ; Lambda_ =  1e-15\n",
      "i =  2  over  10  ; Lambda_ =  2.15443469003e-14\n",
      "i =  3  over  10  ; Lambda_ =  4.64158883361e-13\n",
      "i =  4  over  10  ; Lambda_ =  1e-11\n",
      "i =  5  over  10  ; Lambda_ =  2.15443469003e-10\n",
      "i =  6  over  10  ; Lambda_ =  4.64158883361e-09\n",
      "i =  7  over  10  ; Lambda_ =  1e-07\n",
      "i =  8  over  10  ; Lambda_ =  2.15443469003e-06\n",
      "i =  9  over  10  ; Lambda_ =  4.64158883361e-05\n",
      "i =  10  over  10  ; Lambda_ =  0.001\n"
     ]
    }
   ],
   "source": [
    "seed = 1\n",
    "k_fold = 4\n",
    "k_indices = build_k_indices(y_train, k_fold, seed)\n",
    "\n",
    "lambdas = np.logspace(-15,-3,10)\n",
    "degrees = range(5,16)\n",
    "\n",
    "right_train_l = np.zeros([len(lambdas), len(degrees)])\n",
    "right_test_l = np.zeros([len(lambdas), len(degrees)])\n",
    "\n",
    "for j,degree in enumerate(degrees):\n",
    "    print('j = ', j+1, ' over ', len(degrees), ' ; Degree = ', degree)\n",
    "    tx_train_pow = add_powers(tx_train, degree)\n",
    "    for i,lambda_ in enumerate(lambdas):\n",
    "        print('i = ', i+1, ' over ', len(lambdas), ' ; Lambda_ = ', lambda_)\n",
    "        right_train = 0\n",
    "        right_test = 0\n",
    "        for k in range(k_fold):\n",
    "            right_train_temp, right_test_temp = cross_validation_ridge_regression(y_train, tx_train_pow, k_indices, k, lambda_, degree)\n",
    "            right_train += right_train_temp\n",
    "            right_test += right_test_temp\n",
    "        right_train_l[i,j] = right_train/k_fold\n",
    "        right_test_l[i,j] = right_test/k_fold\n",
    "    del tx_train_pow, right_train, right_test, right_train_temp, right_test_temp\n"
   ]
  },
  {
   "cell_type": "code",
   "execution_count": 31,
   "metadata": {},
   "outputs": [
    {
     "data": {
      "text/plain": [
       "<matplotlib.legend.Legend at 0x11645f668>"
      ]
     },
     "execution_count": 31,
     "metadata": {},
     "output_type": "execute_result"
    },
    {
     "data": {
      "image/png": "[encoded data removed]",
      "text/plain": [
       "<matplotlib.figure.Figure at 0x11902d080>"
      ]
     },
     "metadata": {},
     "output_type": "display_data"
    }
   ],
   "source": [
    "plt.semilogx(lambdas, right_train_l[:,7], label='train', color='r')\n",
    "plt.semilogx(lambdas, right_test_l[:,7], label='test')\n",
    "plt.legend()"
   ]
  },
  {
   "cell_type": "code",
   "execution_count": 32,
   "metadata": {},
   "outputs": [
    {
     "data": {
      "text/plain": [
       "<matplotlib.legend.Legend at 0x14e7a8240>"
      ]
     },
     "execution_count": 32,
     "metadata": {},
     "output_type": "execute_result"
    },
    {
     "data": {
      "image/png": "[encoded data removed]",
      "text/plain": [
       "<matplotlib.figure.Figure at 0x15f6d0710>"
      ]
     },
     "metadata": {},
     "output_type": "display_data"
    }
   ],
   "source": [
    "plt.plot(degrees, right_train_l[5,:], label='train', color='r')\n",
    "plt.plot(degrees, right_test_l[5,:], label='test')\n",
    "plt.legend()"
   ]
  },
  {
   "cell_type": "code",
   "execution_count": 49,
   "metadata": {},
   "outputs": [
    {
     "data": {
      "image/png": "[encoded data removed]",
      "text/plain": [
       "<matplotlib.figure.Figure at 0x1603ff048>"
      ]
     },
     "metadata": {},
     "output_type": "display_data"
    }
   ],
   "source": [
    "from mpl_toolkits.mplot3d import Axes3D\n",
    "from matplotlib import cm\n",
    "from matplotlib.ticker import LinearLocator, FormatStrFormatter\n",
    "\n",
    "fig = plt.figure()\n",
    "ax = fig.gca(projection='3d')\n",
    "X, Y = np.meshgrid(np.array(degrees), lambdas)\n",
    "surf = ax.plot_wireframe(X, np.log10(Y), right_test_l) #, rstride=1, cstride=1, cmap=cm.coolwarm,\n",
    "        #linewidth=0, antialiased=False)\n",
    "\n",
    "#ax.zaxis.set_major_locator(LinearLocator(10))\n",
    "#ax.zaxis.set_major_formatter(FormatStrFormatter('%.02f'))\n",
    "\n",
    "#fig.colorbar(surf, shrink=0.5, aspect=5)\n",
    "\n",
    "plt.show()"
   ]
  },
  {
   "cell_type": "markdown",
   "metadata": {},
   "source": [
    "And now, let us compute the results on the validation set."
   ]
  },
  {
   "cell_type": "code",
   "execution_count": 68,
   "metadata": {
    "scrolled": true
   },
   "outputs": [
    {
     "name": "stdout",
     "output_type": "stream",
     "text": [
      "82.7532\n",
      "82.8958666667\n",
      "Lambda = 5e-12 ; degree = 11\n"
     ]
    }
   ],
   "source": [
    "max_id_i, max_id_j = np.unravel_index(right_test_l.argmax(), right_test_l.shape)\n",
    "print(right_test_l[max_id_i, max_id_j])\n",
    "print(right_train_l[max_id_i, max_id_j])\n",
    "lambda_ = 1e-10 #lambdas[max_id_i] #5e-12\n",
    "deg = degrees[max_id_j]\n",
    "print('Lambda =', lambda_, '; degree =', deg)"
   ]
  },
  {
   "cell_type": "code",
   "execution_count": 69,
   "metadata": {
    "collapsed": true
   },
   "outputs": [],
   "source": [
    "tx_train = add_powers(tx_train, deg)"
   ]
  },
  {
   "cell_type": "code",
   "execution_count": 52,
   "metadata": {},
   "outputs": [],
   "source": [
    "tx_test = add_powers(tx_test, deg)"
   ]
  },
  {
   "cell_type": "code",
   "execution_count": 70,
   "metadata": {},
   "outputs": [
    {
     "ename": "LinAlgError",
     "evalue": "Singular matrix",
     "output_type": "error",
     "traceback": [
      "\u001b[0;31m---------------------------------------------------------------------------\u001b[0m",
      "\u001b[0;31mLinAlgError\u001b[0m                               Traceback (most recent call last)",
      "\u001b[0;32m<ipython-input-70-09cd3f2d3e91>\u001b[0m in \u001b[0;36m<module>\u001b[0;34m()\u001b[0m\n\u001b[0;32m----> 1\u001b[0;31m \u001b[0mweights\u001b[0m \u001b[0;34m=\u001b[0m \u001b[0mridge_regression\u001b[0m\u001b[0;34m(\u001b[0m\u001b[0my_train\u001b[0m\u001b[0;34m,\u001b[0m \u001b[0mtx_train\u001b[0m\u001b[0;34m,\u001b[0m \u001b[0mlambda_\u001b[0m\u001b[0;34m)\u001b[0m\u001b[0;34m;\u001b[0m\u001b[0;34m\u001b[0m\u001b[0m\n\u001b[0m",
      "\u001b[0;32m/Users/ondine/Documents/phd/Cours/LMO_ML/project1/implementations.py\u001b[0m in \u001b[0;36mridge_regression\u001b[0;34m(y, tx, lambda_, fct)\u001b[0m\n\u001b[1;32m     57\u001b[0m \u001b[0;32mdef\u001b[0m \u001b[0mridge_regression\u001b[0m\u001b[0;34m(\u001b[0m\u001b[0my\u001b[0m\u001b[0;34m,\u001b[0m \u001b[0mtx\u001b[0m\u001b[0;34m,\u001b[0m \u001b[0mlambda_\u001b[0m\u001b[0;34m,\u001b[0m \u001b[0mfct\u001b[0m\u001b[0;34m=\u001b[0m\u001b[0;34m'none'\u001b[0m\u001b[0;34m)\u001b[0m\u001b[0;34m:\u001b[0m\u001b[0;34m\u001b[0m\u001b[0m\n\u001b[1;32m     58\u001b[0m     \u001b[0;34m\"\"\"Implement ridge regression.\"\"\"\u001b[0m\u001b[0;34m\u001b[0m\u001b[0m\n\u001b[0;32m---> 59\u001b[0;31m     \u001b[0mwstar\u001b[0m \u001b[0;34m=\u001b[0m \u001b[0mnp\u001b[0m\u001b[0;34m.\u001b[0m\u001b[0mlinalg\u001b[0m\u001b[0;34m.\u001b[0m\u001b[0msolve\u001b[0m\u001b[0;34m(\u001b[0m\u001b[0mtx\u001b[0m\u001b[0;34m.\u001b[0m\u001b[0mT\u001b[0m\u001b[0;34m.\u001b[0m\u001b[0mdot\u001b[0m\u001b[0;34m(\u001b[0m\u001b[0mtx\u001b[0m\u001b[0;34m)\u001b[0m\u001b[0;34m+\u001b[0m\u001b[0;36m2\u001b[0m\u001b[0;34m*\u001b[0m\u001b[0mlen\u001b[0m\u001b[0;34m(\u001b[0m\u001b[0my\u001b[0m\u001b[0;34m)\u001b[0m\u001b[0;34m*\u001b[0m\u001b[0mlambda_\u001b[0m\u001b[0;34m*\u001b[0m\u001b[0mnp\u001b[0m\u001b[0;34m.\u001b[0m\u001b[0mmatlib\u001b[0m\u001b[0;34m.\u001b[0m\u001b[0midentity\u001b[0m\u001b[0;34m(\u001b[0m\u001b[0mtx\u001b[0m\u001b[0;34m.\u001b[0m\u001b[0mshape\u001b[0m\u001b[0;34m[\u001b[0m\u001b[0;36m1\u001b[0m\u001b[0;34m]\u001b[0m\u001b[0;34m)\u001b[0m\u001b[0;34m,\u001b[0m\u001b[0;34m(\u001b[0m\u001b[0mtx\u001b[0m\u001b[0;34m.\u001b[0m\u001b[0mT\u001b[0m\u001b[0;34m)\u001b[0m\u001b[0;34m.\u001b[0m\u001b[0mdot\u001b[0m\u001b[0;34m(\u001b[0m\u001b[0my\u001b[0m\u001b[0;34m)\u001b[0m\u001b[0;34m)\u001b[0m\u001b[0;34m\u001b[0m\u001b[0m\n\u001b[0m\u001b[1;32m     60\u001b[0m     \u001b[0;32mif\u001b[0m \u001b[0;34m(\u001b[0m\u001b[0mfct\u001b[0m\u001b[0;34m==\u001b[0m\u001b[0;34m'mse'\u001b[0m \u001b[0;32mor\u001b[0m \u001b[0mfct\u001b[0m\u001b[0;34m==\u001b[0m\u001b[0;34m'rmse'\u001b[0m\u001b[0;34m)\u001b[0m\u001b[0;34m:\u001b[0m\u001b[0;34m\u001b[0m\u001b[0m\n\u001b[1;32m     61\u001b[0m         \u001b[0mridge\u001b[0m \u001b[0;34m=\u001b[0m \u001b[0mcosts\u001b[0m\u001b[0;34m.\u001b[0m\u001b[0mcompute_ridge_loss\u001b[0m\u001b[0;34m(\u001b[0m\u001b[0my\u001b[0m\u001b[0;34m,\u001b[0m\u001b[0mtx\u001b[0m\u001b[0;34m,\u001b[0m\u001b[0mwstar\u001b[0m\u001b[0;34m,\u001b[0m\u001b[0mlambda_\u001b[0m\u001b[0;34m,\u001b[0m\u001b[0mfct\u001b[0m\u001b[0;34m)\u001b[0m\u001b[0;34m\u001b[0m\u001b[0m\n",
      "\u001b[0;32m/Users/ondine/anaconda/lib/python3.6/site-packages/numpy/linalg/linalg.py\u001b[0m in \u001b[0;36msolve\u001b[0;34m(a, b)\u001b[0m\n\u001b[1;32m    382\u001b[0m     \u001b[0msignature\u001b[0m \u001b[0;34m=\u001b[0m \u001b[0;34m'DD->D'\u001b[0m \u001b[0;32mif\u001b[0m \u001b[0misComplexType\u001b[0m\u001b[0;34m(\u001b[0m\u001b[0mt\u001b[0m\u001b[0;34m)\u001b[0m \u001b[0;32melse\u001b[0m \u001b[0;34m'dd->d'\u001b[0m\u001b[0;34m\u001b[0m\u001b[0m\n\u001b[1;32m    383\u001b[0m     \u001b[0mextobj\u001b[0m \u001b[0;34m=\u001b[0m \u001b[0mget_linalg_error_extobj\u001b[0m\u001b[0;34m(\u001b[0m\u001b[0m_raise_linalgerror_singular\u001b[0m\u001b[0;34m)\u001b[0m\u001b[0;34m\u001b[0m\u001b[0m\n\u001b[0;32m--> 384\u001b[0;31m     \u001b[0mr\u001b[0m \u001b[0;34m=\u001b[0m \u001b[0mgufunc\u001b[0m\u001b[0;34m(\u001b[0m\u001b[0ma\u001b[0m\u001b[0;34m,\u001b[0m \u001b[0mb\u001b[0m\u001b[0;34m,\u001b[0m \u001b[0msignature\u001b[0m\u001b[0;34m=\u001b[0m\u001b[0msignature\u001b[0m\u001b[0;34m,\u001b[0m \u001b[0mextobj\u001b[0m\u001b[0;34m=\u001b[0m\u001b[0mextobj\u001b[0m\u001b[0;34m)\u001b[0m\u001b[0;34m\u001b[0m\u001b[0m\n\u001b[0m\u001b[1;32m    385\u001b[0m \u001b[0;34m\u001b[0m\u001b[0m\n\u001b[1;32m    386\u001b[0m     \u001b[0;32mreturn\u001b[0m \u001b[0mwrap\u001b[0m\u001b[0;34m(\u001b[0m\u001b[0mr\u001b[0m\u001b[0;34m.\u001b[0m\u001b[0mastype\u001b[0m\u001b[0;34m(\u001b[0m\u001b[0mresult_t\u001b[0m\u001b[0;34m,\u001b[0m \u001b[0mcopy\u001b[0m\u001b[0;34m=\u001b[0m\u001b[0;32mFalse\u001b[0m\u001b[0;34m)\u001b[0m\u001b[0;34m)\u001b[0m\u001b[0;34m\u001b[0m\u001b[0m\n",
      "\u001b[0;32m/Users/ondine/anaconda/lib/python3.6/site-packages/numpy/linalg/linalg.py\u001b[0m in \u001b[0;36m_raise_linalgerror_singular\u001b[0;34m(err, flag)\u001b[0m\n\u001b[1;32m     88\u001b[0m \u001b[0;34m\u001b[0m\u001b[0m\n\u001b[1;32m     89\u001b[0m \u001b[0;32mdef\u001b[0m \u001b[0m_raise_linalgerror_singular\u001b[0m\u001b[0;34m(\u001b[0m\u001b[0merr\u001b[0m\u001b[0;34m,\u001b[0m \u001b[0mflag\u001b[0m\u001b[0;34m)\u001b[0m\u001b[0;34m:\u001b[0m\u001b[0;34m\u001b[0m\u001b[0m\n\u001b[0;32m---> 90\u001b[0;31m     \u001b[0;32mraise\u001b[0m \u001b[0mLinAlgError\u001b[0m\u001b[0;34m(\u001b[0m\u001b[0;34m\"Singular matrix\"\u001b[0m\u001b[0;34m)\u001b[0m\u001b[0;34m\u001b[0m\u001b[0m\n\u001b[0m\u001b[1;32m     91\u001b[0m \u001b[0;34m\u001b[0m\u001b[0m\n\u001b[1;32m     92\u001b[0m \u001b[0;32mdef\u001b[0m \u001b[0m_raise_linalgerror_nonposdef\u001b[0m\u001b[0;34m(\u001b[0m\u001b[0merr\u001b[0m\u001b[0;34m,\u001b[0m \u001b[0mflag\u001b[0m\u001b[0;34m)\u001b[0m\u001b[0;34m:\u001b[0m\u001b[0;34m\u001b[0m\u001b[0m\n",
      "\u001b[0;31mLinAlgError\u001b[0m: Singular matrix"
     ]
    }
   ],
   "source": [
    "weights = ridge_regression(y_train, tx_train, lambda_);"
   ]
  },
  {
   "cell_type": "code",
   "execution_count": null,
   "metadata": {
    "collapsed": true,
    "scrolled": true
   },
   "outputs": [],
   "source": [
    "print('losses: \\n','\\n\\n','weights: \\n',weights)"
   ]
  },
  {
   "cell_type": "code",
   "execution_count": 63,
   "metadata": {
    "scrolled": true
   },
   "outputs": [
    {
     "data": {
      "text/plain": [
       "array([-0.68629069, -0.00788039,  0.49689688, -1.45060066, -1.08475153,\n",
       "       -0.5831492 , -0.47528623, -1.06190256,  0.59034914, -0.89316669,\n",
       "       -0.59273087, -0.21964747, -1.04471554, -1.27681363, -0.90282099,\n",
       "       -0.56541815, -1.60926925, -0.97722038,  0.33421835, -0.63040597,\n",
       "       -1.09299159, -1.15036195, -0.81190392, -0.69901124,  0.09576959,\n",
       "        0.34538792, -0.57178352, -0.89307104, -0.5510974 , -0.7780682 ,\n",
       "       -0.08840282,  0.10103959,  0.18717075, -0.85732481, -0.53290182,\n",
       "       -1.12870351, -0.70769648,  0.11002433, -0.86505681, -0.67576509,\n",
       "       -0.78869387, -1.20086697, -0.56225091, -0.03407968, -0.10045928,\n",
       "       -0.85738884,  0.58106359,  0.03922261, -0.7795826 ,  0.17815763,\n",
       "        0.54493208,  0.40501151,  0.46208043,  1.11383354, -1.39876087,\n",
       "       -0.57452925, -0.92381176,  0.42901733, -0.30685633, -0.74523497,\n",
       "       -0.16967842,  0.51325894, -0.84951029,  0.63603887, -0.22414796,\n",
       "       -0.74678793, -0.83833703,  0.48683368,  0.86469888,  0.67199701,\n",
       "       -0.84878007, -0.59288778, -0.28679251, -1.3621499 ,  0.22681438,\n",
       "       -1.18565204, -0.12959797, -0.16072435,  0.55856899, -0.49562612,\n",
       "        0.61303265, -0.77205909,  0.43386015, -0.35836976,  0.46561338,\n",
       "       -0.80378538, -0.32987166,  0.56534917, -0.0867649 , -1.16484999,\n",
       "        0.16523021, -0.51361732, -0.50105257, -0.37453809, -0.95138424,\n",
       "       -0.4922265 , -0.17772321, -0.1045117 , -0.55167103, -0.54339309,\n",
       "       -1.09295842, -0.68496578, -0.69949803, -0.88382848, -1.27905944,\n",
       "        0.70696648,  0.10304591, -0.22741877, -0.23772074, -0.28115236,\n",
       "        0.16133428, -1.14033173, -0.86348907,  1.05461582, -0.50769097,\n",
       "        0.50699612,  0.68387545,  0.1076513 , -0.49275315,  0.23860536,\n",
       "       -1.644114  , -0.48852382, -0.75010243, -0.1850662 , -0.23694558,\n",
       "       -0.97986472, -0.81200748, -0.01929976,  0.97862411, -0.84159187,\n",
       "        0.35540139,  0.72758951, -0.46697114, -1.02446223, -1.26277583,\n",
       "        0.08562954, -0.4145584 , -0.36744957,  0.15980221, -0.43876465,\n",
       "        0.21518665, -1.14000986, -1.36116165, -0.60726298,  0.27488363,\n",
       "       -0.79401681, -0.91548389,  0.44174715, -0.5643461 ,  0.16106606,\n",
       "       -0.14023765,  0.51959337, -1.02972802,  0.27672496, -0.29222774,\n",
       "       -1.06475976,  0.36773655,  0.64899558, -0.57944837, -0.98597807,\n",
       "        0.41452368, -1.15433777,  0.36251391, -0.47002465, -1.064514  ,\n",
       "       -1.02516179, -1.47025635, -0.17658948, -0.0918425 , -0.90772159,\n",
       "       -1.1357015 ,  0.79319613, -0.85837729, -0.11212432, -0.80736521,\n",
       "        0.26374731, -0.99769564, -0.07116463,  0.25137181,  0.80502007,\n",
       "       -0.788537  , -0.53759989, -1.2456183 , -0.70291188, -1.13463842,\n",
       "        0.47668294, -0.24073243, -0.88354929,  0.5109608 , -0.6952472 ,\n",
       "       -0.754608  , -0.68200669, -0.77839677, -1.30575287, -1.14444943,\n",
       "       -1.48517619, -0.06686196,  0.3745039 ,  0.35395203])"
      ]
     },
     "execution_count": 63,
     "metadata": {},
     "output_type": "execute_result"
    }
   ],
   "source": [
    "np.dot(tx_test, weights)[1:200]"
   ]
  },
  {
   "cell_type": "code",
   "execution_count": 64,
   "metadata": {},
   "outputs": [],
   "source": [
    "y_pred = predict_labels(weights, tx_test)"
   ]
  },
  {
   "cell_type": "code",
   "execution_count": 65,
   "metadata": {},
   "outputs": [
    {
     "data": {
      "text/plain": [
       "(373938,)"
      ]
     },
     "execution_count": 65,
     "metadata": {},
     "output_type": "execute_result"
    }
   ],
   "source": [
    "y_pred[y_pred==-1].shape"
   ]
  },
  {
   "cell_type": "code",
   "execution_count": 66,
   "metadata": {},
   "outputs": [
    {
     "data": {
      "text/plain": [
       "(194300,)"
      ]
     },
     "execution_count": 66,
     "metadata": {},
     "output_type": "execute_result"
    }
   ],
   "source": [
    "y_pred[y_pred==1].shape"
   ]
  },
  {
   "cell_type": "code",
   "execution_count": 67,
   "metadata": {
    "collapsed": true
   },
   "outputs": [],
   "source": [
    "name = 'output/ridge_regression_ondine_4.csv'\n",
    "create_csv_submission(ids_test, y_pred, name)"
   ]
  },
  {
   "cell_type": "markdown",
   "metadata": {},
   "source": [
    "## Logistic regression"
   ]
  },
  {
   "cell_type": "code",
   "execution_count": null,
   "metadata": {
    "collapsed": true
   },
   "outputs": [],
   "source": []
  },
  {
   "cell_type": "markdown",
   "metadata": {},
   "source": [
    "## Regularized logistic regression"
   ]
  },
  {
   "cell_type": "code",
   "execution_count": null,
   "metadata": {
    "collapsed": true
   },
   "outputs": [],
   "source": []
  },
  {
   "cell_type": "markdown",
   "metadata": {},
   "source": [
    "## Newton regularized logistic regression"
   ]
  },
  {
   "cell_type": "code",
   "execution_count": null,
   "metadata": {
    "collapsed": true
   },
   "outputs": [],
   "source": []
  }
 ],
 "metadata": {
  "kernelspec": {
   "display_name": "Python 3",
   "language": "python",
   "name": "python3"
  },
  "language_info": {
   "codemirror_mode": {
    "name": "ipython",
    "version": 3
   },
   "file_extension": ".py",
   "mimetype": "text/x-python",
   "name": "python",
   "nbconvert_exporter": "python",
   "pygments_lexer": "ipython3",
   "version": "3.6.1"
  }
 },
 "nbformat": 4,
 "nbformat_minor": 2
}
