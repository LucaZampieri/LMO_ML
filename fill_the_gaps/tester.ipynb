{
 "cells": [
  {
   "cell_type": "code",
   "execution_count": 2,
   "metadata": {},
   "outputs": [],
   "source": [
    "from fill_the_gaps import *\n",
    "from mask_to_submission import *\n",
    "#fill_the_gaps(\"training/\")\n"
   ]
  },
  {
   "cell_type": "code",
   "execution_count": 3,
   "metadata": {},
   "outputs": [
    {
     "name": "stdout",
     "output_type": "stream",
     "text": [
      "['i00001.png', 'i00002.png', 'i00003.png', 'i00004.png', 'i00005.png', 'i00006.png', 'i00007.png', 'i00008.png', 'i00009.png', 'i00010.png', 'i00011.png', 'i00012.png', 'i00013.png', 'i00014.png', 'i00015.png', 'i00016.png', 'i00017.png', 'i00018.png', 'i00019.png', 'i00020.png', 'i00021.png', 'i00022.png', 'i00023.png', 'i00024.png', 'i00025.png', 'i00026.png', 'i00027.png', 'i00028.png', 'i00029.png', 'i00030.png', 'i00031.png', 'i00032.png', 'i00033.png', 'i00034.png', 'i00035.png', 'i00036.png', 'i00037.png', 'i00038.png', 'i00039.png', 'i00040.png', 'i00041.png', 'i00042.png', 'i00043.png', 'i00044.png', 'i00045.png', 'i00046.png', 'i00047.png', 'i00048.png', 'i00049.png', 'i00050.png']\n"
     ]
    }
   ],
   "source": [
    "image_filenames=glob.glob('*.png')\n",
    "print(image_filenames)\n",
    "submission_filename='sample_submission.csv'\n",
    "masks_to_submission(submission_filename, *image_filenames)"
   ]
  },
  {
   "cell_type": "code",
   "execution_count": null,
   "metadata": {
    "collapsed": true
   },
   "outputs": [],
   "source": []
  }
 ],
 "metadata": {
  "kernelspec": {
   "display_name": "Python 3",
   "language": "python",
   "name": "python3"
  },
  "language_info": {
   "codemirror_mode": {
    "name": "ipython",
    "version": 3
   },
   "file_extension": ".py",
   "mimetype": "text/x-python",
   "name": "python",
   "nbconvert_exporter": "python",
   "pygments_lexer": "ipython3",
   "version": "3.5.4"
  }
 },
 "nbformat": 4,
 "nbformat_minor": 2
}
