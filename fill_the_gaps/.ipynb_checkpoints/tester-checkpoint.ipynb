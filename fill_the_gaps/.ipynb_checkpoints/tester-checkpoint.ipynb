{
 "cells": [
  {
   "cell_type": "code",
   "execution_count": 2,
   "metadata": {},
   "outputs": [
    {
     "name": "stdout",
     "output_type": "stream",
     "text": [
      "Loading 50 images\n",
      "training/Images/predicted_groundtruth_1.png\n",
      "training/Images/predicted_groundtruth_10.png\n",
      "training/Images/predicted_groundtruth_11.png\n",
      "training/Images/predicted_groundtruth_12.png\n",
      "training/Images/predicted_groundtruth_13.png\n",
      "training/Images/predicted_groundtruth_14.png\n",
      "training/Images/predicted_groundtruth_15.png\n",
      "training/Images/predicted_groundtruth_16.png\n",
      "training/Images/predicted_groundtruth_17.png\n",
      "training/Images/predicted_groundtruth_18.png\n",
      "training/Images/predicted_groundtruth_19.png\n",
      "training/Images/predicted_groundtruth_2.png\n",
      "training/Images/predicted_groundtruth_20.png\n",
      "training/Images/predicted_groundtruth_21.png\n",
      "training/Images/predicted_groundtruth_22.png\n",
      "training/Images/predicted_groundtruth_23.png\n",
      "training/Images/predicted_groundtruth_24.png\n",
      "training/Images/predicted_groundtruth_25.png\n",
      "training/Images/predicted_groundtruth_26.png\n",
      "training/Images/predicted_groundtruth_27.png\n",
      "training/Images/predicted_groundtruth_28.png\n",
      "training/Images/predicted_groundtruth_29.png\n",
      "training/Images/predicted_groundtruth_3.png\n",
      "training/Images/predicted_groundtruth_30.png\n",
      "training/Images/predicted_groundtruth_31.png\n",
      "training/Images/predicted_groundtruth_32.png\n",
      "training/Images/predicted_groundtruth_33.png\n",
      "training/Images/predicted_groundtruth_34.png\n",
      "training/Images/predicted_groundtruth_35.png\n",
      "training/Images/predicted_groundtruth_36.png\n",
      "training/Images/predicted_groundtruth_37.png\n",
      "training/Images/predicted_groundtruth_38.png\n",
      "training/Images/predicted_groundtruth_39.png\n",
      "training/Images/predicted_groundtruth_4.png\n",
      "training/Images/predicted_groundtruth_40.png\n",
      "training/Images/predicted_groundtruth_41.png\n",
      "training/Images/predicted_groundtruth_42.png\n",
      "training/Images/predicted_groundtruth_43.png\n",
      "training/Images/predicted_groundtruth_44.png\n",
      "training/Images/predicted_groundtruth_45.png\n",
      "training/Images/predicted_groundtruth_46.png\n",
      "training/Images/predicted_groundtruth_47.png\n",
      "training/Images/predicted_groundtruth_48.png\n",
      "training/Images/predicted_groundtruth_49.png\n",
      "training/Images/predicted_groundtruth_5.png\n",
      "training/Images/predicted_groundtruth_50.png\n",
      "training/Images/predicted_groundtruth_6.png\n",
      "training/Images/predicted_groundtruth_7.png\n",
      "training/Images/predicted_groundtruth_8.png\n",
      "training/Images/predicted_groundtruth_9.png\n"
     ]
    }
   ],
   "source": [
    "from fill_the_gaps import *\n",
    "from mask_to_submission import *\n",
    "fill_the_gaps(\"training/\")\n"
   ]
  },
  {
   "cell_type": "code",
   "execution_count": 3,
   "metadata": {},
   "outputs": [
    {
     "ename": "NameError",
     "evalue": "name 'image_filenames' is not defined",
     "output_type": "error",
     "traceback": [
      "\u001b[0;31m---------------------------------------------------------------------------\u001b[0m",
      "\u001b[0;31mNameError\u001b[0m                                 Traceback (most recent call last)",
      "\u001b[0;32m<ipython-input-3-dfbbe2c3f4da>\u001b[0m in \u001b[0;36m<module>\u001b[0;34m()\u001b[0m\n\u001b[1;32m      1\u001b[0m \u001b[0mglob\u001b[0m\u001b[0;34m.\u001b[0m\u001b[0mglob\u001b[0m\u001b[0;34m(\u001b[0m\u001b[0;34m'*.png'\u001b[0m\u001b[0;34m)\u001b[0m\u001b[0;34m\u001b[0m\u001b[0m\n\u001b[1;32m      2\u001b[0m \u001b[0msubmission_filename\u001b[0m\u001b[0;34m=\u001b[0m\u001b[0;34m'sample_submission.csv'\u001b[0m\u001b[0;34m\u001b[0m\u001b[0m\n\u001b[0;32m----> 3\u001b[0;31m \u001b[0mmasks_to_submission\u001b[0m\u001b[0;34m(\u001b[0m\u001b[0msubmission_filename\u001b[0m\u001b[0;34m,\u001b[0m \u001b[0;34m*\u001b[0m\u001b[0mimage_filenames\u001b[0m\u001b[0;34m)\u001b[0m\u001b[0;34m\u001b[0m\u001b[0m\n\u001b[0m",
      "\u001b[0;31mNameError\u001b[0m: name 'image_filenames' is not defined"
     ]
    }
   ],
   "source": [
    "image_filenames=glob.glob('*.png')\n",
    "submission_filename='sample_submission.csv'\n",
    "masks_to_submission(submission_filename, *image_filenames)"
   ]
  },
  {
   "cell_type": "code",
   "execution_count": null,
   "metadata": {
    "collapsed": true
   },
   "outputs": [],
   "source": []
  }
 ],
 "metadata": {
  "kernelspec": {
   "display_name": "Python 3",
   "language": "python",
   "name": "python3"
  }
 },
 "nbformat": 4,
 "nbformat_minor": 2
}
